{
 "cells": [
  {
   "cell_type": "markdown",
   "id": "d54e7221",
   "metadata": {},
   "source": [
    "## Project description"
   ]
  },
  {
   "cell_type": "markdown",
   "id": "4f4ae04c",
   "metadata": {},
   "source": [
    "<b>The success of video game sales based on online store data for 1980 - 2016. </b>\n",
    "\n",
    "\n",
    "<b> Study description:</b>\n",
    "\n",
    "Identification of the impact of video game characteristics on sales.\n",
    "\n",
    "\n",
    "<b>Research purpose:</b>\n",
    "\n",
    "Conduct data analysis on the dependence of global sales on parameters such as release year, genre, release platform, reviews. Calculate the correlation between reviews and video game sales.\n",
    "\n",
    "\n",
    "<b>Research objectives:</b>\n",
    "\n",
    " 1. <a href = '#data'> Data preparation</a> - checking for gaps and duplicates.\n",
    " 2. <a href = '#res'>Data exploration.</a>\n",
    " 3. Definition of <a href = '#actual'>actual period</a> for forecasting sales for 2017.\n",
    " 4. Computing top games by <a href = '#platf'>platforms</a>, <a href = '#genre'>genre</a> and <a href = '#year'>release year</a >.\n",
    " 5. Impact of <a href = '#review'>reviews</a> on sales.\n",
    " 5. Drawing up <a href = '#face'> portrait </a> of the user.\n",
    " 4. Testing <a href = '#hyp'> hypotheses </a> by comparing the ratings of two games.\n",
    "\n",
    "\n",
    "\n",
    "<b> Initial data: </b> Dataset of data collected up to 2017.\n",
    "Includes options such as:\n",
    "\n",
    "    Name - the name of the game\n",
    "    Platform - platform\n",
    "    Year_of_Release - year of release\n",
    "    Genre - game genre\n",
    "    NA_sales - sales in North America (millions of copies sold)\n",
    "    EU_sales - sales in Europe (millions of copies sold)\n",
    "    JP_sales - sales in Japan (millions of copies sold)\n",
    "    Other_sales - sales in other countries (millions of copies sold)\n",
    "    Critic_Score - Critics score (maximum 100)\n",
    "    User_Score - user score (maximum 10)\n",
    "    Rating - rating from the ESRB organization."
   ]
  },
  {
   "cell_type": "code",
   "execution_count": 1,
   "id": "b3eb639a",
   "metadata": {},
   "outputs": [],
   "source": [
    "import pandas as pd\n",
    "import matplotlib.pyplot as plt\n",
    "import seaborn as sns\n",
    "import numpy as np\n",
    "from scipy import stats as st"
   ]
  },
  {
   "cell_type": "code",
   "execution_count": 2,
   "id": "31a12034",
   "metadata": {},
   "outputs": [],
   "source": [
    "data = pd.read_csv('/datasets/games.csv')"
   ]
  },
  {
   "cell_type": "markdown",
   "id": "a7a1b3b6",
   "metadata": {},
   "source": [
    "<a id = 'data'></a> \n",
    "## Подготовка данных \n",
    "\n"
   ]
  },
  {
   "cell_type": "code",
   "execution_count": 3,
   "id": "d8a526f3",
   "metadata": {},
   "outputs": [
    {
     "name": "stdout",
     "output_type": "stream",
     "text": [
      "<class 'pandas.core.frame.DataFrame'>\n",
      "RangeIndex: 16715 entries, 0 to 16714\n",
      "Data columns (total 11 columns):\n",
      " #   Column           Non-Null Count  Dtype  \n",
      "---  ------           --------------  -----  \n",
      " 0   Name             16713 non-null  object \n",
      " 1   Platform         16715 non-null  object \n",
      " 2   Year_of_Release  16446 non-null  float64\n",
      " 3   Genre            16713 non-null  object \n",
      " 4   NA_sales         16715 non-null  float64\n",
      " 5   EU_sales         16715 non-null  float64\n",
      " 6   JP_sales         16715 non-null  float64\n",
      " 7   Other_sales      16715 non-null  float64\n",
      " 8   Critic_Score     8137 non-null   float64\n",
      " 9   User_Score       10014 non-null  object \n",
      " 10  Rating           9949 non-null   object \n",
      "dtypes: float64(6), object(5)\n",
      "memory usage: 1.4+ MB\n"
     ]
    }
   ],
   "source": [
    "data.info()"
   ]
  },
  {
   "cell_type": "code",
   "execution_count": 4,
   "id": "8a0bcb41",
   "metadata": {},
   "outputs": [
    {
     "data": {
      "text/html": [
       "<div>\n",
       "<style scoped>\n",
       "    .dataframe tbody tr th:only-of-type {\n",
       "        vertical-align: middle;\n",
       "    }\n",
       "\n",
       "    .dataframe tbody tr th {\n",
       "        vertical-align: top;\n",
       "    }\n",
       "\n",
       "    .dataframe thead th {\n",
       "        text-align: right;\n",
       "    }\n",
       "</style>\n",
       "<table border=\"1\" class=\"dataframe\">\n",
       "  <thead>\n",
       "    <tr style=\"text-align: right;\">\n",
       "      <th></th>\n",
       "      <th>Name</th>\n",
       "      <th>Platform</th>\n",
       "      <th>Year_of_Release</th>\n",
       "      <th>Genre</th>\n",
       "      <th>NA_sales</th>\n",
       "      <th>EU_sales</th>\n",
       "      <th>JP_sales</th>\n",
       "      <th>Other_sales</th>\n",
       "      <th>Critic_Score</th>\n",
       "      <th>User_Score</th>\n",
       "      <th>Rating</th>\n",
       "    </tr>\n",
       "  </thead>\n",
       "  <tbody>\n",
       "    <tr>\n",
       "      <th>0</th>\n",
       "      <td>Wii Sports</td>\n",
       "      <td>Wii</td>\n",
       "      <td>2006.0</td>\n",
       "      <td>Sports</td>\n",
       "      <td>41.36</td>\n",
       "      <td>28.96</td>\n",
       "      <td>3.77</td>\n",
       "      <td>8.45</td>\n",
       "      <td>76.0</td>\n",
       "      <td>8</td>\n",
       "      <td>E</td>\n",
       "    </tr>\n",
       "    <tr>\n",
       "      <th>1</th>\n",
       "      <td>Super Mario Bros.</td>\n",
       "      <td>NES</td>\n",
       "      <td>1985.0</td>\n",
       "      <td>Platform</td>\n",
       "      <td>29.08</td>\n",
       "      <td>3.58</td>\n",
       "      <td>6.81</td>\n",
       "      <td>0.77</td>\n",
       "      <td>NaN</td>\n",
       "      <td>NaN</td>\n",
       "      <td>NaN</td>\n",
       "    </tr>\n",
       "    <tr>\n",
       "      <th>2</th>\n",
       "      <td>Mario Kart Wii</td>\n",
       "      <td>Wii</td>\n",
       "      <td>2008.0</td>\n",
       "      <td>Racing</td>\n",
       "      <td>15.68</td>\n",
       "      <td>12.76</td>\n",
       "      <td>3.79</td>\n",
       "      <td>3.29</td>\n",
       "      <td>82.0</td>\n",
       "      <td>8.3</td>\n",
       "      <td>E</td>\n",
       "    </tr>\n",
       "    <tr>\n",
       "      <th>3</th>\n",
       "      <td>Wii Sports Resort</td>\n",
       "      <td>Wii</td>\n",
       "      <td>2009.0</td>\n",
       "      <td>Sports</td>\n",
       "      <td>15.61</td>\n",
       "      <td>10.93</td>\n",
       "      <td>3.28</td>\n",
       "      <td>2.95</td>\n",
       "      <td>80.0</td>\n",
       "      <td>8</td>\n",
       "      <td>E</td>\n",
       "    </tr>\n",
       "    <tr>\n",
       "      <th>4</th>\n",
       "      <td>Pokemon Red/Pokemon Blue</td>\n",
       "      <td>GB</td>\n",
       "      <td>1996.0</td>\n",
       "      <td>Role-Playing</td>\n",
       "      <td>11.27</td>\n",
       "      <td>8.89</td>\n",
       "      <td>10.22</td>\n",
       "      <td>1.00</td>\n",
       "      <td>NaN</td>\n",
       "      <td>NaN</td>\n",
       "      <td>NaN</td>\n",
       "    </tr>\n",
       "  </tbody>\n",
       "</table>\n",
       "</div>"
      ],
      "text/plain": [
       "                       Name Platform  Year_of_Release         Genre  NA_sales  \\\n",
       "0                Wii Sports      Wii           2006.0        Sports     41.36   \n",
       "1         Super Mario Bros.      NES           1985.0      Platform     29.08   \n",
       "2            Mario Kart Wii      Wii           2008.0        Racing     15.68   \n",
       "3         Wii Sports Resort      Wii           2009.0        Sports     15.61   \n",
       "4  Pokemon Red/Pokemon Blue       GB           1996.0  Role-Playing     11.27   \n",
       "\n",
       "   EU_sales  JP_sales  Other_sales  Critic_Score User_Score Rating  \n",
       "0     28.96      3.77         8.45          76.0          8      E  \n",
       "1      3.58      6.81         0.77           NaN        NaN    NaN  \n",
       "2     12.76      3.79         3.29          82.0        8.3      E  \n",
       "3     10.93      3.28         2.95          80.0          8      E  \n",
       "4      8.89     10.22         1.00           NaN        NaN    NaN  "
      ]
     },
     "execution_count": 4,
     "metadata": {},
     "output_type": "execute_result"
    }
   ],
   "source": [
    "data.head()"
   ]
  },
  {
   "cell_type": "code",
   "execution_count": 5,
   "id": "bdb11717",
   "metadata": {},
   "outputs": [],
   "source": [
    "# Приведение столбцов к нижнему регситру\n",
    "\n",
    "data.columns = data.columns.str.lower()"
   ]
  },
  {
   "cell_type": "code",
   "execution_count": 6,
   "id": "8e0ab4d4",
   "metadata": {},
   "outputs": [
    {
     "data": {
      "text/plain": [
       "name                  2\n",
       "platform              0\n",
       "year_of_release     269\n",
       "genre                 2\n",
       "na_sales              0\n",
       "eu_sales              0\n",
       "jp_sales              0\n",
       "other_sales           0\n",
       "critic_score       8578\n",
       "user_score         6701\n",
       "rating             6766\n",
       "dtype: int64"
      ]
     },
     "execution_count": 6,
     "metadata": {},
     "output_type": "execute_result"
    }
   ],
   "source": [
    "data.isna().sum()"
   ]
  },
  {
   "cell_type": "code",
   "execution_count": 7,
   "id": "8bba701b",
   "metadata": {},
   "outputs": [],
   "source": [
    "def pass_value_barh(df):\n",
    "    try:\n",
    "        (\n",
    "            (df.isna().mean()*100)\n",
    "            .to_frame()\n",
    "            .rename(columns = {0:'space'})\n",
    "            .query('space > 0')\n",
    "            .sort_values(by = 'space', ascending = True)\n",
    "            .plot(kind= 'barh', figsize=(19,6), rot = -5, legend = False, fontsize = 16)\n",
    "            .set_title('Пропуски' + \"\\n\", fontsize = 22, color = 'SteelBlue')    \n",
    "        );    \n",
    "    except:\n",
    "        print('пропусков не осталось! ')"
   ]
  },
  {
   "cell_type": "code",
   "execution_count": 8,
   "id": "a4991d1e",
   "metadata": {},
   "outputs": [
    {
     "data": {
      "image/png": "[encoded data removed]",
      "text/plain": [
       "<Figure size 1368x432 with 1 Axes>"
      ]
     },
     "metadata": {
      "needs_background": "light"
     },
     "output_type": "display_data"
    }
   ],
   "source": [
    "pass_value_barh(data)"
   ]
  },
  {
   "cell_type": "code",
   "execution_count": 9,
   "id": "0cd288de",
   "metadata": {},
   "outputs": [
    {
     "data": {
      "text/html": [
       "<div>\n",
       "<style scoped>\n",
       "    .dataframe tbody tr th:only-of-type {\n",
       "        vertical-align: middle;\n",
       "    }\n",
       "\n",
       "    .dataframe tbody tr th {\n",
       "        vertical-align: top;\n",
       "    }\n",
       "\n",
       "    .dataframe thead th {\n",
       "        text-align: right;\n",
       "    }\n",
       "</style>\n",
       "<table border=\"1\" class=\"dataframe\">\n",
       "  <thead>\n",
       "    <tr style=\"text-align: right;\">\n",
       "      <th></th>\n",
       "      <th>name</th>\n",
       "      <th>platform</th>\n",
       "      <th>year_of_release</th>\n",
       "      <th>genre</th>\n",
       "      <th>na_sales</th>\n",
       "      <th>eu_sales</th>\n",
       "      <th>jp_sales</th>\n",
       "      <th>other_sales</th>\n",
       "      <th>critic_score</th>\n",
       "      <th>user_score</th>\n",
       "      <th>rating</th>\n",
       "    </tr>\n",
       "  </thead>\n",
       "  <tbody>\n",
       "    <tr>\n",
       "      <th>119</th>\n",
       "      <td>Zumba Fitness</td>\n",
       "      <td>Wii</td>\n",
       "      <td>2010.0</td>\n",
       "      <td>Sports</td>\n",
       "      <td>3.45</td>\n",
       "      <td>2.59</td>\n",
       "      <td>0.0</td>\n",
       "      <td>0.66</td>\n",
       "      <td>NaN</td>\n",
       "      <td>tbd</td>\n",
       "      <td>E</td>\n",
       "    </tr>\n",
       "    <tr>\n",
       "      <th>301</th>\n",
       "      <td>Namco Museum: 50th Anniversary</td>\n",
       "      <td>PS2</td>\n",
       "      <td>2005.0</td>\n",
       "      <td>Misc</td>\n",
       "      <td>2.08</td>\n",
       "      <td>1.35</td>\n",
       "      <td>0.0</td>\n",
       "      <td>0.54</td>\n",
       "      <td>61.0</td>\n",
       "      <td>tbd</td>\n",
       "      <td>E10+</td>\n",
       "    </tr>\n",
       "    <tr>\n",
       "      <th>520</th>\n",
       "      <td>Zumba Fitness 2</td>\n",
       "      <td>Wii</td>\n",
       "      <td>2011.0</td>\n",
       "      <td>Sports</td>\n",
       "      <td>1.51</td>\n",
       "      <td>1.03</td>\n",
       "      <td>0.0</td>\n",
       "      <td>0.27</td>\n",
       "      <td>NaN</td>\n",
       "      <td>tbd</td>\n",
       "      <td>T</td>\n",
       "    </tr>\n",
       "    <tr>\n",
       "      <th>645</th>\n",
       "      <td>uDraw Studio</td>\n",
       "      <td>Wii</td>\n",
       "      <td>2010.0</td>\n",
       "      <td>Misc</td>\n",
       "      <td>1.65</td>\n",
       "      <td>0.57</td>\n",
       "      <td>0.0</td>\n",
       "      <td>0.20</td>\n",
       "      <td>71.0</td>\n",
       "      <td>tbd</td>\n",
       "      <td>E</td>\n",
       "    </tr>\n",
       "    <tr>\n",
       "      <th>657</th>\n",
       "      <td>Frogger's Adventures: Temple of the Frog</td>\n",
       "      <td>GBA</td>\n",
       "      <td>NaN</td>\n",
       "      <td>Adventure</td>\n",
       "      <td>2.15</td>\n",
       "      <td>0.18</td>\n",
       "      <td>0.0</td>\n",
       "      <td>0.07</td>\n",
       "      <td>73.0</td>\n",
       "      <td>tbd</td>\n",
       "      <td>E</td>\n",
       "    </tr>\n",
       "    <tr>\n",
       "      <th>...</th>\n",
       "      <td>...</td>\n",
       "      <td>...</td>\n",
       "      <td>...</td>\n",
       "      <td>...</td>\n",
       "      <td>...</td>\n",
       "      <td>...</td>\n",
       "      <td>...</td>\n",
       "      <td>...</td>\n",
       "      <td>...</td>\n",
       "      <td>...</td>\n",
       "      <td>...</td>\n",
       "    </tr>\n",
       "    <tr>\n",
       "      <th>16695</th>\n",
       "      <td>Planet Monsters</td>\n",
       "      <td>GBA</td>\n",
       "      <td>2001.0</td>\n",
       "      <td>Action</td>\n",
       "      <td>0.01</td>\n",
       "      <td>0.00</td>\n",
       "      <td>0.0</td>\n",
       "      <td>0.00</td>\n",
       "      <td>67.0</td>\n",
       "      <td>tbd</td>\n",
       "      <td>E</td>\n",
       "    </tr>\n",
       "    <tr>\n",
       "      <th>16697</th>\n",
       "      <td>Bust-A-Move 3000</td>\n",
       "      <td>GC</td>\n",
       "      <td>2003.0</td>\n",
       "      <td>Puzzle</td>\n",
       "      <td>0.01</td>\n",
       "      <td>0.00</td>\n",
       "      <td>0.0</td>\n",
       "      <td>0.00</td>\n",
       "      <td>53.0</td>\n",
       "      <td>tbd</td>\n",
       "      <td>E</td>\n",
       "    </tr>\n",
       "    <tr>\n",
       "      <th>16698</th>\n",
       "      <td>Mega Brain Boost</td>\n",
       "      <td>DS</td>\n",
       "      <td>2008.0</td>\n",
       "      <td>Puzzle</td>\n",
       "      <td>0.01</td>\n",
       "      <td>0.00</td>\n",
       "      <td>0.0</td>\n",
       "      <td>0.00</td>\n",
       "      <td>48.0</td>\n",
       "      <td>tbd</td>\n",
       "      <td>E</td>\n",
       "    </tr>\n",
       "    <tr>\n",
       "      <th>16704</th>\n",
       "      <td>Plushees</td>\n",
       "      <td>DS</td>\n",
       "      <td>2008.0</td>\n",
       "      <td>Simulation</td>\n",
       "      <td>0.01</td>\n",
       "      <td>0.00</td>\n",
       "      <td>0.0</td>\n",
       "      <td>0.00</td>\n",
       "      <td>NaN</td>\n",
       "      <td>tbd</td>\n",
       "      <td>E</td>\n",
       "    </tr>\n",
       "    <tr>\n",
       "      <th>16706</th>\n",
       "      <td>Men in Black II: Alien Escape</td>\n",
       "      <td>GC</td>\n",
       "      <td>2003.0</td>\n",
       "      <td>Shooter</td>\n",
       "      <td>0.01</td>\n",
       "      <td>0.00</td>\n",
       "      <td>0.0</td>\n",
       "      <td>0.00</td>\n",
       "      <td>NaN</td>\n",
       "      <td>tbd</td>\n",
       "      <td>T</td>\n",
       "    </tr>\n",
       "  </tbody>\n",
       "</table>\n",
       "<p>2424 rows × 11 columns</p>\n",
       "</div>"
      ],
      "text/plain": [
       "                                           name platform  year_of_release  \\\n",
       "119                               Zumba Fitness      Wii           2010.0   \n",
       "301              Namco Museum: 50th Anniversary      PS2           2005.0   \n",
       "520                             Zumba Fitness 2      Wii           2011.0   \n",
       "645                                uDraw Studio      Wii           2010.0   \n",
       "657    Frogger's Adventures: Temple of the Frog      GBA              NaN   \n",
       "...                                         ...      ...              ...   \n",
       "16695                           Planet Monsters      GBA           2001.0   \n",
       "16697                          Bust-A-Move 3000       GC           2003.0   \n",
       "16698                          Mega Brain Boost       DS           2008.0   \n",
       "16704                                  Plushees       DS           2008.0   \n",
       "16706             Men in Black II: Alien Escape       GC           2003.0   \n",
       "\n",
       "            genre  na_sales  eu_sales  jp_sales  other_sales  critic_score  \\\n",
       "119        Sports      3.45      2.59       0.0         0.66           NaN   \n",
       "301          Misc      2.08      1.35       0.0         0.54          61.0   \n",
       "520        Sports      1.51      1.03       0.0         0.27           NaN   \n",
       "645          Misc      1.65      0.57       0.0         0.20          71.0   \n",
       "657     Adventure      2.15      0.18       0.0         0.07          73.0   \n",
       "...           ...       ...       ...       ...          ...           ...   \n",
       "16695      Action      0.01      0.00       0.0         0.00          67.0   \n",
       "16697      Puzzle      0.01      0.00       0.0         0.00          53.0   \n",
       "16698      Puzzle      0.01      0.00       0.0         0.00          48.0   \n",
       "16704  Simulation      0.01      0.00       0.0         0.00           NaN   \n",
       "16706     Shooter      0.01      0.00       0.0         0.00           NaN   \n",
       "\n",
       "      user_score rating  \n",
       "119          tbd      E  \n",
       "301          tbd   E10+  \n",
       "520          tbd      T  \n",
       "645          tbd      E  \n",
       "657          tbd      E  \n",
       "...          ...    ...  \n",
       "16695        tbd      E  \n",
       "16697        tbd      E  \n",
       "16698        tbd      E  \n",
       "16704        tbd      E  \n",
       "16706        tbd      T  \n",
       "\n",
       "[2424 rows x 11 columns]"
      ]
     },
     "execution_count": 9,
     "metadata": {},
     "output_type": "execute_result"
    }
   ],
   "source": [
    "data[data['user_score'] == 'tbd']"
   ]
  },
  {
   "cell_type": "code",
   "execution_count": 10,
   "id": "90a076a7",
   "metadata": {},
   "outputs": [
    {
     "data": {
      "text/plain": [
       "8578"
      ]
     },
     "execution_count": 10,
     "metadata": {},
     "output_type": "execute_result"
    }
   ],
   "source": [
    "data['critic_score'].isna().sum()"
   ]
  },
  {
   "cell_type": "code",
   "execution_count": 11,
   "id": "3db6d90d",
   "metadata": {},
   "outputs": [
    {
     "data": {
      "text/plain": [
       "6701"
      ]
     },
     "execution_count": 11,
     "metadata": {},
     "output_type": "execute_result"
    }
   ],
   "source": [
    "data['user_score'].isna().sum()"
   ]
  },
  {
   "cell_type": "markdown",
   "id": "d9a30b1c",
   "metadata": {},
   "source": [
    "### Empty values in user_score"
   ]
  },
  {
   "cell_type": "markdown",
   "id": "ab6eeb72",
   "metadata": {},
   "source": [
    "Out of 16715 inputs, 'tbd' values are 2424 rows. Let's convert these values to NaN, since there is no actual data. Therefore, we simplify the categorization."
   ]
  },
  {
   "cell_type": "code",
   "execution_count": 12,
   "id": "2a2d13ab",
   "metadata": {},
   "outputs": [],
   "source": [
    "# заменяем значения 'tbd' на NaN\n",
    "\n",
    "data['user_score'] = data['user_score'].replace('tbd', np.nan)"
   ]
  },
  {
   "cell_type": "code",
   "execution_count": 13,
   "id": "409a978a",
   "metadata": {},
   "outputs": [
    {
     "data": {
      "text/plain": [
       "name                  2\n",
       "platform              0\n",
       "year_of_release     269\n",
       "genre                 2\n",
       "na_sales              0\n",
       "eu_sales              0\n",
       "jp_sales              0\n",
       "other_sales           0\n",
       "critic_score       8578\n",
       "user_score         9125\n",
       "rating             6766\n",
       "dtype: int64"
      ]
     },
     "execution_count": 13,
     "metadata": {},
     "output_type": "execute_result"
    }
   ],
   "source": [
    "data.isna().sum()"
   ]
  },
  {
   "cell_type": "markdown",
   "id": "9a57ac88",
   "metadata": {},
   "source": [
    "The main reason for gaps may be the lack of combining from different sources (websites) to collect information, since half of the required values are not available. We leave gaps for this parameter.\n",
    "\n",
    "Let's translate the parameter into a numeric value."
   ]
  },
  {
   "cell_type": "code",
   "execution_count": 14,
   "id": "5258c220",
   "metadata": {},
   "outputs": [],
   "source": [
    "# оценки пользователей в числовом значении\n",
    "\n",
    "data['user_score'] = pd.to_numeric(data['user_score'])"
   ]
  },
  {
   "cell_type": "markdown",
   "id": "406d17f6",
   "metadata": {},
   "source": [
    "### Empty values in critic_score"
   ]
  },
  {
   "cell_type": "markdown",
   "id": "2fe54dc5",
   "metadata": {},
   "source": [
    "Similarly to the previous parameter, 8578 values out of the same 16715 are missing."
   ]
  },
  {
   "cell_type": "code",
   "execution_count": 15,
   "id": "e3d48db9",
   "metadata": {},
   "outputs": [
    {
     "data": {
      "text/plain": [
       "8578"
      ]
     },
     "execution_count": 15,
     "metadata": {},
     "output_type": "execute_result"
    }
   ],
   "source": [
    "data['critic_score'].isna().sum()"
   ]
  },
  {
   "cell_type": "code",
   "execution_count": 16,
   "id": "f902e114",
   "metadata": {},
   "outputs": [],
   "source": [
    "data['critic_score'] = data['critic_score'].astype(float)"
   ]
  },
  {
   "cell_type": "markdown",
   "id": "be2b02e5",
   "metadata": {},
   "source": [
    "### Empty values in rating"
   ]
  },
  {
   "cell_type": "code",
   "execution_count": 17,
   "id": "9ecfb834",
   "metadata": {},
   "outputs": [
    {
     "data": {
      "text/plain": [
       "E       3990\n",
       "T       2961\n",
       "M       1563\n",
       "E10+    1420\n",
       "EC         8\n",
       "K-A        3\n",
       "RP         3\n",
       "AO         1\n",
       "Name: rating, dtype: int64"
      ]
     },
     "execution_count": 17,
     "metadata": {},
     "output_type": "execute_result"
    }
   ],
   "source": [
    "# разберем значения рейтингов\n",
    "\n",
    "data['rating'].value_counts(dropna = False)"
   ]
  },
  {
   "cell_type": "code",
   "execution_count": 18,
   "id": "e0410833",
   "metadata": {},
   "outputs": [
    {
     "data": {
      "text/plain": [
       "6766"
      ]
     },
     "execution_count": 18,
     "metadata": {},
     "output_type": "execute_result"
    }
   ],
   "source": [
    "# количество общих пропущенных значений с рейтингом\n",
    "\n",
    "data['rating'].isna().sum()"
   ]
  },
  {
   "cell_type": "code",
   "execution_count": 19,
   "id": "7fea5c2b",
   "metadata": {},
   "outputs": [
    {
     "data": {
      "text/plain": [
       "PS      989\n",
       "DS      878\n",
       "PS2     680\n",
       "PSP     665\n",
       "PS3     379\n",
       "N64     319\n",
       "Wii     318\n",
       "GBA     300\n",
       "3DS     292\n",
       "PSV     279\n",
       "SNES    239\n",
       "X360    210\n",
       "PC      200\n",
       "SAT     173\n",
       "PS4     137\n",
       "2600    133\n",
       "GB       98\n",
       "NES      98\n",
       "XB       91\n",
       "GC       87\n",
       "XOne     61\n",
       "WiiU     42\n",
       "DC       38\n",
       "GEN      29\n",
       "NG       12\n",
       "WS        6\n",
       "SCD       6\n",
       "3DO       3\n",
       "TG16      2\n",
       "PCFX      1\n",
       "GG        1\n",
       "Name: platform, dtype: int64"
      ]
     },
     "execution_count": 19,
     "metadata": {},
     "output_type": "execute_result"
    }
   ],
   "source": [
    "# количество пропущенных значений рейтинга сгрупированных по платформам\n",
    "\n",
    "data[data['rating'].isna()]['platform'].value_counts()"
   ]
  },
  {
   "cell_type": "code",
   "execution_count": 20,
   "id": "9466d3f8",
   "metadata": {},
   "outputs": [
    {
     "data": {
      "text/plain": [
       "1980.0       9\n",
       "1985.0      14\n",
       "1984.0      14\n",
       "1988.0      15\n",
       "1990.0      16\n",
       "1987.0      16\n",
       "1983.0      17\n",
       "1989.0      17\n",
       "1986.0      21\n",
       "1982.0      36\n",
       "1991.0      41\n",
       "1992.0      43\n",
       "1981.0      46\n",
       "1993.0      62\n",
       "1994.0     121\n",
       "1995.0     219\n",
       "1996.0     263\n",
       "1997.0     289\n",
       "1999.0     338\n",
       "2000.0     350\n",
       "1998.0     379\n",
       "2001.0     482\n",
       "2016.0     502\n",
       "2013.0     544\n",
       "2014.0     581\n",
       "2015.0     606\n",
       "2012.0     653\n",
       "2004.0     762\n",
       "2003.0     775\n",
       "2002.0     829\n",
       "2005.0     939\n",
       "2006.0    1006\n",
       "2011.0    1136\n",
       "2007.0    1197\n",
       "2010.0    1255\n",
       "2009.0    1426\n",
       "2008.0    1427\n",
       "Name: year_of_release, dtype: int64"
      ]
     },
     "execution_count": 20,
     "metadata": {},
     "output_type": "execute_result"
    }
   ],
   "source": [
    "# количество выхода игр по годам\n",
    "\n",
    "data['year_of_release'].value_counts().sort_values()"
   ]
  },
  {
   "cell_type": "markdown",
   "id": "b33a6e03",
   "metadata": {},
   "source": [
    "The bulk of the empty values are in PS and DS platforms. The PS platform released games between 1994 and 2003. It can be seen that in 1994 there was a sharp increase in the number of released games, it is possible that the manufacturers did not have time to process / decide which ratings to assign.\n",
    "\n",
    "To avoid data loss, we replace NaN rating values with 'unknown'."
   ]
  },
  {
   "cell_type": "code",
   "execution_count": 21,
   "id": "ca4ee616",
   "metadata": {},
   "outputs": [],
   "source": [
    "# замена значений Nan в столбце rating на 'unknown'\n",
    "\n",
    "data['rating'].replace(np.nan, 'unknown', inplace = True)"
   ]
  },
  {
   "cell_type": "code",
   "execution_count": 22,
   "id": "eb5a428a",
   "metadata": {},
   "outputs": [
    {
     "data": {
      "text/plain": [
       "unknown    6766\n",
       "E          3990\n",
       "T          2961\n",
       "M          1563\n",
       "E10+       1420\n",
       "EC            8\n",
       "K-A           3\n",
       "RP            3\n",
       "AO            1\n",
       "Name: rating, dtype: int64"
      ]
     },
     "execution_count": 22,
     "metadata": {},
     "output_type": "execute_result"
    }
   ],
   "source": [
    "# проверка значений рейтинга\n",
    "\n",
    "data['rating'].value_counts(dropna=False)"
   ]
  },
  {
   "cell_type": "markdown",
   "id": "8a56a38f",
   "metadata": {},
   "source": [
    "### Empty values in name"
   ]
  },
  {
   "cell_type": "code",
   "execution_count": 23,
   "id": "09bdf245",
   "metadata": {},
   "outputs": [
    {
     "data": {
      "text/html": [
       "<div>\n",
       "<style scoped>\n",
       "    .dataframe tbody tr th:only-of-type {\n",
       "        vertical-align: middle;\n",
       "    }\n",
       "\n",
       "    .dataframe tbody tr th {\n",
       "        vertical-align: top;\n",
       "    }\n",
       "\n",
       "    .dataframe thead th {\n",
       "        text-align: right;\n",
       "    }\n",
       "</style>\n",
       "<table border=\"1\" class=\"dataframe\">\n",
       "  <thead>\n",
       "    <tr style=\"text-align: right;\">\n",
       "      <th></th>\n",
       "      <th>name</th>\n",
       "      <th>platform</th>\n",
       "      <th>year_of_release</th>\n",
       "      <th>genre</th>\n",
       "      <th>na_sales</th>\n",
       "      <th>eu_sales</th>\n",
       "      <th>jp_sales</th>\n",
       "      <th>other_sales</th>\n",
       "      <th>critic_score</th>\n",
       "      <th>user_score</th>\n",
       "      <th>rating</th>\n",
       "    </tr>\n",
       "  </thead>\n",
       "  <tbody>\n",
       "    <tr>\n",
       "      <th>659</th>\n",
       "      <td>NaN</td>\n",
       "      <td>GEN</td>\n",
       "      <td>1993.0</td>\n",
       "      <td>NaN</td>\n",
       "      <td>1.78</td>\n",
       "      <td>0.53</td>\n",
       "      <td>0.00</td>\n",
       "      <td>0.08</td>\n",
       "      <td>NaN</td>\n",
       "      <td>NaN</td>\n",
       "      <td>unknown</td>\n",
       "    </tr>\n",
       "    <tr>\n",
       "      <th>14244</th>\n",
       "      <td>NaN</td>\n",
       "      <td>GEN</td>\n",
       "      <td>1993.0</td>\n",
       "      <td>NaN</td>\n",
       "      <td>0.00</td>\n",
       "      <td>0.00</td>\n",
       "      <td>0.03</td>\n",
       "      <td>0.00</td>\n",
       "      <td>NaN</td>\n",
       "      <td>NaN</td>\n",
       "      <td>unknown</td>\n",
       "    </tr>\n",
       "  </tbody>\n",
       "</table>\n",
       "</div>"
      ],
      "text/plain": [
       "      name platform  year_of_release genre  na_sales  eu_sales  jp_sales  \\\n",
       "659    NaN      GEN           1993.0   NaN      1.78      0.53      0.00   \n",
       "14244  NaN      GEN           1993.0   NaN      0.00      0.00      0.03   \n",
       "\n",
       "       other_sales  critic_score  user_score   rating  \n",
       "659           0.08           NaN         NaN  unknown  \n",
       "14244         0.00           NaN         NaN  unknown  "
      ]
     },
     "execution_count": 23,
     "metadata": {},
     "output_type": "execute_result"
    }
   ],
   "source": [
    "# поиск пропущенных значением в имени\n",
    "\n",
    "data[data['name'].isna()]"
   ]
  },
  {
   "cell_type": "markdown",
   "id": "f1486223",
   "metadata": {},
   "source": [
    "As we can see, for games with gaps in names, gaps are present both in genres and in reviews. Let's get rid of these values."
   ]
  },
  {
   "cell_type": "code",
   "execution_count": 24,
   "id": "22a3f4e7",
   "metadata": {},
   "outputs": [],
   "source": [
    "# избавляемся от name с пропущенными значениями\n",
    "\n",
    "data = data.drop(data[data['name'].isna()].index)"
   ]
  },
  {
   "cell_type": "markdown",
   "id": "9e109665",
   "metadata": {},
   "source": [
    "### Finding and processing duplicates"
   ]
  },
  {
   "cell_type": "code",
   "execution_count": 25,
   "id": "794d8b8f",
   "metadata": {},
   "outputs": [
    {
     "data": {
      "text/plain": [
       "0"
      ]
     },
     "execution_count": 25,
     "metadata": {},
     "output_type": "execute_result"
    }
   ],
   "source": [
    "# поиск явных дубликатов\n",
    "\n",
    "data.duplicated().sum()"
   ]
  },
  {
   "cell_type": "code",
   "execution_count": 26,
   "id": "194297a8",
   "metadata": {},
   "outputs": [
    {
     "data": {
      "text/html": [
       "<div>\n",
       "<style scoped>\n",
       "    .dataframe tbody tr th:only-of-type {\n",
       "        vertical-align: middle;\n",
       "    }\n",
       "\n",
       "    .dataframe tbody tr th {\n",
       "        vertical-align: top;\n",
       "    }\n",
       "\n",
       "    .dataframe thead th {\n",
       "        text-align: right;\n",
       "    }\n",
       "</style>\n",
       "<table border=\"1\" class=\"dataframe\">\n",
       "  <thead>\n",
       "    <tr style=\"text-align: right;\">\n",
       "      <th></th>\n",
       "      <th>name</th>\n",
       "      <th>platform</th>\n",
       "      <th>year_of_release</th>\n",
       "      <th>genre</th>\n",
       "      <th>na_sales</th>\n",
       "      <th>eu_sales</th>\n",
       "      <th>jp_sales</th>\n",
       "      <th>other_sales</th>\n",
       "      <th>critic_score</th>\n",
       "      <th>user_score</th>\n",
       "      <th>rating</th>\n",
       "    </tr>\n",
       "  </thead>\n",
       "  <tbody>\n",
       "    <tr>\n",
       "      <th>604</th>\n",
       "      <td>Madden NFL 13</td>\n",
       "      <td>PS3</td>\n",
       "      <td>2012.0</td>\n",
       "      <td>Sports</td>\n",
       "      <td>2.11</td>\n",
       "      <td>0.22</td>\n",
       "      <td>0.00</td>\n",
       "      <td>0.23</td>\n",
       "      <td>83.0</td>\n",
       "      <td>5.5</td>\n",
       "      <td>E</td>\n",
       "    </tr>\n",
       "    <tr>\n",
       "      <th>16230</th>\n",
       "      <td>Madden NFL 13</td>\n",
       "      <td>PS3</td>\n",
       "      <td>2012.0</td>\n",
       "      <td>Sports</td>\n",
       "      <td>0.00</td>\n",
       "      <td>0.01</td>\n",
       "      <td>0.00</td>\n",
       "      <td>0.00</td>\n",
       "      <td>83.0</td>\n",
       "      <td>5.5</td>\n",
       "      <td>E</td>\n",
       "    </tr>\n",
       "    <tr>\n",
       "      <th>5972</th>\n",
       "      <td>Need for Speed: Most Wanted</td>\n",
       "      <td>PC</td>\n",
       "      <td>2005.0</td>\n",
       "      <td>Racing</td>\n",
       "      <td>0.02</td>\n",
       "      <td>0.23</td>\n",
       "      <td>0.00</td>\n",
       "      <td>0.04</td>\n",
       "      <td>82.0</td>\n",
       "      <td>8.5</td>\n",
       "      <td>T</td>\n",
       "    </tr>\n",
       "    <tr>\n",
       "      <th>11715</th>\n",
       "      <td>Need for Speed: Most Wanted</td>\n",
       "      <td>PC</td>\n",
       "      <td>2012.0</td>\n",
       "      <td>Racing</td>\n",
       "      <td>0.00</td>\n",
       "      <td>0.06</td>\n",
       "      <td>0.00</td>\n",
       "      <td>0.02</td>\n",
       "      <td>82.0</td>\n",
       "      <td>8.5</td>\n",
       "      <td>T</td>\n",
       "    </tr>\n",
       "    <tr>\n",
       "      <th>1591</th>\n",
       "      <td>Need for Speed: Most Wanted</td>\n",
       "      <td>X360</td>\n",
       "      <td>2005.0</td>\n",
       "      <td>Racing</td>\n",
       "      <td>1.00</td>\n",
       "      <td>0.13</td>\n",
       "      <td>0.02</td>\n",
       "      <td>0.10</td>\n",
       "      <td>83.0</td>\n",
       "      <td>8.5</td>\n",
       "      <td>T</td>\n",
       "    </tr>\n",
       "    <tr>\n",
       "      <th>1190</th>\n",
       "      <td>Need for Speed: Most Wanted</td>\n",
       "      <td>X360</td>\n",
       "      <td>2012.0</td>\n",
       "      <td>Racing</td>\n",
       "      <td>0.62</td>\n",
       "      <td>0.78</td>\n",
       "      <td>0.01</td>\n",
       "      <td>0.15</td>\n",
       "      <td>83.0</td>\n",
       "      <td>8.5</td>\n",
       "      <td>T</td>\n",
       "    </tr>\n",
       "    <tr>\n",
       "      <th>1745</th>\n",
       "      <td>Sonic the Hedgehog</td>\n",
       "      <td>PS3</td>\n",
       "      <td>2006.0</td>\n",
       "      <td>Platform</td>\n",
       "      <td>0.41</td>\n",
       "      <td>0.06</td>\n",
       "      <td>0.04</td>\n",
       "      <td>0.66</td>\n",
       "      <td>43.0</td>\n",
       "      <td>4.1</td>\n",
       "      <td>E10+</td>\n",
       "    </tr>\n",
       "    <tr>\n",
       "      <th>4127</th>\n",
       "      <td>Sonic the Hedgehog</td>\n",
       "      <td>PS3</td>\n",
       "      <td>NaN</td>\n",
       "      <td>Platform</td>\n",
       "      <td>0.00</td>\n",
       "      <td>0.48</td>\n",
       "      <td>0.00</td>\n",
       "      <td>0.00</td>\n",
       "      <td>43.0</td>\n",
       "      <td>4.1</td>\n",
       "      <td>E10+</td>\n",
       "    </tr>\n",
       "  </tbody>\n",
       "</table>\n",
       "</div>"
      ],
      "text/plain": [
       "                              name platform  year_of_release     genre  \\\n",
       "604                  Madden NFL 13      PS3           2012.0    Sports   \n",
       "16230                Madden NFL 13      PS3           2012.0    Sports   \n",
       "5972   Need for Speed: Most Wanted       PC           2005.0    Racing   \n",
       "11715  Need for Speed: Most Wanted       PC           2012.0    Racing   \n",
       "1591   Need for Speed: Most Wanted     X360           2005.0    Racing   \n",
       "1190   Need for Speed: Most Wanted     X360           2012.0    Racing   \n",
       "1745            Sonic the Hedgehog      PS3           2006.0  Platform   \n",
       "4127            Sonic the Hedgehog      PS3              NaN  Platform   \n",
       "\n",
       "       na_sales  eu_sales  jp_sales  other_sales  critic_score  user_score  \\\n",
       "604        2.11      0.22      0.00         0.23          83.0         5.5   \n",
       "16230      0.00      0.01      0.00         0.00          83.0         5.5   \n",
       "5972       0.02      0.23      0.00         0.04          82.0         8.5   \n",
       "11715      0.00      0.06      0.00         0.02          82.0         8.5   \n",
       "1591       1.00      0.13      0.02         0.10          83.0         8.5   \n",
       "1190       0.62      0.78      0.01         0.15          83.0         8.5   \n",
       "1745       0.41      0.06      0.04         0.66          43.0         4.1   \n",
       "4127       0.00      0.48      0.00         0.00          43.0         4.1   \n",
       "\n",
       "      rating  \n",
       "604        E  \n",
       "16230      E  \n",
       "5972       T  \n",
       "11715      T  \n",
       "1591       T  \n",
       "1190       T  \n",
       "1745    E10+  \n",
       "4127    E10+  "
      ]
     },
     "execution_count": 26,
     "metadata": {},
     "output_type": "execute_result"
    }
   ],
   "source": [
    "# выведем все дубликаты в имени и платформе с помощью параметра keep\n",
    "\n",
    "(data[data.duplicated(subset = ['name', 'platform'], keep = False)]\n",
    ".sort_values(by = ['name', 'platform', 'year_of_release']))"
   ]
  },
  {
   "cell_type": "markdown",
   "id": "75511961",
   "metadata": {},
   "source": [
    "A clear duplicate is the game 'Madden NFL 13' as the release year and user review are the same.\n",
    "Let's get rid of him."
   ]
  },
  {
   "cell_type": "code",
   "execution_count": 29,
   "id": "71034b34",
   "metadata": {},
   "outputs": [],
   "source": [
    "# суммарные продажи во всех регионах\n",
    "\n",
    "data['total_sales'] = data[['na_sales','eu_sales','jp_sales', 'other_sales']].sum(axis='columns')"
   ]
  },
  {
   "cell_type": "code",
   "execution_count": 104,
   "id": "93b45879",
   "metadata": {},
   "outputs": [
    {
     "data": {
      "text/html": [
       "<div>\n",
       "<style scoped>\n",
       "    .dataframe tbody tr th:only-of-type {\n",
       "        vertical-align: middle;\n",
       "    }\n",
       "\n",
       "    .dataframe tbody tr th {\n",
       "        vertical-align: top;\n",
       "    }\n",
       "\n",
       "    .dataframe thead th {\n",
       "        text-align: right;\n",
       "    }\n",
       "</style>\n",
       "<table border=\"1\" class=\"dataframe\">\n",
       "  <thead>\n",
       "    <tr style=\"text-align: right;\">\n",
       "      <th></th>\n",
       "      <th>name</th>\n",
       "      <th>platform</th>\n",
       "      <th>year_of_release</th>\n",
       "      <th>genre</th>\n",
       "      <th>na_sales</th>\n",
       "      <th>eu_sales</th>\n",
       "      <th>jp_sales</th>\n",
       "      <th>other_sales</th>\n",
       "      <th>critic_score</th>\n",
       "      <th>user_score</th>\n",
       "      <th>rating</th>\n",
       "      <th>total_sales</th>\n",
       "    </tr>\n",
       "  </thead>\n",
       "  <tbody>\n",
       "    <tr>\n",
       "      <th>5972</th>\n",
       "      <td>Need for Speed: Most Wanted</td>\n",
       "      <td>PC</td>\n",
       "      <td>2005.0</td>\n",
       "      <td>Racing</td>\n",
       "      <td>0.02</td>\n",
       "      <td>0.23</td>\n",
       "      <td>0.00</td>\n",
       "      <td>0.04</td>\n",
       "      <td>82.0</td>\n",
       "      <td>8.5</td>\n",
       "      <td>T</td>\n",
       "      <td>0.29</td>\n",
       "    </tr>\n",
       "    <tr>\n",
       "      <th>11715</th>\n",
       "      <td>Need for Speed: Most Wanted</td>\n",
       "      <td>PC</td>\n",
       "      <td>2012.0</td>\n",
       "      <td>Racing</td>\n",
       "      <td>0.00</td>\n",
       "      <td>0.06</td>\n",
       "      <td>0.00</td>\n",
       "      <td>0.02</td>\n",
       "      <td>82.0</td>\n",
       "      <td>8.5</td>\n",
       "      <td>T</td>\n",
       "      <td>0.08</td>\n",
       "    </tr>\n",
       "    <tr>\n",
       "      <th>1591</th>\n",
       "      <td>Need for Speed: Most Wanted</td>\n",
       "      <td>X360</td>\n",
       "      <td>2005.0</td>\n",
       "      <td>Racing</td>\n",
       "      <td>1.00</td>\n",
       "      <td>0.13</td>\n",
       "      <td>0.02</td>\n",
       "      <td>0.10</td>\n",
       "      <td>83.0</td>\n",
       "      <td>8.5</td>\n",
       "      <td>T</td>\n",
       "      <td>1.25</td>\n",
       "    </tr>\n",
       "    <tr>\n",
       "      <th>1190</th>\n",
       "      <td>Need for Speed: Most Wanted</td>\n",
       "      <td>X360</td>\n",
       "      <td>2012.0</td>\n",
       "      <td>Racing</td>\n",
       "      <td>0.62</td>\n",
       "      <td>0.78</td>\n",
       "      <td>0.01</td>\n",
       "      <td>0.15</td>\n",
       "      <td>83.0</td>\n",
       "      <td>8.5</td>\n",
       "      <td>T</td>\n",
       "      <td>1.56</td>\n",
       "    </tr>\n",
       "  </tbody>\n",
       "</table>\n",
       "</div>"
      ],
      "text/plain": [
       "                              name platform  year_of_release   genre  \\\n",
       "5972   Need for Speed: Most Wanted       PC           2005.0  Racing   \n",
       "11715  Need for Speed: Most Wanted       PC           2012.0  Racing   \n",
       "1591   Need for Speed: Most Wanted     X360           2005.0  Racing   \n",
       "1190   Need for Speed: Most Wanted     X360           2012.0  Racing   \n",
       "\n",
       "       na_sales  eu_sales  jp_sales  other_sales  critic_score  user_score  \\\n",
       "5972       0.02      0.23      0.00         0.04          82.0         8.5   \n",
       "11715      0.00      0.06      0.00         0.02          82.0         8.5   \n",
       "1591       1.00      0.13      0.02         0.10          83.0         8.5   \n",
       "1190       0.62      0.78      0.01         0.15          83.0         8.5   \n",
       "\n",
       "      rating  total_sales  \n",
       "5972       T         0.29  \n",
       "11715      T         0.08  \n",
       "1591       T         1.25  \n",
       "1190       T         1.56  "
      ]
     },
     "execution_count": 104,
     "metadata": {},
     "output_type": "execute_result"
    }
   ],
   "source": [
    "# удаление неявных дубликатов\n",
    "\n",
    "data.drop(data[(data['name'] == 'Madden NFL 13') \n",
    "               & (data['total_sales'] == 0.01)].index, inplace = True)\n",
    "\n",
    "data[data.duplicated(subset = ['name', 'platform'], keep = False)]\\\n",
    ".sort_values(by = ['name', 'platform', 'year_of_release'])"
   ]
  },
  {
   "cell_type": "markdown",
   "id": "ae4d23eb",
   "metadata": {},
   "source": [
    "The game, called Sonic the Hedgehog, has an implicit duplicate without a release year, but with the same platform, reviews, and rating. It is possible that the values were not combined and matched. Let's get rid of this value."
   ]
  },
  {
   "cell_type": "code",
   "execution_count": 31,
   "id": "5390f238",
   "metadata": {},
   "outputs": [
    {
     "data": {
      "text/html": [
       "<div>\n",
       "<style scoped>\n",
       "    .dataframe tbody tr th:only-of-type {\n",
       "        vertical-align: middle;\n",
       "    }\n",
       "\n",
       "    .dataframe tbody tr th {\n",
       "        vertical-align: top;\n",
       "    }\n",
       "\n",
       "    .dataframe thead th {\n",
       "        text-align: right;\n",
       "    }\n",
       "</style>\n",
       "<table border=\"1\" class=\"dataframe\">\n",
       "  <thead>\n",
       "    <tr style=\"text-align: right;\">\n",
       "      <th></th>\n",
       "      <th>name</th>\n",
       "      <th>platform</th>\n",
       "      <th>year_of_release</th>\n",
       "      <th>genre</th>\n",
       "      <th>na_sales</th>\n",
       "      <th>eu_sales</th>\n",
       "      <th>jp_sales</th>\n",
       "      <th>other_sales</th>\n",
       "      <th>critic_score</th>\n",
       "      <th>user_score</th>\n",
       "      <th>rating</th>\n",
       "      <th>total_sales</th>\n",
       "    </tr>\n",
       "  </thead>\n",
       "  <tbody>\n",
       "    <tr>\n",
       "      <th>1591</th>\n",
       "      <td>Need for Speed: Most Wanted</td>\n",
       "      <td>X360</td>\n",
       "      <td>2005.0</td>\n",
       "      <td>Racing</td>\n",
       "      <td>1.00</td>\n",
       "      <td>0.13</td>\n",
       "      <td>0.02</td>\n",
       "      <td>0.10</td>\n",
       "      <td>83.0</td>\n",
       "      <td>8.5</td>\n",
       "      <td>T</td>\n",
       "      <td>1.25</td>\n",
       "    </tr>\n",
       "    <tr>\n",
       "      <th>5972</th>\n",
       "      <td>Need for Speed: Most Wanted</td>\n",
       "      <td>PC</td>\n",
       "      <td>2005.0</td>\n",
       "      <td>Racing</td>\n",
       "      <td>0.02</td>\n",
       "      <td>0.23</td>\n",
       "      <td>0.00</td>\n",
       "      <td>0.04</td>\n",
       "      <td>82.0</td>\n",
       "      <td>8.5</td>\n",
       "      <td>T</td>\n",
       "      <td>0.29</td>\n",
       "    </tr>\n",
       "    <tr>\n",
       "      <th>1190</th>\n",
       "      <td>Need for Speed: Most Wanted</td>\n",
       "      <td>X360</td>\n",
       "      <td>2012.0</td>\n",
       "      <td>Racing</td>\n",
       "      <td>0.62</td>\n",
       "      <td>0.78</td>\n",
       "      <td>0.01</td>\n",
       "      <td>0.15</td>\n",
       "      <td>83.0</td>\n",
       "      <td>8.5</td>\n",
       "      <td>T</td>\n",
       "      <td>1.56</td>\n",
       "    </tr>\n",
       "    <tr>\n",
       "      <th>11715</th>\n",
       "      <td>Need for Speed: Most Wanted</td>\n",
       "      <td>PC</td>\n",
       "      <td>2012.0</td>\n",
       "      <td>Racing</td>\n",
       "      <td>0.00</td>\n",
       "      <td>0.06</td>\n",
       "      <td>0.00</td>\n",
       "      <td>0.02</td>\n",
       "      <td>82.0</td>\n",
       "      <td>8.5</td>\n",
       "      <td>T</td>\n",
       "      <td>0.08</td>\n",
       "    </tr>\n",
       "  </tbody>\n",
       "</table>\n",
       "</div>"
      ],
      "text/plain": [
       "                              name platform  year_of_release   genre  \\\n",
       "1591   Need for Speed: Most Wanted     X360           2005.0  Racing   \n",
       "5972   Need for Speed: Most Wanted       PC           2005.0  Racing   \n",
       "1190   Need for Speed: Most Wanted     X360           2012.0  Racing   \n",
       "11715  Need for Speed: Most Wanted       PC           2012.0  Racing   \n",
       "\n",
       "       na_sales  eu_sales  jp_sales  other_sales  critic_score  user_score  \\\n",
       "1591       1.00      0.13      0.02         0.10          83.0         8.5   \n",
       "5972       0.02      0.23      0.00         0.04          82.0         8.5   \n",
       "1190       0.62      0.78      0.01         0.15          83.0         8.5   \n",
       "11715      0.00      0.06      0.00         0.02          82.0         8.5   \n",
       "\n",
       "      rating  total_sales  \n",
       "1591       T         1.25  \n",
       "5972       T         0.29  \n",
       "1190       T         1.56  \n",
       "11715      T         0.08  "
      ]
     },
     "execution_count": 31,
     "metadata": {},
     "output_type": "execute_result"
    }
   ],
   "source": [
    "data.drop(data[(data['name'] == 'Sonic the Hedgehog') \n",
    "               & (data['total_sales'] == 0.48)].index, inplace = True)\n",
    "\n",
    "data[data.duplicated(subset = ['name', 'platform'], keep = False)]\\\n",
    " .sort_values(by = ['name',  'year_of_release'])"
   ]
  },
  {
   "cell_type": "markdown",
   "id": "ba93cdcc",
   "metadata": {},
   "source": [
    "Need for Speed: Most Wanted was released 2 times in 2005 and 2012 on 2 different platforms - X360, PC which is not a duplicate."
   ]
  },
  {
   "cell_type": "markdown",
   "id": "ede92f4f",
   "metadata": {},
   "source": [
    "<a id = 'res'></a>\n",
    "## Exploratory data analysis"
   ]
  },
  {
   "cell_type": "code",
   "execution_count": 32,
   "id": "7c935819",
   "metadata": {},
   "outputs": [
    {
     "data": {
      "text/html": [
       "<div>\n",
       "<style scoped>\n",
       "    .dataframe tbody tr th:only-of-type {\n",
       "        vertical-align: middle;\n",
       "    }\n",
       "\n",
       "    .dataframe tbody tr th {\n",
       "        vertical-align: top;\n",
       "    }\n",
       "\n",
       "    .dataframe thead th {\n",
       "        text-align: right;\n",
       "    }\n",
       "</style>\n",
       "<table border=\"1\" class=\"dataframe\">\n",
       "  <thead>\n",
       "    <tr style=\"text-align: right;\">\n",
       "      <th></th>\n",
       "      <th>platform</th>\n",
       "      <th>total_sales</th>\n",
       "    </tr>\n",
       "  </thead>\n",
       "  <tbody>\n",
       "    <tr>\n",
       "      <th>0</th>\n",
       "      <td>PS2</td>\n",
       "      <td>1255.77</td>\n",
       "    </tr>\n",
       "    <tr>\n",
       "      <th>1</th>\n",
       "      <td>X360</td>\n",
       "      <td>971.42</td>\n",
       "    </tr>\n",
       "    <tr>\n",
       "      <th>2</th>\n",
       "      <td>PS3</td>\n",
       "      <td>939.16</td>\n",
       "    </tr>\n",
       "    <tr>\n",
       "      <th>3</th>\n",
       "      <td>Wii</td>\n",
       "      <td>907.51</td>\n",
       "    </tr>\n",
       "    <tr>\n",
       "      <th>4</th>\n",
       "      <td>DS</td>\n",
       "      <td>806.12</td>\n",
       "    </tr>\n",
       "    <tr>\n",
       "      <th>5</th>\n",
       "      <td>PS</td>\n",
       "      <td>730.86</td>\n",
       "    </tr>\n",
       "    <tr>\n",
       "      <th>6</th>\n",
       "      <td>GBA</td>\n",
       "      <td>317.85</td>\n",
       "    </tr>\n",
       "    <tr>\n",
       "      <th>7</th>\n",
       "      <td>PS4</td>\n",
       "      <td>314.14</td>\n",
       "    </tr>\n",
       "    <tr>\n",
       "      <th>8</th>\n",
       "      <td>PSP</td>\n",
       "      <td>294.05</td>\n",
       "    </tr>\n",
       "    <tr>\n",
       "      <th>9</th>\n",
       "      <td>PC</td>\n",
       "      <td>259.52</td>\n",
       "    </tr>\n",
       "  </tbody>\n",
       "</table>\n",
       "</div>"
      ],
      "text/plain": [
       "  platform  total_sales\n",
       "0      PS2      1255.77\n",
       "1     X360       971.42\n",
       "2      PS3       939.16\n",
       "3      Wii       907.51\n",
       "4       DS       806.12\n",
       "5       PS       730.86\n",
       "6      GBA       317.85\n",
       "7      PS4       314.14\n",
       "8      PSP       294.05\n",
       "9       PC       259.52"
      ]
     },
     "execution_count": 32,
     "metadata": {},
     "output_type": "execute_result"
    }
   ],
   "source": [
    "data_pl_sal = (data.groupby('platform')['total_sales']\n",
    "                .sum().sort_values(ascending = False).reset_index().head(10))\n",
    "\n",
    "data_pl_sal"
   ]
  },
  {
   "cell_type": "code",
   "execution_count": 33,
   "id": "879a7a10",
   "metadata": {},
   "outputs": [
    {
     "data": {
      "text/plain": [
       "platform\n",
       "PS2     1255.77\n",
       "X360     971.42\n",
       "PS3      939.16\n",
       "Wii      907.51\n",
       "DS       806.12\n",
       "PS       730.86\n",
       "GBA      317.85\n",
       "PS4      314.14\n",
       "PSP      294.05\n",
       "PC       259.52\n",
       "Name: total_sales, dtype: float64"
      ]
     },
     "execution_count": 33,
     "metadata": {},
     "output_type": "execute_result"
    }
   ],
   "source": [
    "data_pl_sal_10 = (data.groupby('platform')['total_sales']\n",
    "                  .sum().sort_values(ascending = False).head(10))\n",
    "\n",
    "data_pl_sal_10"
   ]
  },
  {
   "cell_type": "markdown",
   "id": "0c37b6a3",
   "metadata": {},
   "source": [
    "<a id = 'year'></a>\n",
    "### Number of games in different years"
   ]
  },
  {
   "cell_type": "markdown",
   "id": "b3be76da",
   "metadata": {},
   "source": [
    "Consider the distribution of platforms over the total time period depending on the volume of sales."
   ]
  },
  {
   "cell_type": "code",
   "execution_count": 34,
   "id": "d8707c54",
   "metadata": {},
   "outputs": [],
   "source": [
    "# функция выводящая данные в сводную таблицу (год выпуска и общие продажи) для построения графика\n",
    "\n",
    "def plat_sales(plat, df):\n",
    "    \n",
    "    return (df\n",
    "            .query('platform == @plat')\n",
    "            \n",
    "            .pivot_table(index = 'year_of_release', values = 'total_sales')\n",
    "            \n",
    "            .sort_values(by = 'year_of_release', ascending = False)\n",
    "    )"
   ]
  },
  {
   "cell_type": "code",
   "execution_count": 35,
   "id": "d60462d1",
   "metadata": {},
   "outputs": [
    {
     "data": {
      "image/png": "[encoded data removed]",
      "text/plain": [
       "<Figure size 1080x360 with 1 Axes>"
      ]
     },
     "metadata": {
      "needs_background": "light"
     },
     "output_type": "display_data"
    }
   ],
   "source": [
    "# построение графика для сводной таблицы с годом выпуска и общими продажами \n",
    "\n",
    "for i in data_pl_sal_10.index:\n",
    "    \n",
    "    plat_sales(i, data)['total_sales'].plot(figsize = (15, 5), \n",
    "                                            grid = True, label = i, \n",
    "                                            xlim = (1990, 2016))\n",
    "    \n",
    "    plt.ylabel('Общие продажи [млн.]')\n",
    "    plt.xlabel('Год выпуска')\n",
    "    plt.title('Распредление платформ видеоигр')\n",
    "    plt.legend()"
   ]
  },
  {
   "cell_type": "code",
   "execution_count": 105,
   "id": "f153b583",
   "metadata": {},
   "outputs": [
    {
     "data": {
      "text/plain": [
       "platform\n",
       "2600    1989.0\n",
       "GG      1992.0\n",
       "SCD     1994.0\n",
       "GEN     1994.0\n",
       "NES     1994.0\n",
       "3DO     1995.0\n",
       "TG16    1995.0\n",
       "NG      1996.0\n",
       "PCFX    1996.0\n",
       "SNES    1999.0\n",
       "SAT     1999.0\n",
       "WS      2001.0\n",
       "GB      2001.0\n",
       "N64     2002.0\n",
       "PS      2003.0\n",
       "GC      2007.0\n",
       "GBA     2007.0\n",
       "XB      2008.0\n",
       "DC      2008.0\n",
       "PS2     2011.0\n",
       "DS      2013.0\n",
       "PSP     2015.0\n",
       "PS3     2016.0\n",
       "PS4     2016.0\n",
       "PSV     2016.0\n",
       "3DS     2016.0\n",
       "Wii     2016.0\n",
       "WiiU    2016.0\n",
       "X360    2016.0\n",
       "PC      2016.0\n",
       "XOne    2016.0\n",
       "Name: year_of_release, dtype: float64"
      ]
     },
     "execution_count": 105,
     "metadata": {},
     "output_type": "execute_result"
    }
   ],
   "source": [
    "data.groupby('platform')['year_of_release'].max().sort_values()"
   ]
  },
  {
   "cell_type": "markdown",
   "id": "643b3c1c",
   "metadata": {},
   "source": [
    "Platforms like PS, GBA and PS2 stopped releasing their games in 2004, 2008, 2014, respectively.\n",
    "The interval from 2014 - 2016 (inclusive) was chosen for actual data."
   ]
  },
  {
   "cell_type": "code",
   "execution_count": 38,
   "id": "ba9679dc",
   "metadata": {},
   "outputs": [],
   "source": [
    "actual = data.query('year_of_release >= 2014 & year_of_release <= 2016')"
   ]
  },
  {
   "cell_type": "markdown",
   "id": "a16a05b2",
   "metadata": {},
   "source": [
    "<a id = 'actual'> </a>\n",
    "### Sales by Platform & Data for the actual period"
   ]
  },
  {
   "cell_type": "markdown",
   "id": "5c0e7914",
   "metadata": {},
   "source": [
    "Consider the distribution of platforms over the total time period depending on the volume of sales."
   ]
  },
  {
   "cell_type": "code",
   "execution_count": 109,
   "id": "62b83b57",
   "metadata": {},
   "outputs": [
    {
     "data": {
      "text/plain": [
       "<AxesSubplot:title={'center':'Общие продажи по платформам в 1980 - 2016г.'}, xlabel='Платформы', ylabel='Общие продажи [млн.]'>"
      ]
     },
     "execution_count": 109,
     "metadata": {},
     "output_type": "execute_result"
    },
    {
     "data": {
      "image/png": "[encoded data removed]",
      "text/plain": [
       "<Figure size 1080x216 with 1 Axes>"
      ]
     },
     "metadata": {
      "needs_background": "light"
     },
     "output_type": "display_data"
    }
   ],
   "source": [
    "(data\n",
    "\n",
    "    .pivot_table(index = 'platform', values = 'total_sales', aggfunc = 'count')\n",
    " \n",
    "    .sort_values(by = 'total_sales')\n",
    " \n",
    "    .plot(figsize = (15, 3) ,xlabel = 'Платформы', \n",
    "          ylabel = 'Общие продажи [млн.]', kind = 'bar',\n",
    "          rot = 360, color='#EE6666', title = 'Общие продажи по платформам в 1980 - 2016г.')\n",
    "\n",
    ")"
   ]
  },
  {
   "cell_type": "code",
   "execution_count": 108,
   "id": "bbf6d340",
   "metadata": {},
   "outputs": [
    {
     "data": {
      "text/plain": [
       "<AxesSubplot:title={'center':'Общие продажи по платформам в 2014-2016г.'}, xlabel='Платформы', ylabel='Общие продажи [млн.]'>"
      ]
     },
     "execution_count": 108,
     "metadata": {},
     "output_type": "execute_result"
    },
    {
     "data": {
      "image/png": "[encoded data removed]",
      "text/plain": [
       "<Figure size 1080x216 with 1 Axes>"
      ]
     },
     "metadata": {
      "needs_background": "light"
     },
     "output_type": "display_data"
    }
   ],
   "source": [
    "(actual\n",
    "\n",
    "    .pivot_table(index = 'platform', values = 'total_sales', aggfunc = 'count')\n",
    " \n",
    "    .sort_values(by = 'total_sales')\n",
    " \n",
    "    .plot(figsize = (15, 3) ,xlabel = 'Платформы', \n",
    "          ylabel = 'Общие продажи [млн.]', kind = 'bar',\n",
    "          rot = 360, color='#EE6666', title = 'Общие продажи по платформам в 2014-2016г.')\n",
    "\n",
    ")"
   ]
  },
  {
   "cell_type": "markdown",
   "id": "1f5175cc",
   "metadata": {},
   "source": [
    "Even though in the full (1980-2016) time span, PS2 (released in 2000) is the most popular platform. In the current period for us - (2014-2016) - PS4, released in 2013."
   ]
  },
  {
   "cell_type": "markdown",
   "id": "e5f96e7c",
   "metadata": {},
   "source": [
    "<a id = 'platf'></a>\n",
    "### Sales leaders"
   ]
  },
  {
   "cell_type": "markdown",
   "id": "c0adfb36",
   "metadata": {},
   "source": [
    "At this stage, we will study which of the platforms PS4, Xbox One, 3DS, PS3, X360, WiiU, PC, PSV, Wii, PSP have positive or negative growth trends in 2014-2016."
   ]
  },
  {
   "cell_type": "code",
   "execution_count": 37,
   "id": "c5ddde64",
   "metadata": {},
   "outputs": [
    {
     "name": "stdout",
     "output_type": "stream",
     "text": [
      "<class 'pandas.core.frame.DataFrame'>\n",
      "Int64Index: 16711 entries, 0 to 16714\n",
      "Data columns (total 12 columns):\n",
      " #   Column           Non-Null Count  Dtype  \n",
      "---  ------           --------------  -----  \n",
      " 0   name             16711 non-null  object \n",
      " 1   platform         16711 non-null  object \n",
      " 2   year_of_release  16443 non-null  float64\n",
      " 3   genre            16711 non-null  object \n",
      " 4   na_sales         16711 non-null  float64\n",
      " 5   eu_sales         16711 non-null  float64\n",
      " 6   jp_sales         16711 non-null  float64\n",
      " 7   other_sales      16711 non-null  float64\n",
      " 8   critic_score     8135 non-null   float64\n",
      " 9   user_score       7588 non-null   float64\n",
      " 10  rating           16711 non-null  object \n",
      " 11  total_sales      16711 non-null  float64\n",
      "dtypes: float64(8), object(4)\n",
      "memory usage: 1.7+ MB\n"
     ]
    }
   ],
   "source": [
    "data.info()"
   ]
  },
  {
   "cell_type": "code",
   "execution_count": 39,
   "id": "8cfd1d97",
   "metadata": {},
   "outputs": [],
   "source": [
    "act_id = actual.groupby('platform')['total_sales'].sum().sort_values( ascending = False)"
   ]
  },
  {
   "cell_type": "code",
   "execution_count": 40,
   "id": "e5cc391b",
   "metadata": {
    "scrolled": false
   },
   "outputs": [
    {
     "data": {
      "image/png": "[encoded data removed]",
      "text/plain": [
       "<Figure size 432x288 with 1 Axes>"
      ]
     },
     "metadata": {
      "needs_background": "light"
     },
     "output_type": "display_data"
    },
    {
     "data": {
      "image/png": "[encoded data removed]",
      "text/plain": [
       "<Figure size 432x288 with 1 Axes>"
      ]
     },
     "metadata": {
      "needs_background": "light"
     },
     "output_type": "display_data"
    },
    {
     "data": {
      "image/png": "[encoded data removed]",
      "text/plain": [
       "<Figure size 432x288 with 1 Axes>"
      ]
     },
     "metadata": {
      "needs_background": "light"
     },
     "output_type": "display_data"
    },
    {
     "data": {
      "image/png": "[encoded data removed]",
      "text/plain": [
       "<Figure size 432x288 with 1 Axes>"
      ]
     },
     "metadata": {
      "needs_background": "light"
     },
     "output_type": "display_data"
    },
    {
     "data": {
      "image/png": "[encoded data removed]",
      "text/plain": [
       "<Figure size 432x288 with 1 Axes>"
      ]
     },
     "metadata": {
      "needs_background": "light"
     },
     "output_type": "display_data"
    },
    {
     "data": {
      "image/png": "[encoded data removed]",
      "text/plain": [
       "<Figure size 432x288 with 1 Axes>"
      ]
     },
     "metadata": {
      "needs_background": "light"
     },
     "output_type": "display_data"
    },
    {
     "data": {
      "image/png": "[encoded data removed]",
      "text/plain": [
       "<Figure size 432x288 with 1 Axes>"
      ]
     },
     "metadata": {
      "needs_background": "light"
     },
     "output_type": "display_data"
    },
    {
     "data": {
      "image/png": "[encoded data removed]",
      "text/plain": [
       "<Figure size 432x288 with 1 Axes>"
      ]
     },
     "metadata": {
      "needs_background": "light"
     },
     "output_type": "display_data"
    },
    {
     "data": {
      "image/png": "[encoded data removed]",
      "text/plain": [
       "<Figure size 432x288 with 1 Axes>"
      ]
     },
     "metadata": {
      "needs_background": "light"
     },
     "output_type": "display_data"
    },
    {
     "data": {
      "image/png": "[encoded data removed]",
      "text/plain": [
       "<Figure size 432x288 with 1 Axes>"
      ]
     },
     "metadata": {
      "needs_background": "light"
     },
     "output_type": "display_data"
    }
   ],
   "source": [
    "for i in act_id.index:\n",
    "    \n",
    "    plat_sales(i, actual).plot()\n",
    "    plt.title(i)\n",
    "    plt.xticks([2014, 2015, 2016])\n",
    "    plt.xlabel('Год выпуска')\n",
    "    plt.ylabel('Общие продажи [млн]')"
   ]
  },
  {
   "cell_type": "markdown",
   "id": "f834cd1e",
   "metadata": {},
   "source": [
    "Let's analyze the sales trend - their growth or decline by platform in the period of 2014 - 2016.\n",
    "For platforms PS4, XOne, PS3, X360, WiiU, PC, PSV, Wii, sales are rapidly falling by 2016. The 3DS platform, sales are higher in 2016 than in 2015. And the PSP platform does not have data for 2016, but still has a positive trend in sales growth. Let's take a closer look at this platform."
   ]
  },
  {
   "cell_type": "code",
   "execution_count": 41,
   "id": "0ae17bd5",
   "metadata": {},
   "outputs": [
    {
     "data": {
      "text/html": [
       "<div>\n",
       "<style scoped>\n",
       "    .dataframe tbody tr th:only-of-type {\n",
       "        vertical-align: middle;\n",
       "    }\n",
       "\n",
       "    .dataframe tbody tr th {\n",
       "        vertical-align: top;\n",
       "    }\n",
       "\n",
       "    .dataframe thead th {\n",
       "        text-align: right;\n",
       "    }\n",
       "</style>\n",
       "<table border=\"1\" class=\"dataframe\">\n",
       "  <thead>\n",
       "    <tr style=\"text-align: right;\">\n",
       "      <th></th>\n",
       "      <th>name</th>\n",
       "      <th>platform</th>\n",
       "      <th>year_of_release</th>\n",
       "      <th>genre</th>\n",
       "      <th>na_sales</th>\n",
       "      <th>eu_sales</th>\n",
       "      <th>jp_sales</th>\n",
       "      <th>other_sales</th>\n",
       "      <th>critic_score</th>\n",
       "      <th>user_score</th>\n",
       "      <th>rating</th>\n",
       "      <th>total_sales</th>\n",
       "    </tr>\n",
       "  </thead>\n",
       "  <tbody>\n",
       "    <tr>\n",
       "      <th>11107</th>\n",
       "      <td>Pro Yaky? Spirits 2014</td>\n",
       "      <td>PSP</td>\n",
       "      <td>2014.0</td>\n",
       "      <td>Sports</td>\n",
       "      <td>0.0</td>\n",
       "      <td>0.0</td>\n",
       "      <td>0.09</td>\n",
       "      <td>0.0</td>\n",
       "      <td>NaN</td>\n",
       "      <td>NaN</td>\n",
       "      <td>unknown</td>\n",
       "      <td>0.09</td>\n",
       "    </tr>\n",
       "    <tr>\n",
       "      <th>11486</th>\n",
       "      <td>Uta no Prince-Sama: All Star After Secret</td>\n",
       "      <td>PSP</td>\n",
       "      <td>2015.0</td>\n",
       "      <td>Action</td>\n",
       "      <td>0.0</td>\n",
       "      <td>0.0</td>\n",
       "      <td>0.08</td>\n",
       "      <td>0.0</td>\n",
       "      <td>NaN</td>\n",
       "      <td>NaN</td>\n",
       "      <td>unknown</td>\n",
       "      <td>0.08</td>\n",
       "    </tr>\n",
       "    <tr>\n",
       "      <th>13451</th>\n",
       "      <td>Toukiden Kiwami</td>\n",
       "      <td>PSP</td>\n",
       "      <td>2014.0</td>\n",
       "      <td>Action</td>\n",
       "      <td>0.0</td>\n",
       "      <td>0.0</td>\n",
       "      <td>0.05</td>\n",
       "      <td>0.0</td>\n",
       "      <td>NaN</td>\n",
       "      <td>NaN</td>\n",
       "      <td>unknown</td>\n",
       "      <td>0.05</td>\n",
       "    </tr>\n",
       "    <tr>\n",
       "      <th>15026</th>\n",
       "      <td>Juusanshi Engi Engetsu Sangokuden 2</td>\n",
       "      <td>PSP</td>\n",
       "      <td>2014.0</td>\n",
       "      <td>Action</td>\n",
       "      <td>0.0</td>\n",
       "      <td>0.0</td>\n",
       "      <td>0.02</td>\n",
       "      <td>0.0</td>\n",
       "      <td>NaN</td>\n",
       "      <td>NaN</td>\n",
       "      <td>unknown</td>\n",
       "      <td>0.02</td>\n",
       "    </tr>\n",
       "    <tr>\n",
       "      <th>15508</th>\n",
       "      <td>Gakuen K: Wonderful School Days</td>\n",
       "      <td>PSP</td>\n",
       "      <td>2014.0</td>\n",
       "      <td>Adventure</td>\n",
       "      <td>0.0</td>\n",
       "      <td>0.0</td>\n",
       "      <td>0.02</td>\n",
       "      <td>0.0</td>\n",
       "      <td>NaN</td>\n",
       "      <td>NaN</td>\n",
       "      <td>unknown</td>\n",
       "      <td>0.02</td>\n",
       "    </tr>\n",
       "    <tr>\n",
       "      <th>15996</th>\n",
       "      <td>Harukanaru Toki no Naka de 6</td>\n",
       "      <td>PSP</td>\n",
       "      <td>2015.0</td>\n",
       "      <td>Action</td>\n",
       "      <td>0.0</td>\n",
       "      <td>0.0</td>\n",
       "      <td>0.02</td>\n",
       "      <td>0.0</td>\n",
       "      <td>NaN</td>\n",
       "      <td>NaN</td>\n",
       "      <td>unknown</td>\n",
       "      <td>0.02</td>\n",
       "    </tr>\n",
       "    <tr>\n",
       "      <th>16069</th>\n",
       "      <td>Meiji Toukyou Renka: Twilight Kiss</td>\n",
       "      <td>PSP</td>\n",
       "      <td>2015.0</td>\n",
       "      <td>Action</td>\n",
       "      <td>0.0</td>\n",
       "      <td>0.0</td>\n",
       "      <td>0.02</td>\n",
       "      <td>0.0</td>\n",
       "      <td>NaN</td>\n",
       "      <td>NaN</td>\n",
       "      <td>unknown</td>\n",
       "      <td>0.02</td>\n",
       "    </tr>\n",
       "    <tr>\n",
       "      <th>16129</th>\n",
       "      <td>Shinobi Koutsutsu</td>\n",
       "      <td>PSP</td>\n",
       "      <td>2014.0</td>\n",
       "      <td>Adventure</td>\n",
       "      <td>0.0</td>\n",
       "      <td>0.0</td>\n",
       "      <td>0.01</td>\n",
       "      <td>0.0</td>\n",
       "      <td>NaN</td>\n",
       "      <td>NaN</td>\n",
       "      <td>unknown</td>\n",
       "      <td>0.01</td>\n",
       "    </tr>\n",
       "    <tr>\n",
       "      <th>16233</th>\n",
       "      <td>Geten no Hana: Yume Akari</td>\n",
       "      <td>PSP</td>\n",
       "      <td>2014.0</td>\n",
       "      <td>Misc</td>\n",
       "      <td>0.0</td>\n",
       "      <td>0.0</td>\n",
       "      <td>0.01</td>\n",
       "      <td>0.0</td>\n",
       "      <td>NaN</td>\n",
       "      <td>NaN</td>\n",
       "      <td>unknown</td>\n",
       "      <td>0.01</td>\n",
       "    </tr>\n",
       "    <tr>\n",
       "      <th>16313</th>\n",
       "      <td>Bakumatsu Rock</td>\n",
       "      <td>PSP</td>\n",
       "      <td>2014.0</td>\n",
       "      <td>Action</td>\n",
       "      <td>0.0</td>\n",
       "      <td>0.0</td>\n",
       "      <td>0.01</td>\n",
       "      <td>0.0</td>\n",
       "      <td>NaN</td>\n",
       "      <td>NaN</td>\n",
       "      <td>unknown</td>\n",
       "      <td>0.01</td>\n",
       "    </tr>\n",
       "    <tr>\n",
       "      <th>16543</th>\n",
       "      <td>Heart no Kuni no Alice: Wonderful Twin World</td>\n",
       "      <td>PSP</td>\n",
       "      <td>2014.0</td>\n",
       "      <td>Adventure</td>\n",
       "      <td>0.0</td>\n",
       "      <td>0.0</td>\n",
       "      <td>0.01</td>\n",
       "      <td>0.0</td>\n",
       "      <td>NaN</td>\n",
       "      <td>NaN</td>\n",
       "      <td>unknown</td>\n",
       "      <td>0.01</td>\n",
       "    </tr>\n",
       "    <tr>\n",
       "      <th>16603</th>\n",
       "      <td>Satomi Hakkenden: Hachi Tamanoki</td>\n",
       "      <td>PSP</td>\n",
       "      <td>2014.0</td>\n",
       "      <td>Adventure</td>\n",
       "      <td>0.0</td>\n",
       "      <td>0.0</td>\n",
       "      <td>0.01</td>\n",
       "      <td>0.0</td>\n",
       "      <td>NaN</td>\n",
       "      <td>NaN</td>\n",
       "      <td>unknown</td>\n",
       "      <td>0.01</td>\n",
       "    </tr>\n",
       "    <tr>\n",
       "      <th>16612</th>\n",
       "      <td>Bakumatsu Rock: Ultra Soul</td>\n",
       "      <td>PSP</td>\n",
       "      <td>2014.0</td>\n",
       "      <td>Misc</td>\n",
       "      <td>0.0</td>\n",
       "      <td>0.0</td>\n",
       "      <td>0.01</td>\n",
       "      <td>0.0</td>\n",
       "      <td>NaN</td>\n",
       "      <td>NaN</td>\n",
       "      <td>unknown</td>\n",
       "      <td>0.01</td>\n",
       "    </tr>\n",
       "  </tbody>\n",
       "</table>\n",
       "</div>"
      ],
      "text/plain": [
       "                                               name platform  year_of_release  \\\n",
       "11107                        Pro Yaky? Spirits 2014      PSP           2014.0   \n",
       "11486     Uta no Prince-Sama: All Star After Secret      PSP           2015.0   \n",
       "13451                               Toukiden Kiwami      PSP           2014.0   \n",
       "15026           Juusanshi Engi Engetsu Sangokuden 2      PSP           2014.0   \n",
       "15508               Gakuen K: Wonderful School Days      PSP           2014.0   \n",
       "15996                  Harukanaru Toki no Naka de 6      PSP           2015.0   \n",
       "16069            Meiji Toukyou Renka: Twilight Kiss      PSP           2015.0   \n",
       "16129                             Shinobi Koutsutsu      PSP           2014.0   \n",
       "16233                     Geten no Hana: Yume Akari      PSP           2014.0   \n",
       "16313                                Bakumatsu Rock      PSP           2014.0   \n",
       "16543  Heart no Kuni no Alice: Wonderful Twin World      PSP           2014.0   \n",
       "16603              Satomi Hakkenden: Hachi Tamanoki      PSP           2014.0   \n",
       "16612                    Bakumatsu Rock: Ultra Soul      PSP           2014.0   \n",
       "\n",
       "           genre  na_sales  eu_sales  jp_sales  other_sales  critic_score  \\\n",
       "11107     Sports       0.0       0.0      0.09          0.0           NaN   \n",
       "11486     Action       0.0       0.0      0.08          0.0           NaN   \n",
       "13451     Action       0.0       0.0      0.05          0.0           NaN   \n",
       "15026     Action       0.0       0.0      0.02          0.0           NaN   \n",
       "15508  Adventure       0.0       0.0      0.02          0.0           NaN   \n",
       "15996     Action       0.0       0.0      0.02          0.0           NaN   \n",
       "16069     Action       0.0       0.0      0.02          0.0           NaN   \n",
       "16129  Adventure       0.0       0.0      0.01          0.0           NaN   \n",
       "16233       Misc       0.0       0.0      0.01          0.0           NaN   \n",
       "16313     Action       0.0       0.0      0.01          0.0           NaN   \n",
       "16543  Adventure       0.0       0.0      0.01          0.0           NaN   \n",
       "16603  Adventure       0.0       0.0      0.01          0.0           NaN   \n",
       "16612       Misc       0.0       0.0      0.01          0.0           NaN   \n",
       "\n",
       "       user_score   rating  total_sales  \n",
       "11107         NaN  unknown         0.09  \n",
       "11486         NaN  unknown         0.08  \n",
       "13451         NaN  unknown         0.05  \n",
       "15026         NaN  unknown         0.02  \n",
       "15508         NaN  unknown         0.02  \n",
       "15996         NaN  unknown         0.02  \n",
       "16069         NaN  unknown         0.02  \n",
       "16129         NaN  unknown         0.01  \n",
       "16233         NaN  unknown         0.01  \n",
       "16313         NaN  unknown         0.01  \n",
       "16543         NaN  unknown         0.01  \n",
       "16603         NaN  unknown         0.01  \n",
       "16612         NaN  unknown         0.01  "
      ]
     },
     "execution_count": 41,
     "metadata": {},
     "output_type": "execute_result"
    }
   ],
   "source": [
    "# платформа PSP и год выпуска с 2014 года\n",
    "\n",
    "data[(data['platform'] == 'PSP') & (data['year_of_release'] >= 2014)]"
   ]
  },
  {
   "cell_type": "markdown",
   "id": "4b4f9c3e",
   "metadata": {
    "scrolled": false
   },
   "source": [
    "It is noteworthy that for the PSP platform since 2014, only sales in Japan (where sales began the earliest) were taken into account. It is possible that sales data in other regions since 2013 have been lost."
   ]
  },
  {
   "cell_type": "code",
   "execution_count": 42,
   "id": "8a8d7e6f",
   "metadata": {},
   "outputs": [
    {
     "data": {
      "text/html": [
       "<div>\n",
       "<style scoped>\n",
       "    .dataframe tbody tr th:only-of-type {\n",
       "        vertical-align: middle;\n",
       "    }\n",
       "\n",
       "    .dataframe tbody tr th {\n",
       "        vertical-align: top;\n",
       "    }\n",
       "\n",
       "    .dataframe thead th {\n",
       "        text-align: right;\n",
       "    }\n",
       "</style>\n",
       "<table border=\"1\" class=\"dataframe\">\n",
       "  <thead>\n",
       "    <tr style=\"text-align: right;\">\n",
       "      <th></th>\n",
       "      <th>name</th>\n",
       "      <th>platform</th>\n",
       "      <th>year_of_release</th>\n",
       "      <th>genre</th>\n",
       "      <th>na_sales</th>\n",
       "      <th>eu_sales</th>\n",
       "      <th>jp_sales</th>\n",
       "      <th>other_sales</th>\n",
       "      <th>critic_score</th>\n",
       "      <th>user_score</th>\n",
       "      <th>rating</th>\n",
       "      <th>total_sales</th>\n",
       "    </tr>\n",
       "  </thead>\n",
       "  <tbody>\n",
       "    <tr>\n",
       "      <th>10947</th>\n",
       "      <td>Major League Baseball 2K12</td>\n",
       "      <td>PSP</td>\n",
       "      <td>2012.0</td>\n",
       "      <td>Sports</td>\n",
       "      <td>0.08</td>\n",
       "      <td>0.00</td>\n",
       "      <td>0.00</td>\n",
       "      <td>0.01</td>\n",
       "      <td>NaN</td>\n",
       "      <td>NaN</td>\n",
       "      <td>E</td>\n",
       "      <td>0.09</td>\n",
       "    </tr>\n",
       "    <tr>\n",
       "      <th>5300</th>\n",
       "      <td>FIFA Soccer 13</td>\n",
       "      <td>PSP</td>\n",
       "      <td>2012.0</td>\n",
       "      <td>Action</td>\n",
       "      <td>0.05</td>\n",
       "      <td>0.18</td>\n",
       "      <td>0.02</td>\n",
       "      <td>0.09</td>\n",
       "      <td>NaN</td>\n",
       "      <td>3.2</td>\n",
       "      <td>E</td>\n",
       "      <td>0.34</td>\n",
       "    </tr>\n",
       "  </tbody>\n",
       "</table>\n",
       "</div>"
      ],
      "text/plain": [
       "                             name platform  year_of_release   genre  na_sales  \\\n",
       "10947  Major League Baseball 2K12      PSP           2012.0  Sports      0.08   \n",
       "5300               FIFA Soccer 13      PSP           2012.0  Action      0.05   \n",
       "\n",
       "       eu_sales  jp_sales  other_sales  critic_score  user_score rating  \\\n",
       "10947      0.00      0.00         0.01           NaN         NaN      E   \n",
       "5300       0.18      0.02         0.09           NaN         3.2      E   \n",
       "\n",
       "       total_sales  \n",
       "10947         0.09  \n",
       "5300          0.34  "
      ]
     },
     "execution_count": 42,
     "metadata": {},
     "output_type": "execute_result"
    }
   ],
   "source": [
    "# поиск последнего года для платформы PSP, где продажи в других регионах не нулевые\n",
    "\n",
    "data[(data['platform'] == 'PSP') & (data['na_sales'] > 0)].sort_values(by = 'year_of_release', \n",
    "                                                                       ascending = False).head(2)"
   ]
  },
  {
   "cell_type": "markdown",
   "id": "5126b52e",
   "metadata": {},
   "source": [
    "### Boxplot "
   ]
  },
  {
   "cell_type": "code",
   "execution_count": 43,
   "id": "e17d3441",
   "metadata": {},
   "outputs": [
    {
     "data": {
      "image/png": "[encoded data removed]",
      "text/plain": [
       "<Figure size 1440x720 with 1 Axes>"
      ]
     },
     "metadata": {
      "needs_background": "light"
     },
     "output_type": "display_data"
    }
   ],
   "source": [
    "import seaborn as sns\n",
    "\n",
    "plt.figure(figsize=(20, 10))\n",
    "\n",
    "sns.boxplot(data=actual, x='platform', y='total_sales')\n",
    "\n",
    "plt.ylim(0, 1.8)\n",
    "\n",
    "plt.title('\"Ящики с усами\" по глобальным продажам игр')\n",
    "plt.xlabel('Продажи, млн. шт.')\n",
    "plt.ylabel('Платформы')\n",
    "\n",
    "plt.show()\n"
   ]
  },
  {
   "cell_type": "markdown",
   "id": "cb748dc3",
   "metadata": {},
   "source": [
    "The PS4 and XOne platforms have the highest sales spread. And the highest median value of sales is from the XOne platform. We can say that the most successful platform, according to the swing diagram, is the XOne platform."
   ]
  },
  {
   "cell_type": "code",
   "execution_count": 44,
   "id": "b47bd63b",
   "metadata": {},
   "outputs": [
    {
     "data": {
      "image/png": "[encoded data removed]",
      "text/plain": [
       "<Figure size 1440x720 with 1 Axes>"
      ]
     },
     "metadata": {
      "needs_background": "light"
     },
     "output_type": "display_data"
    }
   ],
   "source": [
    "plt.figure(figsize=(20, 10))\n",
    "\n",
    "sns.boxplot(data=actual, x='platform', y='total_sales')\n",
    "\n",
    "\n",
    "plt.title('\"Ящики с усами\" по глобальным продажам игр')\n",
    "plt.xlabel('Продажи, млн. шт.')\n",
    "plt.ylabel('Платформы')\n",
    "\n",
    "plt.show()"
   ]
  },
  {
   "cell_type": "markdown",
   "id": "58cfccf7",
   "metadata": {},
   "source": [
    "<a id = 'review'></a>\n",
    "### Impact of reviews from critics and users on sales"
   ]
  },
  {
   "cell_type": "markdown",
   "id": "a5baae8f",
   "metadata": {},
   "source": [
    "Let's choose the most successful identified XOne platform and consider the impact of user and critic feedback on global sales based on a scatter scatter plot."
   ]
  },
  {
   "cell_type": "code",
   "execution_count": 45,
   "id": "cf587d6b",
   "metadata": {},
   "outputs": [],
   "source": [
    "# функция принимающая платформу, тип оценки, \n",
    "# выводящая график scatter для визуализации корреляции платформы и типа оценки\n",
    "\n",
    "def corr_sal_score(df, platform, score):\n",
    "    \n",
    "    return (df\n",
    "               .query('platform == @platform')\n",
    "            \n",
    "               .plot(kind = 'scatter', y = 'total_sales',\n",
    "                     \n",
    "                     x = score, title = platform, alpha = 0.5, \n",
    "                     \n",
    "                     c = 'total_sales', cmap='tab10', label = score,\n",
    "                     \n",
    "                     xlabel = 'Отзывы', ylabel = 'Общие продажи [млн.]'\n",
    "                     \n",
    "                    )\n",
    "           )"
   ]
  },
  {
   "cell_type": "code",
   "execution_count": 46,
   "id": "30b8cbae",
   "metadata": {},
   "outputs": [
    {
     "data": {
      "text/plain": [
       "Text(0.5, 1.0, 'Влияние отзывов пользователей на глобальные продажи платформы XOne')"
      ]
     },
     "execution_count": 46,
     "metadata": {},
     "output_type": "execute_result"
    },
    {
     "data": {
      "image/png": "[encoded data removed]",
      "text/plain": [
       "<Figure size 432x288 with 2 Axes>"
      ]
     },
     "metadata": {
      "needs_background": "light"
     },
     "output_type": "display_data"
    },
    {
     "data": {
      "image/png": "[encoded data removed]",
      "text/plain": [
       "<Figure size 432x288 with 2 Axes>"
      ]
     },
     "metadata": {
      "needs_background": "light"
     },
     "output_type": "display_data"
    }
   ],
   "source": [
    "# график корреляции для платформы XOne и оценки экспертов\n",
    "\n",
    "corr_sal_score(actual, 'XOne', 'critic_score')\n",
    "plt.title('Влияние отзывов экспертов на глобальные продажи платформы XOne')\n",
    "plt.xlabel('оценка')\n",
    "\n",
    "# график корреляции для платформы XOne и оценки пользователей\n",
    "\n",
    "corr_sal_score(actual, 'XOne', 'user_score')\n",
    "plt.title('Влияние отзывов пользователей на глобальные продажи платформы XOne')"
   ]
  },
  {
   "cell_type": "code",
   "execution_count": 47,
   "id": "f03a603b",
   "metadata": {},
   "outputs": [
    {
     "name": "stdout",
     "output_type": "stream",
     "text": [
      "0.42867694370333226\n",
      "-0.0703839280647581\n",
      "0.4409773483764412\n"
     ]
    }
   ],
   "source": [
    "print(actual.query('platform == \"XOne\"')['total_sales'].corr(actual['critic_score']))\n",
    "\n",
    "print(actual.query('platform == \"XOne\"')['total_sales'].corr(actual['user_score']))\n",
    "\n",
    "print(actual.query('platform == \"XOne\"')['critic_score'].corr(actual['user_score']))"
   ]
  },
  {
   "cell_type": "markdown",
   "id": "06ac3c41",
   "metadata": {},
   "source": [
    "* As we can see, user reviews <b>have no correlation</b> with sales.\n",
    "\n",
    "* While critic reviews have a higher, but at the same time <b>medium-weak correlation</b> with overall sales. The ratings of users and experts also have a medium-weak correlation.\n",
    "\n",
    "* Conclusion - reviews from critics and users <b> have no direct impact </b> on sales.\n",
    "In order to apply this conclusion to other platforms, consider another example on PS4.\n",
    "\n"
   ]
  },
  {
   "cell_type": "code",
   "execution_count": 48,
   "id": "15be4ddd",
   "metadata": {},
   "outputs": [
    {
     "data": {
      "text/plain": [
       "Text(0.5, 1.0, 'Влияние отзывов пользователей на глобальные продажи платформы PS4')"
      ]
     },
     "execution_count": 48,
     "metadata": {},
     "output_type": "execute_result"
    },
    {
     "data": {
      "image/png": "[encoded data removed]",
      "text/plain": [
       "<Figure size 432x288 with 2 Axes>"
      ]
     },
     "metadata": {
      "needs_background": "light"
     },
     "output_type": "display_data"
    },
    {
     "data": {
      "image/png": "[encoded data removed]",
      "text/plain": [
       "<Figure size 432x288 with 2 Axes>"
      ]
     },
     "metadata": {
      "needs_background": "light"
     },
     "output_type": "display_data"
    }
   ],
   "source": [
    "corr_sal_score(actual, 'PS4', 'critic_score')\n",
    "plt.title('Влияние отзывов экспертов на глобальные продажи платформы PS4')\n",
    "\n",
    "\n",
    "corr_sal_score(actual, 'PS4', 'user_score')\n",
    "plt.title('Влияние отзывов пользователей на глобальные продажи платформы PS4')\n"
   ]
  },
  {
   "cell_type": "code",
   "execution_count": 49,
   "id": "72fd415b",
   "metadata": {},
   "outputs": [
    {
     "name": "stdout",
     "output_type": "stream",
     "text": [
      "0.40266141068104083\n",
      "-0.040131589472697356\n",
      "0.546434245119031\n"
     ]
    }
   ],
   "source": [
    "print(actual.query('platform == \"PS4\"')['total_sales'].corr(actual['critic_score']))\n",
    "\n",
    "print(actual.query('platform == \"PS4\"')['total_sales'].corr(actual['user_score']))\n",
    "\n",
    "print(actual.query('platform == \"PS4\"')['critic_score'].corr(actual['user_score']))"
   ]
  },
  {
   "cell_type": "markdown",
   "id": "e913373d",
   "metadata": {},
   "source": [
    "* The correlation of experts' assessments to sales is weakly expressed, it can be attributed to <b>weak - medium </b>.\n",
    "* Relationship between user ratings and global sales <b>none</b> - zero value.\n",
    "* The relationship between user ratings and expert ratings is <b>average</b>."
   ]
  },
  {
   "cell_type": "markdown",
   "id": "482c8399",
   "metadata": {},
   "source": [
    "<a id = 'genre'></a>\n",
    "### General distribution of games by genre"
   ]
  },
  {
   "cell_type": "markdown",
   "id": "10ca51df",
   "metadata": {},
   "source": [
    "Let's consider the general distribution of games by genres by global sales, in the time period of 2014-2016 and identify the most popular genres."
   ]
  },
  {
   "cell_type": "code",
   "execution_count": 50,
   "id": "3d1bdff9",
   "metadata": {},
   "outputs": [
    {
     "data": {
      "text/plain": [
       "Text(0.5, 1.0, 'Распределение жанров')"
      ]
     },
     "execution_count": 50,
     "metadata": {},
     "output_type": "execute_result"
    },
    {
     "data": {
      "image/png": "[encoded data removed]",
      "text/plain": [
       "<Figure size 432x288 with 1 Axes>"
      ]
     },
     "metadata": {
      "needs_background": "light"
     },
     "output_type": "display_data"
    }
   ],
   "source": [
    "(actual\n",
    " \n",
    "    .pivot_table(index = 'genre', values ='total_sales')\n",
    " \n",
    "    .sort_values(by = 'total_sales')\n",
    " \n",
    "    .plot(kind = 'bar', color='#EE6666', title = 'sales',\n",
    "          xlabel = 'Жанр', ylabel = 'Общие Продажи [млн.]', \n",
    "          )\n",
    ")\n",
    "plt.title('Распределение жанров')"
   ]
  },
  {
   "cell_type": "markdown",
   "id": "70ce987d",
   "metadata": {},
   "source": [
    "The most profitable genres are Shooter. Obviously, this is one of the most popular platforms with male users, who are the main client flow. Lowest sales for Adventure."
   ]
  },
  {
   "cell_type": "markdown",
   "id": "a04b1907",
   "metadata": {},
   "source": [
    "<a id = 'face'></a>\n",
    "## User portrait of each region"
   ]
  },
  {
   "cell_type": "markdown",
   "id": "c2f8f84f",
   "metadata": {},
   "source": [
    "At this stage, we will take a closer look at the preferred platforms and genres of users in each region, as well as the impact of rating on sales."
   ]
  },
  {
   "cell_type": "code",
   "execution_count": 51,
   "id": "4432813f",
   "metadata": {},
   "outputs": [],
   "source": [
    "def top5(kind, region):\n",
    "    return (actual\n",
    "           .pivot_table(index = kind, values = region, aggfunc = 'sum')\n",
    "            \n",
    "           .sort_values(by = region, ascending = False) \n",
    "            \n",
    "           .head(5) \n",
    "           )"
   ]
  },
  {
   "cell_type": "code",
   "execution_count": 55,
   "id": "e6ba35f6",
   "metadata": {},
   "outputs": [],
   "source": [
    "def plot_top5(df, region):\n",
    "    return (df\n",
    "           .plot(kind = 'pie', y = region, autopct='%1.1f%%', colors=[color[v] for v in color.keys()])\n",
    "                 \n",
    "           .set(title = 'Продажи платформ', ylabel = region) \n",
    "                \n",
    "           )"
   ]
  },
  {
   "cell_type": "code",
   "execution_count": 52,
   "id": "2bb7238a",
   "metadata": {},
   "outputs": [],
   "source": [
    "color = {'PS4' : '#DC143C', \n",
    "          'Xone' : '#C0C0C0', \n",
    "          'X360' : '#8FBC8F', \n",
    "          '3DS' : '#FFF0F5', \n",
    "          'PS3' : '#ADD8E6',\n",
    "          'PC' : '#FFFACD',\n",
    "          'PSV' : '#778899',\n",
    "          'WiiU': '#C71585'\n",
    "         }"
   ]
  },
  {
   "cell_type": "code",
   "execution_count": 53,
   "id": "aa482b4c",
   "metadata": {},
   "outputs": [
    {
     "data": {
      "text/plain": [
       "dict_keys(['PS4', 'Xone', 'X360', '3DS', 'PS3', 'PC', 'PSV', 'WiiU'])"
      ]
     },
     "execution_count": 53,
     "metadata": {},
     "output_type": "execute_result"
    }
   ],
   "source": [
    "color.keys()"
   ]
  },
  {
   "cell_type": "code",
   "execution_count": 54,
   "id": "de37bd4a",
   "metadata": {},
   "outputs": [
    {
     "data": {
      "text/plain": [
       "Index(['PS4', 'PSV', 'XOne', 'PS3', '3DS', 'PC', 'X360', 'WiiU', 'PSP', 'Wii'], dtype='object')"
      ]
     },
     "execution_count": 54,
     "metadata": {},
     "output_type": "execute_result"
    }
   ],
   "source": [
    "actual['platform'].value_counts().keys()"
   ]
  },
  {
   "cell_type": "code",
   "execution_count": 81,
   "id": "99c833fb",
   "metadata": {},
   "outputs": [],
   "source": [
    "# изменим курсив для label-ов\n",
    "font = {\n",
    "    'family' : 'sans-serif',\n",
    "    'weight' : 'bold',\n",
    "    'size': 16\n",
    "}"
   ]
  },
  {
   "cell_type": "markdown",
   "id": "1d1ce4d7",
   "metadata": {},
   "source": [
    "### Popular platforms"
   ]
  },
  {
   "cell_type": "markdown",
   "id": "8152e84b",
   "metadata": {},
   "source": [
    "For regions: America, Europe and other continents, one of the popular platforms is PS4 and XOne. While in Japan the 3DS leads the way and then the PS4."
   ]
  },
  {
   "cell_type": "code",
   "execution_count": 84,
   "id": "3461ae7a",
   "metadata": {},
   "outputs": [
    {
     "data": {
      "image/png": "[encoded data removed]",
      "text/plain": [
       "<Figure size 432x288 with 1 Axes>"
      ]
     },
     "metadata": {},
     "output_type": "display_data"
    },
    {
     "data": {
      "image/png": "[encoded data removed]",
      "text/plain": [
       "<Figure size 432x288 with 1 Axes>"
      ]
     },
     "metadata": {},
     "output_type": "display_data"
    },
    {
     "data": {
      "image/png": "[encoded data removed]",
      "text/plain": [
       "<Figure size 432x288 with 1 Axes>"
      ]
     },
     "metadata": {},
     "output_type": "display_data"
    },
    {
     "data": {
      "image/png": "[encoded data removed]",
      "text/plain": [
       "<Figure size 432x288 with 1 Axes>"
      ]
     },
     "metadata": {},
     "output_type": "display_data"
    }
   ],
   "source": [
    "# Построение распределения продаж по платформам в зависимости от региона\n",
    "\n",
    "for j in ['na_sales', 'eu_sales', 'jp_sales', 'other_sales']:\n",
    "    plot_top5(top5('platform', j), j)\n",
    "    plt.legend(bbox_to_anchor=(2, 0.6))\n",
    "    plt.title('Продажи по платформам')\n",
    "    plt.ylabel(ylabel = j, loc = 'top', rotation=0, fontdict = font)"
   ]
  },
  {
   "cell_type": "markdown",
   "id": "e0f07976",
   "metadata": {},
   "source": [
    "### Popular genres\n"
   ]
  },
  {
   "cell_type": "markdown",
   "id": "31943f8a",
   "metadata": {},
   "source": [
    "The same trend is seen in the genre characteristics: America, Europe and other regions use Action, Shooter, Sports genres. While Japanese users prefer Role - Playing."
   ]
  },
  {
   "cell_type": "code",
   "execution_count": 83,
   "id": "e4d308ef",
   "metadata": {},
   "outputs": [
    {
     "data": {
      "image/png": "[encoded data removed]",
      "text/plain": [
       "<Figure size 432x288 with 1 Axes>"
      ]
     },
     "metadata": {},
     "output_type": "display_data"
    },
    {
     "data": {
      "image/png": "[encoded data removed]",
      "text/plain": [
       "<Figure size 432x288 with 1 Axes>"
      ]
     },
     "metadata": {},
     "output_type": "display_data"
    },
    {
     "data": {
      "image/png": "[encoded data removed]",
      "text/plain": [
       "<Figure size 432x288 with 1 Axes>"
      ]
     },
     "metadata": {},
     "output_type": "display_data"
    },
    {
     "data": {
      "image/png": "[encoded data removed]",
      "text/plain": [
       "<Figure size 432x288 with 1 Axes>"
      ]
     },
     "metadata": {},
     "output_type": "display_data"
    }
   ],
   "source": [
    "# Построение распределения продаж по жанрам в зависимости от региона\n",
    "\n",
    "for j in ['na_sales', 'eu_sales', 'jp_sales', 'other_sales']:\n",
    "    plot_top5(top5('genre', j), j)\n",
    "    plt.legend(bbox_to_anchor=(2, 0.6))\n",
    "    plt.title('Продажи по жанрам')\n",
    "    plt.ylabel(ylabel = j, loc = 'top', rotation=0, fontdict = font)"
   ]
  },
  {
   "cell_type": "markdown",
   "id": "fc3af149",
   "metadata": {},
   "source": [
    "### Popular ratings"
   ]
  },
  {
   "cell_type": "markdown",
   "id": "888c28a6",
   "metadata": {},
   "source": [
    "The missing values in the ratings for the Americas, Europe and other regions are ~ 22% and the main game rating is M (17+).\n",
    "\n",
    "For the Japanese data, missing values are the worst at 61%, so the main rating is T (13+). While the rating for the category \"mature\" - M, is only ~ 9%."
   ]
  },
  {
   "cell_type": "code",
   "execution_count": 85,
   "id": "a7633f26",
   "metadata": {},
   "outputs": [
    {
     "data": {
      "image/png": "[encoded data removed]",
      "text/plain": [
       "<Figure size 432x288 with 1 Axes>"
      ]
     },
     "metadata": {},
     "output_type": "display_data"
    },
    {
     "data": {
      "image/png": "[encoded data removed]",
      "text/plain": [
       "<Figure size 432x288 with 1 Axes>"
      ]
     },
     "metadata": {},
     "output_type": "display_data"
    },
    {
     "data": {
      "image/png": "[encoded data removed]",
      "text/plain": [
       "<Figure size 432x288 with 1 Axes>"
      ]
     },
     "metadata": {},
     "output_type": "display_data"
    },
    {
     "data": {
      "image/png": "[encoded data removed]",
      "text/plain": [
       "<Figure size 432x288 with 1 Axes>"
      ]
     },
     "metadata": {},
     "output_type": "display_data"
    }
   ],
   "source": [
    "# Построение распределения продаж по рейтингам в зависимости от региона\n",
    "\n",
    "for j in ['na_sales', 'eu_sales', 'jp_sales', 'other_sales']:\n",
    "    plot_top5(top5('rating', j), j)\n",
    "    plt.legend(bbox_to_anchor=(2, 0.6))\n",
    "    plt.title('Продажи по рейтингам')\n",
    "    plt.ylabel(ylabel = j, loc = 'top', rotation=0, fontdict = font)"
   ]
  },
  {
   "cell_type": "markdown",
   "id": "df5c416f",
   "metadata": {},
   "source": [
    "<a id = 'hyp'></a>\n",
    "## Hypothesis testing"
   ]
  },
  {
   "cell_type": "markdown",
   "id": "4fe37600",
   "metadata": {},
   "source": [
    "### Hypothesis 1:\n",
    "\n",
    "$ H_0 :$ The average user ratings for the Xbox One and PC platforms are <u>same</u>.\n",
    "\n",
    "\n",
    "$ H_1 :$ Average user ratings for Xbox One and PC platforms are <u>NOT the same</u>."
   ]
  },
  {
   "cell_type": "markdown",
   "id": "15f90257",
   "metadata": {},
   "source": [
    "Let's test the variance across the two platforms to determine the equal_var parameter in ttest_ind, which compares two means of the independent variables."
   ]
  },
  {
   "cell_type": "code",
   "execution_count": 93,
   "id": "a74ea176",
   "metadata": {},
   "outputs": [
    {
     "name": "stdout",
     "output_type": "stream",
     "text": [
      "Дисперсии платформ имеют разные значения 1.9 - XOne и 2.9 - PC\n",
      "Применим параметр equal_var = False\n"
     ]
    }
   ],
   "source": [
    "# Дисперсия значений отзывов пользователей платформы XOne\n",
    "\n",
    "var_Xp = np.var(actual.query('platform == \"XOne\"')['user_score'])\n",
    "\n",
    "# Дисперсия значений отзывов пользователей платформы PC\n",
    "\n",
    "var_Pp = np.var(actual.query('platform == \"PC\"')['user_score'])\n",
    "\n",
    "# Проверка для использования параметра equal_var = True или False\n",
    "\n",
    "if var_Xp != var_Pp:\n",
    "    print(('Дисперсии платформ имеют разные значения {} - XOne и {} - PC')\\\n",
    "          .format(round(var_Xp, 1), round(var_Pp, 1) ))\n",
    "    print('Применим параметр equal_var = False')\n",
    "else:\n",
    "    print('Дисперсии имеют одинаковые значения')"
   ]
  },
  {
   "cell_type": "code",
   "execution_count": 62,
   "id": "a62aacc4",
   "metadata": {},
   "outputs": [
    {
     "name": "stdout",
     "output_type": "stream",
     "text": [
      "p - value: 0.11601398086668943\n",
      "Не получилось отвергнуть нулевую гипотезу\n"
     ]
    }
   ],
   "source": [
    "# Средние пользовательские рейтинги платформ Xbox One и PC одинаковые;\n",
    "\n",
    "# Cтатистическая значимость - 5%\n",
    "alpha = 0.05\n",
    "\n",
    "# Статистический анализ двухстороннего t-testa с опущением нулевых значений\n",
    "results = st.ttest_ind(actual.query('platform == \"XOne\"')['user_score'], \n",
    "                       actual.query('platform == \"PC\"')['user_score'], \n",
    "                       equal_var = False, nan_policy = 'omit')\n",
    "\n",
    "print('p - value:', results.pvalue)\n",
    "\n",
    "if results.pvalue < alpha:\n",
    "    print('Rejecting the null hypothesis')\n",
    "else:\n",
    "    print('Failed to reject the null hypothesis')"
   ]
  },
  {
   "cell_type": "markdown",
   "id": "ed1b286d",
   "metadata": {},
   "source": [
    "The average user ratings for the Xbox One and PC platform are NOT the same."
   ]
  },
  {
   "cell_type": "code",
   "execution_count": 99,
   "id": "cf72a3b8",
   "metadata": {},
   "outputs": [
    {
     "name": "stdout",
     "output_type": "stream",
     "text": [
      "6.6\n",
      "6.3\n"
     ]
    }
   ],
   "source": [
    "print(round(np.mean(actual.query('platform == \"XOne\"')['user_score']), 1))\n",
    "\n",
    "print(round(np.mean(actual.query('platform == \"PC\"')['user_score']), 2))"
   ]
  },
  {
   "cell_type": "markdown",
   "id": "19df89da",
   "metadata": {},
   "source": [
    "The average rating of the XOne platform - 6.6 is different from the average rating of the PC platform - 6.3."
   ]
  },
  {
   "cell_type": "markdown",
   "id": "b2efc04b",
   "metadata": {},
   "source": [
    "### Hypothesis 2:\n",
    "\n",
    "$ H_0 :$ The average user ratings for Action and Sports are <u>different</u>.\n",
    "\n",
    "\n",
    "$ H_1 :$ Average user ratings for Action and Sports <u>are NOT different</u>."
   ]
  },
  {
   "cell_type": "code",
   "execution_count": 100,
   "id": "7ab57fa1",
   "metadata": {},
   "outputs": [
    {
     "name": "stdout",
     "output_type": "stream",
     "text": [
      "Дисперсии платформ имеют разные значения 1.9 - XOne и 3.4 - PC\n",
      "Применим параметр equal_var = False\n"
     ]
    }
   ],
   "source": [
    "# Дисперсия значений отзывов пользователей жанра Экшн\n",
    "\n",
    "var_Xg = np.var(actual.query('genre == \"Action\"')['user_score'])\n",
    "\n",
    "# Дисперсия значений отзывов пользователей жанра Спорт\n",
    "\n",
    "var_Pg = np.var(actual.query('genre == \"Sports\"')['user_score'])\n",
    "\n",
    "# Сверка дисперсий\n",
    "if var_Xg != var_Pg:\n",
    "    print(('Дисперсии платформ имеют разные значения {} - XOne и {} - PC')\\\n",
    "          .format(round(var_Xg, 1), round(var_Pg, 1) ))\n",
    "    print('Применим параметр equal_var = False')\n",
    "else:\n",
    "    print('Дисперсии имеют одинаковые значения')"
   ]
  },
  {
   "cell_type": "code",
   "execution_count": 66,
   "id": "677d63fa",
   "metadata": {},
   "outputs": [
    {
     "name": "stdout",
     "output_type": "stream",
     "text": [
      "p - value: 1.182555038264477e-14\n",
      "Отвергаем нулевую гипотезу\n"
     ]
    }
   ],
   "source": [
    "# Средние пользовательские рейтинги жанров Action и Sports\n",
    "\n",
    "# Cтатистическая значимость - 5%\n",
    "\n",
    "alpha = 0.05\n",
    "\n",
    "# Статистический анализ двухстороннего t-testa с опущением нулевых значений\n",
    "\n",
    "results = st.ttest_ind(actual.query('genre == \"Action\"')['user_score'], \n",
    "                       actual.query('genre == \"Sports\"')['user_score'], \n",
    "                       equal_var = False, nan_policy = 'omit')\n",
    "\n",
    "print('p - value:', results.pvalue)\n",
    "\n",
    "if results.pvalue < alpha:\n",
    "    print('Rejecting the null hypothesis')\n",
    "else:\n",
    "    print('Failed to reject the null hypothesis')"
   ]
  },
  {
   "cell_type": "markdown",
   "id": "3a616b50",
   "metadata": {},
   "source": [
    "Average user ratings for the Action and Sports genres vary."
   ]
  },
  {
   "cell_type": "code",
   "execution_count": 103,
   "id": "26518383",
   "metadata": {},
   "outputs": [
    {
     "name": "stdout",
     "output_type": "stream",
     "text": [
      "6.76\n",
      "5.23\n"
     ]
    }
   ],
   "source": [
    "print(round(np.mean(actual.query('genre == \"Action\"')['user_score']), 2))\n",
    "print(round(np.mean(actual.query('genre == \"Sports\"')['user_score']), 2))"
   ]
  },
  {
   "cell_type": "markdown",
   "id": "07c0c624",
   "metadata": {},
   "source": [
    "# Conclusion"
   ]
  },
  {
   "cell_type": "markdown",
   "id": "4b263de8",
   "metadata": {},
   "source": [
    "We have conducted a study evaluating the dependence of the characteristics of computer games on global sales.\n",
    "\n",
    "We set several tasks and hypotheses:\n",
    "\n",
    "1. Task 1 - calculate the actual period for the forecast for 2017.\n",
    "2. Task 2 - to calculate the leading platforms, including by region.\n",
    "3. Hypothesis 1 - the impact of reviews on sales.\n",
    "4. Hypothesis 2 - the average user ratings of the Xbox One and PC platforms are the same.\n",
    "5. Hypothesis 3 - the average user ratings of the Action and Sports genres are different.\n",
    "\n",
    "\n",
    "<b>Task 1 - <u>Completed.</u></b>\n",
    "The current period for the forecast for 2017 was chosen between 2014 and 2016.\n",
    "(Further, the actual period will mean 2014-2016.)\n",
    "\n",
    "<b>Task 2 - <u>Partly completed.</u></b>\n",
    "Notable:\n",
    "- Leading platform for all provided sales time - PS2,\n",
    "- Leading platform for the current sales time - PS4,\n",
    "- The leading genre in the current period (2014-2016) - Shooter,\n",
    "- PSP and 3DS show a positive trend in sales for the current time period,\n",
    "- the highest median value has the XOne platform, for the current time period,\n",
    "- the highest sales have games with a platform in Japan - 3DS, and in other regions - PS4 and XOne,\n",
    "- games with genres in Japan have the highest sales - games with roles, in all others - Action and Shooter.\n",
    "- games with ratings in Japan have the highest sales - T, 13+ (most of the data for the rating in this region is lost), in other regions - lost data is 22%, but the main part of the rating is M, 17+.\n",
    "\n",
    "\n",
    "<b>Hypothesis 1 - <u>Not confirmed.</u></b>\n",
    "* User reviews <b>have no</b> correlation with global sales.\n",
    "* Critical reviews have a <b>medium-weak</b> relationship with global sales.\n",
    "* Critics' reviews and reviews also have a <b>medium-weak</b> relationship with each other.\n",
    "\n",
    "<b>Hypothesis 2 - <u>Partly confirmed.</u></b>\n",
    "Average user ratings across platforms are similar:\n",
    "    Xbox One - 6.6,\n",
    "    PC-6.3\n",
    "\n",
    "<b>Hypothesis 3 - <u>Verified.</u></b>\n",
    "Average user ratings across genres are not the same:\n",
    "    Action - 6.8,\n",
    "    Sports-5.2\n",
    "\n",
    "<b>Output:</b>\n",
    "The company should <b>pay attention</b> for forecasting for 2017 on:\n",
    "1. PS4 and XOne platforms,\n",
    "2. Genres Shooter and Action,\n",
    "3. Age category 17+.\n",
    "Since these parameters have positive trends in sales and are the main interests of customers."
   ]
  }
 ],
 "metadata": {
  "ExecuteTimeLog": [
   {
    "duration": 1262,
    "start_time": "2022-09-18T07:16:59.996Z"
   },
   {
    "duration": 176,
    "start_time": "2022-09-18T07:17:01.260Z"
   },
   {
    "duration": 0,
    "start_time": "2022-09-18T07:17:01.439Z"
   },
   {
    "duration": 0,
    "start_time": "2022-09-18T07:17:01.440Z"
   },
   {
    "duration": 0,
    "start_time": "2022-09-18T07:17:01.441Z"
   },
   {
    "duration": 0,
    "start_time": "2022-09-18T07:17:01.441Z"
   },
   {
    "duration": 0,
    "start_time": "2022-09-18T07:17:01.442Z"
   },
   {
    "duration": 0,
    "start_time": "2022-09-18T07:17:01.443Z"
   },
   {
    "duration": 0,
    "start_time": "2022-09-18T07:17:01.444Z"
   },
   {
    "duration": 0,
    "start_time": "2022-09-18T07:17:01.445Z"
   },
   {
    "duration": 0,
    "start_time": "2022-09-18T07:17:01.447Z"
   },
   {
    "duration": 0,
    "start_time": "2022-09-18T07:17:01.448Z"
   },
   {
    "duration": 0,
    "start_time": "2022-09-18T07:17:01.449Z"
   },
   {
    "duration": 0,
    "start_time": "2022-09-18T07:17:01.450Z"
   },
   {
    "duration": 0,
    "start_time": "2022-09-18T07:17:01.451Z"
   },
   {
    "duration": 0,
    "start_time": "2022-09-18T07:17:01.451Z"
   },
   {
    "duration": 0,
    "start_time": "2022-09-18T07:17:01.452Z"
   },
   {
    "duration": 0,
    "start_time": "2022-09-18T07:17:01.453Z"
   },
   {
    "duration": 0,
    "start_time": "2022-09-18T07:17:01.454Z"
   },
   {
    "duration": 0,
    "start_time": "2022-09-18T07:17:01.455Z"
   },
   {
    "duration": 0,
    "start_time": "2022-09-18T07:17:01.456Z"
   },
   {
    "duration": 0,
    "start_time": "2022-09-18T07:17:01.457Z"
   },
   {
    "duration": 0,
    "start_time": "2022-09-18T07:17:01.458Z"
   },
   {
    "duration": 0,
    "start_time": "2022-09-18T07:17:01.459Z"
   },
   {
    "duration": 0,
    "start_time": "2022-09-18T07:17:01.460Z"
   },
   {
    "duration": 0,
    "start_time": "2022-09-18T07:17:01.461Z"
   },
   {
    "duration": 0,
    "start_time": "2022-09-18T07:17:01.462Z"
   },
   {
    "duration": 0,
    "start_time": "2022-09-18T07:17:01.463Z"
   },
   {
    "duration": 0,
    "start_time": "2022-09-18T07:17:01.464Z"
   },
   {
    "duration": 0,
    "start_time": "2022-09-18T07:17:01.465Z"
   },
   {
    "duration": 0,
    "start_time": "2022-09-18T07:17:01.466Z"
   },
   {
    "duration": 0,
    "start_time": "2022-09-18T07:17:01.467Z"
   },
   {
    "duration": 0,
    "start_time": "2022-09-18T07:17:01.468Z"
   },
   {
    "duration": 0,
    "start_time": "2022-09-18T07:17:01.469Z"
   },
   {
    "duration": 0,
    "start_time": "2022-09-18T07:17:01.470Z"
   },
   {
    "duration": 0,
    "start_time": "2022-09-18T07:17:01.471Z"
   },
   {
    "duration": 0,
    "start_time": "2022-09-18T07:17:01.472Z"
   },
   {
    "duration": 0,
    "start_time": "2022-09-18T07:17:01.473Z"
   },
   {
    "duration": 0,
    "start_time": "2022-09-18T07:17:01.474Z"
   },
   {
    "duration": 0,
    "start_time": "2022-09-18T07:17:01.521Z"
   },
   {
    "duration": 0,
    "start_time": "2022-09-18T07:17:01.525Z"
   },
   {
    "duration": 0,
    "start_time": "2022-09-18T07:17:01.525Z"
   },
   {
    "duration": 0,
    "start_time": "2022-09-18T07:17:01.526Z"
   },
   {
    "duration": 0,
    "start_time": "2022-09-18T07:17:01.527Z"
   },
   {
    "duration": 0,
    "start_time": "2022-09-18T07:17:01.527Z"
   },
   {
    "duration": 0,
    "start_time": "2022-09-18T07:17:01.528Z"
   },
   {
    "duration": 0,
    "start_time": "2022-09-18T07:17:01.528Z"
   },
   {
    "duration": 0,
    "start_time": "2022-09-18T07:17:01.529Z"
   },
   {
    "duration": 0,
    "start_time": "2022-09-18T07:17:01.530Z"
   },
   {
    "duration": 0,
    "start_time": "2022-09-18T07:17:01.530Z"
   },
   {
    "duration": 0,
    "start_time": "2022-09-18T07:17:01.531Z"
   },
   {
    "duration": 0,
    "start_time": "2022-09-18T07:17:01.532Z"
   },
   {
    "duration": 221,
    "start_time": "2022-09-18T07:18:36.577Z"
   },
   {
    "duration": 1147,
    "start_time": "2022-09-18T07:18:42.979Z"
   },
   {
    "duration": 49,
    "start_time": "2022-09-18T07:18:44.136Z"
   },
   {
    "duration": 14,
    "start_time": "2022-09-18T07:18:44.187Z"
   },
   {
    "duration": 27,
    "start_time": "2022-09-18T07:18:44.202Z"
   },
   {
    "duration": 23,
    "start_time": "2022-09-18T07:18:44.231Z"
   },
   {
    "duration": 10,
    "start_time": "2022-09-18T07:18:44.256Z"
   },
   {
    "duration": 4,
    "start_time": "2022-09-18T07:18:44.267Z"
   },
   {
    "duration": 193,
    "start_time": "2022-09-18T07:18:44.272Z"
   },
   {
    "duration": 121,
    "start_time": "2022-09-18T07:18:44.467Z"
   },
   {
    "duration": 0,
    "start_time": "2022-09-18T07:18:44.591Z"
   },
   {
    "duration": 0,
    "start_time": "2022-09-18T07:18:44.592Z"
   },
   {
    "duration": 0,
    "start_time": "2022-09-18T07:18:44.593Z"
   },
   {
    "duration": 0,
    "start_time": "2022-09-18T07:18:44.594Z"
   },
   {
    "duration": 0,
    "start_time": "2022-09-18T07:18:44.595Z"
   },
   {
    "duration": 0,
    "start_time": "2022-09-18T07:18:44.596Z"
   },
   {
    "duration": 0,
    "start_time": "2022-09-18T07:18:44.597Z"
   },
   {
    "duration": 0,
    "start_time": "2022-09-18T07:18:44.598Z"
   },
   {
    "duration": 0,
    "start_time": "2022-09-18T07:18:44.598Z"
   },
   {
    "duration": 0,
    "start_time": "2022-09-18T07:18:44.599Z"
   },
   {
    "duration": 0,
    "start_time": "2022-09-18T07:18:44.600Z"
   },
   {
    "duration": 0,
    "start_time": "2022-09-18T07:18:44.601Z"
   },
   {
    "duration": 0,
    "start_time": "2022-09-18T07:18:44.602Z"
   },
   {
    "duration": 0,
    "start_time": "2022-09-18T07:18:44.625Z"
   },
   {
    "duration": 0,
    "start_time": "2022-09-18T07:18:44.629Z"
   },
   {
    "duration": 0,
    "start_time": "2022-09-18T07:18:44.630Z"
   },
   {
    "duration": 0,
    "start_time": "2022-09-18T07:18:44.631Z"
   },
   {
    "duration": 0,
    "start_time": "2022-09-18T07:18:44.631Z"
   },
   {
    "duration": 0,
    "start_time": "2022-09-18T07:18:44.632Z"
   },
   {
    "duration": 0,
    "start_time": "2022-09-18T07:18:44.632Z"
   },
   {
    "duration": 0,
    "start_time": "2022-09-18T07:18:44.635Z"
   },
   {
    "duration": 0,
    "start_time": "2022-09-18T07:18:44.636Z"
   },
   {
    "duration": 0,
    "start_time": "2022-09-18T07:18:44.636Z"
   },
   {
    "duration": 0,
    "start_time": "2022-09-18T07:18:44.637Z"
   },
   {
    "duration": 0,
    "start_time": "2022-09-18T07:18:44.638Z"
   },
   {
    "duration": 0,
    "start_time": "2022-09-18T07:18:44.638Z"
   },
   {
    "duration": 0,
    "start_time": "2022-09-18T07:18:44.639Z"
   },
   {
    "duration": 0,
    "start_time": "2022-09-18T07:18:44.639Z"
   },
   {
    "duration": 0,
    "start_time": "2022-09-18T07:18:44.640Z"
   },
   {
    "duration": 0,
    "start_time": "2022-09-18T07:18:44.640Z"
   },
   {
    "duration": 0,
    "start_time": "2022-09-18T07:18:44.641Z"
   },
   {
    "duration": 0,
    "start_time": "2022-09-18T07:18:44.641Z"
   },
   {
    "duration": 0,
    "start_time": "2022-09-18T07:18:44.642Z"
   },
   {
    "duration": 0,
    "start_time": "2022-09-18T07:18:44.643Z"
   },
   {
    "duration": 0,
    "start_time": "2022-09-18T07:18:44.643Z"
   },
   {
    "duration": 0,
    "start_time": "2022-09-18T07:18:44.644Z"
   },
   {
    "duration": 0,
    "start_time": "2022-09-18T07:18:44.645Z"
   },
   {
    "duration": 0,
    "start_time": "2022-09-18T07:18:44.645Z"
   },
   {
    "duration": 0,
    "start_time": "2022-09-18T07:18:44.646Z"
   },
   {
    "duration": 0,
    "start_time": "2022-09-18T07:18:44.646Z"
   },
   {
    "duration": 0,
    "start_time": "2022-09-18T07:18:44.650Z"
   },
   {
    "duration": 0,
    "start_time": "2022-09-18T07:18:44.651Z"
   },
   {
    "duration": 0,
    "start_time": "2022-09-18T07:18:44.652Z"
   },
   {
    "duration": 3,
    "start_time": "2022-09-18T07:20:58.099Z"
   },
   {
    "duration": 62,
    "start_time": "2022-09-18T07:20:58.103Z"
   },
   {
    "duration": 12,
    "start_time": "2022-09-18T07:20:58.166Z"
   },
   {
    "duration": 14,
    "start_time": "2022-09-18T07:20:58.180Z"
   },
   {
    "duration": 3,
    "start_time": "2022-09-18T07:20:58.195Z"
   },
   {
    "duration": 12,
    "start_time": "2022-09-18T07:20:58.199Z"
   },
   {
    "duration": 10,
    "start_time": "2022-09-18T07:20:58.221Z"
   },
   {
    "duration": 202,
    "start_time": "2022-09-18T07:20:58.233Z"
   },
   {
    "duration": 14,
    "start_time": "2022-09-18T07:21:03.519Z"
   },
   {
    "duration": 22,
    "start_time": "2022-09-18T07:21:11.112Z"
   },
   {
    "duration": 7,
    "start_time": "2022-09-18T07:21:23.958Z"
   },
   {
    "duration": 4,
    "start_time": "2022-09-18T07:21:43.153Z"
   },
   {
    "duration": 1179,
    "start_time": "2022-09-18T07:23:56.760Z"
   },
   {
    "duration": 51,
    "start_time": "2022-09-18T07:23:57.944Z"
   },
   {
    "duration": 13,
    "start_time": "2022-09-18T07:23:57.996Z"
   },
   {
    "duration": 27,
    "start_time": "2022-09-18T07:23:58.011Z"
   },
   {
    "duration": 19,
    "start_time": "2022-09-18T07:23:58.045Z"
   },
   {
    "duration": 10,
    "start_time": "2022-09-18T07:23:58.065Z"
   },
   {
    "duration": 7,
    "start_time": "2022-09-18T07:23:58.077Z"
   },
   {
    "duration": 182,
    "start_time": "2022-09-18T07:23:58.086Z"
   },
   {
    "duration": 120,
    "start_time": "2022-09-18T07:23:58.269Z"
   },
   {
    "duration": 0,
    "start_time": "2022-09-18T07:23:58.392Z"
   },
   {
    "duration": 0,
    "start_time": "2022-09-18T07:23:58.394Z"
   },
   {
    "duration": 0,
    "start_time": "2022-09-18T07:23:58.395Z"
   },
   {
    "duration": 0,
    "start_time": "2022-09-18T07:23:58.396Z"
   },
   {
    "duration": 0,
    "start_time": "2022-09-18T07:23:58.397Z"
   },
   {
    "duration": 0,
    "start_time": "2022-09-18T07:23:58.398Z"
   },
   {
    "duration": 0,
    "start_time": "2022-09-18T07:23:58.399Z"
   },
   {
    "duration": 0,
    "start_time": "2022-09-18T07:23:58.400Z"
   },
   {
    "duration": 0,
    "start_time": "2022-09-18T07:23:58.401Z"
   },
   {
    "duration": 0,
    "start_time": "2022-09-18T07:23:58.401Z"
   },
   {
    "duration": 0,
    "start_time": "2022-09-18T07:23:58.402Z"
   },
   {
    "duration": 0,
    "start_time": "2022-09-18T07:23:58.422Z"
   },
   {
    "duration": 0,
    "start_time": "2022-09-18T07:23:58.423Z"
   },
   {
    "duration": 0,
    "start_time": "2022-09-18T07:23:58.424Z"
   },
   {
    "duration": 0,
    "start_time": "2022-09-18T07:23:58.424Z"
   },
   {
    "duration": 0,
    "start_time": "2022-09-18T07:23:58.425Z"
   },
   {
    "duration": 0,
    "start_time": "2022-09-18T07:23:58.426Z"
   },
   {
    "duration": 0,
    "start_time": "2022-09-18T07:23:58.426Z"
   },
   {
    "duration": 0,
    "start_time": "2022-09-18T07:23:58.427Z"
   },
   {
    "duration": 0,
    "start_time": "2022-09-18T07:23:58.428Z"
   },
   {
    "duration": 0,
    "start_time": "2022-09-18T07:23:58.428Z"
   },
   {
    "duration": 0,
    "start_time": "2022-09-18T07:23:58.429Z"
   },
   {
    "duration": 0,
    "start_time": "2022-09-18T07:23:58.430Z"
   },
   {
    "duration": 0,
    "start_time": "2022-09-18T07:23:58.431Z"
   },
   {
    "duration": 0,
    "start_time": "2022-09-18T07:23:58.431Z"
   },
   {
    "duration": 0,
    "start_time": "2022-09-18T07:23:58.432Z"
   },
   {
    "duration": 0,
    "start_time": "2022-09-18T07:23:58.433Z"
   },
   {
    "duration": 0,
    "start_time": "2022-09-18T07:23:58.433Z"
   },
   {
    "duration": 0,
    "start_time": "2022-09-18T07:23:58.434Z"
   },
   {
    "duration": 0,
    "start_time": "2022-09-18T07:23:58.436Z"
   },
   {
    "duration": 0,
    "start_time": "2022-09-18T07:23:58.437Z"
   },
   {
    "duration": 0,
    "start_time": "2022-09-18T07:23:58.438Z"
   },
   {
    "duration": 0,
    "start_time": "2022-09-18T07:23:58.439Z"
   },
   {
    "duration": 0,
    "start_time": "2022-09-18T07:23:58.440Z"
   },
   {
    "duration": 0,
    "start_time": "2022-09-18T07:23:58.441Z"
   },
   {
    "duration": 0,
    "start_time": "2022-09-18T07:23:58.442Z"
   },
   {
    "duration": 0,
    "start_time": "2022-09-18T07:23:58.443Z"
   },
   {
    "duration": 0,
    "start_time": "2022-09-18T07:23:58.444Z"
   },
   {
    "duration": 0,
    "start_time": "2022-09-18T07:23:58.444Z"
   },
   {
    "duration": 0,
    "start_time": "2022-09-18T07:23:58.445Z"
   },
   {
    "duration": 0,
    "start_time": "2022-09-18T07:23:58.446Z"
   },
   {
    "duration": 0,
    "start_time": "2022-09-18T07:23:58.446Z"
   },
   {
    "duration": 0,
    "start_time": "2022-09-18T07:23:58.447Z"
   },
   {
    "duration": 1144,
    "start_time": "2022-09-18T07:24:26.117Z"
   },
   {
    "duration": 47,
    "start_time": "2022-09-18T07:24:27.263Z"
   },
   {
    "duration": 13,
    "start_time": "2022-09-18T07:24:27.312Z"
   },
   {
    "duration": 47,
    "start_time": "2022-09-18T07:24:27.327Z"
   },
   {
    "duration": 3,
    "start_time": "2022-09-18T07:24:27.377Z"
   },
   {
    "duration": 17,
    "start_time": "2022-09-18T07:24:27.382Z"
   },
   {
    "duration": 5,
    "start_time": "2022-09-18T07:24:27.401Z"
   },
   {
    "duration": 178,
    "start_time": "2022-09-18T07:24:27.407Z"
   },
   {
    "duration": 8,
    "start_time": "2022-09-18T07:24:27.586Z"
   },
   {
    "duration": 11,
    "start_time": "2022-09-18T07:24:27.597Z"
   },
   {
    "duration": 44,
    "start_time": "2022-09-18T07:24:27.610Z"
   },
   {
    "duration": 12,
    "start_time": "2022-09-18T07:24:27.657Z"
   },
   {
    "duration": 5,
    "start_time": "2022-09-18T07:24:27.671Z"
   },
   {
    "duration": 8,
    "start_time": "2022-09-18T07:24:27.678Z"
   },
   {
    "duration": 6,
    "start_time": "2022-09-18T07:24:27.688Z"
   },
   {
    "duration": 4,
    "start_time": "2022-09-18T07:24:27.696Z"
   },
   {
    "duration": 35,
    "start_time": "2022-09-18T07:24:27.701Z"
   },
   {
    "duration": 16,
    "start_time": "2022-09-18T07:24:27.740Z"
   },
   {
    "duration": 109,
    "start_time": "2022-09-18T07:24:27.757Z"
   },
   {
    "duration": 0,
    "start_time": "2022-09-18T07:24:27.868Z"
   },
   {
    "duration": 0,
    "start_time": "2022-09-18T07:24:27.869Z"
   },
   {
    "duration": 0,
    "start_time": "2022-09-18T07:24:27.870Z"
   },
   {
    "duration": 0,
    "start_time": "2022-09-18T07:24:27.871Z"
   },
   {
    "duration": 0,
    "start_time": "2022-09-18T07:24:27.872Z"
   },
   {
    "duration": 0,
    "start_time": "2022-09-18T07:24:27.873Z"
   },
   {
    "duration": 0,
    "start_time": "2022-09-18T07:24:27.874Z"
   },
   {
    "duration": 0,
    "start_time": "2022-09-18T07:24:27.874Z"
   },
   {
    "duration": 0,
    "start_time": "2022-09-18T07:24:27.875Z"
   },
   {
    "duration": 0,
    "start_time": "2022-09-18T07:24:27.876Z"
   },
   {
    "duration": 0,
    "start_time": "2022-09-18T07:24:27.877Z"
   },
   {
    "duration": 0,
    "start_time": "2022-09-18T07:24:27.878Z"
   },
   {
    "duration": 0,
    "start_time": "2022-09-18T07:24:27.879Z"
   },
   {
    "duration": 0,
    "start_time": "2022-09-18T07:24:27.880Z"
   },
   {
    "duration": 0,
    "start_time": "2022-09-18T07:24:27.881Z"
   },
   {
    "duration": 0,
    "start_time": "2022-09-18T07:24:27.882Z"
   },
   {
    "duration": 0,
    "start_time": "2022-09-18T07:24:27.884Z"
   },
   {
    "duration": 0,
    "start_time": "2022-09-18T07:24:27.885Z"
   },
   {
    "duration": 0,
    "start_time": "2022-09-18T07:24:27.886Z"
   },
   {
    "duration": 0,
    "start_time": "2022-09-18T07:24:27.887Z"
   },
   {
    "duration": 0,
    "start_time": "2022-09-18T07:24:27.921Z"
   },
   {
    "duration": 0,
    "start_time": "2022-09-18T07:24:27.922Z"
   },
   {
    "duration": 0,
    "start_time": "2022-09-18T07:24:27.922Z"
   },
   {
    "duration": 0,
    "start_time": "2022-09-18T07:24:27.924Z"
   },
   {
    "duration": 0,
    "start_time": "2022-09-18T07:24:27.925Z"
   },
   {
    "duration": 0,
    "start_time": "2022-09-18T07:24:27.926Z"
   },
   {
    "duration": 0,
    "start_time": "2022-09-18T07:24:27.932Z"
   },
   {
    "duration": 0,
    "start_time": "2022-09-18T07:24:27.933Z"
   },
   {
    "duration": 0,
    "start_time": "2022-09-18T07:24:27.933Z"
   },
   {
    "duration": 0,
    "start_time": "2022-09-18T07:24:27.934Z"
   },
   {
    "duration": 0,
    "start_time": "2022-09-18T07:24:27.937Z"
   },
   {
    "duration": 0,
    "start_time": "2022-09-18T07:24:27.937Z"
   },
   {
    "duration": 0,
    "start_time": "2022-09-18T07:24:27.938Z"
   },
   {
    "duration": 127,
    "start_time": "2022-09-18T12:54:49.153Z"
   },
   {
    "duration": 89,
    "start_time": "2022-09-18T12:56:36.868Z"
   },
   {
    "duration": 1454,
    "start_time": "2022-09-18T12:57:37.872Z"
   },
   {
    "duration": 185,
    "start_time": "2022-09-18T12:57:39.328Z"
   },
   {
    "duration": 17,
    "start_time": "2022-09-18T12:57:39.515Z"
   },
   {
    "duration": 25,
    "start_time": "2022-09-18T12:57:39.534Z"
   },
   {
    "duration": 4,
    "start_time": "2022-09-18T12:57:39.562Z"
   },
   {
    "duration": 45,
    "start_time": "2022-09-18T12:57:39.568Z"
   },
   {
    "duration": 6,
    "start_time": "2022-09-18T12:57:39.615Z"
   },
   {
    "duration": 209,
    "start_time": "2022-09-18T12:57:39.623Z"
   },
   {
    "duration": 13,
    "start_time": "2022-09-18T12:57:39.835Z"
   },
   {
    "duration": 11,
    "start_time": "2022-09-18T12:57:39.850Z"
   },
   {
    "duration": 42,
    "start_time": "2022-09-18T12:57:39.863Z"
   },
   {
    "duration": 14,
    "start_time": "2022-09-18T12:57:39.907Z"
   },
   {
    "duration": 44,
    "start_time": "2022-09-18T12:57:39.923Z"
   },
   {
    "duration": 13,
    "start_time": "2022-09-18T12:57:39.970Z"
   },
   {
    "duration": 36,
    "start_time": "2022-09-18T12:57:39.985Z"
   },
   {
    "duration": 31,
    "start_time": "2022-09-18T12:57:40.023Z"
   },
   {
    "duration": 67,
    "start_time": "2022-09-18T12:57:40.057Z"
   },
   {
    "duration": 17,
    "start_time": "2022-09-18T12:57:40.126Z"
   },
   {
    "duration": 14,
    "start_time": "2022-09-18T12:57:40.145Z"
   },
   {
    "duration": 470,
    "start_time": "2022-09-18T12:57:40.161Z"
   },
   {
    "duration": 260,
    "start_time": "2022-09-18T12:57:40.633Z"
   },
   {
    "duration": 945,
    "start_time": "2022-09-18T12:57:40.895Z"
   },
   {
    "duration": 0,
    "start_time": "2022-09-18T12:57:41.843Z"
   },
   {
    "duration": 0,
    "start_time": "2022-09-18T12:57:41.845Z"
   },
   {
    "duration": 0,
    "start_time": "2022-09-18T12:57:41.846Z"
   },
   {
    "duration": 0,
    "start_time": "2022-09-18T12:57:41.848Z"
   },
   {
    "duration": 0,
    "start_time": "2022-09-18T12:57:41.849Z"
   },
   {
    "duration": 0,
    "start_time": "2022-09-18T12:57:41.850Z"
   },
   {
    "duration": 0,
    "start_time": "2022-09-18T12:57:41.852Z"
   },
   {
    "duration": 0,
    "start_time": "2022-09-18T12:57:41.855Z"
   },
   {
    "duration": 0,
    "start_time": "2022-09-18T12:57:41.857Z"
   },
   {
    "duration": 0,
    "start_time": "2022-09-18T12:57:41.858Z"
   },
   {
    "duration": 0,
    "start_time": "2022-09-18T12:57:41.859Z"
   },
   {
    "duration": 0,
    "start_time": "2022-09-18T12:57:41.861Z"
   },
   {
    "duration": 0,
    "start_time": "2022-09-18T12:57:41.862Z"
   },
   {
    "duration": 0,
    "start_time": "2022-09-18T12:57:41.890Z"
   },
   {
    "duration": 1,
    "start_time": "2022-09-18T12:57:41.891Z"
   },
   {
    "duration": 0,
    "start_time": "2022-09-18T12:57:41.893Z"
   },
   {
    "duration": 0,
    "start_time": "2022-09-18T12:57:41.894Z"
   },
   {
    "duration": 0,
    "start_time": "2022-09-18T12:57:41.896Z"
   },
   {
    "duration": 1,
    "start_time": "2022-09-18T12:57:41.897Z"
   },
   {
    "duration": 0,
    "start_time": "2022-09-18T12:57:41.899Z"
   },
   {
    "duration": 0,
    "start_time": "2022-09-18T12:57:41.900Z"
   },
   {
    "duration": 0,
    "start_time": "2022-09-18T12:57:41.902Z"
   },
   {
    "duration": 1,
    "start_time": "2022-09-18T12:57:41.903Z"
   },
   {
    "duration": 0,
    "start_time": "2022-09-18T12:57:42.065Z"
   },
   {
    "duration": 0,
    "start_time": "2022-09-18T12:57:42.070Z"
   },
   {
    "duration": 0,
    "start_time": "2022-09-18T12:57:42.089Z"
   },
   {
    "duration": 0,
    "start_time": "2022-09-18T12:57:42.092Z"
   },
   {
    "duration": 0,
    "start_time": "2022-09-18T12:57:42.094Z"
   },
   {
    "duration": 0,
    "start_time": "2022-09-18T12:57:42.096Z"
   },
   {
    "duration": 0,
    "start_time": "2022-09-18T12:57:42.098Z"
   },
   {
    "duration": 24,
    "start_time": "2022-09-18T12:59:44.403Z"
   },
   {
    "duration": 871,
    "start_time": "2022-09-18T12:59:50.004Z"
   },
   {
    "duration": 119,
    "start_time": "2022-09-18T13:03:53.005Z"
   },
   {
    "duration": 94,
    "start_time": "2022-09-18T13:03:56.320Z"
   },
   {
    "duration": 10,
    "start_time": "2022-09-18T13:03:59.888Z"
   },
   {
    "duration": 27,
    "start_time": "2022-09-18T13:04:24.207Z"
   },
   {
    "duration": 17,
    "start_time": "2022-09-18T13:07:16.102Z"
   },
   {
    "duration": 4,
    "start_time": "2022-09-18T13:07:55.964Z"
   },
   {
    "duration": 845,
    "start_time": "2022-09-18T13:08:08.052Z"
   },
   {
    "duration": 804,
    "start_time": "2022-09-18T13:08:57.487Z"
   },
   {
    "duration": 1162,
    "start_time": "2022-09-18T13:10:16.072Z"
   },
   {
    "duration": 52,
    "start_time": "2022-09-18T13:10:17.236Z"
   },
   {
    "duration": 14,
    "start_time": "2022-09-18T13:10:17.290Z"
   },
   {
    "duration": 33,
    "start_time": "2022-09-18T13:10:17.306Z"
   },
   {
    "duration": 31,
    "start_time": "2022-09-18T13:10:17.341Z"
   },
   {
    "duration": 35,
    "start_time": "2022-09-18T13:10:17.374Z"
   },
   {
    "duration": 6,
    "start_time": "2022-09-18T13:10:17.412Z"
   },
   {
    "duration": 199,
    "start_time": "2022-09-18T13:10:17.420Z"
   },
   {
    "duration": 9,
    "start_time": "2022-09-18T13:10:17.621Z"
   },
   {
    "duration": 36,
    "start_time": "2022-09-18T13:10:17.631Z"
   },
   {
    "duration": 10,
    "start_time": "2022-09-18T13:10:17.669Z"
   },
   {
    "duration": 26,
    "start_time": "2022-09-18T13:10:17.681Z"
   },
   {
    "duration": 12,
    "start_time": "2022-09-18T13:10:17.708Z"
   },
   {
    "duration": 10,
    "start_time": "2022-09-18T13:10:17.723Z"
   },
   {
    "duration": 16,
    "start_time": "2022-09-18T13:10:17.735Z"
   },
   {
    "duration": 18,
    "start_time": "2022-09-18T13:10:17.753Z"
   },
   {
    "duration": 32,
    "start_time": "2022-09-18T13:10:17.773Z"
   },
   {
    "duration": 22,
    "start_time": "2022-09-18T13:10:17.806Z"
   },
   {
    "duration": 15,
    "start_time": "2022-09-18T13:10:17.829Z"
   },
   {
    "duration": 473,
    "start_time": "2022-09-18T13:10:17.846Z"
   },
   {
    "duration": 227,
    "start_time": "2022-09-18T13:10:18.321Z"
   },
   {
    "duration": 860,
    "start_time": "2022-09-18T13:10:18.550Z"
   },
   {
    "duration": 0,
    "start_time": "2022-09-18T13:10:19.412Z"
   },
   {
    "duration": 0,
    "start_time": "2022-09-18T13:10:19.413Z"
   },
   {
    "duration": 0,
    "start_time": "2022-09-18T13:10:19.415Z"
   },
   {
    "duration": 0,
    "start_time": "2022-09-18T13:10:19.416Z"
   },
   {
    "duration": 0,
    "start_time": "2022-09-18T13:10:19.417Z"
   },
   {
    "duration": 0,
    "start_time": "2022-09-18T13:10:19.417Z"
   },
   {
    "duration": 0,
    "start_time": "2022-09-18T13:10:19.418Z"
   },
   {
    "duration": 0,
    "start_time": "2022-09-18T13:10:19.419Z"
   },
   {
    "duration": 0,
    "start_time": "2022-09-18T13:10:19.421Z"
   },
   {
    "duration": 0,
    "start_time": "2022-09-18T13:10:19.423Z"
   },
   {
    "duration": 0,
    "start_time": "2022-09-18T13:10:19.425Z"
   },
   {
    "duration": 0,
    "start_time": "2022-09-18T13:10:19.426Z"
   },
   {
    "duration": 0,
    "start_time": "2022-09-18T13:10:19.428Z"
   },
   {
    "duration": 0,
    "start_time": "2022-09-18T13:10:19.430Z"
   },
   {
    "duration": 0,
    "start_time": "2022-09-18T13:10:19.432Z"
   },
   {
    "duration": 0,
    "start_time": "2022-09-18T13:10:19.433Z"
   },
   {
    "duration": 0,
    "start_time": "2022-09-18T13:10:19.435Z"
   },
   {
    "duration": 0,
    "start_time": "2022-09-18T13:10:19.438Z"
   },
   {
    "duration": 0,
    "start_time": "2022-09-18T13:10:19.439Z"
   },
   {
    "duration": 0,
    "start_time": "2022-09-18T13:10:19.441Z"
   },
   {
    "duration": 0,
    "start_time": "2022-09-18T13:10:19.490Z"
   },
   {
    "duration": 1,
    "start_time": "2022-09-18T13:10:19.491Z"
   },
   {
    "duration": 0,
    "start_time": "2022-09-18T13:10:19.493Z"
   },
   {
    "duration": 0,
    "start_time": "2022-09-18T13:10:19.494Z"
   },
   {
    "duration": 0,
    "start_time": "2022-09-18T13:10:19.619Z"
   },
   {
    "duration": 0,
    "start_time": "2022-09-18T13:10:19.621Z"
   },
   {
    "duration": 0,
    "start_time": "2022-09-18T13:10:19.622Z"
   },
   {
    "duration": 0,
    "start_time": "2022-09-18T13:10:19.623Z"
   },
   {
    "duration": 0,
    "start_time": "2022-09-18T13:10:19.625Z"
   },
   {
    "duration": 0,
    "start_time": "2022-09-18T13:10:19.626Z"
   },
   {
    "duration": 455,
    "start_time": "2022-09-18T13:11:11.099Z"
   },
   {
    "duration": 411,
    "start_time": "2022-09-18T13:11:27.567Z"
   },
   {
    "duration": 236,
    "start_time": "2022-09-18T13:11:53.067Z"
   },
   {
    "duration": 762,
    "start_time": "2022-09-18T13:11:57.077Z"
   },
   {
    "duration": 12,
    "start_time": "2022-09-18T13:13:06.172Z"
   },
   {
    "duration": 5,
    "start_time": "2022-09-18T13:13:09.725Z"
   },
   {
    "duration": 15,
    "start_time": "2022-09-18T13:13:21.772Z"
   },
   {
    "duration": 1260,
    "start_time": "2022-09-18T13:14:27.092Z"
   },
   {
    "duration": 59,
    "start_time": "2022-09-18T13:14:28.354Z"
   },
   {
    "duration": 15,
    "start_time": "2022-09-18T13:14:28.415Z"
   },
   {
    "duration": 25,
    "start_time": "2022-09-18T13:14:28.433Z"
   },
   {
    "duration": 14,
    "start_time": "2022-09-18T13:14:28.460Z"
   },
   {
    "duration": 18,
    "start_time": "2022-09-18T13:14:28.475Z"
   },
   {
    "duration": 5,
    "start_time": "2022-09-18T13:14:28.495Z"
   },
   {
    "duration": 216,
    "start_time": "2022-09-18T13:14:28.502Z"
   },
   {
    "duration": 10,
    "start_time": "2022-09-18T13:14:28.720Z"
   },
   {
    "duration": 15,
    "start_time": "2022-09-18T13:14:28.733Z"
   },
   {
    "duration": 17,
    "start_time": "2022-09-18T13:14:28.749Z"
   },
   {
    "duration": 32,
    "start_time": "2022-09-18T13:14:28.769Z"
   },
   {
    "duration": 16,
    "start_time": "2022-09-18T13:14:28.803Z"
   },
   {
    "duration": 12,
    "start_time": "2022-09-18T13:14:28.821Z"
   },
   {
    "duration": 33,
    "start_time": "2022-09-18T13:14:28.835Z"
   },
   {
    "duration": 20,
    "start_time": "2022-09-18T13:14:28.869Z"
   },
   {
    "duration": 33,
    "start_time": "2022-09-18T13:14:28.891Z"
   },
   {
    "duration": 12,
    "start_time": "2022-09-18T13:14:28.925Z"
   },
   {
    "duration": 11,
    "start_time": "2022-09-18T13:14:28.938Z"
   },
   {
    "duration": 425,
    "start_time": "2022-09-18T13:14:28.951Z"
   },
   {
    "duration": 219,
    "start_time": "2022-09-18T13:14:29.378Z"
   },
   {
    "duration": 12,
    "start_time": "2022-09-18T13:14:29.599Z"
   },
   {
    "duration": 894,
    "start_time": "2022-09-18T13:14:29.613Z"
   },
   {
    "duration": 0,
    "start_time": "2022-09-18T13:14:30.509Z"
   },
   {
    "duration": 0,
    "start_time": "2022-09-18T13:14:30.510Z"
   },
   {
    "duration": 0,
    "start_time": "2022-09-18T13:14:30.512Z"
   },
   {
    "duration": 0,
    "start_time": "2022-09-18T13:14:30.513Z"
   },
   {
    "duration": 1,
    "start_time": "2022-09-18T13:14:30.513Z"
   },
   {
    "duration": 0,
    "start_time": "2022-09-18T13:14:30.515Z"
   },
   {
    "duration": 0,
    "start_time": "2022-09-18T13:14:30.516Z"
   },
   {
    "duration": 0,
    "start_time": "2022-09-18T13:14:30.517Z"
   },
   {
    "duration": 0,
    "start_time": "2022-09-18T13:14:30.518Z"
   },
   {
    "duration": 0,
    "start_time": "2022-09-18T13:14:30.519Z"
   },
   {
    "duration": 0,
    "start_time": "2022-09-18T13:14:30.520Z"
   },
   {
    "duration": 0,
    "start_time": "2022-09-18T13:14:30.521Z"
   },
   {
    "duration": 0,
    "start_time": "2022-09-18T13:14:30.522Z"
   },
   {
    "duration": 0,
    "start_time": "2022-09-18T13:14:30.523Z"
   },
   {
    "duration": 0,
    "start_time": "2022-09-18T13:14:30.524Z"
   },
   {
    "duration": 0,
    "start_time": "2022-09-18T13:14:30.652Z"
   },
   {
    "duration": 0,
    "start_time": "2022-09-18T13:14:30.653Z"
   },
   {
    "duration": 0,
    "start_time": "2022-09-18T13:14:30.654Z"
   },
   {
    "duration": 0,
    "start_time": "2022-09-18T13:14:30.655Z"
   },
   {
    "duration": 0,
    "start_time": "2022-09-18T13:14:30.656Z"
   },
   {
    "duration": 0,
    "start_time": "2022-09-18T13:14:30.657Z"
   },
   {
    "duration": 0,
    "start_time": "2022-09-18T13:14:30.658Z"
   },
   {
    "duration": 0,
    "start_time": "2022-09-18T13:14:30.660Z"
   },
   {
    "duration": 0,
    "start_time": "2022-09-18T13:14:30.661Z"
   },
   {
    "duration": 0,
    "start_time": "2022-09-18T13:14:30.662Z"
   },
   {
    "duration": 0,
    "start_time": "2022-09-18T13:14:30.663Z"
   },
   {
    "duration": 0,
    "start_time": "2022-09-18T13:14:30.664Z"
   },
   {
    "duration": 0,
    "start_time": "2022-09-18T13:14:30.665Z"
   },
   {
    "duration": 0,
    "start_time": "2022-09-18T13:14:30.666Z"
   },
   {
    "duration": 0,
    "start_time": "2022-09-18T13:14:30.667Z"
   },
   {
    "duration": 3,
    "start_time": "2022-09-18T13:17:12.524Z"
   },
   {
    "duration": 789,
    "start_time": "2022-09-18T13:17:14.305Z"
   },
   {
    "duration": 226,
    "start_time": "2022-09-18T14:14:27.602Z"
   },
   {
    "duration": 1296,
    "start_time": "2022-09-18T14:14:32.727Z"
   },
   {
    "duration": 1074,
    "start_time": "2022-09-18T14:14:42.051Z"
   },
   {
    "duration": 6,
    "start_time": "2022-09-18T14:15:04.797Z"
   },
   {
    "duration": 1181,
    "start_time": "2022-09-18T14:15:14.612Z"
   },
   {
    "duration": 53,
    "start_time": "2022-09-18T14:15:15.795Z"
   },
   {
    "duration": 17,
    "start_time": "2022-09-18T14:15:15.849Z"
   },
   {
    "duration": 17,
    "start_time": "2022-09-18T14:15:15.868Z"
   },
   {
    "duration": 37,
    "start_time": "2022-09-18T14:15:15.888Z"
   },
   {
    "duration": 25,
    "start_time": "2022-09-18T14:15:15.927Z"
   },
   {
    "duration": 22,
    "start_time": "2022-09-18T14:15:15.954Z"
   },
   {
    "duration": 200,
    "start_time": "2022-09-18T14:15:15.978Z"
   },
   {
    "duration": 10,
    "start_time": "2022-09-18T14:15:16.180Z"
   },
   {
    "duration": 32,
    "start_time": "2022-09-18T14:15:16.192Z"
   },
   {
    "duration": 16,
    "start_time": "2022-09-18T14:15:16.226Z"
   },
   {
    "duration": 25,
    "start_time": "2022-09-18T14:15:16.244Z"
   },
   {
    "duration": 18,
    "start_time": "2022-09-18T14:15:16.271Z"
   },
   {
    "duration": 17,
    "start_time": "2022-09-18T14:15:16.292Z"
   },
   {
    "duration": 33,
    "start_time": "2022-09-18T14:15:16.310Z"
   },
   {
    "duration": 18,
    "start_time": "2022-09-18T14:15:16.345Z"
   },
   {
    "duration": 27,
    "start_time": "2022-09-18T14:15:16.365Z"
   },
   {
    "duration": 27,
    "start_time": "2022-09-18T14:15:16.393Z"
   },
   {
    "duration": 13,
    "start_time": "2022-09-18T14:15:16.421Z"
   },
   {
    "duration": 406,
    "start_time": "2022-09-18T14:15:16.435Z"
   },
   {
    "duration": 227,
    "start_time": "2022-09-18T14:15:16.843Z"
   },
   {
    "duration": 25,
    "start_time": "2022-09-18T14:15:17.071Z"
   },
   {
    "duration": 16,
    "start_time": "2022-09-18T14:15:17.098Z"
   },
   {
    "duration": 1485,
    "start_time": "2022-09-18T14:15:17.116Z"
   },
   {
    "duration": 1032,
    "start_time": "2022-09-18T14:15:18.603Z"
   },
   {
    "duration": 7,
    "start_time": "2022-09-18T14:15:19.636Z"
   },
   {
    "duration": 20,
    "start_time": "2022-09-18T14:15:19.645Z"
   },
   {
    "duration": 503,
    "start_time": "2022-09-18T14:15:19.667Z"
   },
   {
    "duration": 26,
    "start_time": "2022-09-18T14:15:20.172Z"
   },
   {
    "duration": 420,
    "start_time": "2022-09-18T14:15:20.200Z"
   },
   {
    "duration": 13,
    "start_time": "2022-09-18T14:15:20.621Z"
   },
   {
    "duration": 206,
    "start_time": "2022-09-18T14:15:20.636Z"
   },
   {
    "duration": 3,
    "start_time": "2022-09-18T14:15:20.843Z"
   },
   {
    "duration": 35,
    "start_time": "2022-09-18T14:15:20.847Z"
   },
   {
    "duration": 672,
    "start_time": "2022-09-18T14:15:20.884Z"
   },
   {
    "duration": 762,
    "start_time": "2022-09-18T14:15:21.558Z"
   },
   {
    "duration": 681,
    "start_time": "2022-09-18T14:15:22.322Z"
   },
   {
    "duration": 6,
    "start_time": "2022-09-18T14:15:23.005Z"
   },
   {
    "duration": 18,
    "start_time": "2022-09-18T14:15:23.013Z"
   },
   {
    "duration": 19,
    "start_time": "2022-09-18T14:15:23.033Z"
   },
   {
    "duration": 19,
    "start_time": "2022-09-18T14:15:23.056Z"
   },
   {
    "duration": 21,
    "start_time": "2022-09-18T14:15:23.077Z"
   },
   {
    "duration": 27,
    "start_time": "2022-09-18T14:15:23.100Z"
   },
   {
    "duration": 17,
    "start_time": "2022-09-18T14:15:23.129Z"
   },
   {
    "duration": 31,
    "start_time": "2022-09-18T14:15:23.147Z"
   },
   {
    "duration": 14,
    "start_time": "2022-09-18T14:15:23.179Z"
   },
   {
    "duration": 700,
    "start_time": "2022-09-18T14:15:23.196Z"
   },
   {
    "duration": 0,
    "start_time": "2022-09-18T14:15:23.898Z"
   },
   {
    "duration": 0,
    "start_time": "2022-09-18T14:15:23.900Z"
   },
   {
    "duration": 0,
    "start_time": "2022-09-18T14:15:23.901Z"
   },
   {
    "duration": 0,
    "start_time": "2022-09-18T14:15:23.903Z"
   },
   {
    "duration": 0,
    "start_time": "2022-09-18T14:15:23.905Z"
   },
   {
    "duration": 0,
    "start_time": "2022-09-18T14:15:23.906Z"
   },
   {
    "duration": 0,
    "start_time": "2022-09-18T14:15:23.907Z"
   },
   {
    "duration": 0,
    "start_time": "2022-09-18T14:15:23.909Z"
   },
   {
    "duration": 410,
    "start_time": "2022-09-18T14:16:01.543Z"
   },
   {
    "duration": 8,
    "start_time": "2022-09-18T14:31:44.723Z"
   },
   {
    "duration": 1349,
    "start_time": "2022-09-18T14:31:49.756Z"
   },
   {
    "duration": 1070,
    "start_time": "2022-09-18T14:31:55.805Z"
   },
   {
    "duration": 5,
    "start_time": "2022-09-18T15:16:40.173Z"
   },
   {
    "duration": 1318,
    "start_time": "2022-09-18T15:46:14.300Z"
   },
   {
    "duration": 61,
    "start_time": "2022-09-18T15:46:15.621Z"
   },
   {
    "duration": 17,
    "start_time": "2022-09-18T15:46:15.683Z"
   },
   {
    "duration": 8075,
    "start_time": "2022-09-18T15:46:15.703Z"
   },
   {
    "duration": 0,
    "start_time": "2022-09-18T15:46:23.781Z"
   },
   {
    "duration": 0,
    "start_time": "2022-09-18T15:46:23.782Z"
   },
   {
    "duration": 0,
    "start_time": "2022-09-18T15:46:23.783Z"
   },
   {
    "duration": 1,
    "start_time": "2022-09-18T15:46:23.784Z"
   },
   {
    "duration": 0,
    "start_time": "2022-09-18T15:46:23.786Z"
   },
   {
    "duration": 0,
    "start_time": "2022-09-18T15:46:23.787Z"
   },
   {
    "duration": 0,
    "start_time": "2022-09-18T15:46:23.788Z"
   },
   {
    "duration": 0,
    "start_time": "2022-09-18T15:46:23.789Z"
   },
   {
    "duration": 0,
    "start_time": "2022-09-18T15:46:23.790Z"
   },
   {
    "duration": 0,
    "start_time": "2022-09-18T15:46:23.790Z"
   },
   {
    "duration": 0,
    "start_time": "2022-09-18T15:46:23.791Z"
   },
   {
    "duration": 0,
    "start_time": "2022-09-18T15:46:23.792Z"
   },
   {
    "duration": 0,
    "start_time": "2022-09-18T15:46:23.794Z"
   },
   {
    "duration": 0,
    "start_time": "2022-09-18T15:46:23.795Z"
   },
   {
    "duration": 0,
    "start_time": "2022-09-18T15:46:23.796Z"
   },
   {
    "duration": 0,
    "start_time": "2022-09-18T15:46:23.797Z"
   },
   {
    "duration": 0,
    "start_time": "2022-09-18T15:46:23.798Z"
   },
   {
    "duration": 0,
    "start_time": "2022-09-18T15:46:23.799Z"
   },
   {
    "duration": 0,
    "start_time": "2022-09-18T15:46:23.800Z"
   },
   {
    "duration": 0,
    "start_time": "2022-09-18T15:46:23.801Z"
   },
   {
    "duration": 0,
    "start_time": "2022-09-18T15:46:23.802Z"
   },
   {
    "duration": 0,
    "start_time": "2022-09-18T15:46:23.803Z"
   },
   {
    "duration": 0,
    "start_time": "2022-09-18T15:46:23.804Z"
   },
   {
    "duration": 0,
    "start_time": "2022-09-18T15:46:23.805Z"
   },
   {
    "duration": 0,
    "start_time": "2022-09-18T15:46:23.806Z"
   },
   {
    "duration": 0,
    "start_time": "2022-09-18T15:46:23.807Z"
   },
   {
    "duration": 0,
    "start_time": "2022-09-18T15:46:23.808Z"
   },
   {
    "duration": 0,
    "start_time": "2022-09-18T15:46:23.809Z"
   },
   {
    "duration": 0,
    "start_time": "2022-09-18T15:46:23.810Z"
   },
   {
    "duration": 0,
    "start_time": "2022-09-18T15:46:23.811Z"
   },
   {
    "duration": 0,
    "start_time": "2022-09-18T15:46:23.812Z"
   },
   {
    "duration": 0,
    "start_time": "2022-09-18T15:46:23.813Z"
   },
   {
    "duration": 0,
    "start_time": "2022-09-18T15:46:23.814Z"
   },
   {
    "duration": 0,
    "start_time": "2022-09-18T15:46:23.815Z"
   },
   {
    "duration": 0,
    "start_time": "2022-09-18T15:46:23.816Z"
   },
   {
    "duration": 0,
    "start_time": "2022-09-18T15:46:23.817Z"
   },
   {
    "duration": 0,
    "start_time": "2022-09-18T15:46:23.818Z"
   },
   {
    "duration": 0,
    "start_time": "2022-09-18T15:46:23.819Z"
   },
   {
    "duration": 0,
    "start_time": "2022-09-18T15:46:23.820Z"
   },
   {
    "duration": 0,
    "start_time": "2022-09-18T15:46:23.821Z"
   },
   {
    "duration": 0,
    "start_time": "2022-09-18T15:46:23.821Z"
   },
   {
    "duration": 0,
    "start_time": "2022-09-18T15:46:23.822Z"
   },
   {
    "duration": 0,
    "start_time": "2022-09-18T15:46:23.823Z"
   },
   {
    "duration": 0,
    "start_time": "2022-09-18T15:46:23.824Z"
   },
   {
    "duration": 0,
    "start_time": "2022-09-18T15:46:23.825Z"
   },
   {
    "duration": 0,
    "start_time": "2022-09-18T15:46:23.826Z"
   },
   {
    "duration": 0,
    "start_time": "2022-09-18T15:46:23.827Z"
   },
   {
    "duration": 0,
    "start_time": "2022-09-18T15:46:23.894Z"
   },
   {
    "duration": 0,
    "start_time": "2022-09-18T15:46:23.896Z"
   },
   {
    "duration": 0,
    "start_time": "2022-09-18T15:46:23.897Z"
   },
   {
    "duration": 0,
    "start_time": "2022-09-18T15:46:23.899Z"
   },
   {
    "duration": 0,
    "start_time": "2022-09-18T15:46:23.900Z"
   },
   {
    "duration": 21,
    "start_time": "2022-09-18T15:47:08.292Z"
   },
   {
    "duration": 3,
    "start_time": "2022-09-18T15:47:08.314Z"
   },
   {
    "duration": 11,
    "start_time": "2022-09-18T15:47:08.319Z"
   },
   {
    "duration": 4,
    "start_time": "2022-09-18T15:47:08.332Z"
   },
   {
    "duration": 226,
    "start_time": "2022-09-18T15:47:08.338Z"
   },
   {
    "duration": 9,
    "start_time": "2022-09-18T15:47:08.566Z"
   },
   {
    "duration": 14,
    "start_time": "2022-09-18T15:47:08.576Z"
   },
   {
    "duration": 8,
    "start_time": "2022-09-18T15:47:08.591Z"
   },
   {
    "duration": 24,
    "start_time": "2022-09-18T15:47:08.600Z"
   },
   {
    "duration": 13,
    "start_time": "2022-09-18T15:47:08.625Z"
   },
   {
    "duration": 11,
    "start_time": "2022-09-18T15:47:08.640Z"
   },
   {
    "duration": 22,
    "start_time": "2022-09-18T15:47:08.688Z"
   },
   {
    "duration": 6,
    "start_time": "2022-09-18T15:47:08.712Z"
   },
   {
    "duration": 20,
    "start_time": "2022-09-18T15:47:08.721Z"
   },
   {
    "duration": 8,
    "start_time": "2022-09-18T15:47:08.742Z"
   },
   {
    "duration": 38,
    "start_time": "2022-09-18T15:47:08.752Z"
   },
   {
    "duration": 458,
    "start_time": "2022-09-18T15:47:08.792Z"
   },
   {
    "duration": 298,
    "start_time": "2022-09-18T15:47:09.252Z"
   },
   {
    "duration": 13,
    "start_time": "2022-09-18T15:47:09.552Z"
   },
   {
    "duration": 24,
    "start_time": "2022-09-18T15:47:09.567Z"
   },
   {
    "duration": 1513,
    "start_time": "2022-09-18T15:47:09.593Z"
   },
   {
    "duration": 1230,
    "start_time": "2022-09-18T15:47:11.108Z"
   },
   {
    "duration": 2,
    "start_time": "2022-09-18T15:47:12.340Z"
   },
   {
    "duration": 8,
    "start_time": "2022-09-18T15:47:12.343Z"
   },
   {
    "duration": 464,
    "start_time": "2022-09-18T15:47:12.353Z"
   },
   {
    "duration": 16,
    "start_time": "2022-09-18T15:47:12.818Z"
   },
   {
    "duration": 423,
    "start_time": "2022-09-18T15:47:12.836Z"
   },
   {
    "duration": 28,
    "start_time": "2022-09-18T15:47:13.261Z"
   },
   {
    "duration": 201,
    "start_time": "2022-09-18T15:47:13.291Z"
   },
   {
    "duration": 3,
    "start_time": "2022-09-18T15:47:13.494Z"
   },
   {
    "duration": 11,
    "start_time": "2022-09-18T15:47:13.498Z"
   },
   {
    "duration": 664,
    "start_time": "2022-09-18T15:47:13.510Z"
   },
   {
    "duration": 682,
    "start_time": "2022-09-18T15:47:14.176Z"
   },
   {
    "duration": 840,
    "start_time": "2022-09-18T15:47:14.859Z"
   },
   {
    "duration": 6,
    "start_time": "2022-09-18T15:47:15.701Z"
   },
   {
    "duration": 19,
    "start_time": "2022-09-18T15:47:15.709Z"
   },
   {
    "duration": 15,
    "start_time": "2022-09-18T15:47:15.729Z"
   },
   {
    "duration": 11,
    "start_time": "2022-09-18T15:47:15.746Z"
   },
   {
    "duration": 30,
    "start_time": "2022-09-18T15:47:15.759Z"
   },
   {
    "duration": 28,
    "start_time": "2022-09-18T15:47:15.791Z"
   },
   {
    "duration": 31,
    "start_time": "2022-09-18T15:47:15.823Z"
   },
   {
    "duration": 14,
    "start_time": "2022-09-18T15:47:15.856Z"
   },
   {
    "duration": 21,
    "start_time": "2022-09-18T15:47:15.871Z"
   },
   {
    "duration": 635,
    "start_time": "2022-09-18T15:47:15.893Z"
   },
   {
    "duration": 0,
    "start_time": "2022-09-18T15:47:16.529Z"
   },
   {
    "duration": 0,
    "start_time": "2022-09-18T15:47:16.530Z"
   },
   {
    "duration": 0,
    "start_time": "2022-09-18T15:47:16.531Z"
   },
   {
    "duration": 0,
    "start_time": "2022-09-18T15:47:16.532Z"
   },
   {
    "duration": 0,
    "start_time": "2022-09-18T15:47:16.533Z"
   },
   {
    "duration": 0,
    "start_time": "2022-09-18T15:47:16.534Z"
   },
   {
    "duration": 0,
    "start_time": "2022-09-18T15:47:16.535Z"
   },
   {
    "duration": 0,
    "start_time": "2022-09-18T15:47:16.536Z"
   },
   {
    "duration": 1241,
    "start_time": "2022-09-19T05:01:15.564Z"
   },
   {
    "duration": 96,
    "start_time": "2022-09-19T05:01:16.808Z"
   },
   {
    "duration": 14,
    "start_time": "2022-09-19T05:01:16.905Z"
   },
   {
    "duration": 14,
    "start_time": "2022-09-19T05:01:16.921Z"
   },
   {
    "duration": 4,
    "start_time": "2022-09-19T05:01:16.938Z"
   },
   {
    "duration": 18,
    "start_time": "2022-09-19T05:01:16.944Z"
   },
   {
    "duration": 4,
    "start_time": "2022-09-19T05:01:16.964Z"
   },
   {
    "duration": 227,
    "start_time": "2022-09-19T05:01:16.970Z"
   },
   {
    "duration": 14,
    "start_time": "2022-09-19T05:01:17.199Z"
   },
   {
    "duration": 6,
    "start_time": "2022-09-19T05:01:17.215Z"
   },
   {
    "duration": 12,
    "start_time": "2022-09-19T05:01:17.222Z"
   },
   {
    "duration": 27,
    "start_time": "2022-09-19T05:01:17.235Z"
   },
   {
    "duration": 16,
    "start_time": "2022-09-19T05:01:17.264Z"
   },
   {
    "duration": 25,
    "start_time": "2022-09-19T05:01:17.284Z"
   },
   {
    "duration": 20,
    "start_time": "2022-09-19T05:01:17.311Z"
   },
   {
    "duration": 7,
    "start_time": "2022-09-19T05:01:17.332Z"
   },
   {
    "duration": 18,
    "start_time": "2022-09-19T05:01:17.340Z"
   },
   {
    "duration": 7,
    "start_time": "2022-09-19T05:01:17.359Z"
   },
   {
    "duration": 3,
    "start_time": "2022-09-19T05:01:17.368Z"
   },
   {
    "duration": 411,
    "start_time": "2022-09-19T05:01:17.373Z"
   },
   {
    "duration": 259,
    "start_time": "2022-09-19T05:01:17.786Z"
   },
   {
    "duration": 11,
    "start_time": "2022-09-19T05:01:18.047Z"
   },
   {
    "duration": 6,
    "start_time": "2022-09-19T05:01:18.059Z"
   },
   {
    "duration": 1313,
    "start_time": "2022-09-19T05:01:18.067Z"
   },
   {
    "duration": 1002,
    "start_time": "2022-09-19T05:01:19.382Z"
   },
   {
    "duration": 2,
    "start_time": "2022-09-19T05:01:20.386Z"
   },
   {
    "duration": 6,
    "start_time": "2022-09-19T05:01:20.390Z"
   },
   {
    "duration": 412,
    "start_time": "2022-09-19T05:01:20.409Z"
   },
   {
    "duration": 14,
    "start_time": "2022-09-19T05:01:20.823Z"
   },
   {
    "duration": 372,
    "start_time": "2022-09-19T05:01:20.838Z"
   },
   {
    "duration": 12,
    "start_time": "2022-09-19T05:01:21.212Z"
   },
   {
    "duration": 185,
    "start_time": "2022-09-19T05:01:21.225Z"
   },
   {
    "duration": 3,
    "start_time": "2022-09-19T05:01:21.411Z"
   },
   {
    "duration": 8,
    "start_time": "2022-09-19T05:01:21.415Z"
   },
   {
    "duration": 581,
    "start_time": "2022-09-19T05:01:21.424Z"
   },
   {
    "duration": 618,
    "start_time": "2022-09-19T05:01:22.007Z"
   },
   {
    "duration": 687,
    "start_time": "2022-09-19T05:01:22.627Z"
   },
   {
    "duration": 7,
    "start_time": "2022-09-19T05:01:23.316Z"
   },
   {
    "duration": 9,
    "start_time": "2022-09-19T05:01:23.324Z"
   },
   {
    "duration": 12,
    "start_time": "2022-09-19T05:01:23.335Z"
   },
   {
    "duration": 6,
    "start_time": "2022-09-19T05:01:23.350Z"
   },
   {
    "duration": 11,
    "start_time": "2022-09-19T05:01:23.357Z"
   },
   {
    "duration": 41,
    "start_time": "2022-09-19T05:01:23.369Z"
   },
   {
    "duration": 12,
    "start_time": "2022-09-19T05:01:23.413Z"
   },
   {
    "duration": 10,
    "start_time": "2022-09-19T05:01:23.427Z"
   },
   {
    "duration": 2,
    "start_time": "2022-09-19T05:01:23.439Z"
   },
   {
    "duration": 896,
    "start_time": "2022-09-19T05:01:23.442Z"
   },
   {
    "duration": 0,
    "start_time": "2022-09-19T05:01:24.341Z"
   },
   {
    "duration": 0,
    "start_time": "2022-09-19T05:01:24.342Z"
   },
   {
    "duration": 0,
    "start_time": "2022-09-19T05:01:24.344Z"
   },
   {
    "duration": 0,
    "start_time": "2022-09-19T05:01:24.346Z"
   },
   {
    "duration": 0,
    "start_time": "2022-09-19T05:01:24.347Z"
   },
   {
    "duration": 0,
    "start_time": "2022-09-19T05:01:24.349Z"
   },
   {
    "duration": 0,
    "start_time": "2022-09-19T05:01:24.350Z"
   },
   {
    "duration": 1,
    "start_time": "2022-09-19T05:01:24.351Z"
   },
   {
    "duration": 647,
    "start_time": "2022-09-19T05:30:07.900Z"
   },
   {
    "duration": 606,
    "start_time": "2022-09-19T05:30:29.179Z"
   },
   {
    "duration": 1190,
    "start_time": "2022-09-19T05:30:42.957Z"
   },
   {
    "duration": 51,
    "start_time": "2022-09-19T05:30:44.149Z"
   },
   {
    "duration": 28,
    "start_time": "2022-09-19T05:30:44.202Z"
   },
   {
    "duration": 18,
    "start_time": "2022-09-19T05:30:44.235Z"
   },
   {
    "duration": 2,
    "start_time": "2022-09-19T05:30:44.256Z"
   },
   {
    "duration": 23,
    "start_time": "2022-09-19T05:30:44.259Z"
   },
   {
    "duration": 6,
    "start_time": "2022-09-19T05:30:44.283Z"
   },
   {
    "duration": 203,
    "start_time": "2022-09-19T05:30:44.290Z"
   },
   {
    "duration": 9,
    "start_time": "2022-09-19T05:30:44.494Z"
   },
   {
    "duration": 29,
    "start_time": "2022-09-19T05:30:44.515Z"
   },
   {
    "duration": 16,
    "start_time": "2022-09-19T05:30:44.546Z"
   },
   {
    "duration": 29,
    "start_time": "2022-09-19T05:30:44.564Z"
   },
   {
    "duration": 35,
    "start_time": "2022-09-19T05:30:44.595Z"
   },
   {
    "duration": 12,
    "start_time": "2022-09-19T05:30:44.634Z"
   },
   {
    "duration": 26,
    "start_time": "2022-09-19T05:30:44.649Z"
   },
   {
    "duration": 18,
    "start_time": "2022-09-19T05:30:44.676Z"
   },
   {
    "duration": 54,
    "start_time": "2022-09-19T05:30:44.696Z"
   },
   {
    "duration": 21,
    "start_time": "2022-09-19T05:30:44.752Z"
   },
   {
    "duration": 7,
    "start_time": "2022-09-19T05:30:44.774Z"
   },
   {
    "duration": 457,
    "start_time": "2022-09-19T05:30:44.783Z"
   },
   {
    "duration": 259,
    "start_time": "2022-09-19T05:30:45.242Z"
   },
   {
    "duration": 29,
    "start_time": "2022-09-19T05:30:45.502Z"
   },
   {
    "duration": 9,
    "start_time": "2022-09-19T05:30:45.533Z"
   },
   {
    "duration": 1416,
    "start_time": "2022-09-19T05:30:45.543Z"
   },
   {
    "duration": 1092,
    "start_time": "2022-09-19T05:30:46.960Z"
   },
   {
    "duration": 2,
    "start_time": "2022-09-19T05:30:48.054Z"
   },
   {
    "duration": 5,
    "start_time": "2022-09-19T05:30:48.057Z"
   },
   {
    "duration": 441,
    "start_time": "2022-09-19T05:30:48.063Z"
   },
   {
    "duration": 32,
    "start_time": "2022-09-19T05:30:48.506Z"
   },
   {
    "duration": 392,
    "start_time": "2022-09-19T05:30:48.540Z"
   },
   {
    "duration": 17,
    "start_time": "2022-09-19T05:30:48.934Z"
   },
   {
    "duration": 190,
    "start_time": "2022-09-19T05:30:48.952Z"
   },
   {
    "duration": 3,
    "start_time": "2022-09-19T05:30:49.143Z"
   },
   {
    "duration": 13,
    "start_time": "2022-09-19T05:30:49.148Z"
   },
   {
    "duration": 631,
    "start_time": "2022-09-19T05:30:49.162Z"
   },
   {
    "duration": 657,
    "start_time": "2022-09-19T05:30:49.794Z"
   },
   {
    "duration": 716,
    "start_time": "2022-09-19T05:30:50.453Z"
   },
   {
    "duration": 5,
    "start_time": "2022-09-19T05:30:51.171Z"
   },
   {
    "duration": 11,
    "start_time": "2022-09-19T05:30:51.177Z"
   },
   {
    "duration": 9,
    "start_time": "2022-09-19T05:30:51.190Z"
   },
   {
    "duration": 9,
    "start_time": "2022-09-19T05:30:51.215Z"
   },
   {
    "duration": 7,
    "start_time": "2022-09-19T05:30:51.225Z"
   },
   {
    "duration": 10,
    "start_time": "2022-09-19T05:30:51.233Z"
   },
   {
    "duration": 10,
    "start_time": "2022-09-19T05:30:51.244Z"
   },
   {
    "duration": 32,
    "start_time": "2022-09-19T05:30:51.256Z"
   },
   {
    "duration": 5,
    "start_time": "2022-09-19T05:30:51.290Z"
   },
   {
    "duration": 710,
    "start_time": "2022-09-19T05:30:51.297Z"
   },
   {
    "duration": 0,
    "start_time": "2022-09-19T05:30:52.008Z"
   },
   {
    "duration": 0,
    "start_time": "2022-09-19T05:30:52.009Z"
   },
   {
    "duration": 0,
    "start_time": "2022-09-19T05:30:52.009Z"
   },
   {
    "duration": 0,
    "start_time": "2022-09-19T05:30:52.010Z"
   },
   {
    "duration": 0,
    "start_time": "2022-09-19T05:30:52.015Z"
   },
   {
    "duration": 0,
    "start_time": "2022-09-19T05:30:52.023Z"
   },
   {
    "duration": 0,
    "start_time": "2022-09-19T05:30:52.024Z"
   },
   {
    "duration": 0,
    "start_time": "2022-09-19T05:30:52.025Z"
   },
   {
    "duration": 444,
    "start_time": "2022-09-19T05:50:26.456Z"
   },
   {
    "duration": 454,
    "start_time": "2022-09-19T05:50:44.889Z"
   },
   {
    "duration": 455,
    "start_time": "2022-09-19T05:50:53.240Z"
   },
   {
    "duration": 542,
    "start_time": "2022-09-19T05:50:58.924Z"
   },
   {
    "duration": 472,
    "start_time": "2022-09-19T05:51:10.799Z"
   },
   {
    "duration": 466,
    "start_time": "2022-09-19T05:51:19.102Z"
   },
   {
    "duration": 1158,
    "start_time": "2022-09-19T05:51:43.304Z"
   },
   {
    "duration": 77,
    "start_time": "2022-09-19T05:51:44.467Z"
   },
   {
    "duration": 20,
    "start_time": "2022-09-19T05:51:44.547Z"
   },
   {
    "duration": 28,
    "start_time": "2022-09-19T05:51:44.570Z"
   },
   {
    "duration": 27,
    "start_time": "2022-09-19T05:51:44.600Z"
   },
   {
    "duration": 23,
    "start_time": "2022-09-19T05:51:44.640Z"
   },
   {
    "duration": 10,
    "start_time": "2022-09-19T05:51:44.664Z"
   },
   {
    "duration": 271,
    "start_time": "2022-09-19T05:51:44.676Z"
   },
   {
    "duration": 13,
    "start_time": "2022-09-19T05:51:44.949Z"
   },
   {
    "duration": 3,
    "start_time": "2022-09-19T05:51:44.964Z"
   },
   {
    "duration": 8,
    "start_time": "2022-09-19T05:51:44.968Z"
   },
   {
    "duration": 27,
    "start_time": "2022-09-19T05:51:44.977Z"
   },
   {
    "duration": 32,
    "start_time": "2022-09-19T05:51:45.006Z"
   },
   {
    "duration": 26,
    "start_time": "2022-09-19T05:51:45.042Z"
   },
   {
    "duration": 38,
    "start_time": "2022-09-19T05:51:45.070Z"
   },
   {
    "duration": 19,
    "start_time": "2022-09-19T05:51:45.122Z"
   },
   {
    "duration": 17,
    "start_time": "2022-09-19T05:51:45.148Z"
   },
   {
    "duration": 8,
    "start_time": "2022-09-19T05:51:45.166Z"
   },
   {
    "duration": 3,
    "start_time": "2022-09-19T05:51:45.175Z"
   },
   {
    "duration": 449,
    "start_time": "2022-09-19T05:51:45.180Z"
   },
   {
    "duration": 291,
    "start_time": "2022-09-19T05:51:45.637Z"
   },
   {
    "duration": 19,
    "start_time": "2022-09-19T05:51:45.930Z"
   },
   {
    "duration": 9,
    "start_time": "2022-09-19T05:51:45.952Z"
   },
   {
    "duration": 1496,
    "start_time": "2022-09-19T05:51:45.962Z"
   },
   {
    "duration": 546,
    "start_time": "2022-09-19T05:51:47.459Z"
   },
   {
    "duration": 1158,
    "start_time": "2022-09-19T05:51:48.006Z"
   },
   {
    "duration": 2,
    "start_time": "2022-09-19T05:51:49.167Z"
   },
   {
    "duration": 7,
    "start_time": "2022-09-19T05:51:49.171Z"
   },
   {
    "duration": 509,
    "start_time": "2022-09-19T05:51:49.179Z"
   },
   {
    "duration": 35,
    "start_time": "2022-09-19T05:51:49.690Z"
   },
   {
    "duration": 394,
    "start_time": "2022-09-19T05:51:49.727Z"
   },
   {
    "duration": 18,
    "start_time": "2022-09-19T05:51:50.126Z"
   },
   {
    "duration": 199,
    "start_time": "2022-09-19T05:51:50.148Z"
   },
   {
    "duration": 4,
    "start_time": "2022-09-19T05:51:50.349Z"
   },
   {
    "duration": 7,
    "start_time": "2022-09-19T05:51:50.355Z"
   },
   {
    "duration": 793,
    "start_time": "2022-09-19T05:51:50.364Z"
   },
   {
    "duration": 718,
    "start_time": "2022-09-19T05:51:51.159Z"
   },
   {
    "duration": 669,
    "start_time": "2022-09-19T05:51:51.878Z"
   },
   {
    "duration": 8,
    "start_time": "2022-09-19T05:51:52.550Z"
   },
   {
    "duration": 26,
    "start_time": "2022-09-19T05:51:52.564Z"
   },
   {
    "duration": 13,
    "start_time": "2022-09-19T05:51:52.592Z"
   },
   {
    "duration": 33,
    "start_time": "2022-09-19T05:51:52.607Z"
   },
   {
    "duration": 15,
    "start_time": "2022-09-19T05:51:52.642Z"
   },
   {
    "duration": 16,
    "start_time": "2022-09-19T05:51:52.659Z"
   },
   {
    "duration": 10,
    "start_time": "2022-09-19T05:51:52.677Z"
   },
   {
    "duration": 30,
    "start_time": "2022-09-19T05:51:52.689Z"
   },
   {
    "duration": 26,
    "start_time": "2022-09-19T05:51:52.726Z"
   },
   {
    "duration": 889,
    "start_time": "2022-09-19T05:51:52.754Z"
   },
   {
    "duration": 0,
    "start_time": "2022-09-19T05:51:53.656Z"
   },
   {
    "duration": 0,
    "start_time": "2022-09-19T05:51:53.658Z"
   },
   {
    "duration": 0,
    "start_time": "2022-09-19T05:51:53.659Z"
   },
   {
    "duration": 0,
    "start_time": "2022-09-19T05:51:53.660Z"
   },
   {
    "duration": 0,
    "start_time": "2022-09-19T05:51:53.661Z"
   },
   {
    "duration": 0,
    "start_time": "2022-09-19T05:51:53.663Z"
   },
   {
    "duration": 0,
    "start_time": "2022-09-19T05:51:53.665Z"
   },
   {
    "duration": 0,
    "start_time": "2022-09-19T05:51:53.666Z"
   },
   {
    "duration": 597,
    "start_time": "2022-09-19T06:14:25.602Z"
   },
   {
    "duration": 914,
    "start_time": "2022-09-19T06:27:16.533Z"
   },
   {
    "duration": 1410,
    "start_time": "2022-09-19T06:27:46.961Z"
   },
   {
    "duration": 1186,
    "start_time": "2022-09-19T06:30:31.754Z"
   },
   {
    "duration": 2460,
    "start_time": "2022-09-19T06:30:43.407Z"
   },
   {
    "duration": 1985,
    "start_time": "2022-09-19T06:31:16.165Z"
   },
   {
    "duration": 211,
    "start_time": "2022-09-19T06:40:22.436Z"
   },
   {
    "duration": 239,
    "start_time": "2022-09-19T06:42:30.307Z"
   },
   {
    "duration": 620,
    "start_time": "2022-09-19T06:49:20.643Z"
   },
   {
    "duration": 1244,
    "start_time": "2022-09-19T14:52:51.071Z"
   },
   {
    "duration": 99,
    "start_time": "2022-09-19T15:20:40.983Z"
   },
   {
    "duration": 3,
    "start_time": "2022-09-19T15:20:48.733Z"
   },
   {
    "duration": 99,
    "start_time": "2022-09-19T15:20:48.738Z"
   },
   {
    "duration": 17,
    "start_time": "2022-09-19T15:20:48.839Z"
   },
   {
    "duration": 35,
    "start_time": "2022-09-19T15:20:48.858Z"
   },
   {
    "duration": 3,
    "start_time": "2022-09-19T15:20:48.896Z"
   },
   {
    "duration": 19,
    "start_time": "2022-09-19T15:20:48.901Z"
   },
   {
    "duration": 15,
    "start_time": "2022-09-19T15:20:48.922Z"
   },
   {
    "duration": 216,
    "start_time": "2022-09-19T15:20:48.939Z"
   },
   {
    "duration": 21,
    "start_time": "2022-09-19T15:20:55.566Z"
   },
   {
    "duration": 10,
    "start_time": "2022-09-19T15:30:20.861Z"
   },
   {
    "duration": 8,
    "start_time": "2022-09-19T15:30:24.290Z"
   },
   {
    "duration": 8,
    "start_time": "2022-09-19T15:30:31.713Z"
   },
   {
    "duration": 5,
    "start_time": "2022-09-19T15:31:03.523Z"
   },
   {
    "duration": 5,
    "start_time": "2022-09-19T15:31:59.578Z"
   },
   {
    "duration": 7,
    "start_time": "2022-09-19T15:35:38.147Z"
   },
   {
    "duration": 20,
    "start_time": "2022-09-19T15:35:41.016Z"
   },
   {
    "duration": 5,
    "start_time": "2022-09-19T16:56:09.712Z"
   },
   {
    "duration": 4,
    "start_time": "2022-09-19T16:56:23.315Z"
   },
   {
    "duration": 10,
    "start_time": "2022-09-19T16:56:52.506Z"
   },
   {
    "duration": 5,
    "start_time": "2022-09-19T16:57:01.657Z"
   },
   {
    "duration": 9,
    "start_time": "2022-09-19T16:57:02.780Z"
   },
   {
    "duration": 4,
    "start_time": "2022-09-19T16:57:06.194Z"
   },
   {
    "duration": 8,
    "start_time": "2022-09-19T16:57:07.174Z"
   },
   {
    "duration": 1075,
    "start_time": "2022-09-19T16:57:20.725Z"
   },
   {
    "duration": 52,
    "start_time": "2022-09-19T16:57:21.802Z"
   },
   {
    "duration": 13,
    "start_time": "2022-09-19T16:57:21.856Z"
   },
   {
    "duration": 15,
    "start_time": "2022-09-19T16:57:21.870Z"
   },
   {
    "duration": 3,
    "start_time": "2022-09-19T16:57:21.887Z"
   },
   {
    "duration": 13,
    "start_time": "2022-09-19T16:57:21.891Z"
   },
   {
    "duration": 16,
    "start_time": "2022-09-19T16:57:21.906Z"
   },
   {
    "duration": 165,
    "start_time": "2022-09-19T16:57:21.924Z"
   },
   {
    "duration": 21,
    "start_time": "2022-09-19T16:57:22.091Z"
   },
   {
    "duration": 5,
    "start_time": "2022-09-19T16:57:22.121Z"
   },
   {
    "duration": 9,
    "start_time": "2022-09-19T16:57:22.127Z"
   },
   {
    "duration": 8,
    "start_time": "2022-09-19T16:57:22.138Z"
   },
   {
    "duration": 8,
    "start_time": "2022-09-19T16:57:27.315Z"
   },
   {
    "duration": 5,
    "start_time": "2022-09-19T16:58:31.186Z"
   },
   {
    "duration": 9,
    "start_time": "2022-09-19T16:58:32.383Z"
   },
   {
    "duration": 1127,
    "start_time": "2022-09-19T16:58:48.692Z"
   },
   {
    "duration": 52,
    "start_time": "2022-09-19T16:58:49.820Z"
   },
   {
    "duration": 13,
    "start_time": "2022-09-19T16:58:49.874Z"
   },
   {
    "duration": 17,
    "start_time": "2022-09-19T16:58:49.889Z"
   },
   {
    "duration": 3,
    "start_time": "2022-09-19T16:58:49.907Z"
   },
   {
    "duration": 10,
    "start_time": "2022-09-19T16:58:49.911Z"
   },
   {
    "duration": 4,
    "start_time": "2022-09-19T16:58:49.923Z"
   },
   {
    "duration": 178,
    "start_time": "2022-09-19T16:58:49.929Z"
   },
   {
    "duration": 24,
    "start_time": "2022-09-19T16:58:50.108Z"
   },
   {
    "duration": 6,
    "start_time": "2022-09-19T16:58:50.134Z"
   },
   {
    "duration": 4,
    "start_time": "2022-09-19T16:58:53.520Z"
   },
   {
    "duration": 7,
    "start_time": "2022-09-19T16:59:46.078Z"
   },
   {
    "duration": 9,
    "start_time": "2022-09-19T16:59:51.516Z"
   },
   {
    "duration": 103,
    "start_time": "2022-09-19T17:00:07.922Z"
   },
   {
    "duration": 6,
    "start_time": "2022-09-19T17:00:11.098Z"
   },
   {
    "duration": 11,
    "start_time": "2022-09-19T17:00:19.670Z"
   },
   {
    "duration": 8,
    "start_time": "2022-09-19T17:00:23.395Z"
   },
   {
    "duration": 7,
    "start_time": "2022-09-19T17:00:37.245Z"
   },
   {
    "duration": 9,
    "start_time": "2022-09-19T17:00:41.325Z"
   },
   {
    "duration": 4,
    "start_time": "2022-09-19T17:01:34.113Z"
   },
   {
    "duration": 11,
    "start_time": "2022-09-19T17:01:35.638Z"
   },
   {
    "duration": 7,
    "start_time": "2022-09-19T17:02:27.934Z"
   },
   {
    "duration": 5,
    "start_time": "2022-09-19T17:02:42.307Z"
   },
   {
    "duration": 10,
    "start_time": "2022-09-19T17:03:04.024Z"
   },
   {
    "duration": 9,
    "start_time": "2022-09-19T17:03:09.357Z"
   },
   {
    "duration": 6,
    "start_time": "2022-09-19T17:03:17.054Z"
   },
   {
    "duration": 15,
    "start_time": "2022-09-19T17:03:48.360Z"
   },
   {
    "duration": 18,
    "start_time": "2022-09-19T17:03:53.965Z"
   },
   {
    "duration": 15,
    "start_time": "2022-09-19T17:04:17.804Z"
   },
   {
    "duration": 15,
    "start_time": "2022-09-19T17:04:50.930Z"
   },
   {
    "duration": 11,
    "start_time": "2022-09-19T17:17:46.554Z"
   },
   {
    "duration": 6,
    "start_time": "2022-09-19T17:18:53.168Z"
   },
   {
    "duration": 10,
    "start_time": "2022-09-19T17:18:54.256Z"
   },
   {
    "duration": 4,
    "start_time": "2022-09-19T17:19:04.328Z"
   },
   {
    "duration": 13,
    "start_time": "2022-09-19T17:19:20.198Z"
   },
   {
    "duration": 62,
    "start_time": "2022-09-19T17:26:18.934Z"
   },
   {
    "duration": 5,
    "start_time": "2022-09-19T17:29:07.143Z"
   },
   {
    "duration": 8,
    "start_time": "2022-09-19T17:29:23.604Z"
   },
   {
    "duration": 6,
    "start_time": "2022-09-19T17:46:26.351Z"
   },
   {
    "duration": 5,
    "start_time": "2022-09-19T17:46:31.776Z"
   },
   {
    "duration": 5,
    "start_time": "2022-09-19T17:46:45.203Z"
   },
   {
    "duration": 5,
    "start_time": "2022-09-19T17:46:46.304Z"
   },
   {
    "duration": 4,
    "start_time": "2022-09-19T17:47:13.160Z"
   },
   {
    "duration": 4,
    "start_time": "2022-09-19T17:47:17.501Z"
   },
   {
    "duration": 5,
    "start_time": "2022-09-19T17:48:14.266Z"
   },
   {
    "duration": 4,
    "start_time": "2022-09-19T17:48:18.522Z"
   },
   {
    "duration": 15,
    "start_time": "2022-09-19T17:49:25.726Z"
   },
   {
    "duration": 7,
    "start_time": "2022-09-19T17:50:51.298Z"
   },
   {
    "duration": 6,
    "start_time": "2022-09-19T17:51:03.867Z"
   },
   {
    "duration": 6,
    "start_time": "2022-09-19T20:46:18.341Z"
   },
   {
    "duration": 6,
    "start_time": "2022-09-19T20:47:22.104Z"
   },
   {
    "duration": 1218,
    "start_time": "2022-09-19T20:47:28.217Z"
   },
   {
    "duration": 52,
    "start_time": "2022-09-19T20:47:29.442Z"
   },
   {
    "duration": 14,
    "start_time": "2022-09-19T20:47:29.496Z"
   },
   {
    "duration": 28,
    "start_time": "2022-09-19T20:47:29.512Z"
   },
   {
    "duration": 33,
    "start_time": "2022-09-19T20:47:29.541Z"
   },
   {
    "duration": 25,
    "start_time": "2022-09-19T20:47:29.575Z"
   },
   {
    "duration": 46,
    "start_time": "2022-09-19T20:47:29.601Z"
   },
   {
    "duration": 205,
    "start_time": "2022-09-19T20:47:29.648Z"
   },
   {
    "duration": 21,
    "start_time": "2022-09-19T20:47:29.855Z"
   },
   {
    "duration": 13,
    "start_time": "2022-09-19T20:47:29.878Z"
   },
   {
    "duration": 14,
    "start_time": "2022-09-19T20:47:29.893Z"
   },
   {
    "duration": 42,
    "start_time": "2022-09-19T20:47:29.908Z"
   },
   {
    "duration": 13,
    "start_time": "2022-09-19T20:47:29.952Z"
   },
   {
    "duration": 7,
    "start_time": "2022-09-19T20:47:29.966Z"
   },
   {
    "duration": 7,
    "start_time": "2022-09-19T20:47:29.974Z"
   },
   {
    "duration": 8,
    "start_time": "2022-09-19T20:47:29.982Z"
   },
   {
    "duration": 12,
    "start_time": "2022-09-19T20:47:29.991Z"
   },
   {
    "duration": 56,
    "start_time": "2022-09-19T20:47:30.005Z"
   },
   {
    "duration": 30,
    "start_time": "2022-09-19T20:47:30.063Z"
   },
   {
    "duration": 21,
    "start_time": "2022-09-19T20:47:30.095Z"
   },
   {
    "duration": 36,
    "start_time": "2022-09-19T20:47:30.118Z"
   },
   {
    "duration": 41,
    "start_time": "2022-09-19T20:47:30.156Z"
   },
   {
    "duration": 32,
    "start_time": "2022-09-19T20:47:30.198Z"
   },
   {
    "duration": 41,
    "start_time": "2022-09-19T20:47:30.233Z"
   },
   {
    "duration": 64,
    "start_time": "2022-09-19T20:47:30.276Z"
   },
   {
    "duration": 32,
    "start_time": "2022-09-19T20:47:30.342Z"
   },
   {
    "duration": 20,
    "start_time": "2022-09-19T20:47:30.375Z"
   },
   {
    "duration": 15,
    "start_time": "2022-09-19T20:47:30.398Z"
   },
   {
    "duration": 31,
    "start_time": "2022-09-19T20:47:30.415Z"
   },
   {
    "duration": 453,
    "start_time": "2022-09-19T20:47:30.448Z"
   },
   {
    "duration": 283,
    "start_time": "2022-09-19T20:47:30.902Z"
   },
   {
    "duration": 11,
    "start_time": "2022-09-19T20:47:31.187Z"
   },
   {
    "duration": 29,
    "start_time": "2022-09-19T20:47:31.200Z"
   },
   {
    "duration": 1507,
    "start_time": "2022-09-19T20:47:31.230Z"
   },
   {
    "duration": 450,
    "start_time": "2022-09-19T20:47:32.738Z"
   },
   {
    "duration": 1065,
    "start_time": "2022-09-19T20:47:33.189Z"
   },
   {
    "duration": 2,
    "start_time": "2022-09-19T20:47:34.256Z"
   },
   {
    "duration": 6,
    "start_time": "2022-09-19T20:47:34.260Z"
   },
   {
    "duration": 469,
    "start_time": "2022-09-19T20:47:34.267Z"
   },
   {
    "duration": 18,
    "start_time": "2022-09-19T20:47:34.738Z"
   },
   {
    "duration": 398,
    "start_time": "2022-09-19T20:47:34.758Z"
   },
   {
    "duration": 12,
    "start_time": "2022-09-19T20:47:35.158Z"
   },
   {
    "duration": 193,
    "start_time": "2022-09-19T20:47:35.172Z"
   },
   {
    "duration": 3,
    "start_time": "2022-09-19T20:47:35.366Z"
   },
   {
    "duration": 8,
    "start_time": "2022-09-19T20:47:35.370Z"
   },
   {
    "duration": 765,
    "start_time": "2022-09-19T20:47:35.380Z"
   },
   {
    "duration": 659,
    "start_time": "2022-09-19T20:47:36.146Z"
   },
   {
    "duration": 666,
    "start_time": "2022-09-19T20:47:36.807Z"
   },
   {
    "duration": 6,
    "start_time": "2022-09-19T20:47:37.475Z"
   },
   {
    "duration": 17,
    "start_time": "2022-09-19T20:47:37.482Z"
   },
   {
    "duration": 13,
    "start_time": "2022-09-19T20:47:37.501Z"
   },
   {
    "duration": 10,
    "start_time": "2022-09-19T20:47:37.529Z"
   },
   {
    "duration": 22,
    "start_time": "2022-09-19T20:47:37.543Z"
   },
   {
    "duration": 12,
    "start_time": "2022-09-19T20:47:37.567Z"
   },
   {
    "duration": 10,
    "start_time": "2022-09-19T20:47:37.581Z"
   },
   {
    "duration": 16,
    "start_time": "2022-09-19T20:47:37.593Z"
   },
   {
    "duration": 34,
    "start_time": "2022-09-19T20:47:37.611Z"
   },
   {
    "duration": 723,
    "start_time": "2022-09-19T20:47:37.647Z"
   },
   {
    "duration": 0,
    "start_time": "2022-09-19T20:47:38.371Z"
   },
   {
    "duration": 0,
    "start_time": "2022-09-19T20:47:38.373Z"
   },
   {
    "duration": 0,
    "start_time": "2022-09-19T20:47:38.374Z"
   },
   {
    "duration": 0,
    "start_time": "2022-09-19T20:47:38.375Z"
   },
   {
    "duration": 0,
    "start_time": "2022-09-19T20:47:38.376Z"
   },
   {
    "duration": 0,
    "start_time": "2022-09-19T20:47:38.376Z"
   },
   {
    "duration": 0,
    "start_time": "2022-09-19T20:47:38.377Z"
   },
   {
    "duration": 0,
    "start_time": "2022-09-19T20:47:38.378Z"
   },
   {
    "duration": 7,
    "start_time": "2022-09-19T20:53:18.096Z"
   },
   {
    "duration": 3,
    "start_time": "2022-09-19T22:30:19.976Z"
   },
   {
    "duration": 9,
    "start_time": "2022-09-19T22:37:30.466Z"
   },
   {
    "duration": 9,
    "start_time": "2022-09-19T22:37:52.432Z"
   },
   {
    "duration": 18,
    "start_time": "2022-09-19T22:45:04.327Z"
   },
   {
    "duration": 47,
    "start_time": "2022-09-19T22:53:14.074Z"
   },
   {
    "duration": 19,
    "start_time": "2022-09-19T22:53:22.977Z"
   },
   {
    "duration": 20,
    "start_time": "2022-09-19T23:51:14.891Z"
   },
   {
    "duration": 43,
    "start_time": "2022-09-20T14:22:44.679Z"
   },
   {
    "duration": 1254,
    "start_time": "2022-09-20T14:22:53.543Z"
   },
   {
    "duration": 94,
    "start_time": "2022-09-20T14:22:54.799Z"
   },
   {
    "duration": 15,
    "start_time": "2022-09-20T14:22:54.895Z"
   },
   {
    "duration": 17,
    "start_time": "2022-09-20T14:22:54.911Z"
   },
   {
    "duration": 3,
    "start_time": "2022-09-20T14:22:54.931Z"
   },
   {
    "duration": 11,
    "start_time": "2022-09-20T14:22:54.935Z"
   },
   {
    "duration": 5,
    "start_time": "2022-09-20T14:22:54.948Z"
   },
   {
    "duration": 203,
    "start_time": "2022-09-20T14:22:54.955Z"
   },
   {
    "duration": 22,
    "start_time": "2022-09-20T14:22:55.160Z"
   },
   {
    "duration": 5,
    "start_time": "2022-09-20T14:22:55.200Z"
   },
   {
    "duration": 8,
    "start_time": "2022-09-20T14:22:55.206Z"
   },
   {
    "duration": 10,
    "start_time": "2022-09-20T14:22:55.215Z"
   },
   {
    "duration": 10,
    "start_time": "2022-09-20T14:22:55.226Z"
   },
   {
    "duration": 6,
    "start_time": "2022-09-20T14:22:55.238Z"
   },
   {
    "duration": 11,
    "start_time": "2022-09-20T14:22:55.246Z"
   },
   {
    "duration": 7,
    "start_time": "2022-09-20T14:22:55.258Z"
   },
   {
    "duration": 34,
    "start_time": "2022-09-20T14:22:55.266Z"
   },
   {
    "duration": 5,
    "start_time": "2022-09-20T14:22:55.302Z"
   },
   {
    "duration": 12,
    "start_time": "2022-09-20T14:22:55.308Z"
   },
   {
    "duration": 9,
    "start_time": "2022-09-20T14:22:55.322Z"
   },
   {
    "duration": 8,
    "start_time": "2022-09-20T14:22:55.333Z"
   },
   {
    "duration": 16,
    "start_time": "2022-09-20T14:22:55.343Z"
   },
   {
    "duration": 44,
    "start_time": "2022-09-20T14:22:55.361Z"
   },
   {
    "duration": 23,
    "start_time": "2022-09-20T14:22:55.407Z"
   },
   {
    "duration": 1468,
    "start_time": "2022-09-20T14:23:01.447Z"
   },
   {
    "duration": 5,
    "start_time": "2022-09-20T14:23:51.050Z"
   },
   {
    "duration": 14,
    "start_time": "2022-09-20T14:23:54.377Z"
   },
   {
    "duration": 28,
    "start_time": "2022-09-20T14:24:14.097Z"
   },
   {
    "duration": 25,
    "start_time": "2022-09-20T14:24:34.987Z"
   },
   {
    "duration": 4,
    "start_time": "2022-09-20T14:24:52.851Z"
   },
   {
    "duration": 15,
    "start_time": "2022-09-20T14:47:55.310Z"
   },
   {
    "duration": 25,
    "start_time": "2022-09-20T14:50:21.808Z"
   },
   {
    "duration": 23,
    "start_time": "2022-09-20T14:50:35.587Z"
   },
   {
    "duration": 8,
    "start_time": "2022-09-20T14:58:24.764Z"
   },
   {
    "duration": 11,
    "start_time": "2022-09-20T14:58:30.526Z"
   },
   {
    "duration": 7,
    "start_time": "2022-09-20T14:58:32.677Z"
   },
   {
    "duration": 3,
    "start_time": "2022-09-20T14:58:35.229Z"
   },
   {
    "duration": 378,
    "start_time": "2022-09-20T14:58:36.132Z"
   },
   {
    "duration": 171,
    "start_time": "2022-09-20T14:58:55.691Z"
   },
   {
    "duration": 415,
    "start_time": "2022-09-20T14:58:59.346Z"
   },
   {
    "duration": 12,
    "start_time": "2022-09-20T15:03:25.714Z"
   },
   {
    "duration": 6,
    "start_time": "2022-09-20T15:03:35.580Z"
   },
   {
    "duration": 340,
    "start_time": "2022-09-20T15:03:38.881Z"
   },
   {
    "duration": 264,
    "start_time": "2022-09-20T15:04:39.512Z"
   },
   {
    "duration": 21,
    "start_time": "2022-09-20T15:27:35.422Z"
   },
   {
    "duration": 5,
    "start_time": "2022-09-20T15:39:13.922Z"
   },
   {
    "duration": 1385,
    "start_time": "2022-09-20T15:39:27.867Z"
   },
   {
    "duration": 1289,
    "start_time": "2022-09-20T16:03:54.508Z"
   },
   {
    "duration": 554,
    "start_time": "2022-09-20T16:05:41.265Z"
   },
   {
    "duration": 1203,
    "start_time": "2022-09-20T16:05:58.375Z"
   },
   {
    "duration": 9,
    "start_time": "2022-09-20T16:07:23.749Z"
   },
   {
    "duration": 1447,
    "start_time": "2022-09-20T16:07:29.176Z"
   },
   {
    "duration": 1374,
    "start_time": "2022-09-20T16:07:38.054Z"
   },
   {
    "duration": 1336,
    "start_time": "2022-09-20T16:07:44.609Z"
   },
   {
    "duration": 27,
    "start_time": "2022-09-20T16:18:41.122Z"
   },
   {
    "duration": 41,
    "start_time": "2022-09-20T16:41:36.942Z"
   },
   {
    "duration": 27,
    "start_time": "2022-09-20T16:42:20.047Z"
   },
   {
    "duration": 23,
    "start_time": "2022-09-20T16:43:07.255Z"
   },
   {
    "duration": 26,
    "start_time": "2022-09-20T16:44:14.500Z"
   },
   {
    "duration": 23,
    "start_time": "2022-09-20T16:46:14.248Z"
   },
   {
    "duration": 257,
    "start_time": "2022-09-20T17:41:03.585Z"
   },
   {
    "duration": 278,
    "start_time": "2022-09-20T17:42:36.445Z"
   },
   {
    "duration": 261,
    "start_time": "2022-09-20T17:42:39.531Z"
   },
   {
    "duration": 3,
    "start_time": "2022-09-20T17:47:54.159Z"
   },
   {
    "duration": 89,
    "start_time": "2022-09-20T17:50:24.957Z"
   },
   {
    "duration": 19,
    "start_time": "2022-09-20T17:50:30.871Z"
   },
   {
    "duration": 25,
    "start_time": "2022-09-20T17:50:57.481Z"
   },
   {
    "duration": 61,
    "start_time": "2022-09-20T17:51:49.839Z"
   },
   {
    "duration": 53,
    "start_time": "2022-09-20T17:52:26.737Z"
   },
   {
    "duration": 11,
    "start_time": "2022-09-20T17:52:34.281Z"
   },
   {
    "duration": 8,
    "start_time": "2022-09-20T17:52:46.643Z"
   },
   {
    "duration": 66,
    "start_time": "2022-09-20T17:54:08.206Z"
   },
   {
    "duration": 14,
    "start_time": "2022-09-20T17:54:20.438Z"
   },
   {
    "duration": 379,
    "start_time": "2022-09-20T17:58:22.289Z"
   },
   {
    "duration": 343,
    "start_time": "2022-09-20T17:58:36.877Z"
   },
   {
    "duration": 4,
    "start_time": "2022-09-20T17:58:44.773Z"
   },
   {
    "duration": 451,
    "start_time": "2022-09-20T17:58:46.438Z"
   },
   {
    "duration": 356,
    "start_time": "2022-09-20T17:59:53.638Z"
   },
   {
    "duration": 12,
    "start_time": "2022-09-20T18:04:25.642Z"
   },
   {
    "duration": 41,
    "start_time": "2022-09-20T18:10:59.850Z"
   },
   {
    "duration": 63,
    "start_time": "2022-09-20T18:12:37.309Z"
   },
   {
    "duration": 3,
    "start_time": "2022-09-20T18:12:52.654Z"
   },
   {
    "duration": 4,
    "start_time": "2022-09-20T18:14:52.681Z"
   },
   {
    "duration": 345,
    "start_time": "2022-09-20T18:14:55.896Z"
   },
   {
    "duration": 189,
    "start_time": "2022-09-20T18:15:50.978Z"
   },
   {
    "duration": 392,
    "start_time": "2022-09-20T18:15:55.903Z"
   },
   {
    "duration": 348,
    "start_time": "2022-09-20T18:17:16.073Z"
   },
   {
    "duration": 447,
    "start_time": "2022-09-20T18:17:35.935Z"
   },
   {
    "duration": 432,
    "start_time": "2022-09-20T18:18:14.117Z"
   },
   {
    "duration": 4,
    "start_time": "2022-09-20T18:18:43.845Z"
   },
   {
    "duration": 381,
    "start_time": "2022-09-20T18:18:45.497Z"
   },
   {
    "duration": 407,
    "start_time": "2022-09-20T18:19:25.146Z"
   },
   {
    "duration": 173,
    "start_time": "2022-09-20T18:31:15.026Z"
   },
   {
    "duration": 74,
    "start_time": "2022-09-20T18:33:41.731Z"
   },
   {
    "duration": 198,
    "start_time": "2022-09-20T18:33:59.007Z"
   },
   {
    "duration": 182,
    "start_time": "2022-09-20T18:34:10.591Z"
   },
   {
    "duration": 3,
    "start_time": "2022-09-20T18:34:44.832Z"
   },
   {
    "duration": 467,
    "start_time": "2022-09-20T18:34:47.070Z"
   },
   {
    "duration": 391,
    "start_time": "2022-09-20T18:34:50.127Z"
   },
   {
    "duration": 1236,
    "start_time": "2022-09-20T18:35:05.451Z"
   },
   {
    "duration": 1420,
    "start_time": "2022-09-20T18:35:11.020Z"
   },
   {
    "duration": 251,
    "start_time": "2022-09-20T18:35:20.034Z"
   },
   {
    "duration": 241,
    "start_time": "2022-09-20T18:35:24.884Z"
   },
   {
    "duration": 401,
    "start_time": "2022-09-20T18:35:34.472Z"
   },
   {
    "duration": 3,
    "start_time": "2022-09-20T18:38:30.192Z"
   },
   {
    "duration": 3,
    "start_time": "2022-09-20T18:38:31.770Z"
   },
   {
    "duration": 3,
    "start_time": "2022-09-20T18:38:37.337Z"
   },
   {
    "duration": 3,
    "start_time": "2022-09-20T18:38:43.170Z"
   },
   {
    "duration": 656,
    "start_time": "2022-09-20T18:38:44.552Z"
   },
   {
    "duration": 778,
    "start_time": "2022-09-20T18:41:16.306Z"
   },
   {
    "duration": 58,
    "start_time": "2022-09-20T18:41:28.678Z"
   },
   {
    "duration": 69,
    "start_time": "2022-09-20T18:41:36.544Z"
   },
   {
    "duration": 3,
    "start_time": "2022-09-20T18:41:48.635Z"
   },
   {
    "duration": 625,
    "start_time": "2022-09-20T18:41:49.540Z"
   },
   {
    "duration": 3,
    "start_time": "2022-09-20T18:52:53.981Z"
   },
   {
    "duration": 59,
    "start_time": "2022-09-20T18:56:56.593Z"
   },
   {
    "duration": 3,
    "start_time": "2022-09-20T18:57:03.547Z"
   },
   {
    "duration": 902,
    "start_time": "2022-09-20T18:57:06.682Z"
   },
   {
    "duration": 4,
    "start_time": "2022-09-20T18:57:34.710Z"
   },
   {
    "duration": 121,
    "start_time": "2022-09-20T18:57:36.847Z"
   },
   {
    "duration": 5,
    "start_time": "2022-09-20T18:57:50.313Z"
   },
   {
    "duration": 3,
    "start_time": "2022-09-20T18:57:50.386Z"
   },
   {
    "duration": 20,
    "start_time": "2022-09-20T18:57:51.442Z"
   },
   {
    "duration": 3,
    "start_time": "2022-09-20T18:57:56.690Z"
   },
   {
    "duration": 672,
    "start_time": "2022-09-20T18:57:58.378Z"
   },
   {
    "duration": 3,
    "start_time": "2022-09-20T18:58:20.282Z"
   },
   {
    "duration": 53,
    "start_time": "2022-09-20T18:58:26.331Z"
   },
   {
    "duration": 3,
    "start_time": "2022-09-20T18:59:02.586Z"
   },
   {
    "duration": 779,
    "start_time": "2022-09-20T18:59:03.702Z"
   },
   {
    "duration": 3,
    "start_time": "2022-09-20T20:17:57.247Z"
   },
   {
    "duration": 9,
    "start_time": "2022-09-20T20:19:49.463Z"
   },
   {
    "duration": 16,
    "start_time": "2022-09-20T20:20:24.258Z"
   },
   {
    "duration": 17,
    "start_time": "2022-09-20T20:20:43.047Z"
   },
   {
    "duration": 51,
    "start_time": "2022-09-20T20:21:36.714Z"
   },
   {
    "duration": 3,
    "start_time": "2022-09-20T20:21:43.168Z"
   },
   {
    "duration": 657,
    "start_time": "2022-09-20T20:21:45.282Z"
   },
   {
    "duration": 3,
    "start_time": "2022-09-20T20:22:16.252Z"
   },
   {
    "duration": 777,
    "start_time": "2022-09-20T20:22:17.490Z"
   },
   {
    "duration": 3,
    "start_time": "2022-09-20T20:25:48.548Z"
   },
   {
    "duration": 696,
    "start_time": "2022-09-20T20:26:00.184Z"
   },
   {
    "duration": 4,
    "start_time": "2022-09-20T20:26:58.009Z"
   },
   {
    "duration": 674,
    "start_time": "2022-09-20T20:27:00.139Z"
   },
   {
    "duration": 5,
    "start_time": "2022-09-20T20:28:35.673Z"
   },
   {
    "duration": 42,
    "start_time": "2022-09-20T20:28:39.158Z"
   },
   {
    "duration": 3,
    "start_time": "2022-09-20T20:28:54.623Z"
   },
   {
    "duration": 815,
    "start_time": "2022-09-20T20:28:56.776Z"
   },
   {
    "duration": 3,
    "start_time": "2022-09-20T20:30:30.043Z"
   },
   {
    "duration": 644,
    "start_time": "2022-09-20T20:30:31.525Z"
   },
   {
    "duration": 719,
    "start_time": "2022-09-20T20:30:38.935Z"
   },
   {
    "duration": 2,
    "start_time": "2022-09-20T20:30:56.247Z"
   },
   {
    "duration": 4,
    "start_time": "2022-09-20T20:30:58.115Z"
   },
   {
    "duration": 656,
    "start_time": "2022-09-20T20:30:59.814Z"
   },
   {
    "duration": 7,
    "start_time": "2022-09-20T20:32:10.554Z"
   },
   {
    "duration": 3,
    "start_time": "2022-09-20T20:32:14.077Z"
   },
   {
    "duration": 3,
    "start_time": "2022-09-20T20:32:47.357Z"
   },
   {
    "duration": 834,
    "start_time": "2022-09-20T20:32:48.935Z"
   },
   {
    "duration": 3,
    "start_time": "2022-09-20T20:33:44.170Z"
   },
   {
    "duration": 3,
    "start_time": "2022-09-20T20:33:46.222Z"
   },
   {
    "duration": 3,
    "start_time": "2022-09-20T20:33:49.271Z"
   },
   {
    "duration": 670,
    "start_time": "2022-09-20T20:33:51.148Z"
   },
   {
    "duration": 4,
    "start_time": "2022-09-20T20:34:33.341Z"
   },
   {
    "duration": 651,
    "start_time": "2022-09-20T20:34:35.141Z"
   },
   {
    "duration": 4,
    "start_time": "2022-09-20T20:35:10.965Z"
   },
   {
    "duration": 1452,
    "start_time": "2022-09-20T20:35:11.948Z"
   },
   {
    "duration": 13,
    "start_time": "2022-09-20T20:35:54.734Z"
   },
   {
    "duration": 898,
    "start_time": "2022-09-20T20:36:21.072Z"
   },
   {
    "duration": 840,
    "start_time": "2022-09-20T20:36:40.120Z"
   },
   {
    "duration": 4,
    "start_time": "2022-09-20T20:36:53.974Z"
   },
   {
    "duration": 720,
    "start_time": "2022-09-20T20:36:54.913Z"
   },
   {
    "duration": 117,
    "start_time": "2022-09-20T20:58:11.428Z"
   },
   {
    "duration": 702,
    "start_time": "2022-09-20T20:58:39.515Z"
   },
   {
    "duration": 833,
    "start_time": "2022-09-20T20:58:46.342Z"
   },
   {
    "duration": 680,
    "start_time": "2022-09-20T20:58:52.363Z"
   },
   {
    "duration": 648,
    "start_time": "2022-09-20T20:58:57.211Z"
   },
   {
    "duration": 775,
    "start_time": "2022-09-20T20:59:04.050Z"
   },
   {
    "duration": 682,
    "start_time": "2022-09-20T20:59:27.423Z"
   },
   {
    "duration": 695,
    "start_time": "2022-09-20T20:59:35.835Z"
   },
   {
    "duration": 763,
    "start_time": "2022-09-20T21:00:20.947Z"
   },
   {
    "duration": 6,
    "start_time": "2022-09-20T21:01:42.643Z"
   },
   {
    "duration": 6,
    "start_time": "2022-09-20T21:02:42.883Z"
   },
   {
    "duration": 5,
    "start_time": "2022-09-20T21:03:00.743Z"
   },
   {
    "duration": 6,
    "start_time": "2022-09-20T21:03:03.546Z"
   },
   {
    "duration": 1075,
    "start_time": "2022-09-20T21:03:29.410Z"
   },
   {
    "duration": 50,
    "start_time": "2022-09-20T21:03:30.486Z"
   },
   {
    "duration": 14,
    "start_time": "2022-09-20T21:03:30.537Z"
   },
   {
    "duration": 23,
    "start_time": "2022-09-20T21:03:30.553Z"
   },
   {
    "duration": 5,
    "start_time": "2022-09-20T21:03:30.578Z"
   },
   {
    "duration": 28,
    "start_time": "2022-09-20T21:03:30.584Z"
   },
   {
    "duration": 13,
    "start_time": "2022-09-20T21:03:30.614Z"
   },
   {
    "duration": 177,
    "start_time": "2022-09-20T21:03:30.629Z"
   },
   {
    "duration": 21,
    "start_time": "2022-09-20T21:03:30.808Z"
   },
   {
    "duration": 12,
    "start_time": "2022-09-20T21:03:30.831Z"
   },
   {
    "duration": 7,
    "start_time": "2022-09-20T21:03:30.845Z"
   },
   {
    "duration": 6,
    "start_time": "2022-09-20T21:03:30.854Z"
   },
   {
    "duration": 10,
    "start_time": "2022-09-20T21:03:30.862Z"
   },
   {
    "duration": 8,
    "start_time": "2022-09-20T21:03:30.899Z"
   },
   {
    "duration": 11,
    "start_time": "2022-09-20T21:03:30.909Z"
   },
   {
    "duration": 10,
    "start_time": "2022-09-20T21:03:30.922Z"
   },
   {
    "duration": 8,
    "start_time": "2022-09-20T21:03:30.934Z"
   },
   {
    "duration": 10,
    "start_time": "2022-09-20T21:03:30.944Z"
   },
   {
    "duration": 11,
    "start_time": "2022-09-20T21:03:30.956Z"
   },
   {
    "duration": 37,
    "start_time": "2022-09-20T21:03:30.969Z"
   },
   {
    "duration": 5,
    "start_time": "2022-09-20T21:03:31.008Z"
   },
   {
    "duration": 9,
    "start_time": "2022-09-20T21:03:31.014Z"
   },
   {
    "duration": 14,
    "start_time": "2022-09-20T21:03:31.025Z"
   },
   {
    "duration": 8,
    "start_time": "2022-09-20T21:03:31.041Z"
   },
   {
    "duration": 15,
    "start_time": "2022-09-20T21:03:31.050Z"
   },
   {
    "duration": 20,
    "start_time": "2022-09-20T21:03:31.100Z"
   },
   {
    "duration": 934,
    "start_time": "2022-09-20T21:03:31.122Z"
   },
   {
    "duration": 0,
    "start_time": "2022-09-20T21:03:32.059Z"
   },
   {
    "duration": 0,
    "start_time": "2022-09-20T21:03:32.060Z"
   },
   {
    "duration": 0,
    "start_time": "2022-09-20T21:03:32.061Z"
   },
   {
    "duration": 0,
    "start_time": "2022-09-20T21:03:32.062Z"
   },
   {
    "duration": 0,
    "start_time": "2022-09-20T21:03:32.063Z"
   },
   {
    "duration": 0,
    "start_time": "2022-09-20T21:03:32.064Z"
   },
   {
    "duration": 0,
    "start_time": "2022-09-20T21:03:32.066Z"
   },
   {
    "duration": 0,
    "start_time": "2022-09-20T21:03:32.066Z"
   },
   {
    "duration": 0,
    "start_time": "2022-09-20T21:03:32.067Z"
   },
   {
    "duration": 0,
    "start_time": "2022-09-20T21:03:32.068Z"
   },
   {
    "duration": 0,
    "start_time": "2022-09-20T21:03:32.069Z"
   },
   {
    "duration": 0,
    "start_time": "2022-09-20T21:03:32.070Z"
   },
   {
    "duration": 0,
    "start_time": "2022-09-20T21:03:32.071Z"
   },
   {
    "duration": 0,
    "start_time": "2022-09-20T21:03:32.072Z"
   },
   {
    "duration": 0,
    "start_time": "2022-09-20T21:03:32.073Z"
   },
   {
    "duration": 0,
    "start_time": "2022-09-20T21:03:32.074Z"
   },
   {
    "duration": 0,
    "start_time": "2022-09-20T21:03:32.075Z"
   },
   {
    "duration": 0,
    "start_time": "2022-09-20T21:03:32.077Z"
   },
   {
    "duration": 0,
    "start_time": "2022-09-20T21:03:32.078Z"
   },
   {
    "duration": 0,
    "start_time": "2022-09-20T21:03:32.079Z"
   },
   {
    "duration": 0,
    "start_time": "2022-09-20T21:03:32.080Z"
   },
   {
    "duration": 0,
    "start_time": "2022-09-20T21:03:32.081Z"
   },
   {
    "duration": 0,
    "start_time": "2022-09-20T21:03:32.082Z"
   },
   {
    "duration": 0,
    "start_time": "2022-09-20T21:03:32.083Z"
   },
   {
    "duration": 0,
    "start_time": "2022-09-20T21:03:32.084Z"
   },
   {
    "duration": 0,
    "start_time": "2022-09-20T21:03:32.085Z"
   },
   {
    "duration": 0,
    "start_time": "2022-09-20T21:03:32.086Z"
   },
   {
    "duration": 0,
    "start_time": "2022-09-20T21:03:32.088Z"
   },
   {
    "duration": 5,
    "start_time": "2022-09-20T21:04:47.297Z"
   },
   {
    "duration": 5,
    "start_time": "2022-09-20T21:04:52.966Z"
   },
   {
    "duration": 47,
    "start_time": "2022-09-20T21:04:52.973Z"
   },
   {
    "duration": 28,
    "start_time": "2022-09-20T21:04:53.021Z"
   },
   {
    "duration": 17,
    "start_time": "2022-09-20T21:04:53.052Z"
   },
   {
    "duration": 31,
    "start_time": "2022-09-20T21:04:53.070Z"
   },
   {
    "duration": 15,
    "start_time": "2022-09-20T21:04:53.103Z"
   },
   {
    "duration": 412,
    "start_time": "2022-09-20T21:04:53.119Z"
   },
   {
    "duration": 279,
    "start_time": "2022-09-20T21:04:53.533Z"
   },
   {
    "duration": 12,
    "start_time": "2022-09-20T21:04:53.814Z"
   },
   {
    "duration": 10,
    "start_time": "2022-09-20T21:04:53.828Z"
   },
   {
    "duration": 29,
    "start_time": "2022-09-20T21:04:53.839Z"
   },
   {
    "duration": 1376,
    "start_time": "2022-09-20T21:04:53.870Z"
   },
   {
    "duration": 18,
    "start_time": "2022-09-20T21:04:55.247Z"
   },
   {
    "duration": 41,
    "start_time": "2022-09-20T21:04:55.267Z"
   },
   {
    "duration": 302,
    "start_time": "2022-09-20T21:04:55.309Z"
   },
   {
    "duration": 276,
    "start_time": "2022-09-20T21:04:55.613Z"
   },
   {
    "duration": 10,
    "start_time": "2022-09-20T21:04:55.891Z"
   },
   {
    "duration": 385,
    "start_time": "2022-09-20T21:04:55.902Z"
   },
   {
    "duration": 18,
    "start_time": "2022-09-20T21:04:56.288Z"
   },
   {
    "duration": 378,
    "start_time": "2022-09-20T21:04:56.308Z"
   },
   {
    "duration": 17,
    "start_time": "2022-09-20T21:04:56.688Z"
   },
   {
    "duration": 278,
    "start_time": "2022-09-20T21:04:56.707Z"
   },
   {
    "duration": 3,
    "start_time": "2022-09-20T21:04:56.987Z"
   },
   {
    "duration": 3,
    "start_time": "2022-09-20T21:04:56.999Z"
   },
   {
    "duration": 7,
    "start_time": "2022-09-20T21:04:57.004Z"
   },
   {
    "duration": 8,
    "start_time": "2022-09-20T21:04:57.013Z"
   },
   {
    "duration": 4,
    "start_time": "2022-09-20T21:04:57.023Z"
   },
   {
    "duration": 697,
    "start_time": "2022-09-20T21:04:57.028Z"
   },
   {
    "duration": 710,
    "start_time": "2022-09-20T21:04:57.727Z"
   },
   {
    "duration": 659,
    "start_time": "2022-09-20T21:04:58.439Z"
   },
   {
    "duration": 5,
    "start_time": "2022-09-20T21:04:59.100Z"
   },
   {
    "duration": 8,
    "start_time": "2022-09-20T21:04:59.106Z"
   },
   {
    "duration": 6,
    "start_time": "2022-09-20T21:04:59.116Z"
   },
   {
    "duration": 9,
    "start_time": "2022-09-20T21:04:59.124Z"
   },
   {
    "duration": 6,
    "start_time": "2022-09-20T21:04:59.135Z"
   },
   {
    "duration": 5,
    "start_time": "2022-09-20T21:04:59.143Z"
   },
   {
    "duration": 7,
    "start_time": "2022-09-20T21:04:59.150Z"
   },
   {
    "duration": 49,
    "start_time": "2022-09-20T21:04:59.158Z"
   },
   {
    "duration": 9,
    "start_time": "2022-09-20T21:04:59.209Z"
   },
   {
    "duration": 4,
    "start_time": "2022-09-20T21:04:59.219Z"
   },
   {
    "duration": 3,
    "start_time": "2022-09-20T21:04:59.225Z"
   },
   {
    "duration": 669,
    "start_time": "2022-09-20T21:04:59.229Z"
   },
   {
    "duration": 0,
    "start_time": "2022-09-20T21:04:59.899Z"
   },
   {
    "duration": 0,
    "start_time": "2022-09-20T21:04:59.900Z"
   },
   {
    "duration": 0,
    "start_time": "2022-09-20T21:04:59.901Z"
   },
   {
    "duration": 0,
    "start_time": "2022-09-20T21:04:59.902Z"
   },
   {
    "duration": 0,
    "start_time": "2022-09-20T21:04:59.903Z"
   },
   {
    "duration": 0,
    "start_time": "2022-09-20T21:04:59.904Z"
   },
   {
    "duration": 0,
    "start_time": "2022-09-20T21:04:59.905Z"
   },
   {
    "duration": 0,
    "start_time": "2022-09-20T21:04:59.906Z"
   },
   {
    "duration": 161,
    "start_time": "2022-09-20T21:05:33.174Z"
   },
   {
    "duration": 161,
    "start_time": "2022-09-20T21:07:02.722Z"
   },
   {
    "duration": 666,
    "start_time": "2022-09-20T21:13:10.275Z"
   },
   {
    "duration": 678,
    "start_time": "2022-09-20T21:13:25.120Z"
   },
   {
    "duration": 736,
    "start_time": "2022-09-20T21:13:31.664Z"
   },
   {
    "duration": 762,
    "start_time": "2022-09-20T21:13:42.195Z"
   },
   {
    "duration": 3,
    "start_time": "2022-09-20T21:18:41.644Z"
   },
   {
    "duration": 737,
    "start_time": "2022-09-20T21:18:45.716Z"
   },
   {
    "duration": 3,
    "start_time": "2022-09-20T21:19:12.743Z"
   },
   {
    "duration": 666,
    "start_time": "2022-09-20T21:19:15.903Z"
   },
   {
    "duration": 3,
    "start_time": "2022-09-20T21:19:33.986Z"
   },
   {
    "duration": 683,
    "start_time": "2022-09-20T21:19:37.761Z"
   },
   {
    "duration": 852,
    "start_time": "2022-09-20T21:21:44.111Z"
   },
   {
    "duration": 692,
    "start_time": "2022-09-20T21:23:00.208Z"
   },
   {
    "duration": 855,
    "start_time": "2022-09-20T21:23:39.072Z"
   },
   {
    "duration": 57,
    "start_time": "2022-09-20T21:33:11.058Z"
   },
   {
    "duration": 98,
    "start_time": "2022-09-20T21:39:15.072Z"
   },
   {
    "duration": 83,
    "start_time": "2022-09-20T21:39:23.678Z"
   },
   {
    "duration": 9,
    "start_time": "2022-09-20T21:40:04.754Z"
   },
   {
    "duration": 9,
    "start_time": "2022-09-20T21:40:15.328Z"
   },
   {
    "duration": 8,
    "start_time": "2022-09-20T21:40:58.544Z"
   },
   {
    "duration": 8,
    "start_time": "2022-09-20T21:41:07.321Z"
   },
   {
    "duration": 9,
    "start_time": "2022-09-20T21:42:07.270Z"
   },
   {
    "duration": 43,
    "start_time": "2022-09-20T21:42:43.952Z"
   },
   {
    "duration": 6,
    "start_time": "2022-09-20T21:43:06.483Z"
   },
   {
    "duration": 6,
    "start_time": "2022-09-20T21:43:23.608Z"
   },
   {
    "duration": 6,
    "start_time": "2022-09-20T21:43:34.510Z"
   },
   {
    "duration": 6,
    "start_time": "2022-09-20T21:43:37.317Z"
   },
   {
    "duration": 10,
    "start_time": "2022-09-20T21:44:34.189Z"
   },
   {
    "duration": 9,
    "start_time": "2022-09-20T21:45:35.109Z"
   },
   {
    "duration": 9,
    "start_time": "2022-09-20T21:46:14.717Z"
   },
   {
    "duration": 8,
    "start_time": "2022-09-20T21:46:25.205Z"
   },
   {
    "duration": 9,
    "start_time": "2022-09-20T21:47:26.875Z"
   },
   {
    "duration": 26,
    "start_time": "2022-09-20T22:24:34.972Z"
   },
   {
    "duration": 8,
    "start_time": "2022-09-20T22:35:21.835Z"
   },
   {
    "duration": 55,
    "start_time": "2022-09-20T22:35:57.173Z"
   },
   {
    "duration": 161,
    "start_time": "2022-09-20T22:41:08.652Z"
   },
   {
    "duration": 181,
    "start_time": "2022-09-20T22:41:31.584Z"
   },
   {
    "duration": 256,
    "start_time": "2022-09-20T22:41:56.485Z"
   }
  ],
  "kernelspec": {
   "display_name": "Python 3",
   "language": "python",
   "name": "python3"
  },
  "language_info": {
   "codemirror_mode": {
    "name": "ipython",
    "version": 3
   },
   "file_extension": ".py",
   "mimetype": "text/x-python",
   "name": "python",
   "nbconvert_exporter": "python",
   "pygments_lexer": "ipython3",
   "version": "3.8.8"
  },
  "toc": {
   "base_numbering": 1,
   "nav_menu": {},
   "number_sections": true,
   "sideBar": true,
   "skip_h1_title": true,
   "title_cell": "Table of Contents",
   "title_sidebar": "Contents",
   "toc_cell": false,
   "toc_position": {
    "height": "calc(100% - 180px)",
    "left": "10px",
    "top": "150px",
    "width": "383.188px"
   },
   "toc_section_display": true,
   "toc_window_display": true
  }
 },
 "nbformat": 4,
 "nbformat_minor": 5
}
