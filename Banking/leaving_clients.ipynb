{
 "cells": [
  {
   "cell_type": "markdown",
   "metadata": {},
   "source": [
    "# Customer leave"
   ]
  },
  {
   "cell_type": "markdown",
   "metadata": {},
   "source": [
    "Customers began to leave Beta-Bank. Every month. A little, but noticeable. Banking marketers figured it was cheaper to keep current customers than to attract new ones.\n",
    "\n",
    "It is necessary to predict whether the client will leave the bank in the near future or not. We are provided with historical data on customer behavior and termination of agreements with the bank.\n",
    "\n",
    "\n",
    "Data Source: [https://www.kaggle.com/barelydedicated/bank-customer-churn-modeling](https://www.kaggle.com/barelydedicated/bank-customer-churn-modeling)"
   ]
  },
  {
   "cell_type": "markdown",
   "metadata": {},
   "source": [
    "## Project Description\n",
    "\n",
    "<b> Forecasting the leave of a Beta-Bank client.</b>\n",
    "\n",
    "<b> Research description: </b>\n",
    "Identify the model that most accurately predicts customer abandonment.\n",
    "\n",
    "<b>Research purpose:</b>\n",
    "Build machine learning models, validate the parameters, test the prediction with the f1 metric and find the best option, improve the result by balancing the initial data.\n",
    "\n",
    "<b>Research objectives:</b>\n",
    "1. Examine <a href = '#data'>input data</a>,\n",
    "2. <a href = '#sep'>Split data </a> into training, validation and test sets,\n",
    "3. Explore <a href = '#disbal'>balance</a> of classes,\n",
    "4. Train models without class balancing on:\n",
    "- <a href='#dtc'>Decision Tree Classifier</a>,\n",
    "- <a href='#rfc'>Random Forest Classifier</a>,\n",
    "- <a href = '#lr'> Logistic Regression </a>,\n",
    "5. Balance classes with:\n",
    "- <a href='#class_weight'>Class weights</a>,\n",
    "- <a href = '#upsample'> Upsample </a>,\n",
    "- <a href = '#downsample'> Downsample </a>\n",
    "6. Test data against <a href = '#test'>test set</a>.\n",
    "<b> Data: </b>\n",
    "Features:\n",
    "- RowNumber - row index in the data\n",
    "- CustomerId — unique customer identifier\n",
    "- Surname - surname\n",
    "- CreditScore - credit rating\n",
    "- Geography - country of residence\n",
    "- Gender - gender\n",
    "- Age - age\n",
    "- Tenure - how many years a person has been a client of the bank\n",
    "- Balance - account balance\n",
    "- NumOfProducts - the number of bank products used by the client\n",
    "- HasCrCard - the presence of a credit card\n",
    "- IsActiveMember - client activity\n",
    "- EstimatedSalary - estimated salary\n",
    "Target:\n",
    "- Exited — the fact that the client has left"
   ]
  },
 
  {
   "cell_type": "markdown",
   "metadata": {},
   "source": [
    "<a id = 'data'></a>\n",
    "## Data Preparation"
   ]
  },
  {
   "cell_type": "code",
   "execution_count": 1,
   "metadata": {},
   "outputs": [],
   "source": [
    "import matplotlib.pyplot as plt\n",
    "import numpy as np\n",
    "import pandas as pd\n",
    "import seaborn as sns\n",
    "import time\n",
    "\n",
    "from sklearn.ensemble import RandomForestClassifier\n",
    "from sklearn.utils import shuffle\n",
    "from sklearn.linear_model import LogisticRegression\n",
    "from sklearn.metrics import plot_confusion_matrix, accuracy_score, f1_score, roc_auc_score\n",
    "from sklearn.model_selection import GridSearchCV, train_test_split\n",
    "from sklearn.preprocessing import OneHotEncoder, StandardScaler\n",
    "from sklearn.tree import DecisionTreeClassifier"
   ]
  },
  {
   "cell_type": "code",
   "execution_count": 2,
   "metadata": {},
   "outputs": [],
   "source": [
    "data = pd.read_csv('/datasets/Churn.csv')"
   ]
  },
  {
   "cell_type": "code",
   "execution_count": 3,
   "metadata": {},
   "outputs": [
    {
     "name": "stdout",
     "output_type": "stream",
     "text": [
      "<class 'pandas.core.frame.DataFrame'>\n",
      "RangeIndex: 10000 entries, 0 to 9999\n",
      "Data columns (total 14 columns):\n",
      " #   Column           Non-Null Count  Dtype  \n",
      "---  ------           --------------  -----  \n",
      " 0   RowNumber        10000 non-null  int64  \n",
      " 1   CustomerId       10000 non-null  int64  \n",
      " 2   Surname          10000 non-null  object \n",
      " 3   CreditScore      10000 non-null  int64  \n",
      " 4   Geography        10000 non-null  object \n",
      " 5   Gender           10000 non-null  object \n",
      " 6   Age              10000 non-null  int64  \n",
      " 7   Tenure           9091 non-null   float64\n",
      " 8   Balance          10000 non-null  float64\n",
      " 9   NumOfProducts    10000 non-null  int64  \n",
      " 10  HasCrCard        10000 non-null  int64  \n",
      " 11  IsActiveMember   10000 non-null  int64  \n",
      " 12  EstimatedSalary  10000 non-null  float64\n",
      " 13  Exited           10000 non-null  int64  \n",
      "dtypes: float64(3), int64(8), object(3)\n",
      "memory usage: 1.1+ MB\n"
     ]
    }
   ],
   "source": [
    "data.info()"
   ]
  },
  {
   "cell_type": "markdown",
   "metadata": {},
   "source": [
    "Let's process the data by applying lower case."
   ]
  },
  {
   "cell_type": "code",
   "execution_count": 4,
   "metadata": {},
   "outputs": [
    {
     "data": {
      "text/html": [
       "<div>\n",
       "<style scoped>\n",
       "    .dataframe tbody tr th:only-of-type {\n",
       "        vertical-align: middle;\n",
       "    }\n",
       "\n",
       "    .dataframe tbody tr th {\n",
       "        vertical-align: top;\n",
       "    }\n",
       "\n",
       "    .dataframe thead th {\n",
       "        text-align: right;\n",
       "    }\n",
       "</style>\n",
       "<table border=\"1\" class=\"dataframe\">\n",
       "  <thead>\n",
       "    <tr style=\"text-align: right;\">\n",
       "      <th></th>\n",
       "      <th>RowNumber</th>\n",
       "      <th>CustomerId</th>\n",
       "      <th>Surname</th>\n",
       "      <th>CreditScore</th>\n",
       "      <th>Geography</th>\n",
       "      <th>Gender</th>\n",
       "      <th>Age</th>\n",
       "      <th>Tenure</th>\n",
       "      <th>Balance</th>\n",
       "      <th>NumOfProducts</th>\n",
       "      <th>HasCrCard</th>\n",
       "      <th>IsActiveMember</th>\n",
       "      <th>EstimatedSalary</th>\n",
       "      <th>Exited</th>\n",
       "    </tr>\n",
       "  </thead>\n",
       "  <tbody>\n",
       "    <tr>\n",
       "      <th>0</th>\n",
       "      <td>1</td>\n",
       "      <td>15634602</td>\n",
       "      <td>Hargrave</td>\n",
       "      <td>619</td>\n",
       "      <td>France</td>\n",
       "      <td>Female</td>\n",
       "      <td>42</td>\n",
       "      <td>2.0</td>\n",
       "      <td>0.00</td>\n",
       "      <td>1</td>\n",
       "      <td>1</td>\n",
       "      <td>1</td>\n",
       "      <td>101348.88</td>\n",
       "      <td>1</td>\n",
       "    </tr>\n",
       "    <tr>\n",
       "      <th>1</th>\n",
       "      <td>2</td>\n",
       "      <td>15647311</td>\n",
       "      <td>Hill</td>\n",
       "      <td>608</td>\n",
       "      <td>Spain</td>\n",
       "      <td>Female</td>\n",
       "      <td>41</td>\n",
       "      <td>1.0</td>\n",
       "      <td>83807.86</td>\n",
       "      <td>1</td>\n",
       "      <td>0</td>\n",
       "      <td>1</td>\n",
       "      <td>112542.58</td>\n",
       "      <td>0</td>\n",
       "    </tr>\n",
       "    <tr>\n",
       "      <th>2</th>\n",
       "      <td>3</td>\n",
       "      <td>15619304</td>\n",
       "      <td>Onio</td>\n",
       "      <td>502</td>\n",
       "      <td>France</td>\n",
       "      <td>Female</td>\n",
       "      <td>42</td>\n",
       "      <td>8.0</td>\n",
       "      <td>159660.80</td>\n",
       "      <td>3</td>\n",
       "      <td>1</td>\n",
       "      <td>0</td>\n",
       "      <td>113931.57</td>\n",
       "      <td>1</td>\n",
       "    </tr>\n",
       "    <tr>\n",
       "      <th>3</th>\n",
       "      <td>4</td>\n",
       "      <td>15701354</td>\n",
       "      <td>Boni</td>\n",
       "      <td>699</td>\n",
       "      <td>France</td>\n",
       "      <td>Female</td>\n",
       "      <td>39</td>\n",
       "      <td>1.0</td>\n",
       "      <td>0.00</td>\n",
       "      <td>2</td>\n",
       "      <td>0</td>\n",
       "      <td>0</td>\n",
       "      <td>93826.63</td>\n",
       "      <td>0</td>\n",
       "    </tr>\n",
       "    <tr>\n",
       "      <th>4</th>\n",
       "      <td>5</td>\n",
       "      <td>15737888</td>\n",
       "      <td>Mitchell</td>\n",
       "      <td>850</td>\n",
       "      <td>Spain</td>\n",
       "      <td>Female</td>\n",
       "      <td>43</td>\n",
       "      <td>2.0</td>\n",
       "      <td>125510.82</td>\n",
       "      <td>1</td>\n",
       "      <td>1</td>\n",
       "      <td>1</td>\n",
       "      <td>79084.10</td>\n",
       "      <td>0</td>\n",
       "    </tr>\n",
       "  </tbody>\n",
       "</table>\n",
       "</div>"
      ],
      "text/plain": [
       "   RowNumber  CustomerId   Surname  CreditScore Geography  Gender  Age  \\\n",
       "0          1    15634602  Hargrave          619    France  Female   42   \n",
       "1          2    15647311      Hill          608     Spain  Female   41   \n",
       "2          3    15619304      Onio          502    France  Female   42   \n",
       "3          4    15701354      Boni          699    France  Female   39   \n",
       "4          5    15737888  Mitchell          850     Spain  Female   43   \n",
       "\n",
       "   Tenure    Balance  NumOfProducts  HasCrCard  IsActiveMember  \\\n",
       "0     2.0       0.00              1          1               1   \n",
       "1     1.0   83807.86              1          0               1   \n",
       "2     8.0  159660.80              3          1               0   \n",
       "3     1.0       0.00              2          0               0   \n",
       "4     2.0  125510.82              1          1               1   \n",
       "\n",
       "   EstimatedSalary  Exited  \n",
       "0        101348.88       1  \n",
       "1        112542.58       0  \n",
       "2        113931.57       1  \n",
       "3         93826.63       0  \n",
       "4         79084.10       0  "
      ]
     },
     "execution_count": 4,
     "metadata": {},
     "output_type": "execute_result"
    }
   ],
   "source": [
    "data.head()"
   ]
  },
  {
   "cell_type": "code",
   "execution_count": 5,
   "metadata": {},
   "outputs": [
    {
     "data": {
      "text/html": [
       "<div>\n",
       "<style scoped>\n",
       "    .dataframe tbody tr th:only-of-type {\n",
       "        vertical-align: middle;\n",
       "    }\n",
       "\n",
       "    .dataframe tbody tr th {\n",
       "        vertical-align: top;\n",
       "    }\n",
       "\n",
       "    .dataframe thead th {\n",
       "        text-align: right;\n",
       "    }\n",
       "</style>\n",
       "<table border=\"1\" class=\"dataframe\">\n",
       "  <thead>\n",
       "    <tr style=\"text-align: right;\">\n",
       "      <th></th>\n",
       "      <th>RowNumber</th>\n",
       "      <th>CustomerId</th>\n",
       "      <th>CreditScore</th>\n",
       "      <th>Age</th>\n",
       "      <th>Tenure</th>\n",
       "      <th>Balance</th>\n",
       "      <th>NumOfProducts</th>\n",
       "      <th>HasCrCard</th>\n",
       "      <th>IsActiveMember</th>\n",
       "      <th>EstimatedSalary</th>\n",
       "      <th>Exited</th>\n",
       "    </tr>\n",
       "  </thead>\n",
       "  <tbody>\n",
       "    <tr>\n",
       "      <th>count</th>\n",
       "      <td>10000.00000</td>\n",
       "      <td>1.000000e+04</td>\n",
       "      <td>10000.000000</td>\n",
       "      <td>10000.000000</td>\n",
       "      <td>9091.000000</td>\n",
       "      <td>10000.000000</td>\n",
       "      <td>10000.000000</td>\n",
       "      <td>10000.00000</td>\n",
       "      <td>10000.000000</td>\n",
       "      <td>10000.000000</td>\n",
       "      <td>10000.000000</td>\n",
       "    </tr>\n",
       "    <tr>\n",
       "      <th>mean</th>\n",
       "      <td>5000.50000</td>\n",
       "      <td>1.569094e+07</td>\n",
       "      <td>650.528800</td>\n",
       "      <td>38.921800</td>\n",
       "      <td>4.997690</td>\n",
       "      <td>76485.889288</td>\n",
       "      <td>1.530200</td>\n",
       "      <td>0.70550</td>\n",
       "      <td>0.515100</td>\n",
       "      <td>100090.239881</td>\n",
       "      <td>0.203700</td>\n",
       "    </tr>\n",
       "    <tr>\n",
       "      <th>std</th>\n",
       "      <td>2886.89568</td>\n",
       "      <td>7.193619e+04</td>\n",
       "      <td>96.653299</td>\n",
       "      <td>10.487806</td>\n",
       "      <td>2.894723</td>\n",
       "      <td>62397.405202</td>\n",
       "      <td>0.581654</td>\n",
       "      <td>0.45584</td>\n",
       "      <td>0.499797</td>\n",
       "      <td>57510.492818</td>\n",
       "      <td>0.402769</td>\n",
       "    </tr>\n",
       "    <tr>\n",
       "      <th>min</th>\n",
       "      <td>1.00000</td>\n",
       "      <td>1.556570e+07</td>\n",
       "      <td>350.000000</td>\n",
       "      <td>18.000000</td>\n",
       "      <td>0.000000</td>\n",
       "      <td>0.000000</td>\n",
       "      <td>1.000000</td>\n",
       "      <td>0.00000</td>\n",
       "      <td>0.000000</td>\n",
       "      <td>11.580000</td>\n",
       "      <td>0.000000</td>\n",
       "    </tr>\n",
       "    <tr>\n",
       "      <th>25%</th>\n",
       "      <td>2500.75000</td>\n",
       "      <td>1.562853e+07</td>\n",
       "      <td>584.000000</td>\n",
       "      <td>32.000000</td>\n",
       "      <td>2.000000</td>\n",
       "      <td>0.000000</td>\n",
       "      <td>1.000000</td>\n",
       "      <td>0.00000</td>\n",
       "      <td>0.000000</td>\n",
       "      <td>51002.110000</td>\n",
       "      <td>0.000000</td>\n",
       "    </tr>\n",
       "    <tr>\n",
       "      <th>50%</th>\n",
       "      <td>5000.50000</td>\n",
       "      <td>1.569074e+07</td>\n",
       "      <td>652.000000</td>\n",
       "      <td>37.000000</td>\n",
       "      <td>5.000000</td>\n",
       "      <td>97198.540000</td>\n",
       "      <td>1.000000</td>\n",
       "      <td>1.00000</td>\n",
       "      <td>1.000000</td>\n",
       "      <td>100193.915000</td>\n",
       "      <td>0.000000</td>\n",
       "    </tr>\n",
       "    <tr>\n",
       "      <th>75%</th>\n",
       "      <td>7500.25000</td>\n",
       "      <td>1.575323e+07</td>\n",
       "      <td>718.000000</td>\n",
       "      <td>44.000000</td>\n",
       "      <td>7.000000</td>\n",
       "      <td>127644.240000</td>\n",
       "      <td>2.000000</td>\n",
       "      <td>1.00000</td>\n",
       "      <td>1.000000</td>\n",
       "      <td>149388.247500</td>\n",
       "      <td>0.000000</td>\n",
       "    </tr>\n",
       "    <tr>\n",
       "      <th>max</th>\n",
       "      <td>10000.00000</td>\n",
       "      <td>1.581569e+07</td>\n",
       "      <td>850.000000</td>\n",
       "      <td>92.000000</td>\n",
       "      <td>10.000000</td>\n",
       "      <td>250898.090000</td>\n",
       "      <td>4.000000</td>\n",
       "      <td>1.00000</td>\n",
       "      <td>1.000000</td>\n",
       "      <td>199992.480000</td>\n",
       "      <td>1.000000</td>\n",
       "    </tr>\n",
       "  </tbody>\n",
       "</table>\n",
       "</div>"
      ],
      "text/plain": [
       "         RowNumber    CustomerId   CreditScore           Age       Tenure  \\\n",
       "count  10000.00000  1.000000e+04  10000.000000  10000.000000  9091.000000   \n",
       "mean    5000.50000  1.569094e+07    650.528800     38.921800     4.997690   \n",
       "std     2886.89568  7.193619e+04     96.653299     10.487806     2.894723   \n",
       "min        1.00000  1.556570e+07    350.000000     18.000000     0.000000   \n",
       "25%     2500.75000  1.562853e+07    584.000000     32.000000     2.000000   \n",
       "50%     5000.50000  1.569074e+07    652.000000     37.000000     5.000000   \n",
       "75%     7500.25000  1.575323e+07    718.000000     44.000000     7.000000   \n",
       "max    10000.00000  1.581569e+07    850.000000     92.000000    10.000000   \n",
       "\n",
       "             Balance  NumOfProducts    HasCrCard  IsActiveMember  \\\n",
       "count   10000.000000   10000.000000  10000.00000    10000.000000   \n",
       "mean    76485.889288       1.530200      0.70550        0.515100   \n",
       "std     62397.405202       0.581654      0.45584        0.499797   \n",
       "min         0.000000       1.000000      0.00000        0.000000   \n",
       "25%         0.000000       1.000000      0.00000        0.000000   \n",
       "50%     97198.540000       1.000000      1.00000        1.000000   \n",
       "75%    127644.240000       2.000000      1.00000        1.000000   \n",
       "max    250898.090000       4.000000      1.00000        1.000000   \n",
       "\n",
       "       EstimatedSalary        Exited  \n",
       "count     10000.000000  10000.000000  \n",
       "mean     100090.239881      0.203700  \n",
       "std       57510.492818      0.402769  \n",
       "min          11.580000      0.000000  \n",
       "25%       51002.110000      0.000000  \n",
       "50%      100193.915000      0.000000  \n",
       "75%      149388.247500      0.000000  \n",
       "max      199992.480000      1.000000  "
      ]
     },
     "execution_count": 5,
     "metadata": {},
     "output_type": "execute_result"
    }
   ],
   "source": [
    "data.describe()"
   ]
  },
  {
   "cell_type": "code",
   "execution_count": 6,
   "metadata": {},
   "outputs": [],
   "source": [
    "# перевод в нижний регистр\n",
    "data.columns = data.columns.str.lower()"
   ]
  },
  {
   "cell_type": "code",
   "execution_count": 7,
   "metadata": {},
   "outputs": [],
   "source": [
    "# переименование столбцов\n",
    "data.rename(columns = {'rownumber' : 'row_number', 'customerid' : 'customer_id', 'creditscore' : 'credit_score', \n",
    "                      'numofproducts' : 'num_of_products', 'hascrcard' : 'has_cr_card', 'isactivemember' : 'is_active_member',\n",
    "                      'estimatedsalary' : 'estimated_salary'}, inplace = True)"
   ]
  },
  {
   "cell_type": "code",
   "execution_count": 8,
   "metadata": {},
   "outputs": [
    {
     "data": {
      "text/html": [
       "<div>\n",
       "<style scoped>\n",
       "    .dataframe tbody tr th:only-of-type {\n",
       "        vertical-align: middle;\n",
       "    }\n",
       "\n",
       "    .dataframe tbody tr th {\n",
       "        vertical-align: top;\n",
       "    }\n",
       "\n",
       "    .dataframe thead th {\n",
       "        text-align: right;\n",
       "    }\n",
       "</style>\n",
       "<table border=\"1\" class=\"dataframe\">\n",
       "  <thead>\n",
       "    <tr style=\"text-align: right;\">\n",
       "      <th></th>\n",
       "      <th>row_number</th>\n",
       "      <th>customer_id</th>\n",
       "      <th>surname</th>\n",
       "      <th>credit_score</th>\n",
       "      <th>geography</th>\n",
       "      <th>gender</th>\n",
       "      <th>age</th>\n",
       "      <th>tenure</th>\n",
       "      <th>balance</th>\n",
       "      <th>num_of_products</th>\n",
       "      <th>has_cr_card</th>\n",
       "      <th>is_active_member</th>\n",
       "      <th>estimated_salary</th>\n",
       "      <th>exited</th>\n",
       "    </tr>\n",
       "  </thead>\n",
       "  <tbody>\n",
       "    <tr>\n",
       "      <th>0</th>\n",
       "      <td>1</td>\n",
       "      <td>15634602</td>\n",
       "      <td>Hargrave</td>\n",
       "      <td>619</td>\n",
       "      <td>France</td>\n",
       "      <td>Female</td>\n",
       "      <td>42</td>\n",
       "      <td>2.0</td>\n",
       "      <td>0.00</td>\n",
       "      <td>1</td>\n",
       "      <td>1</td>\n",
       "      <td>1</td>\n",
       "      <td>101348.88</td>\n",
       "      <td>1</td>\n",
       "    </tr>\n",
       "    <tr>\n",
       "      <th>1</th>\n",
       "      <td>2</td>\n",
       "      <td>15647311</td>\n",
       "      <td>Hill</td>\n",
       "      <td>608</td>\n",
       "      <td>Spain</td>\n",
       "      <td>Female</td>\n",
       "      <td>41</td>\n",
       "      <td>1.0</td>\n",
       "      <td>83807.86</td>\n",
       "      <td>1</td>\n",
       "      <td>0</td>\n",
       "      <td>1</td>\n",
       "      <td>112542.58</td>\n",
       "      <td>0</td>\n",
       "    </tr>\n",
       "    <tr>\n",
       "      <th>2</th>\n",
       "      <td>3</td>\n",
       "      <td>15619304</td>\n",
       "      <td>Onio</td>\n",
       "      <td>502</td>\n",
       "      <td>France</td>\n",
       "      <td>Female</td>\n",
       "      <td>42</td>\n",
       "      <td>8.0</td>\n",
       "      <td>159660.80</td>\n",
       "      <td>3</td>\n",
       "      <td>1</td>\n",
       "      <td>0</td>\n",
       "      <td>113931.57</td>\n",
       "      <td>1</td>\n",
       "    </tr>\n",
       "    <tr>\n",
       "      <th>3</th>\n",
       "      <td>4</td>\n",
       "      <td>15701354</td>\n",
       "      <td>Boni</td>\n",
       "      <td>699</td>\n",
       "      <td>France</td>\n",
       "      <td>Female</td>\n",
       "      <td>39</td>\n",
       "      <td>1.0</td>\n",
       "      <td>0.00</td>\n",
       "      <td>2</td>\n",
       "      <td>0</td>\n",
       "      <td>0</td>\n",
       "      <td>93826.63</td>\n",
       "      <td>0</td>\n",
       "    </tr>\n",
       "    <tr>\n",
       "      <th>4</th>\n",
       "      <td>5</td>\n",
       "      <td>15737888</td>\n",
       "      <td>Mitchell</td>\n",
       "      <td>850</td>\n",
       "      <td>Spain</td>\n",
       "      <td>Female</td>\n",
       "      <td>43</td>\n",
       "      <td>2.0</td>\n",
       "      <td>125510.82</td>\n",
       "      <td>1</td>\n",
       "      <td>1</td>\n",
       "      <td>1</td>\n",
       "      <td>79084.10</td>\n",
       "      <td>0</td>\n",
       "    </tr>\n",
       "  </tbody>\n",
       "</table>\n",
       "</div>"
      ],
      "text/plain": [
       "   row_number  customer_id   surname  credit_score geography  gender  age  \\\n",
       "0           1     15634602  Hargrave           619    France  Female   42   \n",
       "1           2     15647311      Hill           608     Spain  Female   41   \n",
       "2           3     15619304      Onio           502    France  Female   42   \n",
       "3           4     15701354      Boni           699    France  Female   39   \n",
       "4           5     15737888  Mitchell           850     Spain  Female   43   \n",
       "\n",
       "   tenure    balance  num_of_products  has_cr_card  is_active_member  \\\n",
       "0     2.0       0.00                1            1                 1   \n",
       "1     1.0   83807.86                1            0                 1   \n",
       "2     8.0  159660.80                3            1                 0   \n",
       "3     1.0       0.00                2            0                 0   \n",
       "4     2.0  125510.82                1            1                 1   \n",
       "\n",
       "   estimated_salary  exited  \n",
       "0         101348.88       1  \n",
       "1         112542.58       0  \n",
       "2         113931.57       1  \n",
       "3          93826.63       0  \n",
       "4          79084.10       0  "
      ]
     },
     "execution_count": 8,
     "metadata": {},
     "output_type": "execute_result"
    }
   ],
   "source": [
    "data.head()"
   ]
  },
  {
   "cell_type": "code",
   "execution_count": 9,
   "metadata": {},
   "outputs": [
    {
     "data": {
      "text/plain": [
       "row_number            0\n",
       "customer_id           0\n",
       "surname               0\n",
       "credit_score          0\n",
       "geography             0\n",
       "gender                0\n",
       "age                   0\n",
       "tenure              909\n",
       "balance               0\n",
       "num_of_products       0\n",
       "has_cr_card           0\n",
       "is_active_member      0\n",
       "estimated_salary      0\n",
       "exited                0\n",
       "dtype: int64"
      ]
     },
     "execution_count": 9,
     "metadata": {},
     "output_type": "execute_result"
    }
   ],
   "source": [
    "# проверка пропущенных значений\n",
    "data.isna().sum()"
   ]
  },
  {
   "cell_type": "markdown",
   "metadata": {},
   "source": [
    "Filling in empty values in a 'tenure' feature by median values grouped by 'balance'."
   ]
  },
  {
   "cell_type": "code",
   "execution_count": 10,
   "metadata": {},
   "outputs": [],
   "source": [
    "data['tenure'] = data.fillna(data.groupby('tenure')['balance'].transform('median'))"
   ]
  },
  {
   "cell_type": "code",
   "execution_count": 11,
   "metadata": {},
   "outputs": [
    {
     "data": {
      "text/plain": [
       "row_number          0\n",
       "customer_id         0\n",
       "surname             0\n",
       "credit_score        0\n",
       "geography           0\n",
       "gender              0\n",
       "age                 0\n",
       "tenure              0\n",
       "balance             0\n",
       "num_of_products     0\n",
       "has_cr_card         0\n",
       "is_active_member    0\n",
       "estimated_salary    0\n",
       "exited              0\n",
       "dtype: int64"
      ]
     },
     "execution_count": 11,
     "metadata": {},
     "output_type": "execute_result"
    }
   ],
   "source": [
    "data.isna().sum()"
   ]
  },
  {
   "cell_type": "code",
   "execution_count": 12,
   "metadata": {},
   "outputs": [
    {
     "name": "stdout",
     "output_type": "stream",
     "text": [
      "<class 'pandas.core.frame.DataFrame'>\n",
      "RangeIndex: 10000 entries, 0 to 9999\n",
      "Data columns (total 14 columns):\n",
      " #   Column            Non-Null Count  Dtype  \n",
      "---  ------            --------------  -----  \n",
      " 0   row_number        10000 non-null  int64  \n",
      " 1   customer_id       10000 non-null  int64  \n",
      " 2   surname           10000 non-null  object \n",
      " 3   credit_score      10000 non-null  int64  \n",
      " 4   geography         10000 non-null  object \n",
      " 5   gender            10000 non-null  object \n",
      " 6   age               10000 non-null  int64  \n",
      " 7   tenure            10000 non-null  object \n",
      " 8   balance           10000 non-null  float64\n",
      " 9   num_of_products   10000 non-null  int64  \n",
      " 10  has_cr_card       10000 non-null  int64  \n",
      " 11  is_active_member  10000 non-null  int64  \n",
      " 12  estimated_salary  10000 non-null  float64\n",
      " 13  exited            10000 non-null  int64  \n",
      "dtypes: float64(2), int64(8), object(4)\n",
      "memory usage: 1.1+ MB\n"
     ]
    }
   ],
   "source": [
    "data.info()"
   ]
  },
  {
   "cell_type": "code",
   "execution_count": 13,
   "metadata": {},
   "outputs": [
    {
     "data": {
      "text/plain": [
       "France     5014\n",
       "Germany    2509\n",
       "Spain      2477\n",
       "Name: geography, dtype: int64"
      ]
     },
     "execution_count": 13,
     "metadata": {},
     "output_type": "execute_result"
    }
   ],
   "source": [
    "# признак geography включает 3 страны:\n",
    "data['geography'].value_counts()"
   ]
  },
  {
   "cell_type": "code",
   "execution_count": 14,
   "metadata": {},
   "outputs": [
    {
     "data": {
      "text/plain": [
       "0    7963\n",
       "1    2037\n",
       "Name: exited, dtype: int64"
      ]
     },
     "execution_count": 14,
     "metadata": {},
     "output_type": "execute_result"
    }
   ],
   "source": [
    "data['exited'].value_counts()"
   ]
  },
  {
   "cell_type": "code",
   "execution_count": 15,
   "metadata": {},
   "outputs": [
    {
     "data": {
      "text/html": [
       "<div>\n",
       "<style scoped>\n",
       "    .dataframe tbody tr th:only-of-type {\n",
       "        vertical-align: middle;\n",
       "    }\n",
       "\n",
       "    .dataframe tbody tr th {\n",
       "        vertical-align: top;\n",
       "    }\n",
       "\n",
       "    .dataframe thead th {\n",
       "        text-align: right;\n",
       "    }\n",
       "</style>\n",
       "<table border=\"1\" class=\"dataframe\">\n",
       "  <thead>\n",
       "    <tr style=\"text-align: right;\">\n",
       "      <th></th>\n",
       "      <th>row_number</th>\n",
       "      <th>customer_id</th>\n",
       "      <th>surname</th>\n",
       "      <th>credit_score</th>\n",
       "      <th>geography</th>\n",
       "      <th>gender</th>\n",
       "      <th>age</th>\n",
       "      <th>tenure</th>\n",
       "      <th>balance</th>\n",
       "      <th>num_of_products</th>\n",
       "      <th>has_cr_card</th>\n",
       "      <th>is_active_member</th>\n",
       "      <th>estimated_salary</th>\n",
       "      <th>exited</th>\n",
       "    </tr>\n",
       "  </thead>\n",
       "  <tbody>\n",
       "    <tr>\n",
       "      <th>0</th>\n",
       "      <td>1</td>\n",
       "      <td>15634602</td>\n",
       "      <td>Hargrave</td>\n",
       "      <td>619</td>\n",
       "      <td>France</td>\n",
       "      <td>Female</td>\n",
       "      <td>42</td>\n",
       "      <td>1</td>\n",
       "      <td>0.00</td>\n",
       "      <td>1</td>\n",
       "      <td>1</td>\n",
       "      <td>1</td>\n",
       "      <td>101348.88</td>\n",
       "      <td>1</td>\n",
       "    </tr>\n",
       "    <tr>\n",
       "      <th>1</th>\n",
       "      <td>2</td>\n",
       "      <td>15647311</td>\n",
       "      <td>Hill</td>\n",
       "      <td>608</td>\n",
       "      <td>Spain</td>\n",
       "      <td>Female</td>\n",
       "      <td>41</td>\n",
       "      <td>2</td>\n",
       "      <td>83807.86</td>\n",
       "      <td>1</td>\n",
       "      <td>0</td>\n",
       "      <td>1</td>\n",
       "      <td>112542.58</td>\n",
       "      <td>0</td>\n",
       "    </tr>\n",
       "    <tr>\n",
       "      <th>2</th>\n",
       "      <td>3</td>\n",
       "      <td>15619304</td>\n",
       "      <td>Onio</td>\n",
       "      <td>502</td>\n",
       "      <td>France</td>\n",
       "      <td>Female</td>\n",
       "      <td>42</td>\n",
       "      <td>3</td>\n",
       "      <td>159660.80</td>\n",
       "      <td>3</td>\n",
       "      <td>1</td>\n",
       "      <td>0</td>\n",
       "      <td>113931.57</td>\n",
       "      <td>1</td>\n",
       "    </tr>\n",
       "    <tr>\n",
       "      <th>3</th>\n",
       "      <td>4</td>\n",
       "      <td>15701354</td>\n",
       "      <td>Boni</td>\n",
       "      <td>699</td>\n",
       "      <td>France</td>\n",
       "      <td>Female</td>\n",
       "      <td>39</td>\n",
       "      <td>4</td>\n",
       "      <td>0.00</td>\n",
       "      <td>2</td>\n",
       "      <td>0</td>\n",
       "      <td>0</td>\n",
       "      <td>93826.63</td>\n",
       "      <td>0</td>\n",
       "    </tr>\n",
       "    <tr>\n",
       "      <th>4</th>\n",
       "      <td>5</td>\n",
       "      <td>15737888</td>\n",
       "      <td>Mitchell</td>\n",
       "      <td>850</td>\n",
       "      <td>Spain</td>\n",
       "      <td>Female</td>\n",
       "      <td>43</td>\n",
       "      <td>5</td>\n",
       "      <td>125510.82</td>\n",
       "      <td>1</td>\n",
       "      <td>1</td>\n",
       "      <td>1</td>\n",
       "      <td>79084.10</td>\n",
       "      <td>0</td>\n",
       "    </tr>\n",
       "  </tbody>\n",
       "</table>\n",
       "</div>"
      ],
      "text/plain": [
       "   row_number  customer_id   surname  credit_score geography  gender  age  \\\n",
       "0           1     15634602  Hargrave           619    France  Female   42   \n",
       "1           2     15647311      Hill           608     Spain  Female   41   \n",
       "2           3     15619304      Onio           502    France  Female   42   \n",
       "3           4     15701354      Boni           699    France  Female   39   \n",
       "4           5     15737888  Mitchell           850     Spain  Female   43   \n",
       "\n",
       "  tenure    balance  num_of_products  has_cr_card  is_active_member  \\\n",
       "0      1       0.00                1            1                 1   \n",
       "1      2   83807.86                1            0                 1   \n",
       "2      3  159660.80                3            1                 0   \n",
       "3      4       0.00                2            0                 0   \n",
       "4      5  125510.82                1            1                 1   \n",
       "\n",
       "   estimated_salary  exited  \n",
       "0         101348.88       1  \n",
       "1         112542.58       0  \n",
       "2         113931.57       1  \n",
       "3          93826.63       0  \n",
       "4          79084.10       0  "
      ]
     },
     "execution_count": 15,
     "metadata": {},
     "output_type": "execute_result"
    }
   ],
   "source": [
    "data.head()"
   ]
  },
  {
   "cell_type": "markdown",
   "metadata": {},
   "source": [
    "The dataset contains the following categorical features: geography (only 3 countries), gender (2 genders). We need to convert them to numerical using the One-Hot Encoding method:"
   ]
  },
  {
   "cell_type": "markdown",
   "metadata": {},
   "source": [
    "<a id = 'sep'></a>\n",
    "### Working on sets"
   ]
  },
  {
   "cell_type": "markdown",
   "metadata": {},
   "source": [
    "In the case of the gender feature, we can remove the first column since the dummy features are dependent on each other.\n",
    "For the geography feature, we can split into 3 dummy features: geography_France/Germany/Spain with the first column removed."
   ]
  },
  {
   "cell_type": "code",
   "execution_count": 16,
   "metadata": {},
   "outputs": [],
   "source": [
    "# разделим признак gender, с удалением первого столбца\n",
    "data['gender'] = pd.get_dummies(data['gender'], drop_first = True)\n",
    "# разделение на 3 фиктивных признака\n",
    "data['geography'] = pd.get_dummies(data['geography'], drop_first = True)\n",
    "#ohe = pd.get_dummies(data = data, columns = ['geography'])"
   ]
  },
  {
   "cell_type": "code",
   "execution_count": 17,
   "metadata": {},
   "outputs": [
    {
     "name": "stdout",
     "output_type": "stream",
     "text": [
      "<class 'pandas.core.frame.DataFrame'>\n",
      "RangeIndex: 10000 entries, 0 to 9999\n",
      "Data columns (total 14 columns):\n",
      " #   Column            Non-Null Count  Dtype  \n",
      "---  ------            --------------  -----  \n",
      " 0   row_number        10000 non-null  int64  \n",
      " 1   customer_id       10000 non-null  int64  \n",
      " 2   surname           10000 non-null  object \n",
      " 3   credit_score      10000 non-null  int64  \n",
      " 4   geography         10000 non-null  uint8  \n",
      " 5   gender            10000 non-null  uint8  \n",
      " 6   age               10000 non-null  int64  \n",
      " 7   tenure            10000 non-null  object \n",
      " 8   balance           10000 non-null  float64\n",
      " 9   num_of_products   10000 non-null  int64  \n",
      " 10  has_cr_card       10000 non-null  int64  \n",
      " 11  is_active_member  10000 non-null  int64  \n",
      " 12  estimated_salary  10000 non-null  float64\n",
      " 13  exited            10000 non-null  int64  \n",
      "dtypes: float64(2), int64(8), object(2), uint8(2)\n",
      "memory usage: 957.2+ KB\n"
     ]
    }
   ],
   "source": [
    "data.info()"
   ]
  },
  {
   "cell_type": "markdown",
   "metadata": {},
   "source": [
    "The line index, client ID, and last name features do not affect the client's exit prediction, so we remove them.\n",
    "The target feature is the fact that the client leaves. The remaining columns fall into the features category."
   ]
  },
  {
   "cell_type": "code",
   "execution_count": 18,
   "metadata": {},
   "outputs": [],
   "source": [
    "features = data.drop(['exited', 'surname', 'row_number', 'customer_id'], axis = 1)\n",
    "target = data['exited']"
   ]
  },
  {
   "cell_type": "code",
   "execution_count": 19,
   "metadata": {},
   "outputs": [],
   "source": [
    "# разделение на обучающую и тестовую выборки (20%)\n",
    "features_train, features_test, target_train, target_test = train_test_split(features, target, test_size = 0.2,\n",
    "                                                                           random_state = 1)"
   ]
  },
  {
   "cell_type": "code",
   "execution_count": 21,
   "metadata": {},
   "outputs": [
    {
     "name": "stderr",
     "output_type": "stream",
     "text": [
      "/tmp/ipykernel_48/4263246567.py:5: SettingWithCopyWarning: \n",
      "A value is trying to be set on a copy of a slice from a DataFrame.\n",
      "Try using .loc[row_indexer,col_indexer] = value instead\n",
      "\n",
      "See the caveats in the documentation: https://pandas.pydata.org/pandas-docs/stable/user_guide/indexing.html#returning-a-view-versus-a-copy\n",
      "  features_train[numeric] = scaler.transform(features_train[numeric])\n",
      "/opt/conda/lib/python3.9/site-packages/pandas/core/indexing.py:1738: SettingWithCopyWarning: \n",
      "A value is trying to be set on a copy of a slice from a DataFrame.\n",
      "Try using .loc[row_indexer,col_indexer] = value instead\n",
      "\n",
      "See the caveats in the documentation: https://pandas.pydata.org/pandas-docs/stable/user_guide/indexing.html#returning-a-view-versus-a-copy\n",
      "  self._setitem_single_column(loc, value[:, i].tolist(), pi)\n",
      "/tmp/ipykernel_48/4263246567.py:6: SettingWithCopyWarning: \n",
      "A value is trying to be set on a copy of a slice from a DataFrame.\n",
      "Try using .loc[row_indexer,col_indexer] = value instead\n",
      "\n",
      "See the caveats in the documentation: https://pandas.pydata.org/pandas-docs/stable/user_guide/indexing.html#returning-a-view-versus-a-copy\n",
      "  features_test[numeric] = scaler.transform(features_test[numeric])\n",
      "/opt/conda/lib/python3.9/site-packages/pandas/core/indexing.py:1738: SettingWithCopyWarning: \n",
      "A value is trying to be set on a copy of a slice from a DataFrame.\n",
      "Try using .loc[row_indexer,col_indexer] = value instead\n",
      "\n",
      "See the caveats in the documentation: https://pandas.pydata.org/pandas-docs/stable/user_guide/indexing.html#returning-a-view-versus-a-copy\n",
      "  self._setitem_single_column(loc, value[:, i].tolist(), pi)\n"
     ]
    }
   ],
   "source": [
    "numeric = ['credit_score', 'age', 'tenure', 'balance', 'num_of_products', 'estimated_salary']\n",
    "\n",
    "scaler = StandardScaler()\n",
    "scaler.fit(features_train[numeric])\n",
    "features_train[numeric] = scaler.transform(features_train[numeric])\n",
    "features_test[numeric] = scaler.transform(features_test[numeric])"
   ]
  },
  {
   "cell_type": "markdown",
   "metadata": {},
   "source": [
    "Data preparation in several stages:\n",
    "1. Data conversion,\n",
    "2. Filling in the gaps that make up 10% of the total dataset: the duration of the client period, with the median value of the client's balance,\n",
    "3. Converting categorical features (gender and geography) into numerical ones using One-Hot Encoding and bypassing the dummy trap,\n",
    "4. Separation of features into training and target,\n",
    "5. Dividing the sample into training and testing (note - we omit the validation one in connection with the use of Grid Search), with the separation of unnecessary features for forecasting (row_number, customer_id, surname),\n",
    "6. Data scaling by numerical features to eliminate the importance of features."
   ]
  },
  {
   "cell_type": "markdown",
   "metadata": {},
   "source": [
    "<a id = 'disbal'></a>\n",
    "## Problem research"
   ]
  },
  {
   "cell_type": "markdown",
   "metadata": {},
   "source": [
    "We explore how balanced the dataset and data with the target feature are."
   ]
  },
  {
   "cell_type": "code",
   "execution_count": 22,
   "metadata": {},
   "outputs": [
    {
     "data": {
      "text/plain": [
       "0    0.7963\n",
       "1    0.2037\n",
       "Name: exited, dtype: float64"
      ]
     },
     "execution_count": 22,
     "metadata": {},
     "output_type": "execute_result"
    }
   ],
   "source": [
    "data['exited'].value_counts(normalize = True)"
   ]
  },
  {
   "cell_type": "markdown",
   "metadata": {},
   "source": [
    "The fact that a client leaves is only 20% of the total sample. Data is unbalanced:"
   ]
  },
  {
   "cell_type": "code",
   "execution_count": 23,
   "metadata": {
    "scrolled": true
   },
   "outputs": [
    {
     "data": {
      "text/plain": [
       "Text(0.5, 1.0, 'Факт ухода клиента')"
      ]
     },
     "execution_count": 23,
     "metadata": {},
     "output_type": "execute_result"
    },
    {
     "data": {
      "image/png": "[encoded data removed]",
      "text/plain": [
       "<Figure size 432x288 with 1 Axes>"
      ]
     },
     "metadata": {
      "needs_background": "light"
     },
     "output_type": "display_data"
    }
   ],
   "source": [
    "data['exited'].value_counts().plot(kind = 'bar')\n",
    "plt.title('Client leaving fact')"
   ]
  },
  {
   "cell_type": "markdown",
   "metadata": {},
   "source": [
    "At the initial stage, we will conduct a study on an unbalanced sample on 3 models: Decision Tree, Random Forest and Logistic Regression.\n",
    "In order to find the optimal parameters, we apply the GridSearch algorithm."
   ]
  },
  {
   "cell_type": "code",
   "execution_count": 24,
   "metadata": {},
   "outputs": [],
   "source": [
    "def grid_f1(new_model, params):\n",
    "    grid_model = GridSearchCV(new_model, params, scoring = 'f1')\n",
    "    grid_model.fit(features_train, target_train)\n",
    "    \n",
    "    display(f'Value of F1-metrics: {grid_model.best_score_}')\n",
    "    display(f'Best parameters: {grid_model.best_params_}')"
   ]
  },
  {
   "cell_type": "code",
   "execution_count": 25,
   "metadata": {},
   "outputs": [],
   "source": [
    "def auc_roc(model):\n",
    "    model.fit(features_train, target_train)\n",
    "    probabilities_test = model.predict_proba(features_test)\n",
    "    probabilities_one_test = probabilities_test[:, 1]\n",
    "    display(f'Value of AUC-ROC metrics: {roc_auc_score(target_test, probabilities_one_test)}')"
   ]
  },
  {
   "cell_type": "markdown",
   "metadata": {},
   "source": [
    "<a id = 'dtc'></a>\n",
    "### Testing model Decision Tree Classifier"
   ]
  },
  {
   "cell_type": "code",
   "execution_count": 26,
   "metadata": {},
   "outputs": [
    {
     "data": {
      "text/plain": [
       "'Значение F1-меры: 0.5878803012795543'"
      ]
     },
     "metadata": {},
     "output_type": "display_data"
    },
    {
     "data": {
      "text/plain": [
       "\"Лучшие параметры: {'max_depth': 7, 'min_samples_leaf': 1, 'min_samples_split': 4, 'random_state': 1}\""
      ]
     },
     "metadata": {},
     "output_type": "display_data"
    },
    {
     "name": "stdout",
     "output_type": "stream",
     "text": [
      "CPU times: user 29.4 s, sys: 0 ns, total: 29.4 s\n",
      "Wall time: 31 s\n"
     ]
    }
   ],
   "source": [
    "%%time\n",
    "\n",
    "# перебор параметров\n",
    "parameters_dtc = {\n",
    "    'random_state' : [1],\n",
    "    'max_depth' : range(1, 20),\n",
    "    'min_samples_split' : range(2, 5),\n",
    "    'min_samples_leaf' : range(1, 4) \n",
    "}\n",
    "\n",
    "\n",
    "grid_f1(DecisionTreeClassifier(random_state = 1), parameters_dtc)"
   ]
  },
  {
   "cell_type": "code",
   "execution_count": 27,
   "metadata": {},
   "outputs": [
    {
     "data": {
      "text/plain": [
       "'Значение AUC-ROC-меры: 0.8459579643495116'"
      ]
     },
     "metadata": {},
     "output_type": "display_data"
    }
   ],
   "source": [
    "auc_roc(DecisionTreeClassifier(random_state = 1, max_depth = 7, min_samples_leaf = 1, min_samples_split = 4))"
   ]
  },
  {
   "cell_type": "markdown",
   "metadata": {},
   "source": [
    "The Decision Tree Classifier model has a close but still insufficient result, let's try the Random Forest model."
   ]
  },
  {
   "cell_type": "markdown",
   "metadata": {},
   "source": [
    "<a id = 'rfc'></a>\n",
    "### Testing model Random Forest Classifier"
   ]
  },
  {
   "cell_type": "code",
   "execution_count": 28,
   "metadata": {},
   "outputs": [
    {
     "data": {
      "text/plain": [
       "'Значение F1-меры: 0.5787579833333959'"
      ]
     },
     "metadata": {},
     "output_type": "display_data"
    },
    {
     "data": {
      "text/plain": [
       "\"Лучшие параметры: {'max_depth': 14, 'n_estimators': 50, 'random_state': 1}\""
      ]
     },
     "metadata": {},
     "output_type": "display_data"
    },
    {
     "name": "stdout",
     "output_type": "stream",
     "text": [
      "CPU times: user 2min 43s, sys: 694 ms, total: 2min 44s\n",
      "Wall time: 2min 47s\n"
     ]
    }
   ],
   "source": [
    "%%time\n",
    "\n",
    "parameters_rfc = {\n",
    "    'random_state' : [1],\n",
    "    'n_estimators' : [50, 150, 20],\n",
    "    'max_depth' : range(1, 20), \n",
    "}\n",
    "\n",
    "\n",
    "grid_f1(RandomForestClassifier(random_state = 1), parameters_rfc)"
   ]
  },
  {
   "cell_type": "code",
   "execution_count": 29,
   "metadata": {},
   "outputs": [
    {
     "data": {
      "text/plain": [
       "'Значение AUC-ROC-меры: 0.8590186613963742'"
      ]
     },
     "metadata": {},
     "output_type": "display_data"
    }
   ],
   "source": [
    "auc_roc(RandomForestClassifier(random_state = 1, max_depth = 14, n_estimators = 50))"
   ]
  },
  {
   "cell_type": "markdown",
   "metadata": {},
   "source": [
    "The Random Forest Classifier model also has a close but insufficient value. Let's test the Logistic Regression model."
   ]
  },
  {
   "cell_type": "markdown",
   "metadata": {},
   "source": [
    "<a id = 'lr'></a>\n",
    "### Testing model Logistic Regression"
   ]
  },
  {
   "cell_type": "code",
   "execution_count": 30,
   "metadata": {},
   "outputs": [
    {
     "data": {
      "text/plain": [
       "'Значение F1-меры: 0.2974813299918403'"
      ]
     },
     "metadata": {},
     "output_type": "display_data"
    },
    {
     "data": {
      "text/plain": [
       "\"Лучшие параметры: {'max_iter': 100, 'random_state': 1, 'solver': 'lbfgs'}\""
      ]
     },
     "metadata": {},
     "output_type": "display_data"
    },
    {
     "name": "stdout",
     "output_type": "stream",
     "text": [
      "CPU times: user 6.59 s, sys: 6.65 s, total: 13.2 s\n",
      "Wall time: 13.2 s\n"
     ]
    }
   ],
   "source": [
    "%%time\n",
    "\n",
    "parameters_lr = {\n",
    "    'random_state' : [1],\n",
    "    'max_iter' : [100, 2000, 100],\n",
    "    'solver' : ['lbfgs', 'liblinear']\n",
    "}\n",
    "\n",
    "\n",
    "grid_f1(LogisticRegression(random_state = 1), parameters_lr)"
   ]
  },
  {
   "cell_type": "code",
   "execution_count": 31,
   "metadata": {},
   "outputs": [
    {
     "data": {
      "text/plain": [
       "'Значение AUC-ROC-меры: 0.7755630724791912'"
      ]
     },
     "metadata": {},
     "output_type": "display_data"
    }
   ],
   "source": [
    "auc_roc(LogisticRegression(random_state = 1, max_iter = 100, solver = 'lbfgs'))"
   ]
  },
  {
   "cell_type": "markdown",
   "metadata": {},
   "source": [
    "The extremely low value of the f1 metric in Logistic Regression, one of the possible reasons remains the imbalance of the data."
   ]
  },
  {
   "cell_type": "markdown",
   "metadata": {},
   "source": [
    "## Solving imbalance problem"
   ]
  },
  {
   "cell_type": "markdown",
   "metadata": {},
   "source": [
    "In order to solve the imbalance problem, we use 3 methods: Class weighting, Upsampling and Downsampling."
   ]
  },
  {
   "cell_type": "markdown",
   "metadata": {},
   "source": [
    "<a id = 'class_weight'></a>\n",
    "### Class weight"
   ]
  },
  {
   "cell_type": "markdown",
   "metadata": {},
   "source": [
    "In order to add significance to a rare class (1), we specify weight balancing: class_weight = balanced and re-find the optimal hyperparameters using the Grid Search method."
   ]
  },
  {
   "cell_type": "markdown",
   "metadata": {},
   "source": [
    "#### Decision Tree Classifier"
   ]
  },
  {
   "cell_type": "code",
   "execution_count": 32,
   "metadata": {},
   "outputs": [
    {
     "data": {
      "text/plain": [
       "'Значение F1-меры: 0.5736549504968312'"
      ]
     },
     "metadata": {},
     "output_type": "display_data"
    },
    {
     "data": {
      "text/plain": [
       "\"Лучшие параметры: {'class_weight': 'balanced', 'max_depth': 6, 'min_samples_leaf': 3, 'min_samples_split': 2, 'random_state': 1}\""
      ]
     },
     "metadata": {},
     "output_type": "display_data"
    },
    {
     "name": "stdout",
     "output_type": "stream",
     "text": [
      "CPU times: user 30.8 s, sys: 2.88 ms, total: 30.8 s\n",
      "Wall time: 31.1 s\n"
     ]
    }
   ],
   "source": [
    "%%time\n",
    "\n",
    "# перебор параметров\n",
    "parameters_dtc = {\n",
    "    'random_state' : [1],\n",
    "    'max_depth' : range(1, 20),\n",
    "    'min_samples_split' : range(2, 5),\n",
    "    'min_samples_leaf' : range(1, 4), \n",
    "    'class_weight' : ['balanced']\n",
    "}\n",
    "\n",
    "\n",
    "grid_f1(DecisionTreeClassifier(random_state = 1), parameters_dtc)"
   ]
  },
  {
   "cell_type": "code",
   "execution_count": 33,
   "metadata": {},
   "outputs": [
    {
     "data": {
      "text/plain": [
       "'Значение AUC-ROC-меры: 0.8380996541370529'"
      ]
     },
     "metadata": {},
     "output_type": "display_data"
    }
   ],
   "source": [
    "auc_roc(DecisionTreeClassifier(random_state = 1, max_depth = 7, min_samples_leaf = 1, min_samples_split = 4, class_weight = 'balanced'))"
   ]
  },
  {
   "cell_type": "markdown",
   "metadata": {},
   "source": [
    "#### Random Forest Classifier"
   ]
  },
  {
   "cell_type": "code",
   "execution_count": 34,
   "metadata": {},
   "outputs": [
    {
     "data": {
      "text/plain": [
       "'Значение F1-меры: 0.6182965205063481'"
      ]
     },
     "metadata": {},
     "output_type": "display_data"
    },
    {
     "data": {
      "text/plain": [
       "\"Лучшие параметры: {'class_weight': 'balanced', 'max_depth': 10, 'n_estimators': 150, 'random_state': 1}\""
      ]
     },
     "metadata": {},
     "output_type": "display_data"
    },
    {
     "name": "stdout",
     "output_type": "stream",
     "text": [
      "CPU times: user 2min 44s, sys: 593 ms, total: 2min 45s\n",
      "Wall time: 2min 49s\n"
     ]
    }
   ],
   "source": [
    "%%time\n",
    "\n",
    "parameters_rfc = {\n",
    "    'random_state' : [1],\n",
    "    'n_estimators' : [50, 150, 20],\n",
    "    'max_depth' : range(1, 20),\n",
    "    'class_weight' : ['balanced']\n",
    "}\n",
    "\n",
    "\n",
    "grid_f1(RandomForestClassifier(random_state = 1), parameters_rfc)"
   ]
  },
  {
   "cell_type": "code",
   "execution_count": 35,
   "metadata": {},
   "outputs": [
    {
     "data": {
      "text/plain": [
       "'Значение AUC-ROC-меры: 0.8753084261335562'"
      ]
     },
     "metadata": {},
     "output_type": "display_data"
    }
   ],
   "source": [
    "auc_roc(RandomForestClassifier(random_state = 1, max_depth = 10, n_estimators = 150, class_weight = 'balanced'))"
   ]
  },
  {
   "cell_type": "markdown",
   "metadata": {},
   "source": [
    "#### Logistic Regression"
   ]
  },
  {
   "cell_type": "code",
   "execution_count": 36,
   "metadata": {},
   "outputs": [
    {
     "data": {
      "text/plain": [
       "'Значение F1-меры: 0.48689691888282854'"
      ]
     },
     "metadata": {},
     "output_type": "display_data"
    },
    {
     "data": {
      "text/plain": [
       "\"Лучшие параметры: {'class_weight': 'balanced', 'max_iter': 100, 'random_state': 1, 'solver': 'liblinear'}\""
      ]
     },
     "metadata": {},
     "output_type": "display_data"
    },
    {
     "name": "stdout",
     "output_type": "stream",
     "text": [
      "CPU times: user 6.33 s, sys: 5.84 s, total: 12.2 s\n",
      "Wall time: 12.1 s\n"
     ]
    }
   ],
   "source": [
    "%%time\n",
    "\n",
    "parameters_lr = {\n",
    "    'random_state' : [1],\n",
    "    'max_iter' : [100, 2000, 100],\n",
    "    'solver' : ['lbfgs', 'liblinear'],\n",
    "    'class_weight' : ['balanced']\n",
    "}\n",
    "\n",
    "\n",
    "grid_f1(LogisticRegression(random_state = 1), parameters_lr)"
   ]
  },
  {
   "cell_type": "code",
   "execution_count": 37,
   "metadata": {},
   "outputs": [
    {
     "data": {
      "text/plain": [
       "'Значение AUC-ROC-меры: 0.7812337045342252'"
      ]
     },
     "metadata": {},
     "output_type": "display_data"
    }
   ],
   "source": [
    "auc_roc(LogisticRegression(random_state = 1, max_iter = 100, solver = 'liblinear', class_weight = 'balanced'))"
   ]
  },
  {
   "cell_type": "markdown",
   "metadata": {},
   "source": [
    "| Model | f1 before class weight | f1 after class weight  |\n",
    "| --- | --- | --- |\n",
    "| Decision Tree Classifier | 0.587 | 0.574 |\n",
    "| Random Forest Classifier | 0.579 | 0.618 |\n",
    "| Logistic Regression | 0.297 | 0.487 |"
   ]
  },
  {
   "cell_type": "markdown",
   "metadata": {},
   "source": [
    "Adding a weight is successful only for a Random Forest that has crossed the f1 metric threshold. Weight balancing helped the Logistic Regression model but worsened the results of the Decision Tree."
   ]
  },
  {
   "cell_type": "markdown",
   "metadata": {},
   "source": [
    "<a id = 'upsample'></a>\n",
    "### Upsampling"
   ]
  },
  {
   "cell_type": "markdown",
   "metadata": {},
   "source": [
    "We increase the amount of data of the smaller class (1) by 4 times in order to balance the sample and bring the number of values of classes 0 and 1 to the same value."
   ]
  },
  {
   "cell_type": "code",
   "execution_count": 38,
   "metadata": {},
   "outputs": [
    {
     "data": {
      "text/plain": [
       "(12866, 10)"
      ]
     },
     "metadata": {},
     "output_type": "display_data"
    },
    {
     "data": {
      "text/plain": [
       "(12866,)"
      ]
     },
     "metadata": {},
     "output_type": "display_data"
    }
   ],
   "source": [
    "# функция разделяет признаки по классам, \"удлиняет\" меньший класс в repeat раз и создает новую выборку с перемешанными данными\n",
    "def upsample(features, target, repeat):\n",
    "    features_zeros = features[target == 0]\n",
    "    features_ones = features[target == 1]\n",
    "    target_zeros = target[target == 0]\n",
    "    target_ones = target[target == 1]\n",
    "\n",
    "    features_upsampled = pd.concat([features_zeros] + [features_ones] * repeat)\n",
    "    target_upsampled = pd.concat([target_zeros] + [target_ones] * repeat)\n",
    "    features_upsampled, target_upsampled = shuffle(features_upsampled, target_upsampled, random_state=1)\n",
    "    \n",
    "    return features_upsampled, target_upsampled\n",
    "\n",
    "features_upsampled, target_upsampled = upsample(features_train, target_train, 4)\n",
    "display(features_upsampled.shape, target_upsampled.shape)"
   ]
  },
  {
   "cell_type": "code",
   "execution_count": 39,
   "metadata": {},
   "outputs": [],
   "source": [
    "def grid_f1_sampled(new_model, params, features, target):\n",
    "    grid_model = GridSearchCV(new_model, params, scoring = 'f1')\n",
    "    grid_model.fit(features, target)\n",
    "    \n",
    "    display(f'Значение F1-меры: {grid_model.best_score_}')\n",
    "    display(f'Лучшие параметры: {grid_model.best_params_}')"
   ]
  },
  {
   "cell_type": "code",
   "execution_count": 40,
   "metadata": {},
   "outputs": [],
   "source": [
    "def auc_roc_sampl(model, features, target):\n",
    "    model.fit(features, target)\n",
    "    probabilities_test = model.predict_proba(features_test)\n",
    "    probabilities_one_test = probabilities_test[:, 1]\n",
    "    display(f'Значение AUC-ROC-меры: {roc_auc_score(target_test, probabilities_one_test)}')"
   ]
  },
  {
   "cell_type": "markdown",
   "metadata": {},
   "source": [
    "#### Decision Tree Classifier"
   ]
  },
  {
   "cell_type": "code",
   "execution_count": 41,
   "metadata": {},
   "outputs": [
    {
     "data": {
      "text/plain": [
       "'Значение F1-меры: 0.9246335084664647'"
      ]
     },
     "metadata": {},
     "output_type": "display_data"
    },
    {
     "data": {
      "text/plain": [
       "\"Лучшие параметры: {'max_depth': 19, 'min_samples_leaf': 1, 'min_samples_split': 2, 'random_state': 1}\""
      ]
     },
     "metadata": {},
     "output_type": "display_data"
    },
    {
     "name": "stdout",
     "output_type": "stream",
     "text": [
      "CPU times: user 39.1 s, sys: 36.5 ms, total: 39.1 s\n",
      "Wall time: 39.2 s\n"
     ]
    }
   ],
   "source": [
    "%%time\n",
    "\n",
    "# перебор параметров\n",
    "parameters_dtc = {\n",
    "    'random_state' : [1],\n",
    "    'max_depth' : range(1, 20),\n",
    "    'min_samples_split' : range(2, 5),\n",
    "    'min_samples_leaf' : range(1, 4)\n",
    "}\n",
    "\n",
    "\n",
    "grid_f1_sampled(DecisionTreeClassifier(random_state = 1), parameters_dtc, features_upsampled, target_upsampled)"
   ]
  },
  {
   "cell_type": "code",
   "execution_count": 42,
   "metadata": {},
   "outputs": [
    {
     "data": {
      "text/plain": [
       "'Значение AUC-ROC-меры: 0.7048709665159059'"
      ]
     },
     "metadata": {},
     "output_type": "display_data"
    }
   ],
   "source": [
    "auc_roc_sampl(DecisionTreeClassifier(random_state = 1, max_depth = 19, min_samples_leaf = 1, min_samples_split = 2 ), features_upsampled, target_upsampled )"
   ]
  },
  {
   "cell_type": "markdown",
   "metadata": {},
   "source": [
    "#### Random Forest Classifier"
   ]
  },
  {
   "cell_type": "code",
   "execution_count": 43,
   "metadata": {},
   "outputs": [
    {
     "data": {
      "text/plain": [
       "'Значение F1-меры: 0.9553273498841225'"
      ]
     },
     "metadata": {},
     "output_type": "display_data"
    },
    {
     "data": {
      "text/plain": [
       "\"Лучшие параметры: {'max_depth': 19, 'n_estimators': 150, 'random_state': 1}\""
      ]
     },
     "metadata": {},
     "output_type": "display_data"
    },
    {
     "name": "stdout",
     "output_type": "stream",
     "text": [
      "CPU times: user 3min 54s, sys: 577 ms, total: 3min 54s\n",
      "Wall time: 3min 55s\n"
     ]
    }
   ],
   "source": [
    "%%time\n",
    "\n",
    "parameters_rfc = {\n",
    "    'random_state' : [1],\n",
    "    'n_estimators' : [50, 150, 20],\n",
    "    'max_depth' : range(1, 20)\n",
    "}\n",
    "\n",
    "\n",
    "grid_f1_sampled(RandomForestClassifier(random_state = 1), parameters_rfc, features_upsampled, target_upsampled)"
   ]
  },
  {
   "cell_type": "code",
   "execution_count": 44,
   "metadata": {},
   "outputs": [
    {
     "data": {
      "text/plain": [
       "'Значение AUC-ROC-меры: 0.8621033028011098'"
      ]
     },
     "metadata": {},
     "output_type": "display_data"
    }
   ],
   "source": [
    "auc_roc_sampl(RandomForestClassifier(random_state = 1, max_depth = 19, n_estimators = 150), features_upsampled, target_upsampled)"
   ]
  },
  {
   "cell_type": "markdown",
   "metadata": {},
   "source": [
    "#### Logistic Regression"
   ]
  },
  {
   "cell_type": "code",
   "execution_count": 45,
   "metadata": {},
   "outputs": [
    {
     "data": {
      "text/plain": [
       "'Значение F1-меры: 0.7023331355859849'"
      ]
     },
     "metadata": {},
     "output_type": "display_data"
    },
    {
     "data": {
      "text/plain": [
       "\"Лучшие параметры: {'max_iter': 100, 'random_state': 1, 'solver': 'liblinear'}\""
      ]
     },
     "metadata": {},
     "output_type": "display_data"
    },
    {
     "name": "stdout",
     "output_type": "stream",
     "text": [
      "CPU times: user 6.96 s, sys: 6.01 s, total: 13 s\n",
      "Wall time: 12.9 s\n"
     ]
    }
   ],
   "source": [
    "%%time\n",
    "\n",
    "parameters_lr = {\n",
    "    'random_state' : [1],\n",
    "    'max_iter' : [100, 2000, 100],\n",
    "    'solver' : ['lbfgs', 'liblinear']\n",
    "}\n",
    "\n",
    "\n",
    "grid_f1_sampled(LogisticRegression(random_state = 1), parameters_lr, features_upsampled, target_upsampled)"
   ]
  },
  {
   "cell_type": "code",
   "execution_count": 46,
   "metadata": {},
   "outputs": [
    {
     "data": {
      "text/plain": [
       "'Значение AUC-ROC-меры: 0.7812185017673217'"
      ]
     },
     "metadata": {},
     "output_type": "display_data"
    }
   ],
   "source": [
    "auc_roc_sampl(LogisticRegression(random_state = 1, max_iter = 100, solver = 'liblinear'), features_upsampled, target_upsampled)"
   ]
  },
  {
   "cell_type": "markdown",
   "metadata": {},
   "source": [
    "| Model | f1 before upsampling | f1 after upsampling  |\n",
    "| --- | --- | --- |\n",
    "| Decision Tree Classifier | 0.587 | 0.925 |\n",
    "| Random Forest Classifier | 0.579 | 0.955 |\n",
    "| Logistic Regression | 0.297 | 0.70 |"
   ]
  },
  {
   "cell_type": "markdown",
   "metadata": {},
   "source": [
    "All models have improved their values. Models trained almost perfectly! Random Forest has the best value."
   ]
  },
  {
   "cell_type": "markdown",
   "metadata": {},
   "source": [
    "<a id = 'downsample'></a>\n",
    "### Downsampling"
   ]
  },
  {
   "cell_type": "markdown",
   "metadata": {},
   "source": [
    "An alternative solution is to reduce the larger sample (class 0) to balance the values. In our case, we will leave 0.25 part of values."
   ]
  },
  {
   "cell_type": "code",
   "execution_count": 57,
   "metadata": {},
   "outputs": [
    {
     "data": {
      "text/plain": [
       "(3216, 10)"
      ]
     },
     "metadata": {},
     "output_type": "display_data"
    },
    {
     "data": {
      "text/plain": [
       "(3216,)"
      ]
     },
     "metadata": {},
     "output_type": "display_data"
    }
   ],
   "source": [
    "# функция разделяет признаки по классам, \"урезает\" больший класс в fraction раз и создает новую выборку с перемешанными данными\n",
    "def downsample(features, target, fraction):\n",
    "    features_zeros = features[target == 0]\n",
    "    features_ones = features[target == 1]\n",
    "    target_zeros = target[target == 0]\n",
    "    target_ones = target[target == 1]\n",
    "\n",
    "    features_downsampled = pd.concat(\n",
    "        [features_zeros.sample(frac=fraction, random_state=1)] + [features_ones])\n",
    "    target_downsampled = pd.concat(\n",
    "        [target_zeros.sample(frac=fraction, random_state=1)] + [target_ones])\n",
    "    \n",
    "    features_downsampled, target_downsampled = shuffle(\n",
    "        features_downsampled, target_downsampled, random_state=1)\n",
    "    \n",
    "    return features_downsampled, target_downsampled\n",
    "\n",
    "features_downsampled, target_downsampled = downsample(features_train, target_train, 0.25)\n",
    "display(features_downsampled.shape, target_downsampled.shape)"
   ]
  },
  {
   "cell_type": "markdown",
   "metadata": {},
   "source": [
    "#### Decision Tree Classifier"
   ]
  },
  {
   "cell_type": "code",
   "execution_count": 48,
   "metadata": {},
   "outputs": [
    {
     "data": {
      "text/plain": [
       "'Значение F1-меры: 0.759353581021845'"
      ]
     },
     "metadata": {},
     "output_type": "display_data"
    },
    {
     "data": {
      "text/plain": [
       "\"Лучшие параметры: {'max_depth': 6, 'min_samples_leaf': 3, 'min_samples_split': 2, 'random_state': 1}\""
      ]
     },
     "metadata": {},
     "output_type": "display_data"
    },
    {
     "name": "stdout",
     "output_type": "stream",
     "text": [
      "CPU times: user 13.5 s, sys: 962 µs, total: 13.5 s\n",
      "Wall time: 13.6 s\n"
     ]
    }
   ],
   "source": [
    "%%time\n",
    "\n",
    "# перебор параметров\n",
    "parameters_dtc = {\n",
    "    'random_state' : [1],\n",
    "    'max_depth' : range(1, 20),\n",
    "    'min_samples_split' : range(2, 5),\n",
    "    'min_samples_leaf' : range(1, 4)\n",
    "}\n",
    "\n",
    "\n",
    "grid_f1_sampled(DecisionTreeClassifier(random_state=1), parameters_dtc, features_downsampled, target_downsampled)"
   ]
  },
  {
   "cell_type": "code",
   "execution_count": 49,
   "metadata": {},
   "outputs": [
    {
     "data": {
      "text/plain": [
       "'Значение AUC-ROC-меры: 0.8354938998897798'"
      ]
     },
     "metadata": {},
     "output_type": "display_data"
    }
   ],
   "source": [
    "auc_roc_sampl(DecisionTreeClassifier(random_state=1, max_depth=6, min_samples_leaf=3, min_samples_split=2), features_downsampled, target_downsampled )"
   ]
  },
  {
   "cell_type": "markdown",
   "metadata": {},
   "source": [
    "#### Random Forest Classifier"
   ]
  },
  {
   "cell_type": "code",
   "execution_count": 50,
   "metadata": {},
   "outputs": [
    {
     "data": {
      "text/plain": [
       "'Значение F1-меры: 0.7732080128197201'"
      ]
     },
     "metadata": {},
     "output_type": "display_data"
    },
    {
     "data": {
      "text/plain": [
       "\"Лучшие параметры: {'max_depth': 8, 'n_estimators': 50, 'random_state': 1}\""
      ]
     },
     "metadata": {},
     "output_type": "display_data"
    },
    {
     "name": "stdout",
     "output_type": "stream",
     "text": [
      "CPU times: user 1min 14s, sys: 290 ms, total: 1min 14s\n",
      "Wall time: 1min 15s\n"
     ]
    }
   ],
   "source": [
    "%%time\n",
    "\n",
    "parameters_rfc = {\n",
    "    'random_state' : [1],\n",
    "    'n_estimators' : [50, 150, 20],\n",
    "    'max_depth' : range(1, 20)\n",
    "}\n",
    "\n",
    "\n",
    "grid_f1_sampled(RandomForestClassifier(random_state = 1), parameters_rfc, features_downsampled, target_downsampled)"
   ]
  },
  {
   "cell_type": "code",
   "execution_count": 51,
   "metadata": {},
   "outputs": [
    {
     "data": {
      "text/plain": [
       "'Значение AUC-ROC-меры: 0.8708038463000267'"
      ]
     },
     "metadata": {},
     "output_type": "display_data"
    }
   ],
   "source": [
    "auc_roc_sampl(RandomForestClassifier(random_state = 1, max_depth = 8, n_estimators = 50), features_downsampled, target_downsampled)"
   ]
  },
  {
   "cell_type": "markdown",
   "metadata": {},
   "source": [
    "#### Logistic Regression"
   ]
  },
  {
   "cell_type": "code",
   "execution_count": 52,
   "metadata": {},
   "outputs": [
    {
     "data": {
      "text/plain": [
       "'Значение F1-меры: 0.696111355836641'"
      ]
     },
     "metadata": {},
     "output_type": "display_data"
    },
    {
     "data": {
      "text/plain": [
       "\"Лучшие параметры: {'max_iter': 100, 'random_state': 1, 'solver': 'lbfgs'}\""
      ]
     },
     "metadata": {},
     "output_type": "display_data"
    },
    {
     "name": "stdout",
     "output_type": "stream",
     "text": [
      "CPU times: user 1.55 s, sys: 1.83 s, total: 3.38 s\n",
      "Wall time: 3.36 s\n"
     ]
    }
   ],
   "source": [
    "%%time\n",
    "\n",
    "parameters_lr = {\n",
    "    'random_state' : [1],\n",
    "    'max_iter' : [100, 2000, 100],\n",
    "    'solver' : ['lbfgs', 'liblinear']\n",
    "}\n",
    "\n",
    "\n",
    "grid_f1_sampled(LogisticRegression(random_state = 1), parameters_lr, features_downsampled, target_downsampled)"
   ]
  },
  {
   "cell_type": "code",
   "execution_count": 53,
   "metadata": {},
   "outputs": [
    {
     "data": {
      "text/plain": [
       "'Значение AUC-ROC-меры: 0.7776124054577933'"
      ]
     },
     "metadata": {},
     "output_type": "display_data"
    }
   ],
   "source": [
    "auc_roc_sampl(LogisticRegression(random_state=1, max_iter=100, solver='lbfgs'), features_downsampled, target_downsampled)"
   ]
  },
  {
   "cell_type": "markdown",
   "metadata": {},
   "source": [
    "| Model | f1 before downsampling | f1 after downsampling  |\n",
    "| --- | --- | --- |\n",
    "| Decision Tree Classifier | 0.587 | 0.759 |\n",
    "| Random Forest Classifier | 0.579 | 0.773 |\n",
    "| Logistic Regression | 0.297 | 0.696 |"
   ]
  },
  {
   "cell_type": "markdown",
   "metadata": {},
   "source": [
    "The result is worse than the method of increasing the smaller sample.\n",
    "\n",
    "All models coped better with increasing the proportion of class [1] in the sample, the values showed that the model trained perfectly. It is possible that the model was retrained - overfitted, let's check the test set."
   ]
  },
  {
   "cell_type": "markdown",
   "metadata": {},
   "source": [
    "<a id = 'test'></a>\n",
    "## Model testing"
   ]
  },
  {
   "cell_type": "markdown",
   "metadata": {},
   "source": [
    "Let's check the Random Forest model on the test set, and also increase the smaller class of test data."
   ]
  },
  {
   "cell_type": "code",
   "execution_count": 54,
   "metadata": {},
   "outputs": [
    {
     "data": {
      "text/plain": [
       "'f1 на тестовой выборке: '"
      ]
     },
     "metadata": {},
     "output_type": "display_data"
    },
    {
     "data": {
      "text/plain": [
       "0.6388557806912991"
      ]
     },
     "metadata": {},
     "output_type": "display_data"
    }
   ],
   "source": [
    "model = RandomForestClassifier(random_state=1, n_estimators=150,  max_depth=10, class_weight='balanced')\n",
    "\n",
    "model.fit(features_train, target_train)\n",
    "display('f1 на тестовой выборке: ', f1_score(target_test, model.predict(features_test)))"
   ]
  },
  {
   "cell_type": "markdown",
   "metadata": {},
   "source": [
    "The model is also of higher quality than the random classifier!Модель так же имеет более высшее качество, чем случайный классификатор!"
   ]
  },
  {
   "cell_type": "code",
   "execution_count": 55,
   "metadata": {},
   "outputs": [
    {
     "data": {
      "text/plain": [
       "'f1 на тестовой выборке: '"
      ]
     },
     "metadata": {},
     "output_type": "display_data"
    },
    {
     "data": {
      "text/plain": [
       "0.6337579617834395"
      ]
     },
     "metadata": {},
     "output_type": "display_data"
    }
   ],
   "source": [
    "model = RandomForestClassifier(random_state = 1, n_estimators =  150,  max_depth = 19)\n",
    "\n",
    "features_u_test, target_u_test = upsample(features_test, target_test, 4)\n",
    "\n",
    "model.fit(features_train, target_train)\n",
    "display('f1 на тестовой выборке: ', f1_score(target_test, model.predict(features_test)))\n"
   ]
  },
  {
   "cell_type": "markdown",
   "metadata": {},
   "source": [
    "## Conclusion"
   ]
  },
  {
   "cell_type": "markdown",
   "metadata": {},
   "source": [
    "We have carried out work on predicting the leave of the client of 'Beta-Bank'.\n",
    "\n",
    "After examining the data and dividing it into training, validation and test sets, we assessed how well the model understands the data and does not retrain on unbalanced and balanced data:\n",
    "\n",
    "1. Decision Tree Classifier - f1 metric indicator - 53% did not change with data balancing,\n",
    "2. Random Forest Classifer - improved the metric from 60 to 63% with an increase in the sample,\n",
    "3. Logistic Regression - improved the metric from 6 to 48% with the addition of weight.\n",
    "\n",
    "We can <b>recommend</b> the <b>Random Forest Classifer</b> model for work, as it showed the highest accuracy and flexibility (reducing and increasing samples)."
   ]
  }
 ],
 "metadata": {
  "ExecuteTimeLog": [
   {
    "duration": 375,
    "start_time": "2022-10-04T13:04:05.612Z"
   },
   {
    "duration": 161,
    "start_time": "2022-10-04T13:04:16.770Z"
   },
   {
    "duration": 12,
    "start_time": "2022-10-04T13:04:23.662Z"
   },
   {
    "duration": 17,
    "start_time": "2022-10-04T13:04:36.053Z"
   },
   {
    "duration": 825,
    "start_time": "2022-10-04T13:09:16.341Z"
   },
   {
    "duration": 48841,
    "start_time": "2022-10-04T13:09:26.742Z"
   },
   {
    "duration": 92,
    "start_time": "2022-10-04T13:12:33.853Z"
   },
   {
    "duration": 3,
    "start_time": "2022-10-04T13:12:43.895Z"
   },
   {
    "duration": 13,
    "start_time": "2022-10-04T13:12:53.847Z"
   },
   {
    "duration": 20,
    "start_time": "2022-10-04T13:38:14.962Z"
   },
   {
    "duration": 7,
    "start_time": "2022-10-04T13:38:37.852Z"
   },
   {
    "duration": 6,
    "start_time": "2022-10-04T13:40:42.996Z"
   },
   {
    "duration": 5,
    "start_time": "2022-10-04T13:40:53.952Z"
   },
   {
    "duration": 20,
    "start_time": "2022-10-04T13:41:00.007Z"
   },
   {
    "duration": 14,
    "start_time": "2022-10-04T13:41:10.566Z"
   },
   {
    "duration": 3,
    "start_time": "2022-10-04T13:41:39.426Z"
   },
   {
    "duration": 7,
    "start_time": "2022-10-04T13:41:41.161Z"
   },
   {
    "duration": 14,
    "start_time": "2022-10-04T13:41:44.188Z"
   },
   {
    "duration": 5,
    "start_time": "2022-10-04T13:44:26.890Z"
   },
   {
    "duration": 5,
    "start_time": "2022-10-04T13:44:53.465Z"
   },
   {
    "duration": 88,
    "start_time": "2022-10-04T13:45:10.742Z"
   },
   {
    "duration": 2,
    "start_time": "2022-10-04T13:51:28.977Z"
   },
   {
    "duration": 467,
    "start_time": "2022-10-04T13:53:08.111Z"
   },
   {
    "duration": 4,
    "start_time": "2022-10-04T13:53:46.751Z"
   },
   {
    "duration": 7,
    "start_time": "2022-10-04T14:00:17.343Z"
   },
   {
    "duration": 22,
    "start_time": "2022-10-04T14:01:42.928Z"
   },
   {
    "duration": 8,
    "start_time": "2022-10-04T14:02:02.966Z"
   },
   {
    "duration": 4,
    "start_time": "2022-10-04T14:02:04.180Z"
   },
   {
    "duration": 10,
    "start_time": "2022-10-04T14:11:45.026Z"
   },
   {
    "duration": 3,
    "start_time": "2022-10-04T14:12:18.650Z"
   },
   {
    "duration": 422,
    "start_time": "2022-10-04T14:12:24.907Z"
   },
   {
    "duration": 0,
    "start_time": "2022-10-04T20:13:22.729Z"
   },
   {
    "duration": 3,
    "start_time": "2022-10-04T20:13:28.215Z"
   },
   {
    "duration": 93,
    "start_time": "2022-10-04T20:13:32.616Z"
   },
   {
    "duration": 4,
    "start_time": "2022-10-04T20:13:42.975Z"
   },
   {
    "duration": 43,
    "start_time": "2022-10-04T20:13:42.981Z"
   },
   {
    "duration": 13,
    "start_time": "2022-10-04T20:13:43.025Z"
   },
   {
    "duration": 17,
    "start_time": "2022-10-04T20:13:43.039Z"
   },
   {
    "duration": 52613,
    "start_time": "2022-10-04T20:13:43.058Z"
   },
   {
    "duration": 4,
    "start_time": "2022-10-04T20:14:35.673Z"
   },
   {
    "duration": 16,
    "start_time": "2022-10-04T20:14:35.678Z"
   },
   {
    "duration": 5,
    "start_time": "2022-10-04T20:14:35.696Z"
   },
   {
    "duration": 20,
    "start_time": "2022-10-04T20:14:35.703Z"
   },
   {
    "duration": 18,
    "start_time": "2022-10-04T20:14:35.724Z"
   },
   {
    "duration": 4,
    "start_time": "2022-10-04T20:14:35.744Z"
   },
   {
    "duration": 7,
    "start_time": "2022-10-04T20:14:35.750Z"
   },
   {
    "duration": 7,
    "start_time": "2022-10-04T20:14:35.759Z"
   },
   {
    "duration": 33,
    "start_time": "2022-10-04T20:14:35.768Z"
   },
   {
    "duration": 4,
    "start_time": "2022-10-04T20:14:35.803Z"
   },
   {
    "duration": 16,
    "start_time": "2022-10-04T20:14:35.809Z"
   },
   {
    "duration": 12,
    "start_time": "2022-10-04T20:15:14.351Z"
   },
   {
    "duration": 3,
    "start_time": "2022-10-04T20:17:37.918Z"
   },
   {
    "duration": 200,
    "start_time": "2022-10-04T20:19:40.235Z"
   },
   {
    "duration": 207,
    "start_time": "2022-10-04T20:19:47.837Z"
   },
   {
    "duration": 9,
    "start_time": "2022-10-04T20:20:21.669Z"
   },
   {
    "duration": 12,
    "start_time": "2022-10-04T20:21:14.949Z"
   },
   {
    "duration": 4,
    "start_time": "2022-10-04T20:21:39.775Z"
   },
   {
    "duration": 13,
    "start_time": "2022-10-04T20:21:46.559Z"
   },
   {
    "duration": 7,
    "start_time": "2022-10-04T20:22:05.128Z"
   },
   {
    "duration": 493,
    "start_time": "2022-10-04T20:22:12.956Z"
   },
   {
    "duration": 1334,
    "start_time": "2022-10-04T20:28:28.940Z"
   },
   {
    "duration": 40,
    "start_time": "2022-10-04T20:28:30.276Z"
   },
   {
    "duration": 12,
    "start_time": "2022-10-04T20:28:30.317Z"
   },
   {
    "duration": 22,
    "start_time": "2022-10-04T20:28:30.330Z"
   },
   {
    "duration": 1315,
    "start_time": "2022-10-04T20:28:48.965Z"
   },
   {
    "duration": 40,
    "start_time": "2022-10-04T20:28:50.282Z"
   },
   {
    "duration": 12,
    "start_time": "2022-10-04T20:28:50.323Z"
   },
   {
    "duration": 16,
    "start_time": "2022-10-04T20:28:50.336Z"
   },
   {
    "duration": 2,
    "start_time": "2022-10-04T20:28:50.353Z"
   },
   {
    "duration": 4,
    "start_time": "2022-10-04T20:28:50.357Z"
   },
   {
    "duration": 14,
    "start_time": "2022-10-04T20:28:50.362Z"
   },
   {
    "duration": 4,
    "start_time": "2022-10-04T20:28:50.378Z"
   },
   {
    "duration": 21,
    "start_time": "2022-10-04T20:28:50.384Z"
   },
   {
    "duration": 14,
    "start_time": "2022-10-04T20:28:50.407Z"
   },
   {
    "duration": 4,
    "start_time": "2022-10-04T20:28:50.423Z"
   },
   {
    "duration": 5,
    "start_time": "2022-10-04T20:28:56.843Z"
   },
   {
    "duration": 9,
    "start_time": "2022-10-04T20:29:56.016Z"
   },
   {
    "duration": 8,
    "start_time": "2022-10-04T20:30:08.847Z"
   },
   {
    "duration": 9,
    "start_time": "2022-10-04T20:30:18.945Z"
   },
   {
    "duration": 12,
    "start_time": "2022-10-04T20:33:49.583Z"
   },
   {
    "duration": 10,
    "start_time": "2022-10-04T20:36:23.129Z"
   },
   {
    "duration": 12,
    "start_time": "2022-10-04T20:36:29.199Z"
   },
   {
    "duration": 10,
    "start_time": "2022-10-04T20:37:10.524Z"
   },
   {
    "duration": 12,
    "start_time": "2022-10-04T20:37:11.945Z"
   },
   {
    "duration": 6,
    "start_time": "2022-10-04T20:37:42.816Z"
   },
   {
    "duration": 5,
    "start_time": "2022-10-04T20:37:54.119Z"
   },
   {
    "duration": 10,
    "start_time": "2022-10-04T20:37:55.743Z"
   },
   {
    "duration": 3,
    "start_time": "2022-10-04T20:37:57.066Z"
   },
   {
    "duration": 506,
    "start_time": "2022-10-04T20:38:10.365Z"
   },
   {
    "duration": 11,
    "start_time": "2022-10-04T20:59:56.512Z"
   },
   {
    "duration": 3,
    "start_time": "2022-10-04T21:00:48.306Z"
   },
   {
    "duration": 13,
    "start_time": "2022-10-04T21:00:59.558Z"
   },
   {
    "duration": 5,
    "start_time": "2022-10-04T21:02:08.465Z"
   },
   {
    "duration": 11,
    "start_time": "2022-10-04T21:02:10.620Z"
   },
   {
    "duration": 390,
    "start_time": "2022-10-04T21:02:15.280Z"
   },
   {
    "duration": 9,
    "start_time": "2022-10-04T22:30:16.102Z"
   },
   {
    "duration": 10,
    "start_time": "2022-10-04T22:30:34.047Z"
   },
   {
    "duration": 47,
    "start_time": "2022-10-05T20:50:59.563Z"
   },
   {
    "duration": 1644,
    "start_time": "2022-10-05T20:51:02.357Z"
   },
   {
    "duration": 157,
    "start_time": "2022-10-05T20:51:05.665Z"
   },
   {
    "duration": 15,
    "start_time": "2022-10-05T20:51:07.152Z"
   },
   {
    "duration": 17,
    "start_time": "2022-10-05T20:51:09.247Z"
   },
   {
    "duration": 3,
    "start_time": "2022-10-05T20:51:10.721Z"
   },
   {
    "duration": 4,
    "start_time": "2022-10-05T20:51:11.734Z"
   },
   {
    "duration": 16,
    "start_time": "2022-10-05T20:51:18.805Z"
   },
   {
    "duration": 7,
    "start_time": "2022-10-05T20:51:27.783Z"
   },
   {
    "duration": 7,
    "start_time": "2022-10-05T20:51:38.291Z"
   },
   {
    "duration": 7,
    "start_time": "2022-10-05T20:51:39.299Z"
   },
   {
    "duration": 13,
    "start_time": "2022-10-05T20:52:08.093Z"
   },
   {
    "duration": 14,
    "start_time": "2022-10-05T20:52:14.375Z"
   },
   {
    "duration": 6,
    "start_time": "2022-10-05T20:52:26.572Z"
   },
   {
    "duration": 9,
    "start_time": "2022-10-05T20:52:35.121Z"
   },
   {
    "duration": 4,
    "start_time": "2022-10-05T20:52:42.794Z"
   },
   {
    "duration": 23,
    "start_time": "2022-10-05T20:52:49.983Z"
   },
   {
    "duration": 5,
    "start_time": "2022-10-05T20:52:55.033Z"
   },
   {
    "duration": 9,
    "start_time": "2022-10-05T20:53:55.577Z"
   },
   {
    "duration": 12,
    "start_time": "2022-10-05T20:54:02.601Z"
   },
   {
    "duration": 13,
    "start_time": "2022-10-05T20:54:03.692Z"
   },
   {
    "duration": 6,
    "start_time": "2022-10-05T20:54:07.105Z"
   },
   {
    "duration": 8,
    "start_time": "2022-10-05T20:54:08.770Z"
   },
   {
    "duration": 4,
    "start_time": "2022-10-05T20:54:09.900Z"
   },
   {
    "duration": 23,
    "start_time": "2022-10-05T20:54:12.209Z"
   },
   {
    "duration": 4,
    "start_time": "2022-10-05T20:54:13.326Z"
   },
   {
    "duration": 5,
    "start_time": "2022-10-05T20:54:57.367Z"
   },
   {
    "duration": 131,
    "start_time": "2022-10-05T20:55:05.327Z"
   },
   {
    "duration": 3,
    "start_time": "2022-10-05T20:57:03.361Z"
   },
   {
    "duration": 2627,
    "start_time": "2022-10-05T20:57:19.612Z"
   },
   {
    "duration": 30,
    "start_time": "2022-10-05T20:57:38.433Z"
   },
   {
    "duration": 10198,
    "start_time": "2022-10-05T20:57:55.886Z"
   },
   {
    "duration": 762,
    "start_time": "2022-10-05T20:58:15.770Z"
   },
   {
    "duration": 8353,
    "start_time": "2022-10-05T20:58:24.541Z"
   },
   {
    "duration": 21,
    "start_time": "2022-10-05T20:58:54.912Z"
   },
   {
    "duration": 4,
    "start_time": "2022-10-05T21:01:36.512Z"
   },
   {
    "duration": 2415,
    "start_time": "2022-10-05T21:02:05.322Z"
   },
   {
    "duration": 10343,
    "start_time": "2022-10-05T21:02:45.404Z"
   },
   {
    "duration": 8080,
    "start_time": "2022-10-05T21:03:05.410Z"
   },
   {
    "duration": 3,
    "start_time": "2022-10-05T21:05:08.931Z"
   },
   {
    "duration": 3,
    "start_time": "2022-10-05T21:06:18.512Z"
   },
   {
    "duration": 2462,
    "start_time": "2022-10-05T21:06:51.873Z"
   },
   {
    "duration": 2402,
    "start_time": "2022-10-05T21:07:08.625Z"
   },
   {
    "duration": 3,
    "start_time": "2022-10-05T21:30:02.847Z"
   },
   {
    "duration": 32,
    "start_time": "2022-10-05T21:38:08.836Z"
   },
   {
    "duration": 783,
    "start_time": "2022-10-05T21:38:10.038Z"
   },
   {
    "duration": 25,
    "start_time": "2022-10-05T21:38:12.769Z"
   },
   {
    "duration": 13,
    "start_time": "2022-10-05T21:41:26.677Z"
   },
   {
    "duration": 3,
    "start_time": "2022-10-05T21:41:27.789Z"
   },
   {
    "duration": 38,
    "start_time": "2022-10-05T21:41:29.306Z"
   },
   {
    "duration": 1071,
    "start_time": "2022-10-05T21:41:30.453Z"
   },
   {
    "duration": 28,
    "start_time": "2022-10-05T21:41:32.766Z"
   },
   {
    "duration": 3,
    "start_time": "2022-10-05T21:43:11.548Z"
   },
   {
    "duration": 8,
    "start_time": "2022-10-05T21:43:27.170Z"
   },
   {
    "duration": 12,
    "start_time": "2022-10-05T21:43:31.648Z"
   },
   {
    "duration": 422,
    "start_time": "2022-10-05T21:43:35.478Z"
   },
   {
    "duration": 465,
    "start_time": "2022-10-05T21:43:44.159Z"
   },
   {
    "duration": 24,
    "start_time": "2022-10-05T21:43:51.151Z"
   },
   {
    "duration": 432,
    "start_time": "2022-10-05T21:43:52.177Z"
   },
   {
    "duration": 16,
    "start_time": "2022-10-05T21:43:54.047Z"
   },
   {
    "duration": 430,
    "start_time": "2022-10-05T21:44:07.378Z"
   },
   {
    "duration": 438,
    "start_time": "2022-10-05T21:44:14.552Z"
   },
   {
    "duration": 1188,
    "start_time": "2022-10-05T21:45:13.702Z"
   },
   {
    "duration": 806,
    "start_time": "2022-10-05T21:46:05.841Z"
   },
   {
    "duration": 799,
    "start_time": "2022-10-05T21:48:27.499Z"
   },
   {
    "duration": 729,
    "start_time": "2022-10-05T21:49:20.756Z"
   },
   {
    "duration": 4,
    "start_time": "2022-10-05T21:55:31.698Z"
   },
   {
    "duration": 53,
    "start_time": "2022-10-05T21:56:45.625Z"
   },
   {
    "duration": 29,
    "start_time": "2022-10-05T21:57:10.691Z"
   },
   {
    "duration": 31,
    "start_time": "2022-10-05T21:57:12.153Z"
   },
   {
    "duration": 803,
    "start_time": "2022-10-05T21:57:29.048Z"
   },
   {
    "duration": 161,
    "start_time": "2022-10-05T21:57:47.033Z"
   },
   {
    "duration": 20,
    "start_time": "2022-10-05T21:57:54.636Z"
   },
   {
    "duration": 1577,
    "start_time": "2022-10-05T21:58:12.793Z"
   },
   {
    "duration": 30,
    "start_time": "2022-10-05T21:58:54.011Z"
   },
   {
    "duration": 940,
    "start_time": "2022-10-05T21:59:36.950Z"
   },
   {
    "duration": 1636,
    "start_time": "2022-10-05T22:00:03.649Z"
   },
   {
    "duration": 95,
    "start_time": "2022-10-05T22:00:18.901Z"
   },
   {
    "duration": 5,
    "start_time": "2022-10-05T22:00:44.337Z"
   },
   {
    "duration": 5,
    "start_time": "2022-10-05T22:00:54.376Z"
   },
   {
    "duration": 830,
    "start_time": "2022-10-05T22:01:02.860Z"
   },
   {
    "duration": 797,
    "start_time": "2022-10-05T22:02:08.003Z"
   },
   {
    "duration": 3,
    "start_time": "2022-10-05T22:07:55.158Z"
   },
   {
    "duration": 1229,
    "start_time": "2022-10-05T22:08:10.661Z"
   },
   {
    "duration": 462,
    "start_time": "2022-10-05T22:08:36.326Z"
   },
   {
    "duration": 34,
    "start_time": "2022-10-05T22:09:59.093Z"
   },
   {
    "duration": 989,
    "start_time": "2022-10-05T22:11:53.105Z"
   },
   {
    "duration": 751,
    "start_time": "2022-10-05T22:27:36.721Z"
   },
   {
    "duration": 1477,
    "start_time": "2022-10-05T22:28:15.230Z"
   },
   {
    "duration": 41,
    "start_time": "2022-10-05T22:28:16.709Z"
   },
   {
    "duration": 14,
    "start_time": "2022-10-05T22:28:16.753Z"
   },
   {
    "duration": 46,
    "start_time": "2022-10-05T22:28:16.769Z"
   },
   {
    "duration": 22,
    "start_time": "2022-10-05T22:28:16.820Z"
   },
   {
    "duration": 36,
    "start_time": "2022-10-05T22:28:16.844Z"
   },
   {
    "duration": 39,
    "start_time": "2022-10-05T22:28:16.881Z"
   },
   {
    "duration": 27,
    "start_time": "2022-10-05T22:28:16.922Z"
   },
   {
    "duration": 21,
    "start_time": "2022-10-05T22:28:16.950Z"
   },
   {
    "duration": 46,
    "start_time": "2022-10-05T22:28:16.972Z"
   },
   {
    "duration": 14,
    "start_time": "2022-10-05T22:28:17.020Z"
   },
   {
    "duration": 41,
    "start_time": "2022-10-05T22:28:17.036Z"
   },
   {
    "duration": 42,
    "start_time": "2022-10-05T22:28:17.078Z"
   },
   {
    "duration": 27,
    "start_time": "2022-10-05T22:28:17.123Z"
   },
   {
    "duration": 61,
    "start_time": "2022-10-05T22:28:17.152Z"
   },
   {
    "duration": 18,
    "start_time": "2022-10-05T22:28:17.215Z"
   },
   {
    "duration": 25,
    "start_time": "2022-10-05T22:28:17.234Z"
   },
   {
    "duration": 32,
    "start_time": "2022-10-05T22:28:17.261Z"
   },
   {
    "duration": 26,
    "start_time": "2022-10-05T22:28:17.295Z"
   },
   {
    "duration": 6,
    "start_time": "2022-10-05T22:28:17.322Z"
   },
   {
    "duration": 142,
    "start_time": "2022-10-05T22:28:17.329Z"
   },
   {
    "duration": 16,
    "start_time": "2022-10-05T22:28:17.473Z"
   },
   {
    "duration": 33,
    "start_time": "2022-10-05T22:28:17.491Z"
   },
   {
    "duration": 22,
    "start_time": "2022-10-05T22:28:17.526Z"
   },
   {
    "duration": 2419,
    "start_time": "2022-10-05T22:28:17.550Z"
   },
   {
    "duration": 38,
    "start_time": "2022-10-05T22:28:19.970Z"
   },
   {
    "duration": 30,
    "start_time": "2022-10-05T22:28:20.010Z"
   },
   {
    "duration": 10217,
    "start_time": "2022-10-05T22:28:20.042Z"
   },
   {
    "duration": 800,
    "start_time": "2022-10-05T22:28:30.261Z"
   },
   {
    "duration": 851,
    "start_time": "2022-10-05T22:28:31.063Z"
   },
   {
    "duration": 6375,
    "start_time": "2022-10-05T22:28:31.916Z"
   },
   {
    "duration": 22,
    "start_time": "2022-10-05T22:28:38.293Z"
   },
   {
    "duration": 190,
    "start_time": "2022-10-05T22:28:38.317Z"
   },
   {
    "duration": 91,
    "start_time": "2022-10-05T22:28:38.509Z"
   },
   {
    "duration": 898,
    "start_time": "2022-10-05T22:28:38.603Z"
   },
   {
    "duration": 986,
    "start_time": "2022-10-05T22:28:39.504Z"
   },
   {
    "duration": 4,
    "start_time": "2022-10-05T22:28:40.493Z"
   },
   {
    "duration": 101,
    "start_time": "2022-10-05T22:28:40.500Z"
   },
   {
    "duration": 100,
    "start_time": "2022-10-05T22:28:40.603Z"
   },
   {
    "duration": 1213,
    "start_time": "2022-10-05T22:28:40.705Z"
   },
   {
    "duration": 1286,
    "start_time": "2022-10-05T22:28:41.922Z"
   },
   {
    "duration": 180,
    "start_time": "2022-10-05T22:28:43.210Z"
   },
   {
    "duration": 503,
    "start_time": "2022-10-05T22:28:43.393Z"
   },
   {
    "duration": 598,
    "start_time": "2022-10-05T22:28:43.899Z"
   },
   {
    "duration": 891,
    "start_time": "2022-10-05T22:28:44.499Z"
   },
   {
    "duration": 1012,
    "start_time": "2022-10-05T22:28:45.393Z"
   },
   {
    "duration": 64159,
    "start_time": "2022-10-05T22:36:23.032Z"
   },
   {
    "duration": 45206,
    "start_time": "2022-10-05T22:40:55.741Z"
   },
   {
    "duration": 801,
    "start_time": "2022-10-05T22:42:25.071Z"
   },
   {
    "duration": 4,
    "start_time": "2022-10-05T22:42:57.694Z"
   },
   {
    "duration": 760,
    "start_time": "2022-10-05T22:42:59.260Z"
   },
   {
    "duration": 793,
    "start_time": "2022-10-05T22:43:03.612Z"
   },
   {
    "duration": 3,
    "start_time": "2022-10-05T22:43:07.986Z"
   },
   {
    "duration": 3,
    "start_time": "2022-10-05T22:43:09.231Z"
   },
   {
    "duration": 13,
    "start_time": "2022-10-05T22:43:10.155Z"
   },
   {
    "duration": 1145,
    "start_time": "2022-10-05T22:43:21.152Z"
   },
   {
    "duration": 1152,
    "start_time": "2022-10-05T22:43:24.337Z"
   },
   {
    "duration": 12,
    "start_time": "2022-10-05T22:43:32.427Z"
   },
   {
    "duration": 444,
    "start_time": "2022-10-05T22:43:34.705Z"
   },
   {
    "duration": 447,
    "start_time": "2022-10-05T22:43:37.178Z"
   },
   {
    "duration": 788,
    "start_time": "2022-10-05T22:43:39.949Z"
   },
   {
    "duration": 779,
    "start_time": "2022-10-05T22:43:43.514Z"
   },
   {
    "duration": 1446,
    "start_time": "2022-10-05T22:50:59.881Z"
   },
   {
    "duration": 41,
    "start_time": "2022-10-05T22:51:02.886Z"
   },
   {
    "duration": 10,
    "start_time": "2022-10-05T22:51:05.646Z"
   },
   {
    "duration": 4,
    "start_time": "2022-10-05T22:51:08.785Z"
   },
   {
    "duration": 4,
    "start_time": "2022-10-05T22:51:09.834Z"
   },
   {
    "duration": 9,
    "start_time": "2022-10-05T22:51:15.723Z"
   },
   {
    "duration": 13,
    "start_time": "2022-10-05T22:51:18.927Z"
   },
   {
    "duration": 13,
    "start_time": "2022-10-05T22:51:24.224Z"
   },
   {
    "duration": 6,
    "start_time": "2022-10-05T22:51:27.319Z"
   },
   {
    "duration": 8,
    "start_time": "2022-10-05T22:51:28.345Z"
   },
   {
    "duration": 5,
    "start_time": "2022-10-05T22:51:29.474Z"
   },
   {
    "duration": 23,
    "start_time": "2022-10-05T22:51:33.661Z"
   },
   {
    "duration": 3,
    "start_time": "2022-10-05T22:51:42.048Z"
   },
   {
    "duration": 3,
    "start_time": "2022-10-05T22:51:43.388Z"
   },
   {
    "duration": 3,
    "start_time": "2022-10-05T22:51:44.452Z"
   },
   {
    "duration": 2544,
    "start_time": "2022-10-05T22:51:47.676Z"
   },
   {
    "duration": 37,
    "start_time": "2022-10-05T22:51:52.170Z"
   },
   {
    "duration": 45755,
    "start_time": "2022-10-05T22:51:56.730Z"
   },
   {
    "duration": 757,
    "start_time": "2022-10-05T22:52:45.500Z"
   },
   {
    "duration": 7386,
    "start_time": "2022-10-05T22:52:51.004Z"
   },
   {
    "duration": 22,
    "start_time": "2022-10-05T22:53:00.204Z"
   },
   {
    "duration": 113,
    "start_time": "2022-10-05T22:53:09.376Z"
   },
   {
    "duration": 4,
    "start_time": "2022-10-05T22:53:14.441Z"
   },
   {
    "duration": 774,
    "start_time": "2022-10-05T22:53:18.222Z"
   },
   {
    "duration": 770,
    "start_time": "2022-10-05T22:53:41.464Z"
   },
   {
    "duration": 1438,
    "start_time": "2022-10-05T22:53:54.929Z"
   },
   {
    "duration": 39,
    "start_time": "2022-10-05T22:53:56.369Z"
   },
   {
    "duration": 3,
    "start_time": "2022-10-05T22:53:58.064Z"
   },
   {
    "duration": 4,
    "start_time": "2022-10-05T22:53:59.015Z"
   },
   {
    "duration": 4,
    "start_time": "2022-10-05T22:54:07.941Z"
   },
   {
    "duration": 41,
    "start_time": "2022-10-05T22:54:07.947Z"
   },
   {
    "duration": 13,
    "start_time": "2022-10-05T22:54:07.990Z"
   },
   {
    "duration": 18,
    "start_time": "2022-10-05T22:54:08.004Z"
   },
   {
    "duration": 3,
    "start_time": "2022-10-05T22:54:08.024Z"
   },
   {
    "duration": 5,
    "start_time": "2022-10-05T22:54:08.028Z"
   },
   {
    "duration": 15,
    "start_time": "2022-10-05T22:54:08.035Z"
   },
   {
    "duration": 37,
    "start_time": "2022-10-05T22:54:08.053Z"
   },
   {
    "duration": 10,
    "start_time": "2022-10-05T22:54:08.092Z"
   },
   {
    "duration": 13,
    "start_time": "2022-10-05T22:54:08.103Z"
   },
   {
    "duration": 6,
    "start_time": "2022-10-05T22:54:08.118Z"
   },
   {
    "duration": 6,
    "start_time": "2022-10-05T22:54:08.126Z"
   },
   {
    "duration": 14,
    "start_time": "2022-10-05T22:54:08.133Z"
   },
   {
    "duration": 47,
    "start_time": "2022-10-05T22:54:08.150Z"
   },
   {
    "duration": 13,
    "start_time": "2022-10-05T22:54:08.200Z"
   },
   {
    "duration": 15,
    "start_time": "2022-10-05T22:54:08.214Z"
   },
   {
    "duration": 12,
    "start_time": "2022-10-05T22:54:08.231Z"
   },
   {
    "duration": 10,
    "start_time": "2022-10-05T22:54:08.245Z"
   },
   {
    "duration": 22,
    "start_time": "2022-10-05T22:54:11.396Z"
   },
   {
    "duration": 6,
    "start_time": "2022-10-05T22:54:15.228Z"
   },
   {
    "duration": 4,
    "start_time": "2022-10-05T22:54:18.793Z"
   },
   {
    "duration": 43,
    "start_time": "2022-10-05T22:54:18.798Z"
   },
   {
    "duration": 12,
    "start_time": "2022-10-05T22:54:18.843Z"
   },
   {
    "duration": 12,
    "start_time": "2022-10-05T22:54:18.857Z"
   },
   {
    "duration": 3,
    "start_time": "2022-10-05T22:54:18.872Z"
   },
   {
    "duration": 12,
    "start_time": "2022-10-05T22:54:18.877Z"
   },
   {
    "duration": 12,
    "start_time": "2022-10-05T22:54:18.891Z"
   },
   {
    "duration": 10,
    "start_time": "2022-10-05T22:54:18.905Z"
   },
   {
    "duration": 11,
    "start_time": "2022-10-05T22:54:18.917Z"
   },
   {
    "duration": 13,
    "start_time": "2022-10-05T22:54:18.929Z"
   },
   {
    "duration": 6,
    "start_time": "2022-10-05T22:54:18.944Z"
   },
   {
    "duration": 6,
    "start_time": "2022-10-05T22:54:18.952Z"
   },
   {
    "duration": 51,
    "start_time": "2022-10-05T22:54:18.959Z"
   },
   {
    "duration": 26,
    "start_time": "2022-10-05T22:54:19.012Z"
   },
   {
    "duration": 13,
    "start_time": "2022-10-05T22:54:19.041Z"
   },
   {
    "duration": 6,
    "start_time": "2022-10-05T22:54:19.057Z"
   },
   {
    "duration": 24,
    "start_time": "2022-10-05T22:54:19.065Z"
   },
   {
    "duration": 6,
    "start_time": "2022-10-05T22:54:19.091Z"
   },
   {
    "duration": 28,
    "start_time": "2022-10-05T22:54:19.099Z"
   },
   {
    "duration": 6,
    "start_time": "2022-10-05T22:54:19.129Z"
   },
   {
    "duration": 161,
    "start_time": "2022-10-05T22:54:19.137Z"
   },
   {
    "duration": 3,
    "start_time": "2022-10-05T22:54:19.300Z"
   },
   {
    "duration": 7,
    "start_time": "2022-10-05T22:54:19.305Z"
   },
   {
    "duration": 3,
    "start_time": "2022-10-05T22:54:21.669Z"
   },
   {
    "duration": 2366,
    "start_time": "2022-10-05T22:54:23.458Z"
   },
   {
    "duration": 29,
    "start_time": "2022-10-05T22:54:27.808Z"
   },
   {
    "duration": 45457,
    "start_time": "2022-10-05T22:54:32.276Z"
   },
   {
    "duration": 778,
    "start_time": "2022-10-05T22:56:50.184Z"
   },
   {
    "duration": 6560,
    "start_time": "2022-10-05T22:56:55.136Z"
   },
   {
    "duration": 20,
    "start_time": "2022-10-05T22:57:07.802Z"
   },
   {
    "duration": 764,
    "start_time": "2022-10-05T22:57:17.770Z"
   },
   {
    "duration": 1440,
    "start_time": "2022-10-05T22:58:17.193Z"
   },
   {
    "duration": 41,
    "start_time": "2022-10-05T22:58:18.635Z"
   },
   {
    "duration": 14,
    "start_time": "2022-10-05T22:58:18.678Z"
   },
   {
    "duration": 21,
    "start_time": "2022-10-05T22:58:18.694Z"
   },
   {
    "duration": 27,
    "start_time": "2022-10-05T22:58:18.717Z"
   },
   {
    "duration": 24,
    "start_time": "2022-10-05T22:58:18.746Z"
   },
   {
    "duration": 48,
    "start_time": "2022-10-05T22:58:18.772Z"
   },
   {
    "duration": 34,
    "start_time": "2022-10-05T22:58:18.821Z"
   },
   {
    "duration": 21,
    "start_time": "2022-10-05T22:58:18.856Z"
   },
   {
    "duration": 40,
    "start_time": "2022-10-05T22:58:18.879Z"
   },
   {
    "duration": 23,
    "start_time": "2022-10-05T22:58:18.920Z"
   },
   {
    "duration": 22,
    "start_time": "2022-10-05T22:58:18.945Z"
   },
   {
    "duration": 37,
    "start_time": "2022-10-05T22:58:18.969Z"
   },
   {
    "duration": 27,
    "start_time": "2022-10-05T22:58:19.008Z"
   },
   {
    "duration": 17,
    "start_time": "2022-10-05T22:58:19.037Z"
   },
   {
    "duration": 13,
    "start_time": "2022-10-05T22:58:19.056Z"
   },
   {
    "duration": 39,
    "start_time": "2022-10-05T22:58:19.071Z"
   },
   {
    "duration": 5,
    "start_time": "2022-10-05T22:58:19.113Z"
   },
   {
    "duration": 20,
    "start_time": "2022-10-05T22:58:19.121Z"
   },
   {
    "duration": 22,
    "start_time": "2022-10-05T22:58:19.143Z"
   },
   {
    "duration": 149,
    "start_time": "2022-10-05T22:58:19.167Z"
   },
   {
    "duration": 3,
    "start_time": "2022-10-05T22:58:19.319Z"
   },
   {
    "duration": 34,
    "start_time": "2022-10-05T22:58:19.324Z"
   },
   {
    "duration": 20,
    "start_time": "2022-10-05T22:58:19.360Z"
   },
   {
    "duration": 2422,
    "start_time": "2022-10-05T22:58:19.381Z"
   },
   {
    "duration": 34,
    "start_time": "2022-10-05T22:58:21.805Z"
   },
   {
    "duration": 34,
    "start_time": "2022-10-05T22:58:21.841Z"
   },
   {
    "duration": 45007,
    "start_time": "2022-10-05T22:58:21.891Z"
   },
   {
    "duration": 768,
    "start_time": "2022-10-05T22:59:06.900Z"
   },
   {
    "duration": 80,
    "start_time": "2022-10-05T22:59:07.670Z"
   },
   {
    "duration": 0,
    "start_time": "2022-10-05T22:59:07.751Z"
   },
   {
    "duration": 0,
    "start_time": "2022-10-05T22:59:07.753Z"
   },
   {
    "duration": 0,
    "start_time": "2022-10-05T22:59:07.753Z"
   },
   {
    "duration": 0,
    "start_time": "2022-10-05T22:59:07.754Z"
   },
   {
    "duration": 0,
    "start_time": "2022-10-05T22:59:07.756Z"
   },
   {
    "duration": 0,
    "start_time": "2022-10-05T22:59:07.757Z"
   },
   {
    "duration": 0,
    "start_time": "2022-10-05T22:59:07.758Z"
   },
   {
    "duration": 0,
    "start_time": "2022-10-05T22:59:07.759Z"
   },
   {
    "duration": 0,
    "start_time": "2022-10-05T22:59:07.760Z"
   },
   {
    "duration": 0,
    "start_time": "2022-10-05T22:59:07.762Z"
   },
   {
    "duration": 0,
    "start_time": "2022-10-05T22:59:07.763Z"
   },
   {
    "duration": 0,
    "start_time": "2022-10-05T22:59:07.764Z"
   },
   {
    "duration": 0,
    "start_time": "2022-10-05T22:59:07.765Z"
   },
   {
    "duration": 0,
    "start_time": "2022-10-05T22:59:07.766Z"
   },
   {
    "duration": 0,
    "start_time": "2022-10-05T22:59:07.767Z"
   },
   {
    "duration": 0,
    "start_time": "2022-10-05T22:59:07.768Z"
   },
   {
    "duration": 1,
    "start_time": "2022-10-05T22:59:07.769Z"
   },
   {
    "duration": 773,
    "start_time": "2022-10-05T22:59:46.087Z"
   },
   {
    "duration": 2,
    "start_time": "2022-10-05T22:59:46.862Z"
   },
   {
    "duration": 11528,
    "start_time": "2022-10-05T22:59:46.866Z"
   },
   {
    "duration": 95,
    "start_time": "2022-10-05T22:59:58.396Z"
   },
   {
    "duration": 3,
    "start_time": "2022-10-05T22:59:58.494Z"
   },
   {
    "duration": 99,
    "start_time": "2022-10-05T22:59:58.499Z"
   },
   {
    "duration": 991,
    "start_time": "2022-10-05T22:59:58.600Z"
   },
   {
    "duration": 994,
    "start_time": "2022-10-05T22:59:59.594Z"
   },
   {
    "duration": 5,
    "start_time": "2022-10-05T23:00:00.591Z"
   },
   {
    "duration": 115,
    "start_time": "2022-10-05T23:00:00.598Z"
   },
   {
    "duration": 27,
    "start_time": "2022-10-05T23:00:00.715Z"
   },
   {
    "duration": 1214,
    "start_time": "2022-10-05T23:00:00.744Z"
   },
   {
    "duration": 1299,
    "start_time": "2022-10-05T23:00:01.991Z"
   },
   {
    "duration": 101,
    "start_time": "2022-10-05T23:00:03.293Z"
   },
   {
    "duration": 494,
    "start_time": "2022-10-05T23:00:03.396Z"
   },
   {
    "duration": 598,
    "start_time": "2022-10-05T23:00:03.893Z"
   },
   {
    "duration": 862,
    "start_time": "2022-10-05T23:00:04.493Z"
   },
   {
    "duration": 1582,
    "start_time": "2022-10-05T23:00:05.357Z"
   },
   {
    "duration": 1832,
    "start_time": "2022-10-05T23:00:06.941Z"
   },
   {
    "duration": 4,
    "start_time": "2022-10-05T23:00:49.672Z"
   },
   {
    "duration": 926,
    "start_time": "2022-10-05T23:00:51.466Z"
   },
   {
    "duration": 957,
    "start_time": "2022-10-05T23:00:55.233Z"
   },
   {
    "duration": 931,
    "start_time": "2022-10-05T23:02:26.265Z"
   },
   {
    "duration": 905,
    "start_time": "2022-10-05T23:02:42.485Z"
   },
   {
    "duration": 4,
    "start_time": "2022-10-05T23:06:58.937Z"
   },
   {
    "duration": 880,
    "start_time": "2022-10-05T23:07:00.530Z"
   },
   {
    "duration": 4,
    "start_time": "2022-10-05T23:07:21.014Z"
   },
   {
    "duration": 676,
    "start_time": "2022-10-05T23:07:22.630Z"
   },
   {
    "duration": 3,
    "start_time": "2022-10-05T23:07:26.757Z"
   },
   {
    "duration": 812,
    "start_time": "2022-10-05T23:07:27.802Z"
   },
   {
    "duration": 832,
    "start_time": "2022-10-05T23:07:35.482Z"
   },
   {
    "duration": 3,
    "start_time": "2022-10-05T23:08:36.861Z"
   },
   {
    "duration": 3,
    "start_time": "2022-10-05T23:08:38.462Z"
   },
   {
    "duration": 13,
    "start_time": "2022-10-05T23:08:39.916Z"
   },
   {
    "duration": 1215,
    "start_time": "2022-10-05T23:08:41.778Z"
   },
   {
    "duration": 4,
    "start_time": "2022-10-05T23:08:48.288Z"
   },
   {
    "duration": 843,
    "start_time": "2022-10-05T23:08:51.462Z"
   },
   {
    "duration": 1111,
    "start_time": "2022-10-05T23:19:42.725Z"
   },
   {
    "duration": 131,
    "start_time": "2022-10-05T23:21:21.573Z"
   },
   {
    "duration": 87,
    "start_time": "2022-10-05T23:21:58.358Z"
   },
   {
    "duration": 1102,
    "start_time": "2022-10-05T23:22:07.343Z"
   },
   {
    "duration": 811,
    "start_time": "2022-10-05T23:22:10.480Z"
   },
   {
    "duration": 5,
    "start_time": "2022-10-05T23:35:38.562Z"
   },
   {
    "duration": 229,
    "start_time": "2022-10-05T23:39:12.674Z"
   },
   {
    "duration": 109,
    "start_time": "2022-10-05T23:39:16.539Z"
   },
   {
    "duration": 4,
    "start_time": "2022-10-05T23:40:04.656Z"
   },
   {
    "duration": 138,
    "start_time": "2022-10-05T23:40:08.196Z"
   },
   {
    "duration": 128,
    "start_time": "2022-10-05T23:40:46.837Z"
   },
   {
    "duration": 114,
    "start_time": "2022-10-05T23:40:56.644Z"
   },
   {
    "duration": 6,
    "start_time": "2022-10-05T23:40:59.448Z"
   },
   {
    "duration": 84,
    "start_time": "2022-10-06T00:13:40.530Z"
   },
   {
    "duration": 75,
    "start_time": "2022-10-06T00:15:27.772Z"
   },
   {
    "duration": 74,
    "start_time": "2022-10-06T00:19:07.583Z"
   },
   {
    "duration": 1688,
    "start_time": "2022-10-06T03:21:18.448Z"
   },
   {
    "duration": 83,
    "start_time": "2022-10-06T03:21:20.138Z"
   },
   {
    "duration": 14,
    "start_time": "2022-10-06T03:21:20.222Z"
   },
   {
    "duration": 16,
    "start_time": "2022-10-06T03:21:20.238Z"
   },
   {
    "duration": 2,
    "start_time": "2022-10-06T03:21:20.256Z"
   },
   {
    "duration": 5,
    "start_time": "2022-10-06T03:21:20.260Z"
   },
   {
    "duration": 15,
    "start_time": "2022-10-06T03:21:20.266Z"
   },
   {
    "duration": 9,
    "start_time": "2022-10-06T03:21:20.283Z"
   },
   {
    "duration": 9,
    "start_time": "2022-10-06T03:21:20.294Z"
   },
   {
    "duration": 14,
    "start_time": "2022-10-06T03:21:20.306Z"
   },
   {
    "duration": 7,
    "start_time": "2022-10-06T03:21:20.321Z"
   },
   {
    "duration": 10,
    "start_time": "2022-10-06T03:21:20.330Z"
   },
   {
    "duration": 39,
    "start_time": "2022-10-06T03:21:20.342Z"
   },
   {
    "duration": 19,
    "start_time": "2022-10-06T03:21:20.383Z"
   },
   {
    "duration": 12,
    "start_time": "2022-10-06T03:21:20.403Z"
   },
   {
    "duration": 7,
    "start_time": "2022-10-06T03:21:20.417Z"
   },
   {
    "duration": 9,
    "start_time": "2022-10-06T03:21:20.426Z"
   },
   {
    "duration": 5,
    "start_time": "2022-10-06T03:21:20.437Z"
   },
   {
    "duration": 32,
    "start_time": "2022-10-06T03:21:20.444Z"
   },
   {
    "duration": 144,
    "start_time": "2022-10-06T03:21:20.478Z"
   },
   {
    "duration": 3,
    "start_time": "2022-10-06T03:21:20.624Z"
   },
   {
    "duration": 5,
    "start_time": "2022-10-06T03:21:20.629Z"
   },
   {
    "duration": 2186,
    "start_time": "2022-10-06T03:21:20.635Z"
   },
   {
    "duration": 34,
    "start_time": "2022-10-06T03:21:22.823Z"
   },
   {
    "duration": 43175,
    "start_time": "2022-10-06T03:21:22.858Z"
   },
   {
    "duration": 731,
    "start_time": "2022-10-06T03:22:06.035Z"
   },
   {
    "duration": 8910,
    "start_time": "2022-10-06T03:22:06.768Z"
   },
   {
    "duration": 105,
    "start_time": "2022-10-06T03:22:15.681Z"
   },
   {
    "duration": 90,
    "start_time": "2022-10-06T03:22:15.788Z"
   },
   {
    "duration": 809,
    "start_time": "2022-10-06T03:22:15.879Z"
   },
   {
    "duration": 3,
    "start_time": "2022-10-06T03:22:16.777Z"
   },
   {
    "duration": 112,
    "start_time": "2022-10-06T03:22:16.784Z"
   },
   {
    "duration": 1136,
    "start_time": "2022-10-06T03:22:16.897Z"
   },
   {
    "duration": 99,
    "start_time": "2022-10-06T03:22:18.078Z"
   },
   {
    "duration": 435,
    "start_time": "2022-10-06T03:22:18.179Z"
   },
   {
    "duration": 1132,
    "start_time": "2022-10-06T03:22:18.616Z"
   },
   {
    "duration": 727,
    "start_time": "2022-10-06T03:22:19.750Z"
   },
   {
    "duration": 1657,
    "start_time": "2022-10-06T15:38:43.884Z"
   },
   {
    "duration": 81,
    "start_time": "2022-10-06T15:38:49.325Z"
   },
   {
    "duration": 13,
    "start_time": "2022-10-06T15:38:51.650Z"
   },
   {
    "duration": 19,
    "start_time": "2022-10-06T15:38:55.131Z"
   },
   {
    "duration": 50,
    "start_time": "2022-10-06T15:39:26.386Z"
   },
   {
    "duration": 163,
    "start_time": "2022-10-06T15:39:43.069Z"
   },
   {
    "duration": 41,
    "start_time": "2022-10-06T15:39:56.594Z"
   },
   {
    "duration": 35,
    "start_time": "2022-10-06T15:41:40.253Z"
   },
   {
    "duration": 1417,
    "start_time": "2022-10-06T20:08:32.878Z"
   },
   {
    "duration": 104,
    "start_time": "2022-10-06T20:08:37.385Z"
   },
   {
    "duration": 13,
    "start_time": "2022-10-06T20:08:38.129Z"
   },
   {
    "duration": 14,
    "start_time": "2022-10-06T20:08:41.331Z"
   },
   {
    "duration": 37,
    "start_time": "2022-10-06T20:09:06.475Z"
   },
   {
    "duration": 3,
    "start_time": "2022-10-06T20:09:33.910Z"
   },
   {
    "duration": 4,
    "start_time": "2022-10-06T20:09:35.310Z"
   },
   {
    "duration": 14,
    "start_time": "2022-10-06T20:09:37.440Z"
   },
   {
    "duration": 8,
    "start_time": "2022-10-06T20:09:39.198Z"
   },
   {
    "duration": 18,
    "start_time": "2022-10-06T20:10:35.024Z"
   },
   {
    "duration": 8,
    "start_time": "2022-10-06T20:10:47.025Z"
   },
   {
    "duration": 12,
    "start_time": "2022-10-06T20:10:55.184Z"
   },
   {
    "duration": 6,
    "start_time": "2022-10-06T20:10:57.756Z"
   },
   {
    "duration": 4,
    "start_time": "2022-10-06T20:10:59.647Z"
   },
   {
    "duration": 14,
    "start_time": "2022-10-06T20:11:02.140Z"
   },
   {
    "duration": 6,
    "start_time": "2022-10-06T20:12:36.604Z"
   },
   {
    "duration": 38,
    "start_time": "2022-10-06T20:13:55.017Z"
   },
   {
    "duration": 12,
    "start_time": "2022-10-06T20:14:09.552Z"
   },
   {
    "duration": 5,
    "start_time": "2022-10-06T20:14:24.923Z"
   },
   {
    "duration": 1391,
    "start_time": "2022-10-06T20:58:37.500Z"
   },
   {
    "duration": 41,
    "start_time": "2022-10-06T20:58:38.895Z"
   },
   {
    "duration": 14,
    "start_time": "2022-10-06T20:58:38.937Z"
   },
   {
    "duration": 18,
    "start_time": "2022-10-06T20:58:38.953Z"
   },
   {
    "duration": 36,
    "start_time": "2022-10-06T20:58:38.973Z"
   },
   {
    "duration": 3,
    "start_time": "2022-10-06T20:58:39.011Z"
   },
   {
    "duration": 25,
    "start_time": "2022-10-06T20:58:39.015Z"
   },
   {
    "duration": 14,
    "start_time": "2022-10-06T20:58:39.041Z"
   },
   {
    "duration": 8,
    "start_time": "2022-10-06T20:58:39.057Z"
   },
   {
    "duration": 24,
    "start_time": "2022-10-06T20:58:39.068Z"
   },
   {
    "duration": 9,
    "start_time": "2022-10-06T20:58:39.094Z"
   },
   {
    "duration": 40,
    "start_time": "2022-10-06T20:58:39.105Z"
   },
   {
    "duration": 5,
    "start_time": "2022-10-06T20:58:39.147Z"
   },
   {
    "duration": 5,
    "start_time": "2022-10-06T20:58:39.154Z"
   },
   {
    "duration": 12,
    "start_time": "2022-10-06T20:58:39.160Z"
   },
   {
    "duration": 8,
    "start_time": "2022-10-06T20:58:39.174Z"
   },
   {
    "duration": 13,
    "start_time": "2022-10-06T20:58:39.183Z"
   },
   {
    "duration": 5,
    "start_time": "2022-10-06T20:58:39.197Z"
   },
   {
    "duration": 62,
    "start_time": "2022-10-06T20:58:41.651Z"
   },
   {
    "duration": 9,
    "start_time": "2022-10-06T20:58:48.930Z"
   },
   {
    "duration": 4,
    "start_time": "2022-10-06T20:58:51.818Z"
   },
   {
    "duration": 24,
    "start_time": "2022-10-06T20:59:27.574Z"
   },
   {
    "duration": 24,
    "start_time": "2022-10-06T21:00:26.649Z"
   },
   {
    "duration": 8,
    "start_time": "2022-10-06T21:01:04.633Z"
   },
   {
    "duration": 129,
    "start_time": "2022-10-06T21:01:07.365Z"
   },
   {
    "duration": 125,
    "start_time": "2022-10-06T21:01:11.123Z"
   },
   {
    "duration": 2,
    "start_time": "2022-10-06T21:01:27.979Z"
   },
   {
    "duration": 3,
    "start_time": "2022-10-06T21:01:29.631Z"
   },
   {
    "duration": 3,
    "start_time": "2022-10-06T21:16:06.498Z"
   },
   {
    "duration": 23093,
    "start_time": "2022-10-06T21:20:47.126Z"
   },
   {
    "duration": 192698,
    "start_time": "2022-10-06T21:24:06.181Z"
   },
   {
    "duration": 382749,
    "start_time": "2022-10-06T21:27:26.180Z"
   },
   {
    "duration": 294014,
    "start_time": "2022-10-06T21:33:55.926Z"
   },
   {
    "duration": 735833,
    "start_time": "2022-10-06T21:40:06.121Z"
   },
   {
    "duration": 4,
    "start_time": "2022-10-06T21:52:24.668Z"
   },
   {
    "duration": 383651,
    "start_time": "2022-10-06T21:54:23.573Z"
   },
   {
    "duration": 90571,
    "start_time": "2022-10-06T22:02:30.310Z"
   },
   {
    "duration": 123152,
    "start_time": "2022-10-06T22:04:46.652Z"
   },
   {
    "duration": 8615,
    "start_time": "2022-10-06T22:07:57.104Z"
   },
   {
    "duration": 493939,
    "start_time": "2022-10-06T22:08:09.858Z"
   },
   {
    "duration": 123415,
    "start_time": "2022-10-06T22:16:28.457Z"
   },
   {
    "duration": 6555,
    "start_time": "2022-10-06T22:19:59.493Z"
   },
   {
    "duration": 22316,
    "start_time": "2022-10-06T22:20:14.855Z"
   },
   {
    "duration": 22479,
    "start_time": "2022-10-06T22:32:13.062Z"
   },
   {
    "duration": 119821,
    "start_time": "2022-10-06T22:34:12.480Z"
   },
   {
    "duration": 6468,
    "start_time": "2022-10-06T22:36:45.072Z"
   },
   {
    "duration": 3,
    "start_time": "2022-10-06T22:39:37.545Z"
   },
   {
    "duration": 11,
    "start_time": "2022-10-06T22:39:39.347Z"
   },
   {
    "duration": 4,
    "start_time": "2022-10-06T22:42:22.990Z"
   },
   {
    "duration": 24,
    "start_time": "2022-10-06T22:42:58.603Z"
   },
   {
    "duration": 55,
    "start_time": "2022-10-06T22:44:55.863Z"
   },
   {
    "duration": 31410,
    "start_time": "2022-10-06T22:45:13.016Z"
   },
   {
    "duration": 174444,
    "start_time": "2022-10-06T22:46:55.128Z"
   },
   {
    "duration": 8015,
    "start_time": "2022-10-06T22:50:14.648Z"
   },
   {
    "duration": 14,
    "start_time": "2022-10-06T22:51:33.740Z"
   },
   {
    "duration": 10495,
    "start_time": "2022-10-06T22:52:24.981Z"
   },
   {
    "duration": 62363,
    "start_time": "2022-10-06T22:53:36.741Z"
   },
   {
    "duration": 3396,
    "start_time": "2022-10-06T22:54:50.849Z"
   },
   {
    "duration": 1426,
    "start_time": "2022-10-06T23:03:15.885Z"
   },
   {
    "duration": 1374,
    "start_time": "2022-10-06T23:03:21.319Z"
   },
   {
    "duration": 1420,
    "start_time": "2022-10-06T23:06:28.952Z"
   },
   {
    "duration": 1586,
    "start_time": "2022-10-06T23:08:36.986Z"
   },
   {
    "duration": 1142,
    "start_time": "2022-10-06T23:09:00.097Z"
   },
   {
    "duration": 121585,
    "start_time": "2022-10-06T23:09:41.457Z"
   },
   {
    "duration": 45,
    "start_time": "2022-10-06T23:11:43.043Z"
   },
   {
    "duration": 1108,
    "start_time": "2022-10-06T23:12:21.762Z"
   },
   {
    "duration": 4,
    "start_time": "2022-10-06T23:13:43.290Z"
   },
   {
    "duration": 31,
    "start_time": "2022-10-06T23:14:06.813Z"
   },
   {
    "duration": 477,
    "start_time": "2022-10-06T23:14:36.763Z"
   },
   {
    "duration": 197,
    "start_time": "2022-10-06T23:15:08.747Z"
   },
   {
    "duration": 32,
    "start_time": "2022-10-06T23:16:39.371Z"
   },
   {
    "duration": 1126,
    "start_time": "2022-10-06T23:17:29.773Z"
   },
   {
    "duration": 22,
    "start_time": "2022-10-06T23:18:24.723Z"
   },
   {
    "duration": 4,
    "start_time": "2022-10-06T23:20:08.441Z"
   },
   {
    "duration": 3,
    "start_time": "2022-10-06T23:21:15.959Z"
   },
   {
    "duration": 56,
    "start_time": "2022-10-06T23:21:21.894Z"
   },
   {
    "duration": 9,
    "start_time": "2022-10-06T23:22:04.582Z"
   },
   {
    "duration": 1928,
    "start_time": "2022-10-06T23:22:11.094Z"
   },
   {
    "duration": 33,
    "start_time": "2022-10-06T23:22:59.015Z"
   },
   {
    "duration": 17,
    "start_time": "2022-10-06T23:23:49.301Z"
   },
   {
    "duration": 169,
    "start_time": "2022-10-06T23:24:20.994Z"
   },
   {
    "duration": 152,
    "start_time": "2022-10-06T23:24:54.488Z"
   },
   {
    "duration": 1808,
    "start_time": "2022-10-07T10:40:15.780Z"
   },
   {
    "duration": 94,
    "start_time": "2022-10-07T10:40:17.590Z"
   },
   {
    "duration": 13,
    "start_time": "2022-10-07T10:40:17.686Z"
   },
   {
    "duration": 29,
    "start_time": "2022-10-07T10:40:17.700Z"
   },
   {
    "duration": 42,
    "start_time": "2022-10-07T10:40:17.732Z"
   },
   {
    "duration": 2,
    "start_time": "2022-10-07T10:40:17.776Z"
   },
   {
    "duration": 7,
    "start_time": "2022-10-07T10:40:17.780Z"
   },
   {
    "duration": 46,
    "start_time": "2022-10-07T10:40:17.789Z"
   },
   {
    "duration": 14,
    "start_time": "2022-10-07T10:40:17.847Z"
   },
   {
    "duration": 26,
    "start_time": "2022-10-07T10:40:17.863Z"
   },
   {
    "duration": 9,
    "start_time": "2022-10-07T10:40:17.891Z"
   },
   {
    "duration": 27,
    "start_time": "2022-10-07T10:40:17.902Z"
   },
   {
    "duration": 9,
    "start_time": "2022-10-07T10:40:17.931Z"
   },
   {
    "duration": 8,
    "start_time": "2022-10-07T10:40:17.944Z"
   },
   {
    "duration": 14,
    "start_time": "2022-10-07T10:40:17.953Z"
   },
   {
    "duration": 7,
    "start_time": "2022-10-07T10:40:17.969Z"
   },
   {
    "duration": 12,
    "start_time": "2022-10-07T10:40:17.978Z"
   },
   {
    "duration": 30,
    "start_time": "2022-10-07T10:40:17.991Z"
   },
   {
    "duration": 7,
    "start_time": "2022-10-07T10:40:18.023Z"
   },
   {
    "duration": 7,
    "start_time": "2022-10-07T10:40:18.032Z"
   },
   {
    "duration": 41,
    "start_time": "2022-10-07T10:40:18.041Z"
   },
   {
    "duration": 7,
    "start_time": "2022-10-07T10:40:18.083Z"
   },
   {
    "duration": 167,
    "start_time": "2022-10-07T10:40:18.091Z"
   },
   {
    "duration": 5,
    "start_time": "2022-10-07T10:40:18.260Z"
   },
   {
    "duration": 7,
    "start_time": "2022-10-07T10:40:18.266Z"
   },
   {
    "duration": 31005,
    "start_time": "2022-10-07T10:40:18.275Z"
   },
   {
    "duration": 56,
    "start_time": "2022-10-07T10:40:49.282Z"
   },
   {
    "duration": 167563,
    "start_time": "2022-10-07T10:40:49.340Z"
   },
   {
    "duration": 662,
    "start_time": "2022-10-07T10:43:36.905Z"
   },
   {
    "duration": 13248,
    "start_time": "2022-10-07T10:43:37.569Z"
   },
   {
    "duration": 704,
    "start_time": "2022-10-07T10:43:50.823Z"
   },
   {
    "duration": 31095,
    "start_time": "2022-10-07T10:43:51.541Z"
   },
   {
    "duration": 51,
    "start_time": "2022-10-07T10:44:22.638Z"
   },
   {
    "duration": 169364,
    "start_time": "2022-10-07T10:44:22.691Z"
   },
   {
    "duration": 1550,
    "start_time": "2022-10-07T10:47:12.056Z"
   },
   {
    "duration": 12127,
    "start_time": "2022-10-07T10:47:13.615Z"
   },
   {
    "duration": 40,
    "start_time": "2022-10-07T10:47:25.815Z"
   },
   {
    "duration": 123,
    "start_time": "2022-10-07T10:47:25.912Z"
   },
   {
    "duration": 34,
    "start_time": "2022-10-07T10:47:26.038Z"
   },
   {
    "duration": 15,
    "start_time": "2022-10-07T10:47:26.074Z"
   },
   {
    "duration": 39195,
    "start_time": "2022-10-07T10:47:26.093Z"
   },
   {
    "duration": 80,
    "start_time": "2022-10-07T10:48:05.290Z"
   },
   {
    "duration": 235395,
    "start_time": "2022-10-07T10:48:05.371Z"
   },
   {
    "duration": 2720,
    "start_time": "2022-10-07T10:52:00.767Z"
   },
   {
    "duration": 12951,
    "start_time": "2022-10-07T10:52:03.489Z"
   },
   {
    "duration": 178,
    "start_time": "2022-10-07T10:52:16.442Z"
   },
   {
    "duration": 106,
    "start_time": "2022-10-07T10:52:16.628Z"
   },
   {
    "duration": 13559,
    "start_time": "2022-10-07T10:52:16.736Z"
   },
   {
    "duration": 32,
    "start_time": "2022-10-07T10:52:30.297Z"
   },
   {
    "duration": 75098,
    "start_time": "2022-10-07T10:52:30.332Z"
   },
   {
    "duration": 218,
    "start_time": "2022-10-07T10:53:45.432Z"
   },
   {
    "duration": 3361,
    "start_time": "2022-10-07T10:53:45.652Z"
   },
   {
    "duration": 196,
    "start_time": "2022-10-07T10:53:49.015Z"
   },
   {
    "duration": 1473,
    "start_time": "2022-10-07T10:53:49.213Z"
   },
   {
    "duration": 1820,
    "start_time": "2022-10-07T10:53:50.688Z"
   },
   {
    "duration": 182,
    "start_time": "2022-10-07T10:53:52.510Z"
   },
   {
    "duration": 0,
    "start_time": "2022-10-07T10:53:52.694Z"
   },
   {
    "duration": 13,
    "start_time": "2022-10-07T11:16:09.413Z"
   },
   {
    "duration": 5,
    "start_time": "2022-10-07T11:21:38.092Z"
   },
   {
    "duration": 1353,
    "start_time": "2022-10-07T11:37:32.183Z"
   }
  ],
  "kernelspec": {
   "display_name": "Python 3",
   "language": "python",
   "name": "python3"
  },
  "language_info": {
   "codemirror_mode": {
    "name": "ipython",
    "version": 3
   },
   "file_extension": ".py",
   "mimetype": "text/x-python",
   "name": "python",
   "nbconvert_exporter": "python",
   "pygments_lexer": "ipython3",
   "version": "3.8.8"
  },
  "toc": {
   "base_numbering": 1,
   "nav_menu": {},
   "number_sections": true,
   "sideBar": true,
   "skip_h1_title": true,
   "title_cell": "Содержание",
   "title_sidebar": "Contents",
   "toc_cell": true,
   "toc_position": {
    "height": "calc(100% - 180px)",
    "left": "10px",
    "top": "150px",
    "width": "307.594px"
   },
   "toc_section_display": true,
   "toc_window_display": true
  }
 },
 "nbformat": 4,
 "nbformat_minor": 2
}
