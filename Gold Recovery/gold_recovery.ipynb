{
 "cells": [
  {
   "cell_type": "markdown",
   "id": "590d6e0d",
   "metadata": {},
   "source": [
    "## Description of the project\n",
    "\n",
    "<b> Recovery of gold from ore.</b>\n",
    "\n",
    "<b>Research purpose:</b>\n",
    "Build a machine learning model that highlights the process of recovering gold from gold ore and calculate its efficiency.\n",
    "\n",
    "<b>Research objectives:</b>\n",
    "1. <a href = '#data'>Prepare</a> input data,\n",
    "2. <a href = '#data_analysis'>Analyze</a> input data,\n",
    "3. <a href='#model'> Modeling</a> data,\n",
    "4. Calculate <a href = '#smape'>quality metric</a> ,\n",
    "5. <a href = '#train_cv'>Train</a> different models using cross-validation,\n",
    "6. Test the best model on <a href = '#test'>test</a> set,\n",
    "\n",
    "<b> Initial data: </b>\n",
    "    \n",
    "Data:\n",
    "    \n",
    "- gold_recovery_train_new.csv - training sample,\n",
    "- gold_recovery_test_new.csv - test sample,\n",
    "- gold_recovery_full_new.csv - initial data;\n",
    "\n",
    "Signs:\n",
    "    \n",
    "- Rougher feed - feedstock\n",
    "- Rougher additions (or reagent additions) - flotation reagents: Xanthate, Sulphate, Depressant\n",
    "- Xanthate ** - xanthate (promoter, or flotation activator);\n",
    "- Sulphate - sulfate (in this production, sodium sulfide);\n",
    "- Depressant - depressant (sodium silicate).\n",
    "- Rougher process (English \"rough process\") - flotation\n",
    "- Rougher tails\n",
    "- Float banks - flotation unit\n",
    "- Cleaner process - cleaning\n",
    "- Rougher Au - rough gold concentrate\n",
    "- Final Au - final gold concentrate\n",
    "\n",
    "Stage parameters:\n",
    "\n",
    "- air amount — air volume\n",
    "- fluid levels - fluid level\n",
    "- feed size - feed granule size\n",
    "- feed rate - feed rate\n",
    "\n",
    "Stages:\n",
    "\n",
    "- rougher - flotation\n",
    "- primary_cleaner - primary cleaning\n",
    "- secondary_cleaner - secondary cleaning\n",
    "- final - final characteristics\n",
    "\n",
    "Parameter types:\n",
    "\n",
    "- input — raw material parameters\n",
    "- output — product parameters\n",
    "- state — parameters characterizing the current state of the stage\n",
    "- calculation - calculated characteristics"
   ]
  },
  {
   "cell_type": "markdown",
   "id": "e5e1bc15",
   "metadata": {},
   "source": [
    "<a id = 'data'></a>\n",
    "## Data preparation"
   ]
  },
  {
   "cell_type": "code",
   "execution_count": 138,
   "id": "c6ec0b2b",
   "metadata": {},
   "outputs": [],
   "source": [
    "import matplotlib.pyplot as plt\n",
    "import numpy as np\n",
    "import pandas as pd\n",
    "import seaborn as sns\n",
    "import time\n",
    "\n",
    "from sklearn.dummy import DummyRegressor\n",
    "from sklearn.model_selection import GridSearchCV, cross_val_score\n",
    "from sklearn.metrics import mean_absolute_error, make_scorer\n",
    "from sklearn.linear_model import LinearRegression\n",
    "from sklearn.ensemble import GradientBoostingRegressor, RandomForestRegressor\n",
    "from sklearn.tree import DecisionTreeRegressor\n",
    "from sklearn.svm import SVR\n",
    "from sklearn import preprocessing"
   ]
  },
  {
   "cell_type": "code",
   "execution_count": 139,
   "id": "f1556268",
   "metadata": {},
   "outputs": [],
   "source": [
    "train = pd.read_csv('/datasets/gold_recovery_train_new.csv')\n",
    "test = pd.read_csv('/datasets/gold_recovery_test_new.csv')\n",
    "full = pd.read_csv('/datasets/gold_recovery_full_new.csv')"
   ]
  },
  {
   "cell_type": "code",
   "execution_count": 140,
   "id": "eb4f6ff9",
   "metadata": {},
   "outputs": [
    {
     "data": {
      "text/plain": [
       "'Размер train выборки: (14149, 87)'"
      ]
     },
     "metadata": {},
     "output_type": "display_data"
    },
    {
     "data": {
      "text/plain": [
       "'Размер test выборки: (5290, 53)'"
      ]
     },
     "metadata": {},
     "output_type": "display_data"
    },
    {
     "data": {
      "text/plain": [
       "'Размер общей выборки: (19439, 87)'"
      ]
     },
     "metadata": {},
     "output_type": "display_data"
    }
   ],
   "source": [
    "display(f'Размер train выборки: {train.shape}')\n",
    "display(f'Размер test выборки: {test.shape}')\n",
    "display(f'Размер общей выборки: {full.shape}')"
   ]
  },
  {
   "cell_type": "markdown",
   "id": "90980d84",
   "metadata": {},
   "source": [
    "### Train set"
   ]
  },
  {
   "cell_type": "code",
   "execution_count": 141,
   "id": "c43f44a8",
   "metadata": {},
   "outputs": [
    {
     "data": {
      "text/html": [
       "<div>\n",
       "<style scoped>\n",
       "    .dataframe tbody tr th:only-of-type {\n",
       "        vertical-align: middle;\n",
       "    }\n",
       "\n",
       "    .dataframe tbody tr th {\n",
       "        vertical-align: top;\n",
       "    }\n",
       "\n",
       "    .dataframe thead th {\n",
       "        text-align: right;\n",
       "    }\n",
       "</style>\n",
       "<table border=\"1\" class=\"dataframe\">\n",
       "  <thead>\n",
       "    <tr style=\"text-align: right;\">\n",
       "      <th></th>\n",
       "      <th>date</th>\n",
       "      <th>final.output.concentrate_ag</th>\n",
       "      <th>final.output.concentrate_pb</th>\n",
       "      <th>final.output.concentrate_sol</th>\n",
       "      <th>final.output.concentrate_au</th>\n",
       "      <th>final.output.recovery</th>\n",
       "      <th>final.output.tail_ag</th>\n",
       "      <th>final.output.tail_pb</th>\n",
       "      <th>final.output.tail_sol</th>\n",
       "      <th>final.output.tail_au</th>\n",
       "      <th>...</th>\n",
       "      <th>secondary_cleaner.state.floatbank4_a_air</th>\n",
       "      <th>secondary_cleaner.state.floatbank4_a_level</th>\n",
       "      <th>secondary_cleaner.state.floatbank4_b_air</th>\n",
       "      <th>secondary_cleaner.state.floatbank4_b_level</th>\n",
       "      <th>secondary_cleaner.state.floatbank5_a_air</th>\n",
       "      <th>secondary_cleaner.state.floatbank5_a_level</th>\n",
       "      <th>secondary_cleaner.state.floatbank5_b_air</th>\n",
       "      <th>secondary_cleaner.state.floatbank5_b_level</th>\n",
       "      <th>secondary_cleaner.state.floatbank6_a_air</th>\n",
       "      <th>secondary_cleaner.state.floatbank6_a_level</th>\n",
       "    </tr>\n",
       "  </thead>\n",
       "  <tbody>\n",
       "    <tr>\n",
       "      <th>0</th>\n",
       "      <td>2016-01-15 00:00:00</td>\n",
       "      <td>6.055403</td>\n",
       "      <td>9.889648</td>\n",
       "      <td>5.507324</td>\n",
       "      <td>42.192020</td>\n",
       "      <td>70.541216</td>\n",
       "      <td>10.411962</td>\n",
       "      <td>0.895447</td>\n",
       "      <td>16.904297</td>\n",
       "      <td>2.143149</td>\n",
       "      <td>...</td>\n",
       "      <td>14.016835</td>\n",
       "      <td>-502.488007</td>\n",
       "      <td>12.099931</td>\n",
       "      <td>-504.715942</td>\n",
       "      <td>9.925633</td>\n",
       "      <td>-498.310211</td>\n",
       "      <td>8.079666</td>\n",
       "      <td>-500.470978</td>\n",
       "      <td>14.151341</td>\n",
       "      <td>-605.841980</td>\n",
       "    </tr>\n",
       "    <tr>\n",
       "      <th>1</th>\n",
       "      <td>2016-01-15 01:00:00</td>\n",
       "      <td>6.029369</td>\n",
       "      <td>9.968944</td>\n",
       "      <td>5.257781</td>\n",
       "      <td>42.701629</td>\n",
       "      <td>69.266198</td>\n",
       "      <td>10.462676</td>\n",
       "      <td>0.927452</td>\n",
       "      <td>16.634514</td>\n",
       "      <td>2.224930</td>\n",
       "      <td>...</td>\n",
       "      <td>13.992281</td>\n",
       "      <td>-505.503262</td>\n",
       "      <td>11.950531</td>\n",
       "      <td>-501.331529</td>\n",
       "      <td>10.039245</td>\n",
       "      <td>-500.169983</td>\n",
       "      <td>7.984757</td>\n",
       "      <td>-500.582168</td>\n",
       "      <td>13.998353</td>\n",
       "      <td>-599.787184</td>\n",
       "    </tr>\n",
       "    <tr>\n",
       "      <th>2</th>\n",
       "      <td>2016-01-15 02:00:00</td>\n",
       "      <td>6.055926</td>\n",
       "      <td>10.213995</td>\n",
       "      <td>5.383759</td>\n",
       "      <td>42.657501</td>\n",
       "      <td>68.116445</td>\n",
       "      <td>10.507046</td>\n",
       "      <td>0.953716</td>\n",
       "      <td>16.208849</td>\n",
       "      <td>2.257889</td>\n",
       "      <td>...</td>\n",
       "      <td>14.015015</td>\n",
       "      <td>-502.520901</td>\n",
       "      <td>11.912783</td>\n",
       "      <td>-501.133383</td>\n",
       "      <td>10.070913</td>\n",
       "      <td>-500.129135</td>\n",
       "      <td>8.013877</td>\n",
       "      <td>-500.517572</td>\n",
       "      <td>14.028663</td>\n",
       "      <td>-601.427363</td>\n",
       "    </tr>\n",
       "    <tr>\n",
       "      <th>3</th>\n",
       "      <td>2016-01-15 03:00:00</td>\n",
       "      <td>6.047977</td>\n",
       "      <td>9.977019</td>\n",
       "      <td>4.858634</td>\n",
       "      <td>42.689819</td>\n",
       "      <td>68.347543</td>\n",
       "      <td>10.422762</td>\n",
       "      <td>0.883763</td>\n",
       "      <td>16.532835</td>\n",
       "      <td>2.146849</td>\n",
       "      <td>...</td>\n",
       "      <td>14.036510</td>\n",
       "      <td>-500.857308</td>\n",
       "      <td>11.999550</td>\n",
       "      <td>-501.193686</td>\n",
       "      <td>9.970366</td>\n",
       "      <td>-499.201640</td>\n",
       "      <td>7.977324</td>\n",
       "      <td>-500.255908</td>\n",
       "      <td>14.005551</td>\n",
       "      <td>-599.996129</td>\n",
       "    </tr>\n",
       "    <tr>\n",
       "      <th>4</th>\n",
       "      <td>2016-01-15 04:00:00</td>\n",
       "      <td>6.148599</td>\n",
       "      <td>10.142511</td>\n",
       "      <td>4.939416</td>\n",
       "      <td>42.774141</td>\n",
       "      <td>66.927016</td>\n",
       "      <td>10.360302</td>\n",
       "      <td>0.792826</td>\n",
       "      <td>16.525686</td>\n",
       "      <td>2.055292</td>\n",
       "      <td>...</td>\n",
       "      <td>14.027298</td>\n",
       "      <td>-499.838632</td>\n",
       "      <td>11.953070</td>\n",
       "      <td>-501.053894</td>\n",
       "      <td>9.925709</td>\n",
       "      <td>-501.686727</td>\n",
       "      <td>7.894242</td>\n",
       "      <td>-500.356035</td>\n",
       "      <td>13.996647</td>\n",
       "      <td>-601.496691</td>\n",
       "    </tr>\n",
       "  </tbody>\n",
       "</table>\n",
       "<p>5 rows × 87 columns</p>\n",
       "</div>"
      ],
      "text/plain": [
       "                  date  final.output.concentrate_ag  \\\n",
       "0  2016-01-15 00:00:00                     6.055403   \n",
       "1  2016-01-15 01:00:00                     6.029369   \n",
       "2  2016-01-15 02:00:00                     6.055926   \n",
       "3  2016-01-15 03:00:00                     6.047977   \n",
       "4  2016-01-15 04:00:00                     6.148599   \n",
       "\n",
       "   final.output.concentrate_pb  final.output.concentrate_sol  \\\n",
       "0                     9.889648                      5.507324   \n",
       "1                     9.968944                      5.257781   \n",
       "2                    10.213995                      5.383759   \n",
       "3                     9.977019                      4.858634   \n",
       "4                    10.142511                      4.939416   \n",
       "\n",
       "   final.output.concentrate_au  final.output.recovery  final.output.tail_ag  \\\n",
       "0                    42.192020              70.541216             10.411962   \n",
       "1                    42.701629              69.266198             10.462676   \n",
       "2                    42.657501              68.116445             10.507046   \n",
       "3                    42.689819              68.347543             10.422762   \n",
       "4                    42.774141              66.927016             10.360302   \n",
       "\n",
       "   final.output.tail_pb  final.output.tail_sol  final.output.tail_au  ...  \\\n",
       "0              0.895447              16.904297              2.143149  ...   \n",
       "1              0.927452              16.634514              2.224930  ...   \n",
       "2              0.953716              16.208849              2.257889  ...   \n",
       "3              0.883763              16.532835              2.146849  ...   \n",
       "4              0.792826              16.525686              2.055292  ...   \n",
       "\n",
       "   secondary_cleaner.state.floatbank4_a_air  \\\n",
       "0                                 14.016835   \n",
       "1                                 13.992281   \n",
       "2                                 14.015015   \n",
       "3                                 14.036510   \n",
       "4                                 14.027298   \n",
       "\n",
       "   secondary_cleaner.state.floatbank4_a_level  \\\n",
       "0                                 -502.488007   \n",
       "1                                 -505.503262   \n",
       "2                                 -502.520901   \n",
       "3                                 -500.857308   \n",
       "4                                 -499.838632   \n",
       "\n",
       "   secondary_cleaner.state.floatbank4_b_air  \\\n",
       "0                                 12.099931   \n",
       "1                                 11.950531   \n",
       "2                                 11.912783   \n",
       "3                                 11.999550   \n",
       "4                                 11.953070   \n",
       "\n",
       "   secondary_cleaner.state.floatbank4_b_level  \\\n",
       "0                                 -504.715942   \n",
       "1                                 -501.331529   \n",
       "2                                 -501.133383   \n",
       "3                                 -501.193686   \n",
       "4                                 -501.053894   \n",
       "\n",
       "   secondary_cleaner.state.floatbank5_a_air  \\\n",
       "0                                  9.925633   \n",
       "1                                 10.039245   \n",
       "2                                 10.070913   \n",
       "3                                  9.970366   \n",
       "4                                  9.925709   \n",
       "\n",
       "   secondary_cleaner.state.floatbank5_a_level  \\\n",
       "0                                 -498.310211   \n",
       "1                                 -500.169983   \n",
       "2                                 -500.129135   \n",
       "3                                 -499.201640   \n",
       "4                                 -501.686727   \n",
       "\n",
       "   secondary_cleaner.state.floatbank5_b_air  \\\n",
       "0                                  8.079666   \n",
       "1                                  7.984757   \n",
       "2                                  8.013877   \n",
       "3                                  7.977324   \n",
       "4                                  7.894242   \n",
       "\n",
       "   secondary_cleaner.state.floatbank5_b_level  \\\n",
       "0                                 -500.470978   \n",
       "1                                 -500.582168   \n",
       "2                                 -500.517572   \n",
       "3                                 -500.255908   \n",
       "4                                 -500.356035   \n",
       "\n",
       "   secondary_cleaner.state.floatbank6_a_air  \\\n",
       "0                                 14.151341   \n",
       "1                                 13.998353   \n",
       "2                                 14.028663   \n",
       "3                                 14.005551   \n",
       "4                                 13.996647   \n",
       "\n",
       "   secondary_cleaner.state.floatbank6_a_level  \n",
       "0                                 -605.841980  \n",
       "1                                 -599.787184  \n",
       "2                                 -601.427363  \n",
       "3                                 -599.996129  \n",
       "4                                 -601.496691  \n",
       "\n",
       "[5 rows x 87 columns]"
      ]
     },
     "execution_count": 141,
     "metadata": {},
     "output_type": "execute_result"
    }
   ],
   "source": [
    "train.head()"
   ]
  },
  {
   "cell_type": "code",
   "execution_count": 142,
   "id": "017177b8",
   "metadata": {
    "collapsed": true
   },
   "outputs": [
    {
     "name": "stdout",
     "output_type": "stream",
     "text": [
      "<class 'pandas.core.frame.DataFrame'>\n",
      "RangeIndex: 14149 entries, 0 to 14148\n",
      "Data columns (total 87 columns):\n",
      " #   Column                                              Non-Null Count  Dtype  \n",
      "---  ------                                              --------------  -----  \n",
      " 0   date                                                14149 non-null  object \n",
      " 1   final.output.concentrate_ag                         14148 non-null  float64\n",
      " 2   final.output.concentrate_pb                         14148 non-null  float64\n",
      " 3   final.output.concentrate_sol                        13938 non-null  float64\n",
      " 4   final.output.concentrate_au                         14149 non-null  float64\n",
      " 5   final.output.recovery                               14149 non-null  float64\n",
      " 6   final.output.tail_ag                                14149 non-null  float64\n",
      " 7   final.output.tail_pb                                14049 non-null  float64\n",
      " 8   final.output.tail_sol                               14144 non-null  float64\n",
      " 9   final.output.tail_au                                14149 non-null  float64\n",
      " 10  primary_cleaner.input.sulfate                       14129 non-null  float64\n",
      " 11  primary_cleaner.input.depressant                    14117 non-null  float64\n",
      " 12  primary_cleaner.input.feed_size                     14149 non-null  float64\n",
      " 13  primary_cleaner.input.xanthate                      14049 non-null  float64\n",
      " 14  primary_cleaner.output.concentrate_ag               14149 non-null  float64\n",
      " 15  primary_cleaner.output.concentrate_pb               14063 non-null  float64\n",
      " 16  primary_cleaner.output.concentrate_sol              13863 non-null  float64\n",
      " 17  primary_cleaner.output.concentrate_au               14149 non-null  float64\n",
      " 18  primary_cleaner.output.tail_ag                      14148 non-null  float64\n",
      " 19  primary_cleaner.output.tail_pb                      14134 non-null  float64\n",
      " 20  primary_cleaner.output.tail_sol                     14103 non-null  float64\n",
      " 21  primary_cleaner.output.tail_au                      14149 non-null  float64\n",
      " 22  primary_cleaner.state.floatbank8_a_air              14145 non-null  float64\n",
      " 23  primary_cleaner.state.floatbank8_a_level            14148 non-null  float64\n",
      " 24  primary_cleaner.state.floatbank8_b_air              14145 non-null  float64\n",
      " 25  primary_cleaner.state.floatbank8_b_level            14148 non-null  float64\n",
      " 26  primary_cleaner.state.floatbank8_c_air              14147 non-null  float64\n",
      " 27  primary_cleaner.state.floatbank8_c_level            14148 non-null  float64\n",
      " 28  primary_cleaner.state.floatbank8_d_air              14146 non-null  float64\n",
      " 29  primary_cleaner.state.floatbank8_d_level            14148 non-null  float64\n",
      " 30  rougher.calculation.sulfate_to_au_concentrate       14148 non-null  float64\n",
      " 31  rougher.calculation.floatbank10_sulfate_to_au_feed  14148 non-null  float64\n",
      " 32  rougher.calculation.floatbank11_sulfate_to_au_feed  14148 non-null  float64\n",
      " 33  rougher.calculation.au_pb_ratio                     14149 non-null  float64\n",
      " 34  rougher.input.feed_ag                               14149 non-null  float64\n",
      " 35  rougher.input.feed_pb                               14049 non-null  float64\n",
      " 36  rougher.input.feed_rate                             14141 non-null  float64\n",
      " 37  rougher.input.feed_size                             14005 non-null  float64\n",
      " 38  rougher.input.feed_sol                              14071 non-null  float64\n",
      " 39  rougher.input.feed_au                               14149 non-null  float64\n",
      " 40  rougher.input.floatbank10_sulfate                   14120 non-null  float64\n",
      " 41  rougher.input.floatbank10_xanthate                  14141 non-null  float64\n",
      " 42  rougher.input.floatbank11_sulfate                   14113 non-null  float64\n",
      " 43  rougher.input.floatbank11_xanthate                  13721 non-null  float64\n",
      " 44  rougher.output.concentrate_ag                       14149 non-null  float64\n",
      " 45  rougher.output.concentrate_pb                       14149 non-null  float64\n",
      " 46  rougher.output.concentrate_sol                      14127 non-null  float64\n",
      " 47  rougher.output.concentrate_au                       14149 non-null  float64\n",
      " 48  rougher.output.recovery                             14149 non-null  float64\n",
      " 49  rougher.output.tail_ag                              14148 non-null  float64\n",
      " 50  rougher.output.tail_pb                              14149 non-null  float64\n",
      " 51  rougher.output.tail_sol                             14149 non-null  float64\n",
      " 52  rougher.output.tail_au                              14149 non-null  float64\n",
      " 53  rougher.state.floatbank10_a_air                     14148 non-null  float64\n",
      " 54  rougher.state.floatbank10_a_level                   14148 non-null  float64\n",
      " 55  rougher.state.floatbank10_b_air                     14148 non-null  float64\n",
      " 56  rougher.state.floatbank10_b_level                   14148 non-null  float64\n",
      " 57  rougher.state.floatbank10_c_air                     14148 non-null  float64\n",
      " 58  rougher.state.floatbank10_c_level                   14148 non-null  float64\n",
      " 59  rougher.state.floatbank10_d_air                     14149 non-null  float64\n",
      " 60  rougher.state.floatbank10_d_level                   14149 non-null  float64\n",
      " 61  rougher.state.floatbank10_e_air                     13713 non-null  float64\n",
      " 62  rougher.state.floatbank10_e_level                   14149 non-null  float64\n",
      " 63  rougher.state.floatbank10_f_air                     14149 non-null  float64\n",
      " 64  rougher.state.floatbank10_f_level                   14149 non-null  float64\n",
      " 65  secondary_cleaner.output.tail_ag                    14147 non-null  float64\n",
      " 66  secondary_cleaner.output.tail_pb                    14139 non-null  float64\n",
      " 67  secondary_cleaner.output.tail_sol                   12544 non-null  float64\n",
      " 68  secondary_cleaner.output.tail_au                    14149 non-null  float64\n",
      " 69  secondary_cleaner.state.floatbank2_a_air            13932 non-null  float64\n",
      " 70  secondary_cleaner.state.floatbank2_a_level          14148 non-null  float64\n",
      " 71  secondary_cleaner.state.floatbank2_b_air            14128 non-null  float64\n",
      " 72  secondary_cleaner.state.floatbank2_b_level          14148 non-null  float64\n",
      " 73  secondary_cleaner.state.floatbank3_a_air            14145 non-null  float64\n",
      " 74  secondary_cleaner.state.floatbank3_a_level          14148 non-null  float64\n",
      " 75  secondary_cleaner.state.floatbank3_b_air            14148 non-null  float64\n",
      " 76  secondary_cleaner.state.floatbank3_b_level          14148 non-null  float64\n",
      " 77  secondary_cleaner.state.floatbank4_a_air            14143 non-null  float64\n",
      " 78  secondary_cleaner.state.floatbank4_a_level          14148 non-null  float64\n",
      " 79  secondary_cleaner.state.floatbank4_b_air            14148 non-null  float64\n",
      " 80  secondary_cleaner.state.floatbank4_b_level          14148 non-null  float64\n",
      " 81  secondary_cleaner.state.floatbank5_a_air            14148 non-null  float64\n",
      " 82  secondary_cleaner.state.floatbank5_a_level          14148 non-null  float64\n",
      " 83  secondary_cleaner.state.floatbank5_b_air            14148 non-null  float64\n",
      " 84  secondary_cleaner.state.floatbank5_b_level          14148 non-null  float64\n",
      " 85  secondary_cleaner.state.floatbank6_a_air            14147 non-null  float64\n",
      " 86  secondary_cleaner.state.floatbank6_a_level          14148 non-null  float64\n",
      "dtypes: float64(86), object(1)\n",
      "memory usage: 9.4+ MB\n"
     ]
    }
   ],
   "source": [
    "train.info()"
   ]
  },
  {
   "cell_type": "code",
   "execution_count": 143,
   "id": "677d1492",
   "metadata": {},
   "outputs": [
    {
     "data": {
      "text/html": [
       "<div>\n",
       "<style scoped>\n",
       "    .dataframe tbody tr th:only-of-type {\n",
       "        vertical-align: middle;\n",
       "    }\n",
       "\n",
       "    .dataframe tbody tr th {\n",
       "        vertical-align: top;\n",
       "    }\n",
       "\n",
       "    .dataframe thead th {\n",
       "        text-align: right;\n",
       "    }\n",
       "</style>\n",
       "<table border=\"1\" class=\"dataframe\">\n",
       "  <thead>\n",
       "    <tr style=\"text-align: right;\">\n",
       "      <th></th>\n",
       "      <th>final.output.concentrate_ag</th>\n",
       "      <th>final.output.concentrate_pb</th>\n",
       "      <th>final.output.concentrate_sol</th>\n",
       "      <th>final.output.concentrate_au</th>\n",
       "      <th>final.output.recovery</th>\n",
       "      <th>final.output.tail_ag</th>\n",
       "      <th>final.output.tail_pb</th>\n",
       "      <th>final.output.tail_sol</th>\n",
       "      <th>final.output.tail_au</th>\n",
       "      <th>primary_cleaner.input.sulfate</th>\n",
       "      <th>...</th>\n",
       "      <th>secondary_cleaner.state.floatbank4_a_air</th>\n",
       "      <th>secondary_cleaner.state.floatbank4_a_level</th>\n",
       "      <th>secondary_cleaner.state.floatbank4_b_air</th>\n",
       "      <th>secondary_cleaner.state.floatbank4_b_level</th>\n",
       "      <th>secondary_cleaner.state.floatbank5_a_air</th>\n",
       "      <th>secondary_cleaner.state.floatbank5_a_level</th>\n",
       "      <th>secondary_cleaner.state.floatbank5_b_air</th>\n",
       "      <th>secondary_cleaner.state.floatbank5_b_level</th>\n",
       "      <th>secondary_cleaner.state.floatbank6_a_air</th>\n",
       "      <th>secondary_cleaner.state.floatbank6_a_level</th>\n",
       "    </tr>\n",
       "  </thead>\n",
       "  <tbody>\n",
       "    <tr>\n",
       "      <th>count</th>\n",
       "      <td>14148.000000</td>\n",
       "      <td>14148.000000</td>\n",
       "      <td>13938.000000</td>\n",
       "      <td>14149.000000</td>\n",
       "      <td>14149.000000</td>\n",
       "      <td>14149.000000</td>\n",
       "      <td>14049.000000</td>\n",
       "      <td>14144.000000</td>\n",
       "      <td>14149.000000</td>\n",
       "      <td>14129.000000</td>\n",
       "      <td>...</td>\n",
       "      <td>14143.000000</td>\n",
       "      <td>14148.000000</td>\n",
       "      <td>14148.000000</td>\n",
       "      <td>14148.000000</td>\n",
       "      <td>14148.000000</td>\n",
       "      <td>14148.000000</td>\n",
       "      <td>14148.000000</td>\n",
       "      <td>14148.000000</td>\n",
       "      <td>14147.000000</td>\n",
       "      <td>14148.000000</td>\n",
       "    </tr>\n",
       "    <tr>\n",
       "      <th>mean</th>\n",
       "      <td>5.142034</td>\n",
       "      <td>10.132960</td>\n",
       "      <td>9.202849</td>\n",
       "      <td>44.003792</td>\n",
       "      <td>66.518832</td>\n",
       "      <td>9.607035</td>\n",
       "      <td>2.597298</td>\n",
       "      <td>10.512122</td>\n",
       "      <td>2.918421</td>\n",
       "      <td>133.320659</td>\n",
       "      <td>...</td>\n",
       "      <td>19.985454</td>\n",
       "      <td>-478.696836</td>\n",
       "      <td>15.487065</td>\n",
       "      <td>-460.229416</td>\n",
       "      <td>16.775136</td>\n",
       "      <td>-483.956022</td>\n",
       "      <td>13.064590</td>\n",
       "      <td>-483.966564</td>\n",
       "      <td>19.577539</td>\n",
       "      <td>-506.798480</td>\n",
       "    </tr>\n",
       "    <tr>\n",
       "      <th>std</th>\n",
       "      <td>1.369586</td>\n",
       "      <td>1.654930</td>\n",
       "      <td>2.790516</td>\n",
       "      <td>4.905261</td>\n",
       "      <td>10.295402</td>\n",
       "      <td>2.319069</td>\n",
       "      <td>0.971843</td>\n",
       "      <td>3.003617</td>\n",
       "      <td>0.903712</td>\n",
       "      <td>39.431659</td>\n",
       "      <td>...</td>\n",
       "      <td>5.657723</td>\n",
       "      <td>50.736021</td>\n",
       "      <td>5.255655</td>\n",
       "      <td>58.843586</td>\n",
       "      <td>5.831906</td>\n",
       "      <td>37.892788</td>\n",
       "      <td>5.765617</td>\n",
       "      <td>39.207913</td>\n",
       "      <td>5.764417</td>\n",
       "      <td>37.079249</td>\n",
       "    </tr>\n",
       "    <tr>\n",
       "      <th>min</th>\n",
       "      <td>0.000000</td>\n",
       "      <td>0.000000</td>\n",
       "      <td>0.000000</td>\n",
       "      <td>0.000000</td>\n",
       "      <td>0.000000</td>\n",
       "      <td>0.000000</td>\n",
       "      <td>0.000000</td>\n",
       "      <td>0.000000</td>\n",
       "      <td>0.000000</td>\n",
       "      <td>0.003112</td>\n",
       "      <td>...</td>\n",
       "      <td>0.000000</td>\n",
       "      <td>-799.709069</td>\n",
       "      <td>0.000000</td>\n",
       "      <td>-799.889113</td>\n",
       "      <td>-0.372054</td>\n",
       "      <td>-797.142475</td>\n",
       "      <td>0.646208</td>\n",
       "      <td>-800.006180</td>\n",
       "      <td>0.195324</td>\n",
       "      <td>-809.398668</td>\n",
       "    </tr>\n",
       "    <tr>\n",
       "      <th>25%</th>\n",
       "      <td>4.211620</td>\n",
       "      <td>9.297355</td>\n",
       "      <td>7.484645</td>\n",
       "      <td>43.276111</td>\n",
       "      <td>62.545817</td>\n",
       "      <td>7.997429</td>\n",
       "      <td>1.905973</td>\n",
       "      <td>8.811324</td>\n",
       "      <td>2.368607</td>\n",
       "      <td>107.006651</td>\n",
       "      <td>...</td>\n",
       "      <td>14.990775</td>\n",
       "      <td>-500.628656</td>\n",
       "      <td>11.894558</td>\n",
       "      <td>-500.149000</td>\n",
       "      <td>11.083980</td>\n",
       "      <td>-500.363177</td>\n",
       "      <td>8.994405</td>\n",
       "      <td>-500.105994</td>\n",
       "      <td>14.989304</td>\n",
       "      <td>-500.745104</td>\n",
       "    </tr>\n",
       "    <tr>\n",
       "      <th>50%</th>\n",
       "      <td>4.994652</td>\n",
       "      <td>10.297144</td>\n",
       "      <td>8.845462</td>\n",
       "      <td>44.872436</td>\n",
       "      <td>67.432775</td>\n",
       "      <td>9.480270</td>\n",
       "      <td>2.592022</td>\n",
       "      <td>10.514621</td>\n",
       "      <td>2.851025</td>\n",
       "      <td>133.018328</td>\n",
       "      <td>...</td>\n",
       "      <td>20.001789</td>\n",
       "      <td>-499.681450</td>\n",
       "      <td>14.975536</td>\n",
       "      <td>-499.388738</td>\n",
       "      <td>17.932223</td>\n",
       "      <td>-499.702452</td>\n",
       "      <td>11.997547</td>\n",
       "      <td>-499.914556</td>\n",
       "      <td>19.984175</td>\n",
       "      <td>-500.061431</td>\n",
       "    </tr>\n",
       "    <tr>\n",
       "      <th>75%</th>\n",
       "      <td>5.859540</td>\n",
       "      <td>11.170603</td>\n",
       "      <td>10.487508</td>\n",
       "      <td>46.166425</td>\n",
       "      <td>72.346428</td>\n",
       "      <td>11.003707</td>\n",
       "      <td>3.241723</td>\n",
       "      <td>11.933009</td>\n",
       "      <td>3.434764</td>\n",
       "      <td>159.825396</td>\n",
       "      <td>...</td>\n",
       "      <td>24.990826</td>\n",
       "      <td>-477.472413</td>\n",
       "      <td>20.059375</td>\n",
       "      <td>-400.039008</td>\n",
       "      <td>21.346550</td>\n",
       "      <td>-487.712108</td>\n",
       "      <td>17.982903</td>\n",
       "      <td>-453.186936</td>\n",
       "      <td>24.991623</td>\n",
       "      <td>-499.536466</td>\n",
       "    </tr>\n",
       "    <tr>\n",
       "      <th>max</th>\n",
       "      <td>16.001945</td>\n",
       "      <td>17.031899</td>\n",
       "      <td>18.124851</td>\n",
       "      <td>52.756638</td>\n",
       "      <td>100.000000</td>\n",
       "      <td>19.552149</td>\n",
       "      <td>5.639565</td>\n",
       "      <td>22.317730</td>\n",
       "      <td>8.197408</td>\n",
       "      <td>250.127834</td>\n",
       "      <td>...</td>\n",
       "      <td>30.115735</td>\n",
       "      <td>-245.239184</td>\n",
       "      <td>24.007913</td>\n",
       "      <td>-145.071088</td>\n",
       "      <td>43.709931</td>\n",
       "      <td>-275.073125</td>\n",
       "      <td>27.926001</td>\n",
       "      <td>-157.396071</td>\n",
       "      <td>32.188906</td>\n",
       "      <td>-104.427459</td>\n",
       "    </tr>\n",
       "  </tbody>\n",
       "</table>\n",
       "<p>8 rows × 86 columns</p>\n",
       "</div>"
      ],
      "text/plain": [
       "       final.output.concentrate_ag  final.output.concentrate_pb  \\\n",
       "count                 14148.000000                 14148.000000   \n",
       "mean                      5.142034                    10.132960   \n",
       "std                       1.369586                     1.654930   \n",
       "min                       0.000000                     0.000000   \n",
       "25%                       4.211620                     9.297355   \n",
       "50%                       4.994652                    10.297144   \n",
       "75%                       5.859540                    11.170603   \n",
       "max                      16.001945                    17.031899   \n",
       "\n",
       "       final.output.concentrate_sol  final.output.concentrate_au  \\\n",
       "count                  13938.000000                 14149.000000   \n",
       "mean                       9.202849                    44.003792   \n",
       "std                        2.790516                     4.905261   \n",
       "min                        0.000000                     0.000000   \n",
       "25%                        7.484645                    43.276111   \n",
       "50%                        8.845462                    44.872436   \n",
       "75%                       10.487508                    46.166425   \n",
       "max                       18.124851                    52.756638   \n",
       "\n",
       "       final.output.recovery  final.output.tail_ag  final.output.tail_pb  \\\n",
       "count           14149.000000          14149.000000          14049.000000   \n",
       "mean               66.518832              9.607035              2.597298   \n",
       "std                10.295402              2.319069              0.971843   \n",
       "min                 0.000000              0.000000              0.000000   \n",
       "25%                62.545817              7.997429              1.905973   \n",
       "50%                67.432775              9.480270              2.592022   \n",
       "75%                72.346428             11.003707              3.241723   \n",
       "max               100.000000             19.552149              5.639565   \n",
       "\n",
       "       final.output.tail_sol  final.output.tail_au  \\\n",
       "count           14144.000000          14149.000000   \n",
       "mean               10.512122              2.918421   \n",
       "std                 3.003617              0.903712   \n",
       "min                 0.000000              0.000000   \n",
       "25%                 8.811324              2.368607   \n",
       "50%                10.514621              2.851025   \n",
       "75%                11.933009              3.434764   \n",
       "max                22.317730              8.197408   \n",
       "\n",
       "       primary_cleaner.input.sulfate  ...  \\\n",
       "count                   14129.000000  ...   \n",
       "mean                      133.320659  ...   \n",
       "std                        39.431659  ...   \n",
       "min                         0.003112  ...   \n",
       "25%                       107.006651  ...   \n",
       "50%                       133.018328  ...   \n",
       "75%                       159.825396  ...   \n",
       "max                       250.127834  ...   \n",
       "\n",
       "       secondary_cleaner.state.floatbank4_a_air  \\\n",
       "count                              14143.000000   \n",
       "mean                                  19.985454   \n",
       "std                                    5.657723   \n",
       "min                                    0.000000   \n",
       "25%                                   14.990775   \n",
       "50%                                   20.001789   \n",
       "75%                                   24.990826   \n",
       "max                                   30.115735   \n",
       "\n",
       "       secondary_cleaner.state.floatbank4_a_level  \\\n",
       "count                                14148.000000   \n",
       "mean                                  -478.696836   \n",
       "std                                     50.736021   \n",
       "min                                   -799.709069   \n",
       "25%                                   -500.628656   \n",
       "50%                                   -499.681450   \n",
       "75%                                   -477.472413   \n",
       "max                                   -245.239184   \n",
       "\n",
       "       secondary_cleaner.state.floatbank4_b_air  \\\n",
       "count                              14148.000000   \n",
       "mean                                  15.487065   \n",
       "std                                    5.255655   \n",
       "min                                    0.000000   \n",
       "25%                                   11.894558   \n",
       "50%                                   14.975536   \n",
       "75%                                   20.059375   \n",
       "max                                   24.007913   \n",
       "\n",
       "       secondary_cleaner.state.floatbank4_b_level  \\\n",
       "count                                14148.000000   \n",
       "mean                                  -460.229416   \n",
       "std                                     58.843586   \n",
       "min                                   -799.889113   \n",
       "25%                                   -500.149000   \n",
       "50%                                   -499.388738   \n",
       "75%                                   -400.039008   \n",
       "max                                   -145.071088   \n",
       "\n",
       "       secondary_cleaner.state.floatbank5_a_air  \\\n",
       "count                              14148.000000   \n",
       "mean                                  16.775136   \n",
       "std                                    5.831906   \n",
       "min                                   -0.372054   \n",
       "25%                                   11.083980   \n",
       "50%                                   17.932223   \n",
       "75%                                   21.346550   \n",
       "max                                   43.709931   \n",
       "\n",
       "       secondary_cleaner.state.floatbank5_a_level  \\\n",
       "count                                14148.000000   \n",
       "mean                                  -483.956022   \n",
       "std                                     37.892788   \n",
       "min                                   -797.142475   \n",
       "25%                                   -500.363177   \n",
       "50%                                   -499.702452   \n",
       "75%                                   -487.712108   \n",
       "max                                   -275.073125   \n",
       "\n",
       "       secondary_cleaner.state.floatbank5_b_air  \\\n",
       "count                              14148.000000   \n",
       "mean                                  13.064590   \n",
       "std                                    5.765617   \n",
       "min                                    0.646208   \n",
       "25%                                    8.994405   \n",
       "50%                                   11.997547   \n",
       "75%                                   17.982903   \n",
       "max                                   27.926001   \n",
       "\n",
       "       secondary_cleaner.state.floatbank5_b_level  \\\n",
       "count                                14148.000000   \n",
       "mean                                  -483.966564   \n",
       "std                                     39.207913   \n",
       "min                                   -800.006180   \n",
       "25%                                   -500.105994   \n",
       "50%                                   -499.914556   \n",
       "75%                                   -453.186936   \n",
       "max                                   -157.396071   \n",
       "\n",
       "       secondary_cleaner.state.floatbank6_a_air  \\\n",
       "count                              14147.000000   \n",
       "mean                                  19.577539   \n",
       "std                                    5.764417   \n",
       "min                                    0.195324   \n",
       "25%                                   14.989304   \n",
       "50%                                   19.984175   \n",
       "75%                                   24.991623   \n",
       "max                                   32.188906   \n",
       "\n",
       "       secondary_cleaner.state.floatbank6_a_level  \n",
       "count                                14148.000000  \n",
       "mean                                  -506.798480  \n",
       "std                                     37.079249  \n",
       "min                                   -809.398668  \n",
       "25%                                   -500.745104  \n",
       "50%                                   -500.061431  \n",
       "75%                                   -499.536466  \n",
       "max                                   -104.427459  \n",
       "\n",
       "[8 rows x 86 columns]"
      ]
     },
     "execution_count": 143,
     "metadata": {},
     "output_type": "execute_result"
    }
   ],
   "source": [
    "train.describe()"
   ]
  },
  {
   "cell_type": "markdown",
   "id": "9e72f3e4",
   "metadata": {},
   "source": [
    "### Test set"
   ]
  },
  {
   "cell_type": "code",
   "execution_count": 144,
   "id": "1f505e36",
   "metadata": {},
   "outputs": [
    {
     "data": {
      "text/html": [
       "<div>\n",
       "<style scoped>\n",
       "    .dataframe tbody tr th:only-of-type {\n",
       "        vertical-align: middle;\n",
       "    }\n",
       "\n",
       "    .dataframe tbody tr th {\n",
       "        vertical-align: top;\n",
       "    }\n",
       "\n",
       "    .dataframe thead th {\n",
       "        text-align: right;\n",
       "    }\n",
       "</style>\n",
       "<table border=\"1\" class=\"dataframe\">\n",
       "  <thead>\n",
       "    <tr style=\"text-align: right;\">\n",
       "      <th></th>\n",
       "      <th>date</th>\n",
       "      <th>primary_cleaner.input.sulfate</th>\n",
       "      <th>primary_cleaner.input.depressant</th>\n",
       "      <th>primary_cleaner.input.feed_size</th>\n",
       "      <th>primary_cleaner.input.xanthate</th>\n",
       "      <th>primary_cleaner.state.floatbank8_a_air</th>\n",
       "      <th>primary_cleaner.state.floatbank8_a_level</th>\n",
       "      <th>primary_cleaner.state.floatbank8_b_air</th>\n",
       "      <th>primary_cleaner.state.floatbank8_b_level</th>\n",
       "      <th>primary_cleaner.state.floatbank8_c_air</th>\n",
       "      <th>...</th>\n",
       "      <th>secondary_cleaner.state.floatbank4_a_air</th>\n",
       "      <th>secondary_cleaner.state.floatbank4_a_level</th>\n",
       "      <th>secondary_cleaner.state.floatbank4_b_air</th>\n",
       "      <th>secondary_cleaner.state.floatbank4_b_level</th>\n",
       "      <th>secondary_cleaner.state.floatbank5_a_air</th>\n",
       "      <th>secondary_cleaner.state.floatbank5_a_level</th>\n",
       "      <th>secondary_cleaner.state.floatbank5_b_air</th>\n",
       "      <th>secondary_cleaner.state.floatbank5_b_level</th>\n",
       "      <th>secondary_cleaner.state.floatbank6_a_air</th>\n",
       "      <th>secondary_cleaner.state.floatbank6_a_level</th>\n",
       "    </tr>\n",
       "  </thead>\n",
       "  <tbody>\n",
       "    <tr>\n",
       "      <th>0</th>\n",
       "      <td>2016-09-01 00:59:59</td>\n",
       "      <td>210.800909</td>\n",
       "      <td>14.993118</td>\n",
       "      <td>8.080000</td>\n",
       "      <td>1.005021</td>\n",
       "      <td>1398.981301</td>\n",
       "      <td>-500.225577</td>\n",
       "      <td>1399.144926</td>\n",
       "      <td>-499.919735</td>\n",
       "      <td>1400.102998</td>\n",
       "      <td>...</td>\n",
       "      <td>12.023554</td>\n",
       "      <td>-497.795834</td>\n",
       "      <td>8.016656</td>\n",
       "      <td>-501.289139</td>\n",
       "      <td>7.946562</td>\n",
       "      <td>-432.317850</td>\n",
       "      <td>4.872511</td>\n",
       "      <td>-500.037437</td>\n",
       "      <td>26.705889</td>\n",
       "      <td>-499.709414</td>\n",
       "    </tr>\n",
       "    <tr>\n",
       "      <th>1</th>\n",
       "      <td>2016-09-01 01:59:59</td>\n",
       "      <td>215.392455</td>\n",
       "      <td>14.987471</td>\n",
       "      <td>8.080000</td>\n",
       "      <td>0.990469</td>\n",
       "      <td>1398.777912</td>\n",
       "      <td>-500.057435</td>\n",
       "      <td>1398.055362</td>\n",
       "      <td>-499.778182</td>\n",
       "      <td>1396.151033</td>\n",
       "      <td>...</td>\n",
       "      <td>12.058140</td>\n",
       "      <td>-498.695773</td>\n",
       "      <td>8.130979</td>\n",
       "      <td>-499.634209</td>\n",
       "      <td>7.958270</td>\n",
       "      <td>-525.839648</td>\n",
       "      <td>4.878850</td>\n",
       "      <td>-500.162375</td>\n",
       "      <td>25.019940</td>\n",
       "      <td>-499.819438</td>\n",
       "    </tr>\n",
       "    <tr>\n",
       "      <th>2</th>\n",
       "      <td>2016-09-01 02:59:59</td>\n",
       "      <td>215.259946</td>\n",
       "      <td>12.884934</td>\n",
       "      <td>7.786667</td>\n",
       "      <td>0.996043</td>\n",
       "      <td>1398.493666</td>\n",
       "      <td>-500.868360</td>\n",
       "      <td>1398.860436</td>\n",
       "      <td>-499.764529</td>\n",
       "      <td>1398.075709</td>\n",
       "      <td>...</td>\n",
       "      <td>11.962366</td>\n",
       "      <td>-498.767484</td>\n",
       "      <td>8.096893</td>\n",
       "      <td>-500.827423</td>\n",
       "      <td>8.071056</td>\n",
       "      <td>-500.801673</td>\n",
       "      <td>4.905125</td>\n",
       "      <td>-499.828510</td>\n",
       "      <td>24.994862</td>\n",
       "      <td>-500.622559</td>\n",
       "    </tr>\n",
       "    <tr>\n",
       "      <th>3</th>\n",
       "      <td>2016-09-01 03:59:59</td>\n",
       "      <td>215.336236</td>\n",
       "      <td>12.006805</td>\n",
       "      <td>7.640000</td>\n",
       "      <td>0.863514</td>\n",
       "      <td>1399.618111</td>\n",
       "      <td>-498.863574</td>\n",
       "      <td>1397.440120</td>\n",
       "      <td>-499.211024</td>\n",
       "      <td>1400.129303</td>\n",
       "      <td>...</td>\n",
       "      <td>12.033091</td>\n",
       "      <td>-498.350935</td>\n",
       "      <td>8.074946</td>\n",
       "      <td>-499.474407</td>\n",
       "      <td>7.897085</td>\n",
       "      <td>-500.868509</td>\n",
       "      <td>4.931400</td>\n",
       "      <td>-499.963623</td>\n",
       "      <td>24.948919</td>\n",
       "      <td>-498.709987</td>\n",
       "    </tr>\n",
       "    <tr>\n",
       "      <th>4</th>\n",
       "      <td>2016-09-01 04:59:59</td>\n",
       "      <td>199.099327</td>\n",
       "      <td>10.682530</td>\n",
       "      <td>7.530000</td>\n",
       "      <td>0.805575</td>\n",
       "      <td>1401.268123</td>\n",
       "      <td>-500.808305</td>\n",
       "      <td>1398.128818</td>\n",
       "      <td>-499.504543</td>\n",
       "      <td>1402.172226</td>\n",
       "      <td>...</td>\n",
       "      <td>12.025367</td>\n",
       "      <td>-500.786497</td>\n",
       "      <td>8.054678</td>\n",
       "      <td>-500.397500</td>\n",
       "      <td>8.107890</td>\n",
       "      <td>-509.526725</td>\n",
       "      <td>4.957674</td>\n",
       "      <td>-500.360026</td>\n",
       "      <td>25.003331</td>\n",
       "      <td>-500.856333</td>\n",
       "    </tr>\n",
       "  </tbody>\n",
       "</table>\n",
       "<p>5 rows × 53 columns</p>\n",
       "</div>"
      ],
      "text/plain": [
       "                  date  primary_cleaner.input.sulfate  \\\n",
       "0  2016-09-01 00:59:59                     210.800909   \n",
       "1  2016-09-01 01:59:59                     215.392455   \n",
       "2  2016-09-01 02:59:59                     215.259946   \n",
       "3  2016-09-01 03:59:59                     215.336236   \n",
       "4  2016-09-01 04:59:59                     199.099327   \n",
       "\n",
       "   primary_cleaner.input.depressant  primary_cleaner.input.feed_size  \\\n",
       "0                         14.993118                         8.080000   \n",
       "1                         14.987471                         8.080000   \n",
       "2                         12.884934                         7.786667   \n",
       "3                         12.006805                         7.640000   \n",
       "4                         10.682530                         7.530000   \n",
       "\n",
       "   primary_cleaner.input.xanthate  primary_cleaner.state.floatbank8_a_air  \\\n",
       "0                        1.005021                             1398.981301   \n",
       "1                        0.990469                             1398.777912   \n",
       "2                        0.996043                             1398.493666   \n",
       "3                        0.863514                             1399.618111   \n",
       "4                        0.805575                             1401.268123   \n",
       "\n",
       "   primary_cleaner.state.floatbank8_a_level  \\\n",
       "0                               -500.225577   \n",
       "1                               -500.057435   \n",
       "2                               -500.868360   \n",
       "3                               -498.863574   \n",
       "4                               -500.808305   \n",
       "\n",
       "   primary_cleaner.state.floatbank8_b_air  \\\n",
       "0                             1399.144926   \n",
       "1                             1398.055362   \n",
       "2                             1398.860436   \n",
       "3                             1397.440120   \n",
       "4                             1398.128818   \n",
       "\n",
       "   primary_cleaner.state.floatbank8_b_level  \\\n",
       "0                               -499.919735   \n",
       "1                               -499.778182   \n",
       "2                               -499.764529   \n",
       "3                               -499.211024   \n",
       "4                               -499.504543   \n",
       "\n",
       "   primary_cleaner.state.floatbank8_c_air  ...  \\\n",
       "0                             1400.102998  ...   \n",
       "1                             1396.151033  ...   \n",
       "2                             1398.075709  ...   \n",
       "3                             1400.129303  ...   \n",
       "4                             1402.172226  ...   \n",
       "\n",
       "   secondary_cleaner.state.floatbank4_a_air  \\\n",
       "0                                 12.023554   \n",
       "1                                 12.058140   \n",
       "2                                 11.962366   \n",
       "3                                 12.033091   \n",
       "4                                 12.025367   \n",
       "\n",
       "   secondary_cleaner.state.floatbank4_a_level  \\\n",
       "0                                 -497.795834   \n",
       "1                                 -498.695773   \n",
       "2                                 -498.767484   \n",
       "3                                 -498.350935   \n",
       "4                                 -500.786497   \n",
       "\n",
       "   secondary_cleaner.state.floatbank4_b_air  \\\n",
       "0                                  8.016656   \n",
       "1                                  8.130979   \n",
       "2                                  8.096893   \n",
       "3                                  8.074946   \n",
       "4                                  8.054678   \n",
       "\n",
       "   secondary_cleaner.state.floatbank4_b_level  \\\n",
       "0                                 -501.289139   \n",
       "1                                 -499.634209   \n",
       "2                                 -500.827423   \n",
       "3                                 -499.474407   \n",
       "4                                 -500.397500   \n",
       "\n",
       "   secondary_cleaner.state.floatbank5_a_air  \\\n",
       "0                                  7.946562   \n",
       "1                                  7.958270   \n",
       "2                                  8.071056   \n",
       "3                                  7.897085   \n",
       "4                                  8.107890   \n",
       "\n",
       "   secondary_cleaner.state.floatbank5_a_level  \\\n",
       "0                                 -432.317850   \n",
       "1                                 -525.839648   \n",
       "2                                 -500.801673   \n",
       "3                                 -500.868509   \n",
       "4                                 -509.526725   \n",
       "\n",
       "   secondary_cleaner.state.floatbank5_b_air  \\\n",
       "0                                  4.872511   \n",
       "1                                  4.878850   \n",
       "2                                  4.905125   \n",
       "3                                  4.931400   \n",
       "4                                  4.957674   \n",
       "\n",
       "   secondary_cleaner.state.floatbank5_b_level  \\\n",
       "0                                 -500.037437   \n",
       "1                                 -500.162375   \n",
       "2                                 -499.828510   \n",
       "3                                 -499.963623   \n",
       "4                                 -500.360026   \n",
       "\n",
       "   secondary_cleaner.state.floatbank6_a_air  \\\n",
       "0                                 26.705889   \n",
       "1                                 25.019940   \n",
       "2                                 24.994862   \n",
       "3                                 24.948919   \n",
       "4                                 25.003331   \n",
       "\n",
       "   secondary_cleaner.state.floatbank6_a_level  \n",
       "0                                 -499.709414  \n",
       "1                                 -499.819438  \n",
       "2                                 -500.622559  \n",
       "3                                 -498.709987  \n",
       "4                                 -500.856333  \n",
       "\n",
       "[5 rows x 53 columns]"
      ]
     },
     "execution_count": 144,
     "metadata": {},
     "output_type": "execute_result"
    }
   ],
   "source": [
    "test.head()"
   ]
  },
  {
   "cell_type": "code",
   "execution_count": 145,
   "id": "ae153ab8",
   "metadata": {
    "collapsed": true
   },
   "outputs": [
    {
     "name": "stdout",
     "output_type": "stream",
     "text": [
      "<class 'pandas.core.frame.DataFrame'>\n",
      "RangeIndex: 5290 entries, 0 to 5289\n",
      "Data columns (total 53 columns):\n",
      " #   Column                                      Non-Null Count  Dtype  \n",
      "---  ------                                      --------------  -----  \n",
      " 0   date                                        5290 non-null   object \n",
      " 1   primary_cleaner.input.sulfate               5286 non-null   float64\n",
      " 2   primary_cleaner.input.depressant            5285 non-null   float64\n",
      " 3   primary_cleaner.input.feed_size             5290 non-null   float64\n",
      " 4   primary_cleaner.input.xanthate              5286 non-null   float64\n",
      " 5   primary_cleaner.state.floatbank8_a_air      5290 non-null   float64\n",
      " 6   primary_cleaner.state.floatbank8_a_level    5290 non-null   float64\n",
      " 7   primary_cleaner.state.floatbank8_b_air      5290 non-null   float64\n",
      " 8   primary_cleaner.state.floatbank8_b_level    5290 non-null   float64\n",
      " 9   primary_cleaner.state.floatbank8_c_air      5290 non-null   float64\n",
      " 10  primary_cleaner.state.floatbank8_c_level    5290 non-null   float64\n",
      " 11  primary_cleaner.state.floatbank8_d_air      5290 non-null   float64\n",
      " 12  primary_cleaner.state.floatbank8_d_level    5290 non-null   float64\n",
      " 13  rougher.input.feed_ag                       5290 non-null   float64\n",
      " 14  rougher.input.feed_pb                       5290 non-null   float64\n",
      " 15  rougher.input.feed_rate                     5287 non-null   float64\n",
      " 16  rougher.input.feed_size                     5289 non-null   float64\n",
      " 17  rougher.input.feed_sol                      5269 non-null   float64\n",
      " 18  rougher.input.feed_au                       5290 non-null   float64\n",
      " 19  rougher.input.floatbank10_sulfate           5285 non-null   float64\n",
      " 20  rougher.input.floatbank10_xanthate          5290 non-null   float64\n",
      " 21  rougher.input.floatbank11_sulfate           5282 non-null   float64\n",
      " 22  rougher.input.floatbank11_xanthate          5265 non-null   float64\n",
      " 23  rougher.state.floatbank10_a_air             5290 non-null   float64\n",
      " 24  rougher.state.floatbank10_a_level           5290 non-null   float64\n",
      " 25  rougher.state.floatbank10_b_air             5290 non-null   float64\n",
      " 26  rougher.state.floatbank10_b_level           5290 non-null   float64\n",
      " 27  rougher.state.floatbank10_c_air             5290 non-null   float64\n",
      " 28  rougher.state.floatbank10_c_level           5290 non-null   float64\n",
      " 29  rougher.state.floatbank10_d_air             5290 non-null   float64\n",
      " 30  rougher.state.floatbank10_d_level           5290 non-null   float64\n",
      " 31  rougher.state.floatbank10_e_air             5290 non-null   float64\n",
      " 32  rougher.state.floatbank10_e_level           5290 non-null   float64\n",
      " 33  rougher.state.floatbank10_f_air             5290 non-null   float64\n",
      " 34  rougher.state.floatbank10_f_level           5290 non-null   float64\n",
      " 35  secondary_cleaner.state.floatbank2_a_air    5287 non-null   float64\n",
      " 36  secondary_cleaner.state.floatbank2_a_level  5290 non-null   float64\n",
      " 37  secondary_cleaner.state.floatbank2_b_air    5288 non-null   float64\n",
      " 38  secondary_cleaner.state.floatbank2_b_level  5290 non-null   float64\n",
      " 39  secondary_cleaner.state.floatbank3_a_air    5281 non-null   float64\n",
      " 40  secondary_cleaner.state.floatbank3_a_level  5290 non-null   float64\n",
      " 41  secondary_cleaner.state.floatbank3_b_air    5290 non-null   float64\n",
      " 42  secondary_cleaner.state.floatbank3_b_level  5290 non-null   float64\n",
      " 43  secondary_cleaner.state.floatbank4_a_air    5290 non-null   float64\n",
      " 44  secondary_cleaner.state.floatbank4_a_level  5290 non-null   float64\n",
      " 45  secondary_cleaner.state.floatbank4_b_air    5290 non-null   float64\n",
      " 46  secondary_cleaner.state.floatbank4_b_level  5290 non-null   float64\n",
      " 47  secondary_cleaner.state.floatbank5_a_air    5290 non-null   float64\n",
      " 48  secondary_cleaner.state.floatbank5_a_level  5290 non-null   float64\n",
      " 49  secondary_cleaner.state.floatbank5_b_air    5290 non-null   float64\n",
      " 50  secondary_cleaner.state.floatbank5_b_level  5290 non-null   float64\n",
      " 51  secondary_cleaner.state.floatbank6_a_air    5290 non-null   float64\n",
      " 52  secondary_cleaner.state.floatbank6_a_level  5290 non-null   float64\n",
      "dtypes: float64(52), object(1)\n",
      "memory usage: 2.1+ MB\n"
     ]
    }
   ],
   "source": [
    "test.info()"
   ]
  },
  {
   "cell_type": "code",
   "execution_count": 146,
   "id": "e99a46fb",
   "metadata": {},
   "outputs": [
    {
     "data": {
      "text/html": [
       "<div>\n",
       "<style scoped>\n",
       "    .dataframe tbody tr th:only-of-type {\n",
       "        vertical-align: middle;\n",
       "    }\n",
       "\n",
       "    .dataframe tbody tr th {\n",
       "        vertical-align: top;\n",
       "    }\n",
       "\n",
       "    .dataframe thead th {\n",
       "        text-align: right;\n",
       "    }\n",
       "</style>\n",
       "<table border=\"1\" class=\"dataframe\">\n",
       "  <thead>\n",
       "    <tr style=\"text-align: right;\">\n",
       "      <th></th>\n",
       "      <th>primary_cleaner.input.sulfate</th>\n",
       "      <th>primary_cleaner.input.depressant</th>\n",
       "      <th>primary_cleaner.input.feed_size</th>\n",
       "      <th>primary_cleaner.input.xanthate</th>\n",
       "      <th>primary_cleaner.state.floatbank8_a_air</th>\n",
       "      <th>primary_cleaner.state.floatbank8_a_level</th>\n",
       "      <th>primary_cleaner.state.floatbank8_b_air</th>\n",
       "      <th>primary_cleaner.state.floatbank8_b_level</th>\n",
       "      <th>primary_cleaner.state.floatbank8_c_air</th>\n",
       "      <th>primary_cleaner.state.floatbank8_c_level</th>\n",
       "      <th>...</th>\n",
       "      <th>secondary_cleaner.state.floatbank4_a_air</th>\n",
       "      <th>secondary_cleaner.state.floatbank4_a_level</th>\n",
       "      <th>secondary_cleaner.state.floatbank4_b_air</th>\n",
       "      <th>secondary_cleaner.state.floatbank4_b_level</th>\n",
       "      <th>secondary_cleaner.state.floatbank5_a_air</th>\n",
       "      <th>secondary_cleaner.state.floatbank5_a_level</th>\n",
       "      <th>secondary_cleaner.state.floatbank5_b_air</th>\n",
       "      <th>secondary_cleaner.state.floatbank5_b_level</th>\n",
       "      <th>secondary_cleaner.state.floatbank6_a_air</th>\n",
       "      <th>secondary_cleaner.state.floatbank6_a_level</th>\n",
       "    </tr>\n",
       "  </thead>\n",
       "  <tbody>\n",
       "    <tr>\n",
       "      <th>count</th>\n",
       "      <td>5286.000000</td>\n",
       "      <td>5285.000000</td>\n",
       "      <td>5290.000000</td>\n",
       "      <td>5286.000000</td>\n",
       "      <td>5.290000e+03</td>\n",
       "      <td>5290.000000</td>\n",
       "      <td>5.290000e+03</td>\n",
       "      <td>5290.000000</td>\n",
       "      <td>5.290000e+03</td>\n",
       "      <td>5290.000000</td>\n",
       "      <td>...</td>\n",
       "      <td>5.290000e+03</td>\n",
       "      <td>5290.000000</td>\n",
       "      <td>5.290000e+03</td>\n",
       "      <td>5290.000000</td>\n",
       "      <td>5290.000000</td>\n",
       "      <td>5290.000000</td>\n",
       "      <td>5290.000000</td>\n",
       "      <td>5290.000000</td>\n",
       "      <td>5290.000000</td>\n",
       "      <td>5290.000000</td>\n",
       "    </tr>\n",
       "    <tr>\n",
       "      <th>mean</th>\n",
       "      <td>174.839652</td>\n",
       "      <td>8.683596</td>\n",
       "      <td>7.266339</td>\n",
       "      <td>1.383803</td>\n",
       "      <td>1.539494e+03</td>\n",
       "      <td>-497.665883</td>\n",
       "      <td>1.545174e+03</td>\n",
       "      <td>-500.273098</td>\n",
       "      <td>1.527272e+03</td>\n",
       "      <td>-498.330680</td>\n",
       "      <td>...</td>\n",
       "      <td>1.632007e+01</td>\n",
       "      <td>-505.144570</td>\n",
       "      <td>1.373544e+01</td>\n",
       "      <td>-463.349858</td>\n",
       "      <td>12.804186</td>\n",
       "      <td>-501.329122</td>\n",
       "      <td>9.881145</td>\n",
       "      <td>-495.663398</td>\n",
       "      <td>17.304935</td>\n",
       "      <td>-501.793193</td>\n",
       "    </tr>\n",
       "    <tr>\n",
       "      <th>std</th>\n",
       "      <td>43.027080</td>\n",
       "      <td>3.072050</td>\n",
       "      <td>0.610219</td>\n",
       "      <td>0.643474</td>\n",
       "      <td>1.167979e+02</td>\n",
       "      <td>19.952431</td>\n",
       "      <td>1.222246e+02</td>\n",
       "      <td>32.968307</td>\n",
       "      <td>1.225380e+02</td>\n",
       "      <td>21.964876</td>\n",
       "      <td>...</td>\n",
       "      <td>3.493583e+00</td>\n",
       "      <td>31.427337</td>\n",
       "      <td>3.430484e+00</td>\n",
       "      <td>86.189107</td>\n",
       "      <td>3.026591</td>\n",
       "      <td>17.951495</td>\n",
       "      <td>2.868205</td>\n",
       "      <td>34.535007</td>\n",
       "      <td>4.536544</td>\n",
       "      <td>39.044215</td>\n",
       "    </tr>\n",
       "    <tr>\n",
       "      <th>min</th>\n",
       "      <td>2.566156</td>\n",
       "      <td>0.003839</td>\n",
       "      <td>5.650000</td>\n",
       "      <td>0.004984</td>\n",
       "      <td>5.445860e-32</td>\n",
       "      <td>-795.316337</td>\n",
       "      <td>6.647490e-32</td>\n",
       "      <td>-799.997015</td>\n",
       "      <td>4.033736e-32</td>\n",
       "      <td>-799.960571</td>\n",
       "      <td>...</td>\n",
       "      <td>1.079872e-16</td>\n",
       "      <td>-799.798523</td>\n",
       "      <td>2.489718e-17</td>\n",
       "      <td>-800.836914</td>\n",
       "      <td>0.069227</td>\n",
       "      <td>-797.323986</td>\n",
       "      <td>0.528083</td>\n",
       "      <td>-800.220337</td>\n",
       "      <td>-0.079426</td>\n",
       "      <td>-809.741464</td>\n",
       "    </tr>\n",
       "    <tr>\n",
       "      <th>25%</th>\n",
       "      <td>147.121401</td>\n",
       "      <td>6.489555</td>\n",
       "      <td>6.890000</td>\n",
       "      <td>0.907623</td>\n",
       "      <td>1.498936e+03</td>\n",
       "      <td>-500.357298</td>\n",
       "      <td>1.498971e+03</td>\n",
       "      <td>-500.703002</td>\n",
       "      <td>1.473230e+03</td>\n",
       "      <td>-501.018117</td>\n",
       "      <td>...</td>\n",
       "      <td>1.403618e+01</td>\n",
       "      <td>-500.868258</td>\n",
       "      <td>1.202862e+01</td>\n",
       "      <td>-500.323028</td>\n",
       "      <td>10.914838</td>\n",
       "      <td>-500.726841</td>\n",
       "      <td>8.036719</td>\n",
       "      <td>-500.194668</td>\n",
       "      <td>13.997317</td>\n",
       "      <td>-500.690984</td>\n",
       "    </tr>\n",
       "    <tr>\n",
       "      <th>50%</th>\n",
       "      <td>177.828489</td>\n",
       "      <td>8.052207</td>\n",
       "      <td>7.250000</td>\n",
       "      <td>1.197610</td>\n",
       "      <td>1.585129e+03</td>\n",
       "      <td>-499.969164</td>\n",
       "      <td>1.595622e+03</td>\n",
       "      <td>-500.028514</td>\n",
       "      <td>1.549595e+03</td>\n",
       "      <td>-500.017711</td>\n",
       "      <td>...</td>\n",
       "      <td>1.700847e+01</td>\n",
       "      <td>-500.115727</td>\n",
       "      <td>1.496486e+01</td>\n",
       "      <td>-499.576513</td>\n",
       "      <td>12.954182</td>\n",
       "      <td>-499.990332</td>\n",
       "      <td>10.004301</td>\n",
       "      <td>-499.990535</td>\n",
       "      <td>16.014935</td>\n",
       "      <td>-500.007126</td>\n",
       "    </tr>\n",
       "    <tr>\n",
       "      <th>75%</th>\n",
       "      <td>208.125438</td>\n",
       "      <td>10.027764</td>\n",
       "      <td>7.600000</td>\n",
       "      <td>1.797819</td>\n",
       "      <td>1.602077e+03</td>\n",
       "      <td>-499.568951</td>\n",
       "      <td>1.602324e+03</td>\n",
       "      <td>-499.293257</td>\n",
       "      <td>1.601144e+03</td>\n",
       "      <td>-498.994130</td>\n",
       "      <td>...</td>\n",
       "      <td>1.803862e+01</td>\n",
       "      <td>-499.404224</td>\n",
       "      <td>1.596213e+01</td>\n",
       "      <td>-400.933805</td>\n",
       "      <td>15.097528</td>\n",
       "      <td>-499.283191</td>\n",
       "      <td>11.997467</td>\n",
       "      <td>-499.719913</td>\n",
       "      <td>21.020013</td>\n",
       "      <td>-499.373018</td>\n",
       "    </tr>\n",
       "    <tr>\n",
       "      <th>max</th>\n",
       "      <td>265.983123</td>\n",
       "      <td>40.000000</td>\n",
       "      <td>15.500000</td>\n",
       "      <td>4.102454</td>\n",
       "      <td>2.103104e+03</td>\n",
       "      <td>-57.195404</td>\n",
       "      <td>1.813084e+03</td>\n",
       "      <td>-142.527229</td>\n",
       "      <td>1.715054e+03</td>\n",
       "      <td>-150.937035</td>\n",
       "      <td>...</td>\n",
       "      <td>3.005180e+01</td>\n",
       "      <td>-401.565212</td>\n",
       "      <td>3.126971e+01</td>\n",
       "      <td>-6.506986</td>\n",
       "      <td>25.258848</td>\n",
       "      <td>-244.483566</td>\n",
       "      <td>14.086866</td>\n",
       "      <td>-137.740004</td>\n",
       "      <td>26.705889</td>\n",
       "      <td>-123.307487</td>\n",
       "    </tr>\n",
       "  </tbody>\n",
       "</table>\n",
       "<p>8 rows × 52 columns</p>\n",
       "</div>"
      ],
      "text/plain": [
       "       primary_cleaner.input.sulfate  primary_cleaner.input.depressant  \\\n",
       "count                    5286.000000                       5285.000000   \n",
       "mean                      174.839652                          8.683596   \n",
       "std                        43.027080                          3.072050   \n",
       "min                         2.566156                          0.003839   \n",
       "25%                       147.121401                          6.489555   \n",
       "50%                       177.828489                          8.052207   \n",
       "75%                       208.125438                         10.027764   \n",
       "max                       265.983123                         40.000000   \n",
       "\n",
       "       primary_cleaner.input.feed_size  primary_cleaner.input.xanthate  \\\n",
       "count                      5290.000000                     5286.000000   \n",
       "mean                          7.266339                        1.383803   \n",
       "std                           0.610219                        0.643474   \n",
       "min                           5.650000                        0.004984   \n",
       "25%                           6.890000                        0.907623   \n",
       "50%                           7.250000                        1.197610   \n",
       "75%                           7.600000                        1.797819   \n",
       "max                          15.500000                        4.102454   \n",
       "\n",
       "       primary_cleaner.state.floatbank8_a_air  \\\n",
       "count                            5.290000e+03   \n",
       "mean                             1.539494e+03   \n",
       "std                              1.167979e+02   \n",
       "min                              5.445860e-32   \n",
       "25%                              1.498936e+03   \n",
       "50%                              1.585129e+03   \n",
       "75%                              1.602077e+03   \n",
       "max                              2.103104e+03   \n",
       "\n",
       "       primary_cleaner.state.floatbank8_a_level  \\\n",
       "count                               5290.000000   \n",
       "mean                                -497.665883   \n",
       "std                                   19.952431   \n",
       "min                                 -795.316337   \n",
       "25%                                 -500.357298   \n",
       "50%                                 -499.969164   \n",
       "75%                                 -499.568951   \n",
       "max                                  -57.195404   \n",
       "\n",
       "       primary_cleaner.state.floatbank8_b_air  \\\n",
       "count                            5.290000e+03   \n",
       "mean                             1.545174e+03   \n",
       "std                              1.222246e+02   \n",
       "min                              6.647490e-32   \n",
       "25%                              1.498971e+03   \n",
       "50%                              1.595622e+03   \n",
       "75%                              1.602324e+03   \n",
       "max                              1.813084e+03   \n",
       "\n",
       "       primary_cleaner.state.floatbank8_b_level  \\\n",
       "count                               5290.000000   \n",
       "mean                                -500.273098   \n",
       "std                                   32.968307   \n",
       "min                                 -799.997015   \n",
       "25%                                 -500.703002   \n",
       "50%                                 -500.028514   \n",
       "75%                                 -499.293257   \n",
       "max                                 -142.527229   \n",
       "\n",
       "       primary_cleaner.state.floatbank8_c_air  \\\n",
       "count                            5.290000e+03   \n",
       "mean                             1.527272e+03   \n",
       "std                              1.225380e+02   \n",
       "min                              4.033736e-32   \n",
       "25%                              1.473230e+03   \n",
       "50%                              1.549595e+03   \n",
       "75%                              1.601144e+03   \n",
       "max                              1.715054e+03   \n",
       "\n",
       "       primary_cleaner.state.floatbank8_c_level  ...  \\\n",
       "count                               5290.000000  ...   \n",
       "mean                                -498.330680  ...   \n",
       "std                                   21.964876  ...   \n",
       "min                                 -799.960571  ...   \n",
       "25%                                 -501.018117  ...   \n",
       "50%                                 -500.017711  ...   \n",
       "75%                                 -498.994130  ...   \n",
       "max                                 -150.937035  ...   \n",
       "\n",
       "       secondary_cleaner.state.floatbank4_a_air  \\\n",
       "count                              5.290000e+03   \n",
       "mean                               1.632007e+01   \n",
       "std                                3.493583e+00   \n",
       "min                                1.079872e-16   \n",
       "25%                                1.403618e+01   \n",
       "50%                                1.700847e+01   \n",
       "75%                                1.803862e+01   \n",
       "max                                3.005180e+01   \n",
       "\n",
       "       secondary_cleaner.state.floatbank4_a_level  \\\n",
       "count                                 5290.000000   \n",
       "mean                                  -505.144570   \n",
       "std                                     31.427337   \n",
       "min                                   -799.798523   \n",
       "25%                                   -500.868258   \n",
       "50%                                   -500.115727   \n",
       "75%                                   -499.404224   \n",
       "max                                   -401.565212   \n",
       "\n",
       "       secondary_cleaner.state.floatbank4_b_air  \\\n",
       "count                              5.290000e+03   \n",
       "mean                               1.373544e+01   \n",
       "std                                3.430484e+00   \n",
       "min                                2.489718e-17   \n",
       "25%                                1.202862e+01   \n",
       "50%                                1.496486e+01   \n",
       "75%                                1.596213e+01   \n",
       "max                                3.126971e+01   \n",
       "\n",
       "       secondary_cleaner.state.floatbank4_b_level  \\\n",
       "count                                 5290.000000   \n",
       "mean                                  -463.349858   \n",
       "std                                     86.189107   \n",
       "min                                   -800.836914   \n",
       "25%                                   -500.323028   \n",
       "50%                                   -499.576513   \n",
       "75%                                   -400.933805   \n",
       "max                                     -6.506986   \n",
       "\n",
       "       secondary_cleaner.state.floatbank5_a_air  \\\n",
       "count                               5290.000000   \n",
       "mean                                  12.804186   \n",
       "std                                    3.026591   \n",
       "min                                    0.069227   \n",
       "25%                                   10.914838   \n",
       "50%                                   12.954182   \n",
       "75%                                   15.097528   \n",
       "max                                   25.258848   \n",
       "\n",
       "       secondary_cleaner.state.floatbank5_a_level  \\\n",
       "count                                 5290.000000   \n",
       "mean                                  -501.329122   \n",
       "std                                     17.951495   \n",
       "min                                   -797.323986   \n",
       "25%                                   -500.726841   \n",
       "50%                                   -499.990332   \n",
       "75%                                   -499.283191   \n",
       "max                                   -244.483566   \n",
       "\n",
       "       secondary_cleaner.state.floatbank5_b_air  \\\n",
       "count                               5290.000000   \n",
       "mean                                   9.881145   \n",
       "std                                    2.868205   \n",
       "min                                    0.528083   \n",
       "25%                                    8.036719   \n",
       "50%                                   10.004301   \n",
       "75%                                   11.997467   \n",
       "max                                   14.086866   \n",
       "\n",
       "       secondary_cleaner.state.floatbank5_b_level  \\\n",
       "count                                 5290.000000   \n",
       "mean                                  -495.663398   \n",
       "std                                     34.535007   \n",
       "min                                   -800.220337   \n",
       "25%                                   -500.194668   \n",
       "50%                                   -499.990535   \n",
       "75%                                   -499.719913   \n",
       "max                                   -137.740004   \n",
       "\n",
       "       secondary_cleaner.state.floatbank6_a_air  \\\n",
       "count                               5290.000000   \n",
       "mean                                  17.304935   \n",
       "std                                    4.536544   \n",
       "min                                   -0.079426   \n",
       "25%                                   13.997317   \n",
       "50%                                   16.014935   \n",
       "75%                                   21.020013   \n",
       "max                                   26.705889   \n",
       "\n",
       "       secondary_cleaner.state.floatbank6_a_level  \n",
       "count                                 5290.000000  \n",
       "mean                                  -501.793193  \n",
       "std                                     39.044215  \n",
       "min                                   -809.741464  \n",
       "25%                                   -500.690984  \n",
       "50%                                   -500.007126  \n",
       "75%                                   -499.373018  \n",
       "max                                   -123.307487  \n",
       "\n",
       "[8 rows x 52 columns]"
      ]
     },
     "execution_count": 146,
     "metadata": {},
     "output_type": "execute_result"
    }
   ],
   "source": [
    "test.describe()"
   ]
  },
  {
   "cell_type": "markdown",
   "id": "fea37627",
   "metadata": {},
   "source": [
    "### Full set"
   ]
  },
  {
   "cell_type": "code",
   "execution_count": 147,
   "id": "7e007fae",
   "metadata": {},
   "outputs": [
    {
     "data": {
      "text/html": [
       "<div>\n",
       "<style scoped>\n",
       "    .dataframe tbody tr th:only-of-type {\n",
       "        vertical-align: middle;\n",
       "    }\n",
       "\n",
       "    .dataframe tbody tr th {\n",
       "        vertical-align: top;\n",
       "    }\n",
       "\n",
       "    .dataframe thead th {\n",
       "        text-align: right;\n",
       "    }\n",
       "</style>\n",
       "<table border=\"1\" class=\"dataframe\">\n",
       "  <thead>\n",
       "    <tr style=\"text-align: right;\">\n",
       "      <th></th>\n",
       "      <th>date</th>\n",
       "      <th>final.output.concentrate_ag</th>\n",
       "      <th>final.output.concentrate_pb</th>\n",
       "      <th>final.output.concentrate_sol</th>\n",
       "      <th>final.output.concentrate_au</th>\n",
       "      <th>final.output.recovery</th>\n",
       "      <th>final.output.tail_ag</th>\n",
       "      <th>final.output.tail_pb</th>\n",
       "      <th>final.output.tail_sol</th>\n",
       "      <th>final.output.tail_au</th>\n",
       "      <th>...</th>\n",
       "      <th>secondary_cleaner.state.floatbank4_a_air</th>\n",
       "      <th>secondary_cleaner.state.floatbank4_a_level</th>\n",
       "      <th>secondary_cleaner.state.floatbank4_b_air</th>\n",
       "      <th>secondary_cleaner.state.floatbank4_b_level</th>\n",
       "      <th>secondary_cleaner.state.floatbank5_a_air</th>\n",
       "      <th>secondary_cleaner.state.floatbank5_a_level</th>\n",
       "      <th>secondary_cleaner.state.floatbank5_b_air</th>\n",
       "      <th>secondary_cleaner.state.floatbank5_b_level</th>\n",
       "      <th>secondary_cleaner.state.floatbank6_a_air</th>\n",
       "      <th>secondary_cleaner.state.floatbank6_a_level</th>\n",
       "    </tr>\n",
       "  </thead>\n",
       "  <tbody>\n",
       "    <tr>\n",
       "      <th>0</th>\n",
       "      <td>2016-01-15 00:00:00</td>\n",
       "      <td>6.055403</td>\n",
       "      <td>9.889648</td>\n",
       "      <td>5.507324</td>\n",
       "      <td>42.192020</td>\n",
       "      <td>70.541216</td>\n",
       "      <td>10.411962</td>\n",
       "      <td>0.895447</td>\n",
       "      <td>16.904297</td>\n",
       "      <td>2.143149</td>\n",
       "      <td>...</td>\n",
       "      <td>14.016835</td>\n",
       "      <td>-502.488007</td>\n",
       "      <td>12.099931</td>\n",
       "      <td>-504.715942</td>\n",
       "      <td>9.925633</td>\n",
       "      <td>-498.310211</td>\n",
       "      <td>8.079666</td>\n",
       "      <td>-500.470978</td>\n",
       "      <td>14.151341</td>\n",
       "      <td>-605.841980</td>\n",
       "    </tr>\n",
       "    <tr>\n",
       "      <th>1</th>\n",
       "      <td>2016-01-15 01:00:00</td>\n",
       "      <td>6.029369</td>\n",
       "      <td>9.968944</td>\n",
       "      <td>5.257781</td>\n",
       "      <td>42.701629</td>\n",
       "      <td>69.266198</td>\n",
       "      <td>10.462676</td>\n",
       "      <td>0.927452</td>\n",
       "      <td>16.634514</td>\n",
       "      <td>2.224930</td>\n",
       "      <td>...</td>\n",
       "      <td>13.992281</td>\n",
       "      <td>-505.503262</td>\n",
       "      <td>11.950531</td>\n",
       "      <td>-501.331529</td>\n",
       "      <td>10.039245</td>\n",
       "      <td>-500.169983</td>\n",
       "      <td>7.984757</td>\n",
       "      <td>-500.582168</td>\n",
       "      <td>13.998353</td>\n",
       "      <td>-599.787184</td>\n",
       "    </tr>\n",
       "    <tr>\n",
       "      <th>2</th>\n",
       "      <td>2016-01-15 02:00:00</td>\n",
       "      <td>6.055926</td>\n",
       "      <td>10.213995</td>\n",
       "      <td>5.383759</td>\n",
       "      <td>42.657501</td>\n",
       "      <td>68.116445</td>\n",
       "      <td>10.507046</td>\n",
       "      <td>0.953716</td>\n",
       "      <td>16.208849</td>\n",
       "      <td>2.257889</td>\n",
       "      <td>...</td>\n",
       "      <td>14.015015</td>\n",
       "      <td>-502.520901</td>\n",
       "      <td>11.912783</td>\n",
       "      <td>-501.133383</td>\n",
       "      <td>10.070913</td>\n",
       "      <td>-500.129135</td>\n",
       "      <td>8.013877</td>\n",
       "      <td>-500.517572</td>\n",
       "      <td>14.028663</td>\n",
       "      <td>-601.427363</td>\n",
       "    </tr>\n",
       "    <tr>\n",
       "      <th>3</th>\n",
       "      <td>2016-01-15 03:00:00</td>\n",
       "      <td>6.047977</td>\n",
       "      <td>9.977019</td>\n",
       "      <td>4.858634</td>\n",
       "      <td>42.689819</td>\n",
       "      <td>68.347543</td>\n",
       "      <td>10.422762</td>\n",
       "      <td>0.883763</td>\n",
       "      <td>16.532835</td>\n",
       "      <td>2.146849</td>\n",
       "      <td>...</td>\n",
       "      <td>14.036510</td>\n",
       "      <td>-500.857308</td>\n",
       "      <td>11.999550</td>\n",
       "      <td>-501.193686</td>\n",
       "      <td>9.970366</td>\n",
       "      <td>-499.201640</td>\n",
       "      <td>7.977324</td>\n",
       "      <td>-500.255908</td>\n",
       "      <td>14.005551</td>\n",
       "      <td>-599.996129</td>\n",
       "    </tr>\n",
       "    <tr>\n",
       "      <th>4</th>\n",
       "      <td>2016-01-15 04:00:00</td>\n",
       "      <td>6.148599</td>\n",
       "      <td>10.142511</td>\n",
       "      <td>4.939416</td>\n",
       "      <td>42.774141</td>\n",
       "      <td>66.927016</td>\n",
       "      <td>10.360302</td>\n",
       "      <td>0.792826</td>\n",
       "      <td>16.525686</td>\n",
       "      <td>2.055292</td>\n",
       "      <td>...</td>\n",
       "      <td>14.027298</td>\n",
       "      <td>-499.838632</td>\n",
       "      <td>11.953070</td>\n",
       "      <td>-501.053894</td>\n",
       "      <td>9.925709</td>\n",
       "      <td>-501.686727</td>\n",
       "      <td>7.894242</td>\n",
       "      <td>-500.356035</td>\n",
       "      <td>13.996647</td>\n",
       "      <td>-601.496691</td>\n",
       "    </tr>\n",
       "  </tbody>\n",
       "</table>\n",
       "<p>5 rows × 87 columns</p>\n",
       "</div>"
      ],
      "text/plain": [
       "                  date  final.output.concentrate_ag  \\\n",
       "0  2016-01-15 00:00:00                     6.055403   \n",
       "1  2016-01-15 01:00:00                     6.029369   \n",
       "2  2016-01-15 02:00:00                     6.055926   \n",
       "3  2016-01-15 03:00:00                     6.047977   \n",
       "4  2016-01-15 04:00:00                     6.148599   \n",
       "\n",
       "   final.output.concentrate_pb  final.output.concentrate_sol  \\\n",
       "0                     9.889648                      5.507324   \n",
       "1                     9.968944                      5.257781   \n",
       "2                    10.213995                      5.383759   \n",
       "3                     9.977019                      4.858634   \n",
       "4                    10.142511                      4.939416   \n",
       "\n",
       "   final.output.concentrate_au  final.output.recovery  final.output.tail_ag  \\\n",
       "0                    42.192020              70.541216             10.411962   \n",
       "1                    42.701629              69.266198             10.462676   \n",
       "2                    42.657501              68.116445             10.507046   \n",
       "3                    42.689819              68.347543             10.422762   \n",
       "4                    42.774141              66.927016             10.360302   \n",
       "\n",
       "   final.output.tail_pb  final.output.tail_sol  final.output.tail_au  ...  \\\n",
       "0              0.895447              16.904297              2.143149  ...   \n",
       "1              0.927452              16.634514              2.224930  ...   \n",
       "2              0.953716              16.208849              2.257889  ...   \n",
       "3              0.883763              16.532835              2.146849  ...   \n",
       "4              0.792826              16.525686              2.055292  ...   \n",
       "\n",
       "   secondary_cleaner.state.floatbank4_a_air  \\\n",
       "0                                 14.016835   \n",
       "1                                 13.992281   \n",
       "2                                 14.015015   \n",
       "3                                 14.036510   \n",
       "4                                 14.027298   \n",
       "\n",
       "   secondary_cleaner.state.floatbank4_a_level  \\\n",
       "0                                 -502.488007   \n",
       "1                                 -505.503262   \n",
       "2                                 -502.520901   \n",
       "3                                 -500.857308   \n",
       "4                                 -499.838632   \n",
       "\n",
       "   secondary_cleaner.state.floatbank4_b_air  \\\n",
       "0                                 12.099931   \n",
       "1                                 11.950531   \n",
       "2                                 11.912783   \n",
       "3                                 11.999550   \n",
       "4                                 11.953070   \n",
       "\n",
       "   secondary_cleaner.state.floatbank4_b_level  \\\n",
       "0                                 -504.715942   \n",
       "1                                 -501.331529   \n",
       "2                                 -501.133383   \n",
       "3                                 -501.193686   \n",
       "4                                 -501.053894   \n",
       "\n",
       "   secondary_cleaner.state.floatbank5_a_air  \\\n",
       "0                                  9.925633   \n",
       "1                                 10.039245   \n",
       "2                                 10.070913   \n",
       "3                                  9.970366   \n",
       "4                                  9.925709   \n",
       "\n",
       "   secondary_cleaner.state.floatbank5_a_level  \\\n",
       "0                                 -498.310211   \n",
       "1                                 -500.169983   \n",
       "2                                 -500.129135   \n",
       "3                                 -499.201640   \n",
       "4                                 -501.686727   \n",
       "\n",
       "   secondary_cleaner.state.floatbank5_b_air  \\\n",
       "0                                  8.079666   \n",
       "1                                  7.984757   \n",
       "2                                  8.013877   \n",
       "3                                  7.977324   \n",
       "4                                  7.894242   \n",
       "\n",
       "   secondary_cleaner.state.floatbank5_b_level  \\\n",
       "0                                 -500.470978   \n",
       "1                                 -500.582168   \n",
       "2                                 -500.517572   \n",
       "3                                 -500.255908   \n",
       "4                                 -500.356035   \n",
       "\n",
       "   secondary_cleaner.state.floatbank6_a_air  \\\n",
       "0                                 14.151341   \n",
       "1                                 13.998353   \n",
       "2                                 14.028663   \n",
       "3                                 14.005551   \n",
       "4                                 13.996647   \n",
       "\n",
       "   secondary_cleaner.state.floatbank6_a_level  \n",
       "0                                 -605.841980  \n",
       "1                                 -599.787184  \n",
       "2                                 -601.427363  \n",
       "3                                 -599.996129  \n",
       "4                                 -601.496691  \n",
       "\n",
       "[5 rows x 87 columns]"
      ]
     },
     "execution_count": 147,
     "metadata": {},
     "output_type": "execute_result"
    }
   ],
   "source": [
    "full.head()"
   ]
  },
  {
   "cell_type": "code",
   "execution_count": 148,
   "id": "81ee9609",
   "metadata": {
    "collapsed": true
   },
   "outputs": [
    {
     "name": "stdout",
     "output_type": "stream",
     "text": [
      "<class 'pandas.core.frame.DataFrame'>\n",
      "RangeIndex: 19439 entries, 0 to 19438\n",
      "Data columns (total 87 columns):\n",
      " #   Column                                              Non-Null Count  Dtype  \n",
      "---  ------                                              --------------  -----  \n",
      " 0   date                                                19439 non-null  object \n",
      " 1   final.output.concentrate_ag                         19438 non-null  float64\n",
      " 2   final.output.concentrate_pb                         19438 non-null  float64\n",
      " 3   final.output.concentrate_sol                        19228 non-null  float64\n",
      " 4   final.output.concentrate_au                         19439 non-null  float64\n",
      " 5   final.output.recovery                               19439 non-null  float64\n",
      " 6   final.output.tail_ag                                19438 non-null  float64\n",
      " 7   final.output.tail_pb                                19338 non-null  float64\n",
      " 8   final.output.tail_sol                               19433 non-null  float64\n",
      " 9   final.output.tail_au                                19439 non-null  float64\n",
      " 10  primary_cleaner.input.sulfate                       19415 non-null  float64\n",
      " 11  primary_cleaner.input.depressant                    19402 non-null  float64\n",
      " 12  primary_cleaner.input.feed_size                     19439 non-null  float64\n",
      " 13  primary_cleaner.input.xanthate                      19335 non-null  float64\n",
      " 14  primary_cleaner.output.concentrate_ag               19439 non-null  float64\n",
      " 15  primary_cleaner.output.concentrate_pb               19323 non-null  float64\n",
      " 16  primary_cleaner.output.concentrate_sol              19069 non-null  float64\n",
      " 17  primary_cleaner.output.concentrate_au               19439 non-null  float64\n",
      " 18  primary_cleaner.output.tail_ag                      19435 non-null  float64\n",
      " 19  primary_cleaner.output.tail_pb                      19418 non-null  float64\n",
      " 20  primary_cleaner.output.tail_sol                     19377 non-null  float64\n",
      " 21  primary_cleaner.output.tail_au                      19439 non-null  float64\n",
      " 22  primary_cleaner.state.floatbank8_a_air              19435 non-null  float64\n",
      " 23  primary_cleaner.state.floatbank8_a_level            19438 non-null  float64\n",
      " 24  primary_cleaner.state.floatbank8_b_air              19435 non-null  float64\n",
      " 25  primary_cleaner.state.floatbank8_b_level            19438 non-null  float64\n",
      " 26  primary_cleaner.state.floatbank8_c_air              19437 non-null  float64\n",
      " 27  primary_cleaner.state.floatbank8_c_level            19438 non-null  float64\n",
      " 28  primary_cleaner.state.floatbank8_d_air              19436 non-null  float64\n",
      " 29  primary_cleaner.state.floatbank8_d_level            19438 non-null  float64\n",
      " 30  rougher.calculation.sulfate_to_au_concentrate       19437 non-null  float64\n",
      " 31  rougher.calculation.floatbank10_sulfate_to_au_feed  19437 non-null  float64\n",
      " 32  rougher.calculation.floatbank11_sulfate_to_au_feed  19437 non-null  float64\n",
      " 33  rougher.calculation.au_pb_ratio                     19439 non-null  float64\n",
      " 34  rougher.input.feed_ag                               19439 non-null  float64\n",
      " 35  rougher.input.feed_pb                               19339 non-null  float64\n",
      " 36  rougher.input.feed_rate                             19428 non-null  float64\n",
      " 37  rougher.input.feed_size                             19294 non-null  float64\n",
      " 38  rougher.input.feed_sol                              19340 non-null  float64\n",
      " 39  rougher.input.feed_au                               19439 non-null  float64\n",
      " 40  rougher.input.floatbank10_sulfate                   19405 non-null  float64\n",
      " 41  rougher.input.floatbank10_xanthate                  19431 non-null  float64\n",
      " 42  rougher.input.floatbank11_sulfate                   19395 non-null  float64\n",
      " 43  rougher.input.floatbank11_xanthate                  18986 non-null  float64\n",
      " 44  rougher.output.concentrate_ag                       19439 non-null  float64\n",
      " 45  rougher.output.concentrate_pb                       19439 non-null  float64\n",
      " 46  rougher.output.concentrate_sol                      19416 non-null  float64\n",
      " 47  rougher.output.concentrate_au                       19439 non-null  float64\n",
      " 48  rougher.output.recovery                             19439 non-null  float64\n",
      " 49  rougher.output.tail_ag                              19438 non-null  float64\n",
      " 50  rougher.output.tail_pb                              19439 non-null  float64\n",
      " 51  rougher.output.tail_sol                             19439 non-null  float64\n",
      " 52  rougher.output.tail_au                              19439 non-null  float64\n",
      " 53  rougher.state.floatbank10_a_air                     19438 non-null  float64\n",
      " 54  rougher.state.floatbank10_a_level                   19438 non-null  float64\n",
      " 55  rougher.state.floatbank10_b_air                     19438 non-null  float64\n",
      " 56  rougher.state.floatbank10_b_level                   19438 non-null  float64\n",
      " 57  rougher.state.floatbank10_c_air                     19438 non-null  float64\n",
      " 58  rougher.state.floatbank10_c_level                   19438 non-null  float64\n",
      " 59  rougher.state.floatbank10_d_air                     19439 non-null  float64\n",
      " 60  rougher.state.floatbank10_d_level                   19439 non-null  float64\n",
      " 61  rougher.state.floatbank10_e_air                     19003 non-null  float64\n",
      " 62  rougher.state.floatbank10_e_level                   19439 non-null  float64\n",
      " 63  rougher.state.floatbank10_f_air                     19439 non-null  float64\n",
      " 64  rougher.state.floatbank10_f_level                   19439 non-null  float64\n",
      " 65  secondary_cleaner.output.tail_ag                    19437 non-null  float64\n",
      " 66  secondary_cleaner.output.tail_pb                    19427 non-null  float64\n",
      " 67  secondary_cleaner.output.tail_sol                   17691 non-null  float64\n",
      " 68  secondary_cleaner.output.tail_au                    19439 non-null  float64\n",
      " 69  secondary_cleaner.state.floatbank2_a_air            19219 non-null  float64\n",
      " 70  secondary_cleaner.state.floatbank2_a_level          19438 non-null  float64\n",
      " 71  secondary_cleaner.state.floatbank2_b_air            19416 non-null  float64\n",
      " 72  secondary_cleaner.state.floatbank2_b_level          19438 non-null  float64\n",
      " 73  secondary_cleaner.state.floatbank3_a_air            19426 non-null  float64\n",
      " 74  secondary_cleaner.state.floatbank3_a_level          19438 non-null  float64\n",
      " 75  secondary_cleaner.state.floatbank3_b_air            19438 non-null  float64\n",
      " 76  secondary_cleaner.state.floatbank3_b_level          19438 non-null  float64\n",
      " 77  secondary_cleaner.state.floatbank4_a_air            19433 non-null  float64\n",
      " 78  secondary_cleaner.state.floatbank4_a_level          19438 non-null  float64\n",
      " 79  secondary_cleaner.state.floatbank4_b_air            19438 non-null  float64\n",
      " 80  secondary_cleaner.state.floatbank4_b_level          19438 non-null  float64\n",
      " 81  secondary_cleaner.state.floatbank5_a_air            19438 non-null  float64\n",
      " 82  secondary_cleaner.state.floatbank5_a_level          19438 non-null  float64\n",
      " 83  secondary_cleaner.state.floatbank5_b_air            19438 non-null  float64\n",
      " 84  secondary_cleaner.state.floatbank5_b_level          19438 non-null  float64\n",
      " 85  secondary_cleaner.state.floatbank6_a_air            19437 non-null  float64\n",
      " 86  secondary_cleaner.state.floatbank6_a_level          19438 non-null  float64\n",
      "dtypes: float64(86), object(1)\n",
      "memory usage: 12.9+ MB\n"
     ]
    }
   ],
   "source": [
    "full.info()"
   ]
  },
  {
   "cell_type": "code",
   "execution_count": 149,
   "id": "cc993304",
   "metadata": {},
   "outputs": [
    {
     "data": {
      "text/html": [
       "<div>\n",
       "<style scoped>\n",
       "    .dataframe tbody tr th:only-of-type {\n",
       "        vertical-align: middle;\n",
       "    }\n",
       "\n",
       "    .dataframe tbody tr th {\n",
       "        vertical-align: top;\n",
       "    }\n",
       "\n",
       "    .dataframe thead th {\n",
       "        text-align: right;\n",
       "    }\n",
       "</style>\n",
       "<table border=\"1\" class=\"dataframe\">\n",
       "  <thead>\n",
       "    <tr style=\"text-align: right;\">\n",
       "      <th></th>\n",
       "      <th>final.output.concentrate_ag</th>\n",
       "      <th>final.output.concentrate_pb</th>\n",
       "      <th>final.output.concentrate_sol</th>\n",
       "      <th>final.output.concentrate_au</th>\n",
       "      <th>final.output.recovery</th>\n",
       "      <th>final.output.tail_ag</th>\n",
       "      <th>final.output.tail_pb</th>\n",
       "      <th>final.output.tail_sol</th>\n",
       "      <th>final.output.tail_au</th>\n",
       "      <th>primary_cleaner.input.sulfate</th>\n",
       "      <th>...</th>\n",
       "      <th>secondary_cleaner.state.floatbank4_a_air</th>\n",
       "      <th>secondary_cleaner.state.floatbank4_a_level</th>\n",
       "      <th>secondary_cleaner.state.floatbank4_b_air</th>\n",
       "      <th>secondary_cleaner.state.floatbank4_b_level</th>\n",
       "      <th>secondary_cleaner.state.floatbank5_a_air</th>\n",
       "      <th>secondary_cleaner.state.floatbank5_a_level</th>\n",
       "      <th>secondary_cleaner.state.floatbank5_b_air</th>\n",
       "      <th>secondary_cleaner.state.floatbank5_b_level</th>\n",
       "      <th>secondary_cleaner.state.floatbank6_a_air</th>\n",
       "      <th>secondary_cleaner.state.floatbank6_a_level</th>\n",
       "    </tr>\n",
       "  </thead>\n",
       "  <tbody>\n",
       "    <tr>\n",
       "      <th>count</th>\n",
       "      <td>19438.000000</td>\n",
       "      <td>19438.000000</td>\n",
       "      <td>19228.000000</td>\n",
       "      <td>19439.000000</td>\n",
       "      <td>19439.000000</td>\n",
       "      <td>19438.000000</td>\n",
       "      <td>19338.000000</td>\n",
       "      <td>19433.000000</td>\n",
       "      <td>19439.000000</td>\n",
       "      <td>19415.000000</td>\n",
       "      <td>...</td>\n",
       "      <td>19433.000000</td>\n",
       "      <td>19438.000000</td>\n",
       "      <td>19438.000000</td>\n",
       "      <td>19438.000000</td>\n",
       "      <td>19438.000000</td>\n",
       "      <td>19438.000000</td>\n",
       "      <td>19438.000000</td>\n",
       "      <td>19438.000000</td>\n",
       "      <td>19437.000000</td>\n",
       "      <td>19438.000000</td>\n",
       "    </tr>\n",
       "    <tr>\n",
       "      <th>mean</th>\n",
       "      <td>5.168470</td>\n",
       "      <td>9.978895</td>\n",
       "      <td>9.501224</td>\n",
       "      <td>44.076513</td>\n",
       "      <td>67.050208</td>\n",
       "      <td>9.688589</td>\n",
       "      <td>2.705795</td>\n",
       "      <td>10.583728</td>\n",
       "      <td>3.042467</td>\n",
       "      <td>144.624774</td>\n",
       "      <td>...</td>\n",
       "      <td>18.987674</td>\n",
       "      <td>-485.894516</td>\n",
       "      <td>15.010366</td>\n",
       "      <td>-461.078636</td>\n",
       "      <td>15.694452</td>\n",
       "      <td>-488.684065</td>\n",
       "      <td>12.198224</td>\n",
       "      <td>-487.149827</td>\n",
       "      <td>18.959024</td>\n",
       "      <td>-505.436305</td>\n",
       "    </tr>\n",
       "    <tr>\n",
       "      <th>std</th>\n",
       "      <td>1.372348</td>\n",
       "      <td>1.669240</td>\n",
       "      <td>2.787537</td>\n",
       "      <td>5.129784</td>\n",
       "      <td>10.125840</td>\n",
       "      <td>2.328642</td>\n",
       "      <td>0.949077</td>\n",
       "      <td>2.868782</td>\n",
       "      <td>0.922808</td>\n",
       "      <td>44.464071</td>\n",
       "      <td>...</td>\n",
       "      <td>5.411058</td>\n",
       "      <td>47.758570</td>\n",
       "      <td>4.890228</td>\n",
       "      <td>67.405524</td>\n",
       "      <td>5.510974</td>\n",
       "      <td>34.533396</td>\n",
       "      <td>5.333024</td>\n",
       "      <td>38.347312</td>\n",
       "      <td>5.550498</td>\n",
       "      <td>37.689057</td>\n",
       "    </tr>\n",
       "    <tr>\n",
       "      <th>min</th>\n",
       "      <td>0.000000</td>\n",
       "      <td>0.000000</td>\n",
       "      <td>0.000000</td>\n",
       "      <td>0.000000</td>\n",
       "      <td>0.000000</td>\n",
       "      <td>0.000000</td>\n",
       "      <td>0.000000</td>\n",
       "      <td>0.000000</td>\n",
       "      <td>0.000000</td>\n",
       "      <td>0.003112</td>\n",
       "      <td>...</td>\n",
       "      <td>0.000000</td>\n",
       "      <td>-799.798523</td>\n",
       "      <td>0.000000</td>\n",
       "      <td>-800.836914</td>\n",
       "      <td>-0.372054</td>\n",
       "      <td>-797.323986</td>\n",
       "      <td>0.528083</td>\n",
       "      <td>-800.220337</td>\n",
       "      <td>-0.079426</td>\n",
       "      <td>-809.741464</td>\n",
       "    </tr>\n",
       "    <tr>\n",
       "      <th>25%</th>\n",
       "      <td>4.251240</td>\n",
       "      <td>9.137262</td>\n",
       "      <td>7.722820</td>\n",
       "      <td>43.402215</td>\n",
       "      <td>63.299712</td>\n",
       "      <td>8.062878</td>\n",
       "      <td>2.040119</td>\n",
       "      <td>8.938947</td>\n",
       "      <td>2.461138</td>\n",
       "      <td>114.107029</td>\n",
       "      <td>...</td>\n",
       "      <td>14.975734</td>\n",
       "      <td>-500.704892</td>\n",
       "      <td>11.940294</td>\n",
       "      <td>-500.187742</td>\n",
       "      <td>10.988606</td>\n",
       "      <td>-500.458467</td>\n",
       "      <td>8.971105</td>\n",
       "      <td>-500.129462</td>\n",
       "      <td>14.983037</td>\n",
       "      <td>-500.728067</td>\n",
       "    </tr>\n",
       "    <tr>\n",
       "      <th>50%</th>\n",
       "      <td>5.066094</td>\n",
       "      <td>10.102433</td>\n",
       "      <td>9.218961</td>\n",
       "      <td>45.011244</td>\n",
       "      <td>68.172738</td>\n",
       "      <td>9.743623</td>\n",
       "      <td>2.748730</td>\n",
       "      <td>10.622456</td>\n",
       "      <td>2.984909</td>\n",
       "      <td>143.232103</td>\n",
       "      <td>...</td>\n",
       "      <td>18.017481</td>\n",
       "      <td>-499.837793</td>\n",
       "      <td>14.971014</td>\n",
       "      <td>-499.459786</td>\n",
       "      <td>15.000036</td>\n",
       "      <td>-499.802605</td>\n",
       "      <td>11.019433</td>\n",
       "      <td>-499.935317</td>\n",
       "      <td>19.960541</td>\n",
       "      <td>-500.048400</td>\n",
       "    </tr>\n",
       "    <tr>\n",
       "      <th>75%</th>\n",
       "      <td>5.895527</td>\n",
       "      <td>11.035769</td>\n",
       "      <td>10.947813</td>\n",
       "      <td>46.275313</td>\n",
       "      <td>72.686642</td>\n",
       "      <td>11.134294</td>\n",
       "      <td>3.333216</td>\n",
       "      <td>12.104271</td>\n",
       "      <td>3.571351</td>\n",
       "      <td>175.075656</td>\n",
       "      <td>...</td>\n",
       "      <td>23.012470</td>\n",
       "      <td>-498.249730</td>\n",
       "      <td>19.034162</td>\n",
       "      <td>-400.118106</td>\n",
       "      <td>18.026190</td>\n",
       "      <td>-498.384187</td>\n",
       "      <td>14.019088</td>\n",
       "      <td>-499.436708</td>\n",
       "      <td>24.003170</td>\n",
       "      <td>-499.495378</td>\n",
       "    </tr>\n",
       "    <tr>\n",
       "      <th>max</th>\n",
       "      <td>16.001945</td>\n",
       "      <td>17.031899</td>\n",
       "      <td>19.615720</td>\n",
       "      <td>52.756638</td>\n",
       "      <td>100.000000</td>\n",
       "      <td>19.552149</td>\n",
       "      <td>5.804178</td>\n",
       "      <td>22.317730</td>\n",
       "      <td>8.245022</td>\n",
       "      <td>265.983123</td>\n",
       "      <td>...</td>\n",
       "      <td>30.115735</td>\n",
       "      <td>-245.239184</td>\n",
       "      <td>31.269706</td>\n",
       "      <td>-6.506986</td>\n",
       "      <td>43.709931</td>\n",
       "      <td>-244.483566</td>\n",
       "      <td>27.926001</td>\n",
       "      <td>-137.740004</td>\n",
       "      <td>32.188906</td>\n",
       "      <td>-104.427459</td>\n",
       "    </tr>\n",
       "  </tbody>\n",
       "</table>\n",
       "<p>8 rows × 86 columns</p>\n",
       "</div>"
      ],
      "text/plain": [
       "       final.output.concentrate_ag  final.output.concentrate_pb  \\\n",
       "count                 19438.000000                 19438.000000   \n",
       "mean                      5.168470                     9.978895   \n",
       "std                       1.372348                     1.669240   \n",
       "min                       0.000000                     0.000000   \n",
       "25%                       4.251240                     9.137262   \n",
       "50%                       5.066094                    10.102433   \n",
       "75%                       5.895527                    11.035769   \n",
       "max                      16.001945                    17.031899   \n",
       "\n",
       "       final.output.concentrate_sol  final.output.concentrate_au  \\\n",
       "count                  19228.000000                 19439.000000   \n",
       "mean                       9.501224                    44.076513   \n",
       "std                        2.787537                     5.129784   \n",
       "min                        0.000000                     0.000000   \n",
       "25%                        7.722820                    43.402215   \n",
       "50%                        9.218961                    45.011244   \n",
       "75%                       10.947813                    46.275313   \n",
       "max                       19.615720                    52.756638   \n",
       "\n",
       "       final.output.recovery  final.output.tail_ag  final.output.tail_pb  \\\n",
       "count           19439.000000          19438.000000          19338.000000   \n",
       "mean               67.050208              9.688589              2.705795   \n",
       "std                10.125840              2.328642              0.949077   \n",
       "min                 0.000000              0.000000              0.000000   \n",
       "25%                63.299712              8.062878              2.040119   \n",
       "50%                68.172738              9.743623              2.748730   \n",
       "75%                72.686642             11.134294              3.333216   \n",
       "max               100.000000             19.552149              5.804178   \n",
       "\n",
       "       final.output.tail_sol  final.output.tail_au  \\\n",
       "count           19433.000000          19439.000000   \n",
       "mean               10.583728              3.042467   \n",
       "std                 2.868782              0.922808   \n",
       "min                 0.000000              0.000000   \n",
       "25%                 8.938947              2.461138   \n",
       "50%                10.622456              2.984909   \n",
       "75%                12.104271              3.571351   \n",
       "max                22.317730              8.245022   \n",
       "\n",
       "       primary_cleaner.input.sulfate  ...  \\\n",
       "count                   19415.000000  ...   \n",
       "mean                      144.624774  ...   \n",
       "std                        44.464071  ...   \n",
       "min                         0.003112  ...   \n",
       "25%                       114.107029  ...   \n",
       "50%                       143.232103  ...   \n",
       "75%                       175.075656  ...   \n",
       "max                       265.983123  ...   \n",
       "\n",
       "       secondary_cleaner.state.floatbank4_a_air  \\\n",
       "count                              19433.000000   \n",
       "mean                                  18.987674   \n",
       "std                                    5.411058   \n",
       "min                                    0.000000   \n",
       "25%                                   14.975734   \n",
       "50%                                   18.017481   \n",
       "75%                                   23.012470   \n",
       "max                                   30.115735   \n",
       "\n",
       "       secondary_cleaner.state.floatbank4_a_level  \\\n",
       "count                                19438.000000   \n",
       "mean                                  -485.894516   \n",
       "std                                     47.758570   \n",
       "min                                   -799.798523   \n",
       "25%                                   -500.704892   \n",
       "50%                                   -499.837793   \n",
       "75%                                   -498.249730   \n",
       "max                                   -245.239184   \n",
       "\n",
       "       secondary_cleaner.state.floatbank4_b_air  \\\n",
       "count                              19438.000000   \n",
       "mean                                  15.010366   \n",
       "std                                    4.890228   \n",
       "min                                    0.000000   \n",
       "25%                                   11.940294   \n",
       "50%                                   14.971014   \n",
       "75%                                   19.034162   \n",
       "max                                   31.269706   \n",
       "\n",
       "       secondary_cleaner.state.floatbank4_b_level  \\\n",
       "count                                19438.000000   \n",
       "mean                                  -461.078636   \n",
       "std                                     67.405524   \n",
       "min                                   -800.836914   \n",
       "25%                                   -500.187742   \n",
       "50%                                   -499.459786   \n",
       "75%                                   -400.118106   \n",
       "max                                     -6.506986   \n",
       "\n",
       "       secondary_cleaner.state.floatbank5_a_air  \\\n",
       "count                              19438.000000   \n",
       "mean                                  15.694452   \n",
       "std                                    5.510974   \n",
       "min                                   -0.372054   \n",
       "25%                                   10.988606   \n",
       "50%                                   15.000036   \n",
       "75%                                   18.026190   \n",
       "max                                   43.709931   \n",
       "\n",
       "       secondary_cleaner.state.floatbank5_a_level  \\\n",
       "count                                19438.000000   \n",
       "mean                                  -488.684065   \n",
       "std                                     34.533396   \n",
       "min                                   -797.323986   \n",
       "25%                                   -500.458467   \n",
       "50%                                   -499.802605   \n",
       "75%                                   -498.384187   \n",
       "max                                   -244.483566   \n",
       "\n",
       "       secondary_cleaner.state.floatbank5_b_air  \\\n",
       "count                              19438.000000   \n",
       "mean                                  12.198224   \n",
       "std                                    5.333024   \n",
       "min                                    0.528083   \n",
       "25%                                    8.971105   \n",
       "50%                                   11.019433   \n",
       "75%                                   14.019088   \n",
       "max                                   27.926001   \n",
       "\n",
       "       secondary_cleaner.state.floatbank5_b_level  \\\n",
       "count                                19438.000000   \n",
       "mean                                  -487.149827   \n",
       "std                                     38.347312   \n",
       "min                                   -800.220337   \n",
       "25%                                   -500.129462   \n",
       "50%                                   -499.935317   \n",
       "75%                                   -499.436708   \n",
       "max                                   -137.740004   \n",
       "\n",
       "       secondary_cleaner.state.floatbank6_a_air  \\\n",
       "count                              19437.000000   \n",
       "mean                                  18.959024   \n",
       "std                                    5.550498   \n",
       "min                                   -0.079426   \n",
       "25%                                   14.983037   \n",
       "50%                                   19.960541   \n",
       "75%                                   24.003170   \n",
       "max                                   32.188906   \n",
       "\n",
       "       secondary_cleaner.state.floatbank6_a_level  \n",
       "count                                19438.000000  \n",
       "mean                                  -505.436305  \n",
       "std                                     37.689057  \n",
       "min                                   -809.741464  \n",
       "25%                                   -500.728067  \n",
       "50%                                   -500.048400  \n",
       "75%                                   -499.495378  \n",
       "max                                   -104.427459  \n",
       "\n",
       "[8 rows x 86 columns]"
      ]
     },
     "execution_count": 149,
     "metadata": {},
     "output_type": "execute_result"
    }
   ],
   "source": [
    "full.describe()"
   ]
  },
  {
   "cell_type": "markdown",
   "id": "6d448473",
   "metadata": {},
   "source": [
    "### Enrichment efficiency"
   ]
  },
  {
   "cell_type": "markdown",
   "id": "4d0b45ef",
   "metadata": {},
   "source": [
    "Let's calculate the enrichment efficiency on the training set for the feature rougher.output.recovery. Let's check the MAE metric between the calculated and actual values."
   ]
  },
  {
   "cell_type": "code",
   "execution_count": 150,
   "id": "bdb36321",
   "metadata": {},
   "outputs": [],
   "source": [
    "# объявление переменных\n",
    "C = train['rougher.output.concentrate_au']\n",
    "F = train['rougher.input.feed_au']\n",
    "T = train['rougher.output.tail_au']"
   ]
  },
  {
   "cell_type": "code",
   "execution_count": 151,
   "id": "0367ad15",
   "metadata": {},
   "outputs": [
    {
     "data": {
      "text/plain": [
       "'Рассчитанная эффективность обогащения: 0        87.107763\\n1        86.843261\\n2        86.842308\\n3        87.226430\\n4        86.688794\\n           ...    \\n14144    89.574376\\n14145    87.724007\\n14146    88.890579\\n14147    89.858126\\n14148    89.514960\\nLength: 14149, dtype: float64'"
      ]
     },
     "metadata": {},
     "output_type": "display_data"
    }
   ],
   "source": [
    "# RECOVERY высчитывает эффективность обогащения\n",
    "RECOVERY = (C * (F - T)) * 100 / (F * (C - T))\n",
    "RECOVERY = pd.Series(np.array(RECOVERY), index = RECOVERY.index)\n",
    "display(f'Рассчитанная эффективность обогащения: {RECOVERY}')"
   ]
  },
  {
   "cell_type": "markdown",
   "id": "7dad48fd",
   "metadata": {},
   "source": [
    "The average sum of the absolute difference between the actual value - 'rougher.output.recovery' and the predicted value - 'RECOVERY'."
   ]
  },
  {
   "cell_type": "code",
   "execution_count": 152,
   "id": "cc6e0128",
   "metadata": {},
   "outputs": [
    {
     "name": "stdout",
     "output_type": "stream",
     "text": [
      "MAE: 1.1131451184435918e-14\n"
     ]
    }
   ],
   "source": [
    "# MAE на обучающей выборке\n",
    "print('MAE:', mean_absolute_error(train['rougher.output.recovery'], RECOVERY))"
   ]
  },
  {
   "cell_type": "markdown",
   "id": "480a51cc",
   "metadata": {},
   "source": [
    "The average sum of the difference between the values is close to 0, which means that the enrichment effect is calculated correctly.Средняя сумма разницы между значениями близка к 0, что означает, что эффектность обогащения рассчиатана правильно."
   ]
  },
  {
   "cell_type": "markdown",
   "id": "819f91e4",
   "metadata": {},
   "source": [
    "### Analysis of features, missing in test set"
   ]
  },
  {
   "cell_type": "markdown",
   "id": "54c83e37",
   "metadata": {},
   "source": [
    "Let's analyze what features are missing in the test sample:"
   ]
  },
  {
   "cell_type": "code",
   "execution_count": 153,
   "id": "17c2ac05",
   "metadata": {
    "collapsed": true
   },
   "outputs": [
    {
     "data": {
      "text/plain": [
       "Index(['final.output.concentrate_ag', 'final.output.concentrate_au',\n",
       "       'final.output.concentrate_pb', 'final.output.concentrate_sol',\n",
       "       'final.output.recovery', 'final.output.tail_ag', 'final.output.tail_au',\n",
       "       'final.output.tail_pb', 'final.output.tail_sol',\n",
       "       'primary_cleaner.output.concentrate_ag',\n",
       "       'primary_cleaner.output.concentrate_au',\n",
       "       'primary_cleaner.output.concentrate_pb',\n",
       "       'primary_cleaner.output.concentrate_sol',\n",
       "       'primary_cleaner.output.tail_ag', 'primary_cleaner.output.tail_au',\n",
       "       'primary_cleaner.output.tail_pb', 'primary_cleaner.output.tail_sol',\n",
       "       'rougher.calculation.au_pb_ratio',\n",
       "       'rougher.calculation.floatbank10_sulfate_to_au_feed',\n",
       "       'rougher.calculation.floatbank11_sulfate_to_au_feed',\n",
       "       'rougher.calculation.sulfate_to_au_concentrate',\n",
       "       'rougher.output.concentrate_ag', 'rougher.output.concentrate_au',\n",
       "       'rougher.output.concentrate_pb', 'rougher.output.concentrate_sol',\n",
       "       'rougher.output.recovery', 'rougher.output.tail_ag',\n",
       "       'rougher.output.tail_au', 'rougher.output.tail_pb',\n",
       "       'rougher.output.tail_sol', 'secondary_cleaner.output.tail_ag',\n",
       "       'secondary_cleaner.output.tail_au', 'secondary_cleaner.output.tail_pb',\n",
       "       'secondary_cleaner.output.tail_sol'],\n",
       "      dtype='object')"
      ]
     },
     "execution_count": 153,
     "metadata": {},
     "output_type": "execute_result"
    }
   ],
   "source": [
    "# разница в признаках обучающей выборки от тестовой\n",
    "missing_test = train.columns.difference(test.columns)\n",
    "missing_test"
   ]
  },
  {
   "cell_type": "markdown",
   "id": "9527f136",
   "metadata": {},
   "source": [
    "As expected, all of the final characteristics are missing from the test set, as data is collected at a later stage.\n",
    "There is also no data with primary and secondary cleaning related to the numeric type, as well as other parameters."
   ]
  },
  {
   "cell_type": "markdown",
   "id": "d7374843",
   "metadata": {},
   "source": [
    "### Data preprocessing"
   ]
  },
  {
   "cell_type": "markdown",
   "id": "602c2974",
   "metadata": {},
   "source": [
    "Let's preprocess the data: examine the number of missing values and duplicates."
   ]
  },
  {
   "cell_type": "code",
   "execution_count": 154,
   "id": "3d817b52",
   "metadata": {},
   "outputs": [
    {
     "data": {
      "text/plain": [
       "date                                            0\n",
       "final.output.concentrate_ag                     1\n",
       "final.output.concentrate_pb                     1\n",
       "final.output.concentrate_sol                  211\n",
       "final.output.concentrate_au                     0\n",
       "                                             ... \n",
       "secondary_cleaner.state.floatbank5_a_level      1\n",
       "secondary_cleaner.state.floatbank5_b_air        1\n",
       "secondary_cleaner.state.floatbank5_b_level      1\n",
       "secondary_cleaner.state.floatbank6_a_air        2\n",
       "secondary_cleaner.state.floatbank6_a_level      1\n",
       "Length: 87, dtype: int64"
      ]
     },
     "execution_count": 154,
     "metadata": {},
     "output_type": "execute_result"
    }
   ],
   "source": [
    "train.isna().sum()"
   ]
  },
  {
   "cell_type": "code",
   "execution_count": 155,
   "id": "c172ab6e",
   "metadata": {},
   "outputs": [
    {
     "data": {
      "text/plain": [
       "4100"
      ]
     },
     "execution_count": 155,
     "metadata": {},
     "output_type": "execute_result"
    }
   ],
   "source": [
    "train.isna().sum().sum()"
   ]
  },
  {
   "cell_type": "code",
   "execution_count": 156,
   "id": "0b3333b1",
   "metadata": {
    "collapsed": true
   },
   "outputs": [
    {
     "data": {
      "text/plain": [
       "date                                           0\n",
       "primary_cleaner.input.sulfate                  4\n",
       "primary_cleaner.input.depressant               5\n",
       "primary_cleaner.input.feed_size                0\n",
       "primary_cleaner.input.xanthate                 4\n",
       "primary_cleaner.state.floatbank8_a_air         0\n",
       "primary_cleaner.state.floatbank8_a_level       0\n",
       "primary_cleaner.state.floatbank8_b_air         0\n",
       "primary_cleaner.state.floatbank8_b_level       0\n",
       "primary_cleaner.state.floatbank8_c_air         0\n",
       "primary_cleaner.state.floatbank8_c_level       0\n",
       "primary_cleaner.state.floatbank8_d_air         0\n",
       "primary_cleaner.state.floatbank8_d_level       0\n",
       "rougher.input.feed_ag                          0\n",
       "rougher.input.feed_pb                          0\n",
       "rougher.input.feed_rate                        3\n",
       "rougher.input.feed_size                        1\n",
       "rougher.input.feed_sol                        21\n",
       "rougher.input.feed_au                          0\n",
       "rougher.input.floatbank10_sulfate              5\n",
       "rougher.input.floatbank10_xanthate             0\n",
       "rougher.input.floatbank11_sulfate              8\n",
       "rougher.input.floatbank11_xanthate            25\n",
       "rougher.state.floatbank10_a_air                0\n",
       "rougher.state.floatbank10_a_level              0\n",
       "rougher.state.floatbank10_b_air                0\n",
       "rougher.state.floatbank10_b_level              0\n",
       "rougher.state.floatbank10_c_air                0\n",
       "rougher.state.floatbank10_c_level              0\n",
       "rougher.state.floatbank10_d_air                0\n",
       "rougher.state.floatbank10_d_level              0\n",
       "rougher.state.floatbank10_e_air                0\n",
       "rougher.state.floatbank10_e_level              0\n",
       "rougher.state.floatbank10_f_air                0\n",
       "rougher.state.floatbank10_f_level              0\n",
       "secondary_cleaner.state.floatbank2_a_air       3\n",
       "secondary_cleaner.state.floatbank2_a_level     0\n",
       "secondary_cleaner.state.floatbank2_b_air       2\n",
       "secondary_cleaner.state.floatbank2_b_level     0\n",
       "secondary_cleaner.state.floatbank3_a_air       9\n",
       "secondary_cleaner.state.floatbank3_a_level     0\n",
       "secondary_cleaner.state.floatbank3_b_air       0\n",
       "secondary_cleaner.state.floatbank3_b_level     0\n",
       "secondary_cleaner.state.floatbank4_a_air       0\n",
       "secondary_cleaner.state.floatbank4_a_level     0\n",
       "secondary_cleaner.state.floatbank4_b_air       0\n",
       "secondary_cleaner.state.floatbank4_b_level     0\n",
       "secondary_cleaner.state.floatbank5_a_air       0\n",
       "secondary_cleaner.state.floatbank5_a_level     0\n",
       "secondary_cleaner.state.floatbank5_b_air       0\n",
       "secondary_cleaner.state.floatbank5_b_level     0\n",
       "secondary_cleaner.state.floatbank6_a_air       0\n",
       "secondary_cleaner.state.floatbank6_a_level     0\n",
       "dtype: int64"
      ]
     },
     "execution_count": 156,
     "metadata": {},
     "output_type": "execute_result"
    }
   ],
   "source": [
    "test.isna().sum()"
   ]
  },
  {
   "cell_type": "code",
   "execution_count": 157,
   "id": "9fd3e15e",
   "metadata": {},
   "outputs": [
    {
     "data": {
      "text/plain": [
       "90"
      ]
     },
     "execution_count": 157,
     "metadata": {},
     "output_type": "execute_result"
    }
   ],
   "source": [
    "test.isna().sum().sum()"
   ]
  },
  {
   "cell_type": "markdown",
   "id": "664440da",
   "metadata": {},
   "source": [
    "Let's preprocess the data: examine the number of missing values and duplicates."
   ]
  },
  {
   "cell_type": "code",
   "execution_count": 158,
   "id": "5132c80a",
   "metadata": {},
   "outputs": [],
   "source": [
    "train = train.fillna(method = 'ffill')\n",
    "test = test.fillna(method = 'ffill')"
   ]
  },
  {
   "cell_type": "code",
   "execution_count": 159,
   "id": "c3fd6ef2",
   "metadata": {},
   "outputs": [
    {
     "name": "stdout",
     "output_type": "stream",
     "text": [
      "0\n",
      "0\n"
     ]
    }
   ],
   "source": [
    "print(train.isna().sum().sum())\n",
    "print(test.isna().sum().sum())"
   ]
  },
  {
   "cell_type": "code",
   "execution_count": 160,
   "id": "32a04043",
   "metadata": {},
   "outputs": [
    {
     "name": "stdout",
     "output_type": "stream",
     "text": [
      "0\n",
      "0\n"
     ]
    }
   ],
   "source": [
    "print(train.duplicated().sum())\n",
    "print(test.duplicated().sum())"
   ]
  },
  {
   "cell_type": "markdown",
   "id": "9c832aee",
   "metadata": {},
   "source": [
    "<a id = 'data_analysis'></a>\n",
    "## Data Analysis"
   ]
  },
  {
   "cell_type": "markdown",
   "id": "03425972",
   "metadata": {},
   "source": [
    "### Concentration of metals at different stages of purification"
   ]
  },
  {
   "cell_type": "markdown",
   "id": "e9a37450",
   "metadata": {},
   "source": [
    "Let's consider how the concentration of metals (Au, Ag, Pb) changes at different stages of purification: roughing, primary purification and at the final stage."
   ]
  },
  {
   "cell_type": "code",
   "execution_count": 161,
   "id": "d5e81f81",
   "metadata": {},
   "outputs": [],
   "source": [
    "AU = train[['final.output.concentrate_au', 'primary_cleaner.output.concentrate_au', 'rougher.output.concentrate_au', 'rougher.input.feed_au']]\n",
    "PB = train[['final.output.concentrate_pb', 'primary_cleaner.output.concentrate_pb', 'rougher.output.concentrate_pb', 'rougher.input.feed_pb']]\n",
    "AG = train[['final.output.concentrate_ag', 'primary_cleaner.output.concentrate_ag', 'rougher.output.concentrate_ag', 'rougher.input.feed_ag']]    "
   ]
  },
  {
   "cell_type": "code",
   "execution_count": 162,
   "id": "8787a9d2",
   "metadata": {
    "scrolled": true
   },
   "outputs": [
    {
     "data": {
      "image/png": "[encoded data removed]",
      "text/plain": [
       "<Figure size 1224x432 with 1 Axes>"
      ]
     },
     "metadata": {
      "needs_background": "light"
     },
     "output_type": "display_data"
    },
    {
     "data": {
      "image/png": "[encoded data removed]",
      "text/plain": [
       "<Figure size 1224x432 with 1 Axes>"
      ]
     },
     "metadata": {
      "needs_background": "light"
     },
     "output_type": "display_data"
    },
    {
     "data": {
      "image/png": "[encoded data removed]",
      "text/plain": [
       "<Figure size 1224x432 with 1 Axes>"
      ]
     },
     "metadata": {
      "needs_background": "light"
     },
     "output_type": "display_data"
    }
   ],
   "source": [
    "for i in [AU, PB, AG]:\n",
    "    i.plot(\n",
    "        kind = 'hist',\n",
    "        grid = True,\n",
    "        alpha = 0.5,\n",
    "        figsize = (17, 6),\n",
    "        title = 'Концентрация металлов',\n",
    "        bins = 100\n",
    "    ).set(\n",
    "        xlabel = 'Концентрация',\n",
    "        ylabel = 'Частота'\n",
    "    )"
   ]
  },
  {
   "cell_type": "markdown",
   "id": "fb629bb4",
   "metadata": {},
   "source": [
    "- Au: stable - the concentration increases with the passage of cleaning: rough cleaning of raw materials -> rough -> after primary cleaning -> final,\n",
    "- Pb: concentration at primary and final treatment is similar, roughing is lower,\n",
    "- Ag: concentration is inversely proportional: decreases with the degree of purification: final -> primary cleaning -> roughing."
   ]
  },
  {
   "cell_type": "markdown",
   "id": "ba54ea5c",
   "metadata": {},
   "source": [
    "### Data distribution"
   ]
  },
  {
   "cell_type": "markdown",
   "id": "779b198f",
   "metadata": {},
   "source": [
    "Let us compare the size distributions of raw material granules on the training and test samples."
   ]
  },
  {
   "cell_type": "code",
   "execution_count": 163,
   "id": "6d224a04",
   "metadata": {},
   "outputs": [
    {
     "data": {
      "image/png": "[encoded data removed]",
      "text/plain": [
       "<Figure size 1224x504 with 1 Axes>"
      ]
     },
     "metadata": {
      "needs_background": "light"
     },
     "output_type": "display_data"
    }
   ],
   "source": [
    "for i in [train['rougher.input.feed_size'], test['rougher.input.feed_size']]:\n",
    "    i.hist(\n",
    "        density = True,\n",
    "        grid = True,\n",
    "        bins = 30, \n",
    "        figsize = (17, 7),\n",
    "        #title = 'Распределение размеров гранул сырья',\n",
    "        alpha = 0.7,\n",
    "        legend = True\n",
    "    ).set(xlabel = 'Размер гранул сырья', ylabel = 'Частота')"
   ]
  },
  {
   "cell_type": "markdown",
   "id": "e189c692",
   "metadata": {},
   "source": [
    "Despite the fact that the size of the test sample is ~ 3 times smaller than the training sample, the distributions are similar (mean and quartiles)."
   ]
  },
  {
   "cell_type": "code",
   "execution_count": 164,
   "id": "a5e7981f",
   "metadata": {},
   "outputs": [
    {
     "data": {
      "text/plain": [
       "count    14149.000000\n",
       "mean        60.239856\n",
       "std         23.005310\n",
       "min          9.659576\n",
       "25%         48.966751\n",
       "50%         55.269784\n",
       "75%         66.007526\n",
       "max        484.967466\n",
       "Name: rougher.input.feed_size, dtype: float64"
      ]
     },
     "execution_count": 164,
     "metadata": {},
     "output_type": "execute_result"
    }
   ],
   "source": [
    "train['rougher.input.feed_size'].describe()"
   ]
  },
  {
   "cell_type": "code",
   "execution_count": 165,
   "id": "bac29896",
   "metadata": {},
   "outputs": [
    {
     "data": {
      "text/plain": [
       "count    5290.000000\n",
       "mean       55.952754\n",
       "std        19.080334\n",
       "min         0.046369\n",
       "25%        43.906504\n",
       "50%        50.846843\n",
       "75%        62.451165\n",
       "max       392.494040\n",
       "Name: rougher.input.feed_size, dtype: float64"
      ]
     },
     "execution_count": 165,
     "metadata": {},
     "output_type": "execute_result"
    }
   ],
   "source": [
    "test['rougher.input.feed_size'].describe()"
   ]
  },
  {
   "cell_type": "markdown",
   "id": "17d66f4f",
   "metadata": {},
   "source": [
    "### Total concentration"
   ]
  },
  {
   "cell_type": "markdown",
   "id": "ea9f6178",
   "metadata": {},
   "source": [
    "We investigate the total concentration of all substances at different stages: in raw materials, in roughing and final concentrates."
   ]
  },
  {
   "cell_type": "code",
   "execution_count": 166,
   "id": "90a8b7d4",
   "metadata": {},
   "outputs": [
    {
     "data": {
      "image/png": "[encoded data removed]",
      "text/plain": [
       "<Figure size 1224x504 with 1 Axes>"
      ]
     },
     "metadata": {
      "needs_background": "light"
     },
     "output_type": "display_data"
    }
   ],
   "source": [
    "train[['rougher.input.feed_au', \n",
    "        'rougher.input.feed_pb', \n",
    "        'rougher.input.feed_ag',\n",
    "        'rougher.input.feed_sol']]\\\n",
    "    .sum(axis = 1)\\\n",
    "    .plot(kind = 'hist', grid = True, legend = True, label ='Сырьё',  figsize = (17,7),\n",
    "           alpha = 0.7, bins = 100)\\\n",
    "    .set(xlabel = 'Концентрация', ylabel = 'Частота')\n",
    "\n",
    "train[['rougher.output.concentrate_au', \n",
    "        'rougher.output.concentrate_pb', \n",
    "        'rougher.output.concentrate_ag',\n",
    "        'rougher.output.concentrate_sol']]\\\n",
    "    .sum(axis = 1)\\\n",
    "    .plot(kind = 'hist', grid = True, legend = True, label ='Черновой этап', figsize = (17,7),\n",
    "           alpha = 0.7, bins = 100)\\\n",
    "    .set(xlabel = 'Концентрация', ylabel = 'Частота')\n",
    "\n",
    "train[['final.output.concentrate_au', \n",
    "        'final.output.concentrate_pb', \n",
    "        'final.output.concentrate_ag',\n",
    "        'final.output.concentrate_sol']]\\\n",
    "    .sum(axis = 1)\\\n",
    "    .plot(kind = 'hist', grid = True, legend = True, label ='Финальный этап', figsize = (17,7),\n",
    "          title = 'Суммарная концентрация веществ', alpha = 0.7, bins = 100)\\\n",
    "    .set(xlabel = 'Концентрация', ylabel = 'Частота')\n",
    "\n",
    "plt.show()"
   ]
  },
  {
   "cell_type": "code",
   "execution_count": 167,
   "id": "08f331e8",
   "metadata": {},
   "outputs": [
    {
     "data": {
      "image/png": "[encoded data removed]",
      "text/plain": [
       "<Figure size 432x288 with 1 Axes>"
      ]
     },
     "metadata": {
      "needs_background": "light"
     },
     "output_type": "display_data"
    },
    {
     "data": {
      "image/png": "[encoded data removed]",
      "text/plain": [
       "<Figure size 432x288 with 1 Axes>"
      ]
     },
     "metadata": {
      "needs_background": "light"
     },
     "output_type": "display_data"
    },
    {
     "data": {
      "image/png": "[encoded data removed]",
      "text/plain": [
       "<Figure size 432x288 with 1 Axes>"
      ]
     },
     "metadata": {
      "needs_background": "light"
     },
     "output_type": "display_data"
    },
    {
     "data": {
      "image/png": "[encoded data removed]",
      "text/plain": [
       "<Figure size 432x288 with 1 Axes>"
      ]
     },
     "metadata": {
      "needs_background": "light"
     },
     "output_type": "display_data"
    }
   ],
   "source": [
    "for metal in ['au', 'pb', 'ag', 'sol']:\n",
    "    sns.boxplot(x = train['rougher.input.feed_{}'.format(metal)])\n",
    "    plt.show()"
   ]
  },
  {
   "cell_type": "markdown",
   "id": "fc4cbdc4",
   "metadata": {},
   "source": [
    "- On average, the most common concentration coincides in the roughing and final stages,\n",
    "- The concentration of substances in the raw material is lower than in the other stages,\n",
    "- There are clear emissions at zero concentration that need to be eliminated."
   ]
  },
  {
   "cell_type": "markdown",
   "id": "03fcd544",
   "metadata": {},
   "source": [
    "From the range diagrams above, it can be noted that the emissions lie at concentrations < 0.5. Let's get rid of emissions."
   ]
  },
  {
   "cell_type": "code",
   "execution_count": 168,
   "id": "439e3f97",
   "metadata": {},
   "outputs": [],
   "source": [
    "for metal in ['au', 'pb', 'ag', 'sol']:\n",
    "    train = train.loc[\n",
    "                     (train['rougher.input.feed_{}'.format(metal)] >= 0.5) &\n",
    "                     (train['rougher.output.concentrate_{}'.format(metal)] >= 0.5) &\n",
    "                     (train['final.output.concentrate_{}'.format(metal)] >= 0.5)\n",
    "                     ]"
   ]
  },
  {
   "cell_type": "code",
   "execution_count": 169,
   "id": "0f8653b6",
   "metadata": {
    "collapsed": true
   },
   "outputs": [
    {
     "name": "stdout",
     "output_type": "stream",
     "text": [
      "<class 'pandas.core.frame.DataFrame'>\n",
      "Int64Index: 13714 entries, 0 to 14148\n",
      "Data columns (total 87 columns):\n",
      " #   Column                                              Non-Null Count  Dtype  \n",
      "---  ------                                              --------------  -----  \n",
      " 0   date                                                13714 non-null  object \n",
      " 1   final.output.concentrate_ag                         13714 non-null  float64\n",
      " 2   final.output.concentrate_pb                         13714 non-null  float64\n",
      " 3   final.output.concentrate_sol                        13714 non-null  float64\n",
      " 4   final.output.concentrate_au                         13714 non-null  float64\n",
      " 5   final.output.recovery                               13714 non-null  float64\n",
      " 6   final.output.tail_ag                                13714 non-null  float64\n",
      " 7   final.output.tail_pb                                13714 non-null  float64\n",
      " 8   final.output.tail_sol                               13714 non-null  float64\n",
      " 9   final.output.tail_au                                13714 non-null  float64\n",
      " 10  primary_cleaner.input.sulfate                       13714 non-null  float64\n",
      " 11  primary_cleaner.input.depressant                    13714 non-null  float64\n",
      " 12  primary_cleaner.input.feed_size                     13714 non-null  float64\n",
      " 13  primary_cleaner.input.xanthate                      13714 non-null  float64\n",
      " 14  primary_cleaner.output.concentrate_ag               13714 non-null  float64\n",
      " 15  primary_cleaner.output.concentrate_pb               13714 non-null  float64\n",
      " 16  primary_cleaner.output.concentrate_sol              13714 non-null  float64\n",
      " 17  primary_cleaner.output.concentrate_au               13714 non-null  float64\n",
      " 18  primary_cleaner.output.tail_ag                      13714 non-null  float64\n",
      " 19  primary_cleaner.output.tail_pb                      13714 non-null  float64\n",
      " 20  primary_cleaner.output.tail_sol                     13714 non-null  float64\n",
      " 21  primary_cleaner.output.tail_au                      13714 non-null  float64\n",
      " 22  primary_cleaner.state.floatbank8_a_air              13714 non-null  float64\n",
      " 23  primary_cleaner.state.floatbank8_a_level            13714 non-null  float64\n",
      " 24  primary_cleaner.state.floatbank8_b_air              13714 non-null  float64\n",
      " 25  primary_cleaner.state.floatbank8_b_level            13714 non-null  float64\n",
      " 26  primary_cleaner.state.floatbank8_c_air              13714 non-null  float64\n",
      " 27  primary_cleaner.state.floatbank8_c_level            13714 non-null  float64\n",
      " 28  primary_cleaner.state.floatbank8_d_air              13714 non-null  float64\n",
      " 29  primary_cleaner.state.floatbank8_d_level            13714 non-null  float64\n",
      " 30  rougher.calculation.sulfate_to_au_concentrate       13714 non-null  float64\n",
      " 31  rougher.calculation.floatbank10_sulfate_to_au_feed  13714 non-null  float64\n",
      " 32  rougher.calculation.floatbank11_sulfate_to_au_feed  13714 non-null  float64\n",
      " 33  rougher.calculation.au_pb_ratio                     13714 non-null  float64\n",
      " 34  rougher.input.feed_ag                               13714 non-null  float64\n",
      " 35  rougher.input.feed_pb                               13714 non-null  float64\n",
      " 36  rougher.input.feed_rate                             13714 non-null  float64\n",
      " 37  rougher.input.feed_size                             13714 non-null  float64\n",
      " 38  rougher.input.feed_sol                              13714 non-null  float64\n",
      " 39  rougher.input.feed_au                               13714 non-null  float64\n",
      " 40  rougher.input.floatbank10_sulfate                   13714 non-null  float64\n",
      " 41  rougher.input.floatbank10_xanthate                  13714 non-null  float64\n",
      " 42  rougher.input.floatbank11_sulfate                   13714 non-null  float64\n",
      " 43  rougher.input.floatbank11_xanthate                  13714 non-null  float64\n",
      " 44  rougher.output.concentrate_ag                       13714 non-null  float64\n",
      " 45  rougher.output.concentrate_pb                       13714 non-null  float64\n",
      " 46  rougher.output.concentrate_sol                      13714 non-null  float64\n",
      " 47  rougher.output.concentrate_au                       13714 non-null  float64\n",
      " 48  rougher.output.recovery                             13714 non-null  float64\n",
      " 49  rougher.output.tail_ag                              13714 non-null  float64\n",
      " 50  rougher.output.tail_pb                              13714 non-null  float64\n",
      " 51  rougher.output.tail_sol                             13714 non-null  float64\n",
      " 52  rougher.output.tail_au                              13714 non-null  float64\n",
      " 53  rougher.state.floatbank10_a_air                     13714 non-null  float64\n",
      " 54  rougher.state.floatbank10_a_level                   13714 non-null  float64\n",
      " 55  rougher.state.floatbank10_b_air                     13714 non-null  float64\n",
      " 56  rougher.state.floatbank10_b_level                   13714 non-null  float64\n",
      " 57  rougher.state.floatbank10_c_air                     13714 non-null  float64\n",
      " 58  rougher.state.floatbank10_c_level                   13714 non-null  float64\n",
      " 59  rougher.state.floatbank10_d_air                     13714 non-null  float64\n",
      " 60  rougher.state.floatbank10_d_level                   13714 non-null  float64\n",
      " 61  rougher.state.floatbank10_e_air                     13714 non-null  float64\n",
      " 62  rougher.state.floatbank10_e_level                   13714 non-null  float64\n",
      " 63  rougher.state.floatbank10_f_air                     13714 non-null  float64\n",
      " 64  rougher.state.floatbank10_f_level                   13714 non-null  float64\n",
      " 65  secondary_cleaner.output.tail_ag                    13714 non-null  float64\n",
      " 66  secondary_cleaner.output.tail_pb                    13714 non-null  float64\n",
      " 67  secondary_cleaner.output.tail_sol                   13714 non-null  float64\n",
      " 68  secondary_cleaner.output.tail_au                    13714 non-null  float64\n",
      " 69  secondary_cleaner.state.floatbank2_a_air            13714 non-null  float64\n",
      " 70  secondary_cleaner.state.floatbank2_a_level          13714 non-null  float64\n",
      " 71  secondary_cleaner.state.floatbank2_b_air            13714 non-null  float64\n",
      " 72  secondary_cleaner.state.floatbank2_b_level          13714 non-null  float64\n",
      " 73  secondary_cleaner.state.floatbank3_a_air            13714 non-null  float64\n",
      " 74  secondary_cleaner.state.floatbank3_a_level          13714 non-null  float64\n",
      " 75  secondary_cleaner.state.floatbank3_b_air            13714 non-null  float64\n",
      " 76  secondary_cleaner.state.floatbank3_b_level          13714 non-null  float64\n",
      " 77  secondary_cleaner.state.floatbank4_a_air            13714 non-null  float64\n",
      " 78  secondary_cleaner.state.floatbank4_a_level          13714 non-null  float64\n",
      " 79  secondary_cleaner.state.floatbank4_b_air            13714 non-null  float64\n",
      " 80  secondary_cleaner.state.floatbank4_b_level          13714 non-null  float64\n",
      " 81  secondary_cleaner.state.floatbank5_a_air            13714 non-null  float64\n",
      " 82  secondary_cleaner.state.floatbank5_a_level          13714 non-null  float64\n",
      " 83  secondary_cleaner.state.floatbank5_b_air            13714 non-null  float64\n",
      " 84  secondary_cleaner.state.floatbank5_b_level          13714 non-null  float64\n",
      " 85  secondary_cleaner.state.floatbank6_a_air            13714 non-null  float64\n",
      " 86  secondary_cleaner.state.floatbank6_a_level          13714 non-null  float64\n",
      "dtypes: float64(86), object(1)\n",
      "memory usage: 9.2+ MB\n"
     ]
    }
   ],
   "source": [
    "train.info()"
   ]
  },
  {
   "cell_type": "code",
   "execution_count": 170,
   "id": "a93be31b",
   "metadata": {
    "collapsed": true
   },
   "outputs": [
    {
     "name": "stdout",
     "output_type": "stream",
     "text": [
      "<class 'pandas.core.frame.DataFrame'>\n",
      "RangeIndex: 19439 entries, 0 to 19438\n",
      "Data columns (total 87 columns):\n",
      " #   Column                                              Non-Null Count  Dtype  \n",
      "---  ------                                              --------------  -----  \n",
      " 0   date                                                19439 non-null  object \n",
      " 1   final.output.concentrate_ag                         19438 non-null  float64\n",
      " 2   final.output.concentrate_pb                         19438 non-null  float64\n",
      " 3   final.output.concentrate_sol                        19228 non-null  float64\n",
      " 4   final.output.concentrate_au                         19439 non-null  float64\n",
      " 5   final.output.recovery                               19439 non-null  float64\n",
      " 6   final.output.tail_ag                                19438 non-null  float64\n",
      " 7   final.output.tail_pb                                19338 non-null  float64\n",
      " 8   final.output.tail_sol                               19433 non-null  float64\n",
      " 9   final.output.tail_au                                19439 non-null  float64\n",
      " 10  primary_cleaner.input.sulfate                       19415 non-null  float64\n",
      " 11  primary_cleaner.input.depressant                    19402 non-null  float64\n",
      " 12  primary_cleaner.input.feed_size                     19439 non-null  float64\n",
      " 13  primary_cleaner.input.xanthate                      19335 non-null  float64\n",
      " 14  primary_cleaner.output.concentrate_ag               19439 non-null  float64\n",
      " 15  primary_cleaner.output.concentrate_pb               19323 non-null  float64\n",
      " 16  primary_cleaner.output.concentrate_sol              19069 non-null  float64\n",
      " 17  primary_cleaner.output.concentrate_au               19439 non-null  float64\n",
      " 18  primary_cleaner.output.tail_ag                      19435 non-null  float64\n",
      " 19  primary_cleaner.output.tail_pb                      19418 non-null  float64\n",
      " 20  primary_cleaner.output.tail_sol                     19377 non-null  float64\n",
      " 21  primary_cleaner.output.tail_au                      19439 non-null  float64\n",
      " 22  primary_cleaner.state.floatbank8_a_air              19435 non-null  float64\n",
      " 23  primary_cleaner.state.floatbank8_a_level            19438 non-null  float64\n",
      " 24  primary_cleaner.state.floatbank8_b_air              19435 non-null  float64\n",
      " 25  primary_cleaner.state.floatbank8_b_level            19438 non-null  float64\n",
      " 26  primary_cleaner.state.floatbank8_c_air              19437 non-null  float64\n",
      " 27  primary_cleaner.state.floatbank8_c_level            19438 non-null  float64\n",
      " 28  primary_cleaner.state.floatbank8_d_air              19436 non-null  float64\n",
      " 29  primary_cleaner.state.floatbank8_d_level            19438 non-null  float64\n",
      " 30  rougher.calculation.sulfate_to_au_concentrate       19437 non-null  float64\n",
      " 31  rougher.calculation.floatbank10_sulfate_to_au_feed  19437 non-null  float64\n",
      " 32  rougher.calculation.floatbank11_sulfate_to_au_feed  19437 non-null  float64\n",
      " 33  rougher.calculation.au_pb_ratio                     19439 non-null  float64\n",
      " 34  rougher.input.feed_ag                               19439 non-null  float64\n",
      " 35  rougher.input.feed_pb                               19339 non-null  float64\n",
      " 36  rougher.input.feed_rate                             19428 non-null  float64\n",
      " 37  rougher.input.feed_size                             19294 non-null  float64\n",
      " 38  rougher.input.feed_sol                              19340 non-null  float64\n",
      " 39  rougher.input.feed_au                               19439 non-null  float64\n",
      " 40  rougher.input.floatbank10_sulfate                   19405 non-null  float64\n",
      " 41  rougher.input.floatbank10_xanthate                  19431 non-null  float64\n",
      " 42  rougher.input.floatbank11_sulfate                   19395 non-null  float64\n",
      " 43  rougher.input.floatbank11_xanthate                  18986 non-null  float64\n",
      " 44  rougher.output.concentrate_ag                       19439 non-null  float64\n",
      " 45  rougher.output.concentrate_pb                       19439 non-null  float64\n",
      " 46  rougher.output.concentrate_sol                      19416 non-null  float64\n",
      " 47  rougher.output.concentrate_au                       19439 non-null  float64\n",
      " 48  rougher.output.recovery                             19439 non-null  float64\n",
      " 49  rougher.output.tail_ag                              19438 non-null  float64\n",
      " 50  rougher.output.tail_pb                              19439 non-null  float64\n",
      " 51  rougher.output.tail_sol                             19439 non-null  float64\n",
      " 52  rougher.output.tail_au                              19439 non-null  float64\n",
      " 53  rougher.state.floatbank10_a_air                     19438 non-null  float64\n",
      " 54  rougher.state.floatbank10_a_level                   19438 non-null  float64\n",
      " 55  rougher.state.floatbank10_b_air                     19438 non-null  float64\n",
      " 56  rougher.state.floatbank10_b_level                   19438 non-null  float64\n",
      " 57  rougher.state.floatbank10_c_air                     19438 non-null  float64\n",
      " 58  rougher.state.floatbank10_c_level                   19438 non-null  float64\n",
      " 59  rougher.state.floatbank10_d_air                     19439 non-null  float64\n",
      " 60  rougher.state.floatbank10_d_level                   19439 non-null  float64\n",
      " 61  rougher.state.floatbank10_e_air                     19003 non-null  float64\n",
      " 62  rougher.state.floatbank10_e_level                   19439 non-null  float64\n",
      " 63  rougher.state.floatbank10_f_air                     19439 non-null  float64\n",
      " 64  rougher.state.floatbank10_f_level                   19439 non-null  float64\n",
      " 65  secondary_cleaner.output.tail_ag                    19437 non-null  float64\n",
      " 66  secondary_cleaner.output.tail_pb                    19427 non-null  float64\n",
      " 67  secondary_cleaner.output.tail_sol                   17691 non-null  float64\n",
      " 68  secondary_cleaner.output.tail_au                    19439 non-null  float64\n",
      " 69  secondary_cleaner.state.floatbank2_a_air            19219 non-null  float64\n",
      " 70  secondary_cleaner.state.floatbank2_a_level          19438 non-null  float64\n",
      " 71  secondary_cleaner.state.floatbank2_b_air            19416 non-null  float64\n",
      " 72  secondary_cleaner.state.floatbank2_b_level          19438 non-null  float64\n",
      " 73  secondary_cleaner.state.floatbank3_a_air            19426 non-null  float64\n",
      " 74  secondary_cleaner.state.floatbank3_a_level          19438 non-null  float64\n",
      " 75  secondary_cleaner.state.floatbank3_b_air            19438 non-null  float64\n",
      " 76  secondary_cleaner.state.floatbank3_b_level          19438 non-null  float64\n",
      " 77  secondary_cleaner.state.floatbank4_a_air            19433 non-null  float64\n",
      " 78  secondary_cleaner.state.floatbank4_a_level          19438 non-null  float64\n",
      " 79  secondary_cleaner.state.floatbank4_b_air            19438 non-null  float64\n",
      " 80  secondary_cleaner.state.floatbank4_b_level          19438 non-null  float64\n",
      " 81  secondary_cleaner.state.floatbank5_a_air            19438 non-null  float64\n",
      " 82  secondary_cleaner.state.floatbank5_a_level          19438 non-null  float64\n",
      " 83  secondary_cleaner.state.floatbank5_b_air            19438 non-null  float64\n",
      " 84  secondary_cleaner.state.floatbank5_b_level          19438 non-null  float64\n",
      " 85  secondary_cleaner.state.floatbank6_a_air            19437 non-null  float64\n",
      " 86  secondary_cleaner.state.floatbank6_a_level          19438 non-null  float64\n",
      "dtypes: float64(86), object(1)\n",
      "memory usage: 12.9+ MB\n"
     ]
    }
   ],
   "source": [
    "full.info()"
   ]
  },
  {
   "cell_type": "markdown",
   "id": "d6093019",
   "metadata": {},
   "source": [
    "Diagram of the total concentration of substances after the removal of explicit emissions in near-zero concentration."
   ]
  },
  {
   "cell_type": "code",
   "execution_count": 171,
   "id": "5e67f5c8",
   "metadata": {
    "scrolled": true
   },
   "outputs": [
    {
     "data": {
      "image/png": "[encoded data removed]",
      "text/plain": [
       "<Figure size 1224x504 with 1 Axes>"
      ]
     },
     "metadata": {
      "needs_background": "light"
     },
     "output_type": "display_data"
    }
   ],
   "source": [
    "train[['rougher.input.feed_au', \n",
    "        'rougher.input.feed_pb', \n",
    "        'rougher.input.feed_ag',\n",
    "        'rougher.input.feed_sol']]\\\n",
    "    .sum(axis = 1)\\\n",
    "    .plot(kind = 'hist', grid = True, legend = True, label ='Сырьё',  figsize = (17,7),\n",
    "           alpha = 0.7, bins = 100)\\\n",
    "    .set(xlabel = 'Концентрация', ylabel = 'Частота')\n",
    "\n",
    "train[['rougher.output.concentrate_au', \n",
    "        'rougher.output.concentrate_pb', \n",
    "        'rougher.output.concentrate_ag',\n",
    "        'rougher.output.concentrate_sol']]\\\n",
    "    .sum(axis = 1)\\\n",
    "    .plot(kind = 'hist', grid = True, legend = True, label ='Черновой этап', figsize = (17,7),\n",
    "           alpha = 0.7, bins = 100)\\\n",
    "    .set(xlabel = 'Концентрация', ylabel = 'Частота')\n",
    "\n",
    "train[['final.output.concentrate_au', \n",
    "        'final.output.concentrate_pb', \n",
    "        'final.output.concentrate_ag',\n",
    "        'final.output.concentrate_sol']]\\\n",
    "    .sum(axis = 1)\\\n",
    "    .plot(kind = 'hist', grid = True, legend = True, label ='Финальный этап', figsize = (17,7),\n",
    "          title = 'Суммарная концентрация веществ', alpha = 0.7, bins = 100)\\\n",
    "    .set(xlabel = 'Концентрация', ylabel = 'Частота')\n",
    "\n",
    "plt.show()"
   ]
  },
  {
   "cell_type": "markdown",
   "id": "1f9a3dee",
   "metadata": {},
   "source": [
    "<a id = 'model'></a>\n",
    "## Model training"
   ]
  },
  {
   "cell_type": "markdown",
   "id": "077c7729",
   "metadata": {},
   "source": [
    "<a id = 'smape'></a>\n",
    "### Accuracy metrics"
   ]
  },
  {
   "cell_type": "markdown",
   "id": "5aaf5f37",
   "metadata": {},
   "source": [
    "Accuarcy metrics sMAPE (Symmetric Mean Absolute Percentage Error):"
   ]
  },
  {
   "cell_type": "markdown",
   "id": "061610bf",
   "metadata": {},
   "source": [
    "$$ \n",
    "sMAPE = \\frac{1}{N} \\sum_{i=1}^{N} \\frac{|y_i - \\hat{y_i}|}{(|y_i| + |\\hat{y_i}|)/2} * 100 \n",
    "$$"
   ]
  },
  {
   "cell_type": "code",
   "execution_count": 174,
   "id": "ed92805d",
   "metadata": {},
   "outputs": [],
   "source": [
    "def smape(actual, predicted):\n",
    "    return (np.abs(actual - predicted) / ((np.abs(actual) + np.abs(predicted)) / 2)).mean() * 100"
   ]
  },
  {
   "cell_type": "code",
   "execution_count": 175,
   "id": "9da6a647",
   "metadata": {},
   "outputs": [],
   "source": [
    "def final_smape(actual_r, predicted_r, actual_f, predicted_f):\n",
    "    return 0.25 * (smape(actual_r, predicted_r)) + 0.75 * (smape(actual_f, predicted_f))"
   ]
  },
  {
   "cell_type": "markdown",
   "id": "7dc91df5",
   "metadata": {},
   "source": [
    "<a id = 'train_cv'></a>\n",
    "### Model Training and Cross Validation"
   ]
  },
  {
   "cell_type": "markdown",
   "id": "41e13083",
   "metadata": {},
   "source": [
    "Let us bring the training and test samples to the same type - to identical features. Let's add target features to the test set and get rid of the missing values in the test set in the training set."
   ]
  },
  {
   "cell_type": "code",
   "execution_count": 176,
   "id": "947b74f9",
   "metadata": {
    "collapsed": true
   },
   "outputs": [
    {
     "name": "stdout",
     "output_type": "stream",
     "text": [
      "<class 'pandas.core.frame.DataFrame'>\n",
      "Int64Index: 5290 entries, 0 to 5289\n",
      "Data columns (total 55 columns):\n",
      " #   Column                                      Non-Null Count  Dtype  \n",
      "---  ------                                      --------------  -----  \n",
      " 0   date                                        5290 non-null   object \n",
      " 1   primary_cleaner.input.sulfate               5290 non-null   float64\n",
      " 2   primary_cleaner.input.depressant            5290 non-null   float64\n",
      " 3   primary_cleaner.input.feed_size             5290 non-null   float64\n",
      " 4   primary_cleaner.input.xanthate              5290 non-null   float64\n",
      " 5   primary_cleaner.state.floatbank8_a_air      5290 non-null   float64\n",
      " 6   primary_cleaner.state.floatbank8_a_level    5290 non-null   float64\n",
      " 7   primary_cleaner.state.floatbank8_b_air      5290 non-null   float64\n",
      " 8   primary_cleaner.state.floatbank8_b_level    5290 non-null   float64\n",
      " 9   primary_cleaner.state.floatbank8_c_air      5290 non-null   float64\n",
      " 10  primary_cleaner.state.floatbank8_c_level    5290 non-null   float64\n",
      " 11  primary_cleaner.state.floatbank8_d_air      5290 non-null   float64\n",
      " 12  primary_cleaner.state.floatbank8_d_level    5290 non-null   float64\n",
      " 13  rougher.input.feed_ag                       5290 non-null   float64\n",
      " 14  rougher.input.feed_pb                       5290 non-null   float64\n",
      " 15  rougher.input.feed_rate                     5290 non-null   float64\n",
      " 16  rougher.input.feed_size                     5290 non-null   float64\n",
      " 17  rougher.input.feed_sol                      5290 non-null   float64\n",
      " 18  rougher.input.feed_au                       5290 non-null   float64\n",
      " 19  rougher.input.floatbank10_sulfate           5290 non-null   float64\n",
      " 20  rougher.input.floatbank10_xanthate          5290 non-null   float64\n",
      " 21  rougher.input.floatbank11_sulfate           5290 non-null   float64\n",
      " 22  rougher.input.floatbank11_xanthate          5290 non-null   float64\n",
      " 23  rougher.state.floatbank10_a_air             5290 non-null   float64\n",
      " 24  rougher.state.floatbank10_a_level           5290 non-null   float64\n",
      " 25  rougher.state.floatbank10_b_air             5290 non-null   float64\n",
      " 26  rougher.state.floatbank10_b_level           5290 non-null   float64\n",
      " 27  rougher.state.floatbank10_c_air             5290 non-null   float64\n",
      " 28  rougher.state.floatbank10_c_level           5290 non-null   float64\n",
      " 29  rougher.state.floatbank10_d_air             5290 non-null   float64\n",
      " 30  rougher.state.floatbank10_d_level           5290 non-null   float64\n",
      " 31  rougher.state.floatbank10_e_air             5290 non-null   float64\n",
      " 32  rougher.state.floatbank10_e_level           5290 non-null   float64\n",
      " 33  rougher.state.floatbank10_f_air             5290 non-null   float64\n",
      " 34  rougher.state.floatbank10_f_level           5290 non-null   float64\n",
      " 35  secondary_cleaner.state.floatbank2_a_air    5290 non-null   float64\n",
      " 36  secondary_cleaner.state.floatbank2_a_level  5290 non-null   float64\n",
      " 37  secondary_cleaner.state.floatbank2_b_air    5290 non-null   float64\n",
      " 38  secondary_cleaner.state.floatbank2_b_level  5290 non-null   float64\n",
      " 39  secondary_cleaner.state.floatbank3_a_air    5290 non-null   float64\n",
      " 40  secondary_cleaner.state.floatbank3_a_level  5290 non-null   float64\n",
      " 41  secondary_cleaner.state.floatbank3_b_air    5290 non-null   float64\n",
      " 42  secondary_cleaner.state.floatbank3_b_level  5290 non-null   float64\n",
      " 43  secondary_cleaner.state.floatbank4_a_air    5290 non-null   float64\n",
      " 44  secondary_cleaner.state.floatbank4_a_level  5290 non-null   float64\n",
      " 45  secondary_cleaner.state.floatbank4_b_air    5290 non-null   float64\n",
      " 46  secondary_cleaner.state.floatbank4_b_level  5290 non-null   float64\n",
      " 47  secondary_cleaner.state.floatbank5_a_air    5290 non-null   float64\n",
      " 48  secondary_cleaner.state.floatbank5_a_level  5290 non-null   float64\n",
      " 49  secondary_cleaner.state.floatbank5_b_air    5290 non-null   float64\n",
      " 50  secondary_cleaner.state.floatbank5_b_level  5290 non-null   float64\n",
      " 51  secondary_cleaner.state.floatbank6_a_air    5290 non-null   float64\n",
      " 52  secondary_cleaner.state.floatbank6_a_level  5290 non-null   float64\n",
      " 53  rougher.output.recovery                     5290 non-null   float64\n",
      " 54  final.output.recovery                       5290 non-null   float64\n",
      "dtypes: float64(54), object(1)\n",
      "memory usage: 2.3+ MB\n"
     ]
    }
   ],
   "source": [
    "# добавление целевых признаков\n",
    "test = test.merge(full[['date', 'rougher.output.recovery', 'final.output.recovery']], on = 'date', how = 'left')\n",
    "test.info()\n",
    "# избавляемся от недостающих признаков\n",
    "train = train.drop(missing_test, axis=1)\n",
    "train = train.merge(full[['date', 'rougher.output.recovery', 'final.output.recovery']], on = 'date', how = 'left')"
   ]
  },
  {
   "cell_type": "code",
   "execution_count": 136,
   "id": "cee8c769",
   "metadata": {
    "collapsed": true
   },
   "outputs": [
    {
     "name": "stdout",
     "output_type": "stream",
     "text": [
      "<class 'pandas.core.frame.DataFrame'>\n",
      "Int64Index: 13714 entries, 0 to 13713\n",
      "Data columns (total 55 columns):\n",
      " #   Column                                      Non-Null Count  Dtype  \n",
      "---  ------                                      --------------  -----  \n",
      " 0   date                                        13714 non-null  object \n",
      " 1   primary_cleaner.input.sulfate               13714 non-null  float64\n",
      " 2   primary_cleaner.input.depressant            13714 non-null  float64\n",
      " 3   primary_cleaner.input.feed_size             13714 non-null  float64\n",
      " 4   primary_cleaner.input.xanthate              13714 non-null  float64\n",
      " 5   primary_cleaner.state.floatbank8_a_air      13714 non-null  float64\n",
      " 6   primary_cleaner.state.floatbank8_a_level    13714 non-null  float64\n",
      " 7   primary_cleaner.state.floatbank8_b_air      13714 non-null  float64\n",
      " 8   primary_cleaner.state.floatbank8_b_level    13714 non-null  float64\n",
      " 9   primary_cleaner.state.floatbank8_c_air      13714 non-null  float64\n",
      " 10  primary_cleaner.state.floatbank8_c_level    13714 non-null  float64\n",
      " 11  primary_cleaner.state.floatbank8_d_air      13714 non-null  float64\n",
      " 12  primary_cleaner.state.floatbank8_d_level    13714 non-null  float64\n",
      " 13  rougher.input.feed_ag                       13714 non-null  float64\n",
      " 14  rougher.input.feed_pb                       13714 non-null  float64\n",
      " 15  rougher.input.feed_rate                     13714 non-null  float64\n",
      " 16  rougher.input.feed_size                     13714 non-null  float64\n",
      " 17  rougher.input.feed_sol                      13714 non-null  float64\n",
      " 18  rougher.input.feed_au                       13714 non-null  float64\n",
      " 19  rougher.input.floatbank10_sulfate           13714 non-null  float64\n",
      " 20  rougher.input.floatbank10_xanthate          13714 non-null  float64\n",
      " 21  rougher.input.floatbank11_sulfate           13714 non-null  float64\n",
      " 22  rougher.input.floatbank11_xanthate          13714 non-null  float64\n",
      " 23  rougher.state.floatbank10_a_air             13714 non-null  float64\n",
      " 24  rougher.state.floatbank10_a_level           13714 non-null  float64\n",
      " 25  rougher.state.floatbank10_b_air             13714 non-null  float64\n",
      " 26  rougher.state.floatbank10_b_level           13714 non-null  float64\n",
      " 27  rougher.state.floatbank10_c_air             13714 non-null  float64\n",
      " 28  rougher.state.floatbank10_c_level           13714 non-null  float64\n",
      " 29  rougher.state.floatbank10_d_air             13714 non-null  float64\n",
      " 30  rougher.state.floatbank10_d_level           13714 non-null  float64\n",
      " 31  rougher.state.floatbank10_e_air             13714 non-null  float64\n",
      " 32  rougher.state.floatbank10_e_level           13714 non-null  float64\n",
      " 33  rougher.state.floatbank10_f_air             13714 non-null  float64\n",
      " 34  rougher.state.floatbank10_f_level           13714 non-null  float64\n",
      " 35  secondary_cleaner.state.floatbank2_a_air    13714 non-null  float64\n",
      " 36  secondary_cleaner.state.floatbank2_a_level  13714 non-null  float64\n",
      " 37  secondary_cleaner.state.floatbank2_b_air    13714 non-null  float64\n",
      " 38  secondary_cleaner.state.floatbank2_b_level  13714 non-null  float64\n",
      " 39  secondary_cleaner.state.floatbank3_a_air    13714 non-null  float64\n",
      " 40  secondary_cleaner.state.floatbank3_a_level  13714 non-null  float64\n",
      " 41  secondary_cleaner.state.floatbank3_b_air    13714 non-null  float64\n",
      " 42  secondary_cleaner.state.floatbank3_b_level  13714 non-null  float64\n",
      " 43  secondary_cleaner.state.floatbank4_a_air    13714 non-null  float64\n",
      " 44  secondary_cleaner.state.floatbank4_a_level  13714 non-null  float64\n",
      " 45  secondary_cleaner.state.floatbank4_b_air    13714 non-null  float64\n",
      " 46  secondary_cleaner.state.floatbank4_b_level  13714 non-null  float64\n",
      " 47  secondary_cleaner.state.floatbank5_a_air    13714 non-null  float64\n",
      " 48  secondary_cleaner.state.floatbank5_a_level  13714 non-null  float64\n",
      " 49  secondary_cleaner.state.floatbank5_b_air    13714 non-null  float64\n",
      " 50  secondary_cleaner.state.floatbank5_b_level  13714 non-null  float64\n",
      " 51  secondary_cleaner.state.floatbank6_a_air    13714 non-null  float64\n",
      " 52  secondary_cleaner.state.floatbank6_a_level  13714 non-null  float64\n",
      " 53  rougher.output.recovery                     13714 non-null  float64\n",
      " 54  final.output.recovery                       13714 non-null  float64\n",
      "dtypes: float64(54), object(1)\n",
      "memory usage: 5.9+ MB\n"
     ]
    }
   ],
   "source": [
    "train.info()"
   ]
  },
  {
   "cell_type": "code",
   "execution_count": 178,
   "id": "b356272b",
   "metadata": {},
   "outputs": [],
   "source": [
    "# разделяем выборки на признаки и целевые признаки\n",
    "features_train_r = train.drop(train[['rougher.output.recovery','final.output.recovery', 'date']], axis = 1)\n",
    "target_train_r = train[['rougher.output.recovery']]\n",
    "\n",
    "features_train_f = train.drop(train[['rougher.output.recovery','final.output.recovery', 'date']], axis = 1)\n",
    "target_train_f = train[['final.output.recovery']]\n",
    "\n",
    "features_test_r = test.drop(test[['rougher.output.recovery','final.output.recovery', 'date']], axis = 1)\n",
    "target_test_r = test[['rougher.output.recovery']]\n",
    "\n",
    "features_test_f = test.drop(train[['rougher.output.recovery','final.output.recovery', 'date']], axis = 1)\n",
    "target_test_f = test[['final.output.recovery']]"
   ]
  },
  {
   "cell_type": "code",
   "execution_count": 77,
   "id": "7f43c92f",
   "metadata": {},
   "outputs": [],
   "source": [
    "# Нормализация данных\n",
    "scaler_rf = preprocessing.StandardScaler().fit(features_train_r)\n",
    "scaler_ff = preprocessing.StandardScaler().fit(features_train_f)\n",
    "scaler_rt = preprocessing.StandardScaler().fit(target_train_r)\n",
    "scaler_ft = preprocessing.StandardScaler().fit(target_train_f)\n",
    "\n",
    "features_train_R = scaler_rf.transform(features_train_r)\n",
    "features_train_F = scaler_ff.transform(features_train_f)\n",
    "target_train_R = scaler_rt.transform(target_train_r)\n",
    "target_train_F = scaler_ft.transform(target_train_f)"
   ]
  },
  {
   "cell_type": "code",
   "execution_count": 179,
   "id": "2f5d3727",
   "metadata": {},
   "outputs": [
    {
     "name": "stdout",
     "output_type": "stream",
     "text": [
      "(13714, 52) (13714, 1)\n",
      "(13714, 52) (13714, 1)\n"
     ]
    }
   ],
   "source": [
    "print(features_train_r.shape, target_train_r.shape)\n",
    "print(features_train_f.shape, target_train_f.shape)"
   ]
  },
  {
   "cell_type": "code",
   "execution_count": 180,
   "id": "cc70db28",
   "metadata": {},
   "outputs": [],
   "source": [
    "# кастомизирование метрики\n",
    "smape_score = make_scorer(smape, greater_is_better=False)"
   ]
  },
  {
   "cell_type": "code",
   "execution_count": 181,
   "id": "ca2fc8f7",
   "metadata": {},
   "outputs": [],
   "source": [
    "# Обучение моедли и подбор оптимальных гиперпараметров методом Grid Search\n",
    "def scoring(new_model, params, f_train, t_train):\n",
    "    \n",
    "    grid_model = GridSearchCV(new_model, params,cv = 5, scoring = smape_score)\n",
    "    grid_model.fit(f_train, t_train)\n",
    "    \n",
    "    display(f'Лучшие параметры: {grid_model.best_params_}')\n",
    "    display(f'Значение sMAPE-меры: {grid_model.best_score_}')"
   ]
  },
  {
   "cell_type": "code",
   "execution_count": 182,
   "id": "8805144b",
   "metadata": {},
   "outputs": [
    {
     "data": {
      "text/plain": [
       "0"
      ]
     },
     "execution_count": 182,
     "metadata": {},
     "output_type": "execute_result"
    }
   ],
   "source": [
    "features_train_r.isna().sum().sum()\n",
    "target_train_r.isna().sum().sum()"
   ]
  },
  {
   "cell_type": "code",
   "execution_count": 183,
   "id": "68ab051f",
   "metadata": {},
   "outputs": [
    {
     "data": {
      "text/plain": [
       "0"
      ]
     },
     "execution_count": 183,
     "metadata": {},
     "output_type": "execute_result"
    }
   ],
   "source": [
    "train[['rougher.output.recovery']].isna().sum().sum()"
   ]
  },
  {
   "cell_type": "markdown",
   "id": "4cd594e9",
   "metadata": {},
   "source": [
    "#### Linear Regression"
   ]
  },
  {
   "cell_type": "code",
   "execution_count": 185,
   "id": "a3018479",
   "metadata": {},
   "outputs": [
    {
     "data": {
      "text/plain": [
       "\"Лучшие параметры: {'n_jobs': 0}\""
      ]
     },
     "metadata": {},
     "output_type": "display_data"
    },
    {
     "data": {
      "text/plain": [
       "'Значение sMAPE-меры: -7.2112579807448896'"
      ]
     },
     "metadata": {},
     "output_type": "display_data"
    },
    {
     "data": {
      "text/plain": [
       "\"Лучшие параметры: {'n_jobs': 0}\""
      ]
     },
     "metadata": {},
     "output_type": "display_data"
    },
    {
     "data": {
      "text/plain": [
       "'Значение sMAPE-меры: -10.867431440438802'"
      ]
     },
     "metadata": {},
     "output_type": "display_data"
    },
    {
     "name": "stdout",
     "output_type": "stream",
     "text": [
      "CPU times: user 13.9 s, sys: 15.7 s, total: 29.6 s\n",
      "Wall time: 29.5 s\n"
     ]
    }
   ],
   "source": [
    "%%time\n",
    "\n",
    "params_lr = {\n",
    "    'n_jobs' : range(0, 10)\n",
    "}\n",
    "\n",
    "\n",
    "scoring(LinearRegression(), params_lr, features_train_r, target_train_r)\n",
    "scoring(LinearRegression(), params_lr, features_train_f, target_train_f)"
   ]
  },
  {
   "cell_type": "markdown",
   "id": "cd8172ac",
   "metadata": {},
   "source": [
    "As noted earlier, Feature standardization: features_train_R, target_train_R results in an sMAPE value of -30, while without scaler() an error of -7.2."
   ]
  },
  {
   "cell_type": "markdown",
   "id": "4f0947cf",
   "metadata": {},
   "source": [
    "#### Random Forest Regressor"
   ]
  },
  {
   "cell_type": "code",
   "execution_count": 186,
   "id": "30a749e2",
   "metadata": {},
   "outputs": [
    {
     "data": {
      "text/plain": [
       "\"Лучшие параметры: {'max_depth': 4, 'n_estimators': 100, 'random_state': 1}\""
      ]
     },
     "metadata": {},
     "output_type": "display_data"
    },
    {
     "data": {
      "text/plain": [
       "'Значение sMAPE-меры: -6.851170901531775'"
      ]
     },
     "metadata": {},
     "output_type": "display_data"
    },
    {
     "data": {
      "text/plain": [
       "\"Лучшие параметры: {'max_depth': 4, 'n_estimators': 120, 'random_state': 1}\""
      ]
     },
     "metadata": {},
     "output_type": "display_data"
    },
    {
     "data": {
      "text/plain": [
       "'Значение sMAPE-меры: -8.948627120686474'"
      ]
     },
     "metadata": {},
     "output_type": "display_data"
    },
    {
     "name": "stdout",
     "output_type": "stream",
     "text": [
      "CPU times: user 17min 25s, sys: 0 ns, total: 17min 25s\n",
      "Wall time: 17min 25s\n"
     ]
    }
   ],
   "source": [
    "%%time\n",
    "\n",
    "params_rfs = {\n",
    "    'random_state' : [1],\n",
    "    'n_estimators' : range(80, 140, 20),\n",
    "    'max_depth' : range(1, 5)\n",
    "}\n",
    "\n",
    "scoring(RandomForestRegressor(), params_rfs, features_train_r, target_train_r.values.ravel())\n",
    "scoring(RandomForestRegressor(), params_rfs, features_train_f, target_train_f.values.ravel())"
   ]
  },
  {
   "cell_type": "markdown",
   "id": "da991f5b",
   "metadata": {},
   "source": [
    "#### Decision Tree Regressor"
   ]
  },
  {
   "cell_type": "code",
   "execution_count": 187,
   "id": "b5f04920",
   "metadata": {},
   "outputs": [
    {
     "data": {
      "text/plain": [
       "\"Лучшие параметры: {'max_depth': 3, 'min_samples_leaf': 1, 'min_samples_split': 2, 'random_state': 1}\""
      ]
     },
     "metadata": {},
     "output_type": "display_data"
    },
    {
     "data": {
      "text/plain": [
       "'Значение sMAPE-меры: -7.2668600976707385'"
      ]
     },
     "metadata": {},
     "output_type": "display_data"
    },
    {
     "data": {
      "text/plain": [
       "\"Лучшие параметры: {'max_depth': 2, 'min_samples_leaf': 1, 'min_samples_split': 2, 'random_state': 1}\""
      ]
     },
     "metadata": {},
     "output_type": "display_data"
    },
    {
     "data": {
      "text/plain": [
       "'Значение sMAPE-меры: -9.314532885240682'"
      ]
     },
     "metadata": {},
     "output_type": "display_data"
    },
    {
     "name": "stdout",
     "output_type": "stream",
     "text": [
      "CPU times: user 2min 22s, sys: 0 ns, total: 2min 22s\n",
      "Wall time: 2min 22s\n"
     ]
    }
   ],
   "source": [
    "%%time\n",
    "\n",
    "params_dt = {\n",
    "    'random_state' : [1],\n",
    "    'max_depth' : range(1, 10),\n",
    "    'min_samples_split' : range(2, 5),\n",
    "    'min_samples_leaf' : range(1, 3)\n",
    "}\n",
    "\n",
    "scoring(DecisionTreeRegressor(), params_dt, features_train_r, target_train_r.values.ravel())\n",
    "scoring(DecisionTreeRegressor(), params_dt, features_train_f, target_train_f.values.ravel())"
   ]
  },
  {
   "cell_type": "markdown",
   "id": "09938051",
   "metadata": {},
   "source": [
    "<a id = 'test'></a>\n",
    "### Model on a test set"
   ]
  },
  {
   "cell_type": "markdown",
   "id": "7cc7d2b6",
   "metadata": {},
   "source": [
    "The best values of the customized sMAPE metric for the Random Forest model. Let's test the model on a test set."
   ]
  },
  {
   "cell_type": "code",
   "execution_count": 188,
   "id": "5b098116",
   "metadata": {},
   "outputs": [
    {
     "name": "stdout",
     "output_type": "stream",
     "text": [
      "CPU times: user 34.2 s, sys: 0 ns, total: 34.2 s\n",
      "Wall time: 34.2 s\n"
     ]
    },
    {
     "data": {
      "text/plain": [
       "6.899760384863848"
      ]
     },
     "execution_count": 188,
     "metadata": {},
     "output_type": "execute_result"
    }
   ],
   "source": [
    "%%time\n",
    "\n",
    "test_model_r = RandomForestRegressor(random_state = 1, max_depth = 4, n_estimators = 100)\n",
    "test_model_f = RandomForestRegressor(random_state = 1, max_depth = 4, n_estimators = 100)\n",
    "test_model_r.fit(features_train_r, target_train_r.values.ravel())\n",
    "test_model_f.fit(features_train_f, target_train_f.values.ravel())\n",
    "final_smape(target_train_r.values.ravel(), test_model_r.predict(features_train_r), \n",
    "            target_train_f.values.ravel(), test_model_f.predict(features_train_f))"
   ]
  },
  {
   "cell_type": "markdown",
   "id": "55b223e3",
   "metadata": {},
   "source": [
    "In order to evaluate the model, we can compare it with the Dummy Regressor model, which does not take into account the original data. That is, our task is to build a model that works better than a random model."
   ]
  },
  {
   "cell_type": "code",
   "execution_count": 189,
   "id": "3daf33fa",
   "metadata": {},
   "outputs": [
    {
     "data": {
      "text/plain": [
       "9.437199995707104"
      ]
     },
     "execution_count": 189,
     "metadata": {},
     "output_type": "execute_result"
    }
   ],
   "source": [
    "dummy_model_r = DummyRegressor()\n",
    "dummy_model_f = DummyRegressor()\n",
    "dummy_model_r.fit(features_train_r, target_train_r)\n",
    "dummy_model_f.fit(features_train_f, target_train_f)\n",
    "\n",
    "final_smape(target_train_r.values.ravel(), dummy_model_r.predict(features_train_r), \n",
    "            target_train_f.values.ravel(), dummy_model_f.predict(features_train_f))\n"
   ]
  },
  {
   "cell_type": "markdown",
   "id": "d793dc7d",
   "metadata": {},
   "source": [
    "The Random Forest Regressor model did the job, with a lower regression metric score than the random Dummy Regressor model."
   ]
  },
  {
   "cell_type": "markdown",
   "id": "48f44c2a",
   "metadata": {},
   "source": [
    "## Conclusion"
   ]
  },
  {
   "cell_type": "markdown",
   "id": "03c4106c",
   "metadata": {},
   "source": [
    "We have carried out work on forecasting the concentration of gold at the company \"Numbers\".\n",
    "\n",
    "Having studied the data, pre-processed it and divided it into training, validation and test sets, we assessed how well 3 models understand the data:\n",
    "\n",
    "1. Linear Regression - sMAPE metric indicator - 7.2% - the fastest model in training,\n",
    "2. Random Forest Classifier - 6.8%,\n",
    "3. Decision Tree Classifier - 7.3%.\n",
    "\n",
    "We can <b>recommend</b> the <b>Random Forest Classifer</b> model for work, as it showed the highest accuracy and proved that it learns better than the random model on the test set."
   ]
  }
 ],
 "metadata": {
  "ExecuteTimeLog": [
   {
    "duration": 2883,
    "start_time": "2022-10-21T08:50:53.307Z"
   },
   {
    "duration": 3506,
    "start_time": "2022-10-21T08:50:56.192Z"
   },
   {
    "duration": 6,
    "start_time": "2022-10-21T08:50:59.700Z"
   },
   {
    "duration": 20,
    "start_time": "2022-10-21T08:50:59.708Z"
   },
   {
    "duration": 16,
    "start_time": "2022-10-21T08:50:59.729Z"
   },
   {
    "duration": 217,
    "start_time": "2022-10-21T08:50:59.746Z"
   },
   {
    "duration": 16,
    "start_time": "2022-10-21T08:50:59.965Z"
   },
   {
    "duration": 24,
    "start_time": "2022-10-21T08:50:59.983Z"
   },
   {
    "duration": 126,
    "start_time": "2022-10-21T08:51:00.008Z"
   },
   {
    "duration": 18,
    "start_time": "2022-10-21T08:51:00.137Z"
   },
   {
    "duration": 15,
    "start_time": "2022-10-21T08:51:00.157Z"
   },
   {
    "duration": 247,
    "start_time": "2022-10-21T08:51:00.173Z"
   },
   {
    "duration": 2,
    "start_time": "2022-10-21T08:51:00.422Z"
   },
   {
    "duration": 37,
    "start_time": "2022-10-21T08:51:00.425Z"
   },
   {
    "duration": 25,
    "start_time": "2022-10-21T08:51:00.463Z"
   },
   {
    "duration": 42,
    "start_time": "2022-10-21T08:51:00.489Z"
   },
   {
    "duration": 25,
    "start_time": "2022-10-21T08:51:00.533Z"
   },
   {
    "duration": 27,
    "start_time": "2022-10-21T08:51:00.560Z"
   },
   {
    "duration": 19,
    "start_time": "2022-10-21T08:51:00.589Z"
   },
   {
    "duration": 24,
    "start_time": "2022-10-21T08:51:00.610Z"
   },
   {
    "duration": 27,
    "start_time": "2022-10-21T08:51:00.636Z"
   },
   {
    "duration": 10,
    "start_time": "2022-10-21T08:51:00.665Z"
   },
   {
    "duration": 138,
    "start_time": "2022-10-21T08:51:00.676Z"
   },
   {
    "duration": 5,
    "start_time": "2022-10-21T08:51:00.815Z"
   },
   {
    "duration": 668,
    "start_time": "2022-10-21T08:51:00.822Z"
   },
   {
    "duration": 314,
    "start_time": "2022-10-21T08:51:01.491Z"
   },
   {
    "duration": 9,
    "start_time": "2022-10-21T08:51:01.806Z"
   },
   {
    "duration": 6,
    "start_time": "2022-10-21T08:51:01.817Z"
   },
   {
    "duration": 488,
    "start_time": "2022-10-21T08:51:01.824Z"
   },
   {
    "duration": 3,
    "start_time": "2022-10-21T08:51:02.315Z"
   },
   {
    "duration": 12,
    "start_time": "2022-10-21T08:51:02.319Z"
   },
   {
    "duration": 48,
    "start_time": "2022-10-21T08:51:02.333Z"
   },
   {
    "duration": 4,
    "start_time": "2022-10-21T08:51:02.382Z"
   },
   {
    "duration": 43,
    "start_time": "2022-10-21T08:51:02.388Z"
   },
   {
    "duration": 4,
    "start_time": "2022-10-21T08:51:02.433Z"
   },
   {
    "duration": 25,
    "start_time": "2022-10-21T08:51:02.438Z"
   },
   {
    "duration": 1697,
    "start_time": "2022-10-21T15:55:15.535Z"
   },
   {
    "duration": 1513,
    "start_time": "2022-10-21T15:55:18.913Z"
   },
   {
    "duration": 8,
    "start_time": "2022-10-21T15:55:21.079Z"
   },
   {
    "duration": 24,
    "start_time": "2022-10-21T15:55:23.718Z"
   },
   {
    "duration": 19,
    "start_time": "2022-10-21T15:55:26.340Z"
   },
   {
    "duration": 231,
    "start_time": "2022-10-21T15:55:28.747Z"
   },
   {
    "duration": 23,
    "start_time": "2022-10-21T15:55:31.881Z"
   },
   {
    "duration": 14,
    "start_time": "2022-10-21T15:55:34.306Z"
   },
   {
    "duration": 129,
    "start_time": "2022-10-21T15:55:36.708Z"
   },
   {
    "duration": 23,
    "start_time": "2022-10-21T15:55:39.478Z"
   },
   {
    "duration": 20,
    "start_time": "2022-10-21T15:55:42.452Z"
   },
   {
    "duration": 292,
    "start_time": "2022-10-21T15:55:46.117Z"
   },
   {
    "duration": 3,
    "start_time": "2022-10-21T15:55:49.643Z"
   },
   {
    "duration": 9,
    "start_time": "2022-10-21T15:55:52.599Z"
   },
   {
    "duration": 6,
    "start_time": "2022-10-21T15:55:55.825Z"
   },
   {
    "duration": 6,
    "start_time": "2022-10-21T15:56:01.205Z"
   },
   {
    "duration": 10,
    "start_time": "2022-10-21T15:56:03.866Z"
   },
   {
    "duration": 9,
    "start_time": "2022-10-21T15:56:05.140Z"
   },
   {
    "duration": 8,
    "start_time": "2022-10-21T15:56:06.602Z"
   },
   {
    "duration": 6,
    "start_time": "2022-10-21T15:56:09.299Z"
   },
   {
    "duration": 13,
    "start_time": "2022-10-21T15:56:10.909Z"
   },
   {
    "duration": 10,
    "start_time": "2022-10-21T15:56:13.028Z"
   },
   {
    "duration": 145,
    "start_time": "2022-10-21T15:56:14.229Z"
   },
   {
    "duration": 5,
    "start_time": "2022-10-21T15:56:16.525Z"
   },
   {
    "duration": 788,
    "start_time": "2022-10-21T15:56:17.444Z"
   },
   {
    "duration": 1433,
    "start_time": "2022-10-21T15:56:32.109Z"
   },
   {
    "duration": 2055,
    "start_time": "2022-10-21T15:56:42.377Z"
   },
   {
    "duration": 54,
    "start_time": "2022-10-21T15:57:42.268Z"
   },
   {
    "duration": 50,
    "start_time": "2022-10-21T15:57:55.242Z"
   },
   {
    "duration": 6,
    "start_time": "2022-10-21T15:58:18.091Z"
   },
   {
    "duration": 2828,
    "start_time": "2022-10-21T15:58:21.854Z"
   },
   {
    "duration": 78,
    "start_time": "2022-10-21T16:04:00.941Z"
   },
   {
    "duration": 55,
    "start_time": "2022-10-21T16:06:40.622Z"
   },
   {
    "duration": 305,
    "start_time": "2022-10-21T16:06:47.034Z"
   },
   {
    "duration": 356,
    "start_time": "2022-10-21T16:07:01.341Z"
   },
   {
    "duration": 45,
    "start_time": "2022-10-21T16:07:11.349Z"
   },
   {
    "duration": 283,
    "start_time": "2022-10-21T16:07:13.996Z"
   },
   {
    "duration": 305,
    "start_time": "2022-10-21T16:07:19.599Z"
   },
   {
    "duration": 585,
    "start_time": "2022-10-21T16:07:25.157Z"
   },
   {
    "duration": 10,
    "start_time": "2022-10-21T16:25:05.735Z"
   },
   {
    "duration": 11,
    "start_time": "2022-10-21T16:25:06.821Z"
   },
   {
    "duration": 14,
    "start_time": "2022-10-21T16:45:14.736Z"
   },
   {
    "duration": 8,
    "start_time": "2022-10-21T16:45:34.786Z"
   },
   {
    "duration": 18,
    "start_time": "2022-10-21T16:46:02.345Z"
   },
   {
    "duration": 6,
    "start_time": "2022-10-21T16:46:37.318Z"
   },
   {
    "duration": 13,
    "start_time": "2022-10-21T16:46:44.097Z"
   },
   {
    "duration": 6,
    "start_time": "2022-10-21T16:47:05.255Z"
   },
   {
    "duration": 7,
    "start_time": "2022-10-21T16:47:30.228Z"
   },
   {
    "duration": 7,
    "start_time": "2022-10-21T16:47:43.474Z"
   },
   {
    "duration": 7,
    "start_time": "2022-10-21T16:47:59.359Z"
   },
   {
    "duration": 1286,
    "start_time": "2022-10-21T16:48:36.294Z"
   },
   {
    "duration": 713,
    "start_time": "2022-10-21T16:48:37.582Z"
   },
   {
    "duration": 8,
    "start_time": "2022-10-21T16:48:38.296Z"
   },
   {
    "duration": 29,
    "start_time": "2022-10-21T16:48:38.305Z"
   },
   {
    "duration": 28,
    "start_time": "2022-10-21T16:48:38.337Z"
   },
   {
    "duration": 256,
    "start_time": "2022-10-21T16:48:38.367Z"
   },
   {
    "duration": 30,
    "start_time": "2022-10-21T16:48:38.624Z"
   },
   {
    "duration": 18,
    "start_time": "2022-10-21T16:48:38.656Z"
   },
   {
    "duration": 149,
    "start_time": "2022-10-21T16:48:38.675Z"
   },
   {
    "duration": 32,
    "start_time": "2022-10-21T16:48:38.826Z"
   },
   {
    "duration": 21,
    "start_time": "2022-10-21T16:48:38.859Z"
   },
   {
    "duration": 493,
    "start_time": "2022-10-21T16:48:38.881Z"
   },
   {
    "duration": 3,
    "start_time": "2022-10-21T16:48:39.376Z"
   },
   {
    "duration": 18,
    "start_time": "2022-10-21T16:48:39.381Z"
   },
   {
    "duration": 60,
    "start_time": "2022-10-21T16:48:39.400Z"
   },
   {
    "duration": 8,
    "start_time": "2022-10-21T16:48:39.462Z"
   },
   {
    "duration": 12,
    "start_time": "2022-10-21T16:48:39.472Z"
   },
   {
    "duration": 7,
    "start_time": "2022-10-21T16:48:39.486Z"
   },
   {
    "duration": 8,
    "start_time": "2022-10-21T16:48:39.495Z"
   },
   {
    "duration": 7,
    "start_time": "2022-10-21T16:48:39.554Z"
   },
   {
    "duration": 15,
    "start_time": "2022-10-21T16:48:39.563Z"
   },
   {
    "duration": 17,
    "start_time": "2022-10-21T16:48:39.580Z"
   },
   {
    "duration": 356,
    "start_time": "2022-10-21T16:48:39.598Z"
   },
   {
    "duration": 6,
    "start_time": "2022-10-21T16:48:39.956Z"
   },
   {
    "duration": 3477,
    "start_time": "2022-10-21T16:48:39.964Z"
   },
   {
    "duration": 295,
    "start_time": "2022-10-21T16:48:43.443Z"
   },
   {
    "duration": 15,
    "start_time": "2022-10-21T16:48:43.740Z"
   },
   {
    "duration": 9,
    "start_time": "2022-10-21T16:48:43.757Z"
   },
   {
    "duration": 564,
    "start_time": "2022-10-21T16:48:43.767Z"
   },
   {
    "duration": 37,
    "start_time": "2022-10-21T16:48:44.333Z"
   },
   {
    "duration": 6,
    "start_time": "2022-10-21T16:48:50.472Z"
   },
   {
    "duration": 46,
    "start_time": "2022-10-21T16:49:03.421Z"
   },
   {
    "duration": 69,
    "start_time": "2022-10-21T16:49:05.786Z"
   },
   {
    "duration": 8,
    "start_time": "2022-10-21T16:49:10.317Z"
   },
   {
    "duration": 7,
    "start_time": "2022-10-21T16:49:12.945Z"
   },
   {
    "duration": 121,
    "start_time": "2022-10-21T16:49:59.869Z"
   },
   {
    "duration": 5,
    "start_time": "2022-10-21T16:52:27.593Z"
   },
   {
    "duration": 257,
    "start_time": "2022-10-21T16:52:52.282Z"
   },
   {
    "duration": 41,
    "start_time": "2022-10-21T16:55:38.015Z"
   },
   {
    "duration": 149,
    "start_time": "2022-10-21T16:55:44.212Z"
   },
   {
    "duration": 9,
    "start_time": "2022-10-21T16:55:59.192Z"
   },
   {
    "duration": 742,
    "start_time": "2022-10-21T16:56:26.695Z"
   },
   {
    "duration": 18,
    "start_time": "2022-10-21T16:58:10.021Z"
   },
   {
    "duration": 562,
    "start_time": "2022-10-21T16:59:27.892Z"
   },
   {
    "duration": 267,
    "start_time": "2022-10-21T17:02:10.929Z"
   },
   {
    "duration": 4,
    "start_time": "2022-10-21T17:06:04.098Z"
   },
   {
    "duration": 4,
    "start_time": "2022-10-21T17:06:32.196Z"
   },
   {
    "duration": 4,
    "start_time": "2022-10-21T17:06:39.711Z"
   },
   {
    "duration": 4,
    "start_time": "2022-10-21T17:06:59.777Z"
   },
   {
    "duration": 5,
    "start_time": "2022-10-21T17:07:04.920Z"
   },
   {
    "duration": 4,
    "start_time": "2022-10-21T17:07:18.237Z"
   },
   {
    "duration": 13,
    "start_time": "2022-10-21T17:07:36.020Z"
   },
   {
    "duration": 12,
    "start_time": "2022-10-21T17:08:29.077Z"
   },
   {
    "duration": 279,
    "start_time": "2022-10-21T17:09:22.944Z"
   },
   {
    "duration": 273,
    "start_time": "2022-10-21T17:09:37.613Z"
   },
   {
    "duration": 268,
    "start_time": "2022-10-21T17:09:53.026Z"
   },
   {
    "duration": 679,
    "start_time": "2022-10-21T17:11:19.253Z"
   },
   {
    "duration": 47,
    "start_time": "2022-10-21T17:16:48.314Z"
   },
   {
    "duration": 47,
    "start_time": "2022-10-21T17:16:55.401Z"
   },
   {
    "duration": 16,
    "start_time": "2022-10-21T17:17:03.665Z"
   },
   {
    "duration": 22,
    "start_time": "2022-10-21T17:17:26.731Z"
   },
   {
    "duration": 1506,
    "start_time": "2022-10-21T17:17:38.636Z"
   },
   {
    "duration": 1678,
    "start_time": "2022-10-21T17:18:01.363Z"
   },
   {
    "duration": 1888,
    "start_time": "2022-10-21T17:18:12.321Z"
   },
   {
    "duration": 1613,
    "start_time": "2022-10-21T17:18:23.386Z"
   },
   {
    "duration": 1584,
    "start_time": "2022-10-21T17:19:43.865Z"
   },
   {
    "duration": 1694,
    "start_time": "2022-10-21T17:20:06.670Z"
   },
   {
    "duration": 52,
    "start_time": "2022-10-21T17:21:40.672Z"
   },
   {
    "duration": 69,
    "start_time": "2022-10-21T17:21:44.892Z"
   },
   {
    "duration": 44,
    "start_time": "2022-10-21T17:21:55.060Z"
   },
   {
    "duration": 44,
    "start_time": "2022-10-21T17:22:29.406Z"
   },
   {
    "duration": 54,
    "start_time": "2022-10-21T17:22:38.565Z"
   },
   {
    "duration": 3406,
    "start_time": "2022-10-21T17:22:43.762Z"
   },
   {
    "duration": 22,
    "start_time": "2022-10-21T17:22:58.078Z"
   },
   {
    "duration": 3436,
    "start_time": "2022-10-21T17:23:01.823Z"
   },
   {
    "duration": 1487,
    "start_time": "2022-10-21T20:21:20.455Z"
   },
   {
    "duration": 3936,
    "start_time": "2022-10-21T20:21:21.945Z"
   },
   {
    "duration": 7,
    "start_time": "2022-10-21T20:21:25.883Z"
   },
   {
    "duration": 23,
    "start_time": "2022-10-21T20:21:25.892Z"
   },
   {
    "duration": 21,
    "start_time": "2022-10-21T20:21:25.917Z"
   },
   {
    "duration": 300,
    "start_time": "2022-10-21T20:21:25.940Z"
   },
   {
    "duration": 29,
    "start_time": "2022-10-21T20:21:26.246Z"
   },
   {
    "duration": 20,
    "start_time": "2022-10-21T20:21:26.277Z"
   },
   {
    "duration": 149,
    "start_time": "2022-10-21T20:21:26.300Z"
   },
   {
    "duration": 27,
    "start_time": "2022-10-21T20:21:26.452Z"
   },
   {
    "duration": 19,
    "start_time": "2022-10-21T20:21:26.482Z"
   },
   {
    "duration": 294,
    "start_time": "2022-10-21T20:21:26.502Z"
   },
   {
    "duration": 2,
    "start_time": "2022-10-21T20:21:26.798Z"
   },
   {
    "duration": 23,
    "start_time": "2022-10-21T20:21:26.802Z"
   },
   {
    "duration": 11,
    "start_time": "2022-10-21T20:21:26.826Z"
   },
   {
    "duration": 8,
    "start_time": "2022-10-21T20:21:26.839Z"
   },
   {
    "duration": 14,
    "start_time": "2022-10-21T20:21:26.848Z"
   },
   {
    "duration": 8,
    "start_time": "2022-10-21T20:21:26.863Z"
   },
   {
    "duration": 7,
    "start_time": "2022-10-21T20:21:26.872Z"
   },
   {
    "duration": 5,
    "start_time": "2022-10-21T20:21:26.881Z"
   },
   {
    "duration": 46,
    "start_time": "2022-10-21T20:21:26.888Z"
   },
   {
    "duration": 9,
    "start_time": "2022-10-21T20:21:26.936Z"
   },
   {
    "duration": 168,
    "start_time": "2022-10-21T20:21:26.947Z"
   },
   {
    "duration": 16,
    "start_time": "2022-10-21T20:21:27.117Z"
   },
   {
    "duration": 2549,
    "start_time": "2022-10-21T20:21:27.134Z"
   },
   {
    "duration": 255,
    "start_time": "2022-10-21T20:21:29.685Z"
   },
   {
    "duration": 9,
    "start_time": "2022-10-21T20:21:29.942Z"
   },
   {
    "duration": 7,
    "start_time": "2022-10-21T20:21:29.954Z"
   },
   {
    "duration": 506,
    "start_time": "2022-10-21T20:21:29.963Z"
   },
   {
    "duration": 239,
    "start_time": "2022-10-21T20:21:30.471Z"
   },
   {
    "duration": 2942,
    "start_time": "2022-10-21T20:21:30.712Z"
   },
   {
    "duration": 597,
    "start_time": "2022-10-21T20:22:09.120Z"
   },
   {
    "duration": 586,
    "start_time": "2022-10-21T20:22:35.646Z"
   },
   {
    "duration": 501,
    "start_time": "2022-10-21T20:22:43.701Z"
   },
   {
    "duration": 16,
    "start_time": "2022-10-21T20:23:16.041Z"
   },
   {
    "duration": 114,
    "start_time": "2022-10-21T20:24:17.142Z"
   },
   {
    "duration": 70,
    "start_time": "2022-10-21T20:24:27.631Z"
   },
   {
    "duration": 556,
    "start_time": "2022-10-21T20:24:32.853Z"
   },
   {
    "duration": 530,
    "start_time": "2022-10-21T20:25:22.980Z"
   },
   {
    "duration": 15,
    "start_time": "2022-10-21T20:26:08.027Z"
   },
   {
    "duration": 88,
    "start_time": "2022-10-21T20:33:13.344Z"
   },
   {
    "duration": 1544,
    "start_time": "2022-10-21T20:33:18.990Z"
   },
   {
    "duration": 479,
    "start_time": "2022-10-21T20:33:37.991Z"
   },
   {
    "duration": 250,
    "start_time": "2022-10-21T20:33:56.647Z"
   },
   {
    "duration": 381,
    "start_time": "2022-10-21T20:34:05.933Z"
   },
   {
    "duration": 910,
    "start_time": "2022-10-21T20:34:26.278Z"
   },
   {
    "duration": 597,
    "start_time": "2022-10-21T20:34:52.877Z"
   },
   {
    "duration": 2128,
    "start_time": "2022-10-21T21:27:35.414Z"
   },
   {
    "duration": 1840,
    "start_time": "2022-10-21T21:28:18.312Z"
   },
   {
    "duration": 76,
    "start_time": "2022-10-21T21:28:30.659Z"
   },
   {
    "duration": 2155,
    "start_time": "2022-10-21T21:28:36.021Z"
   },
   {
    "duration": 603,
    "start_time": "2022-10-21T21:29:12.826Z"
   },
   {
    "duration": 1895,
    "start_time": "2022-10-21T21:29:20.526Z"
   },
   {
    "duration": 1846,
    "start_time": "2022-10-21T21:29:37.844Z"
   },
   {
    "duration": 738,
    "start_time": "2022-10-21T21:31:08.492Z"
   },
   {
    "duration": 3483,
    "start_time": "2022-10-21T21:31:21.895Z"
   },
   {
    "duration": 5417,
    "start_time": "2022-10-21T21:31:36.709Z"
   },
   {
    "duration": 2393,
    "start_time": "2022-10-21T21:31:48.514Z"
   },
   {
    "duration": 1101,
    "start_time": "2022-10-21T21:31:55.271Z"
   },
   {
    "duration": 945,
    "start_time": "2022-10-21T21:33:59.056Z"
   },
   {
    "duration": 294,
    "start_time": "2022-10-21T21:34:45.509Z"
   },
   {
    "duration": 4045,
    "start_time": "2022-10-21T21:35:47.732Z"
   },
   {
    "duration": 957,
    "start_time": "2022-10-21T21:35:58.937Z"
   },
   {
    "duration": 325,
    "start_time": "2022-10-21T21:36:25.199Z"
   },
   {
    "duration": 370,
    "start_time": "2022-10-21T21:37:16.011Z"
   },
   {
    "duration": 269,
    "start_time": "2022-10-21T21:37:25.593Z"
   },
   {
    "duration": 288,
    "start_time": "2022-10-21T21:39:01.518Z"
   },
   {
    "duration": 309,
    "start_time": "2022-10-21T21:43:21.005Z"
   },
   {
    "duration": 325,
    "start_time": "2022-10-21T21:46:17.644Z"
   },
   {
    "duration": 300,
    "start_time": "2022-10-21T21:46:31.259Z"
   },
   {
    "duration": 284,
    "start_time": "2022-10-21T21:47:18.155Z"
   },
   {
    "duration": 330,
    "start_time": "2022-10-21T21:47:30.853Z"
   },
   {
    "duration": 913,
    "start_time": "2022-10-21T21:47:48.903Z"
   },
   {
    "duration": 311,
    "start_time": "2022-10-21T21:48:41.406Z"
   },
   {
    "duration": 282,
    "start_time": "2022-10-21T21:50:55.334Z"
   },
   {
    "duration": 518,
    "start_time": "2022-10-21T21:52:26.949Z"
   },
   {
    "duration": 314,
    "start_time": "2022-10-21T21:52:55.669Z"
   },
   {
    "duration": 467,
    "start_time": "2022-10-21T21:55:19.900Z"
   },
   {
    "duration": 606,
    "start_time": "2022-10-21T21:55:31.630Z"
   },
   {
    "duration": 1090,
    "start_time": "2022-10-21T21:56:10.933Z"
   },
   {
    "duration": 126,
    "start_time": "2022-10-21T22:12:20.793Z"
   },
   {
    "duration": 65,
    "start_time": "2022-10-21T22:12:28.659Z"
   },
   {
    "duration": 3,
    "start_time": "2022-10-21T22:28:21.471Z"
   },
   {
    "duration": 3,
    "start_time": "2022-10-21T22:29:04.009Z"
   },
   {
    "duration": 43,
    "start_time": "2022-10-21T22:31:11.110Z"
   },
   {
    "duration": 4,
    "start_time": "2022-10-21T22:31:18.878Z"
   },
   {
    "duration": 22,
    "start_time": "2022-10-21T22:50:04.482Z"
   },
   {
    "duration": 4,
    "start_time": "2022-10-21T22:50:06.053Z"
   },
   {
    "duration": 39,
    "start_time": "2022-10-21T22:53:24.296Z"
   },
   {
    "duration": 3,
    "start_time": "2022-10-21T22:53:50.681Z"
   },
   {
    "duration": 3,
    "start_time": "2022-10-21T22:54:44.172Z"
   },
   {
    "duration": 8148,
    "start_time": "2022-10-21T22:55:22.185Z"
   },
   {
    "duration": 27462,
    "start_time": "2022-10-21T22:55:37.262Z"
   },
   {
    "duration": 823735,
    "start_time": "2022-10-21T22:58:49.440Z"
   },
   {
    "duration": 3384,
    "start_time": "2022-10-21T23:13:09.694Z"
   },
   {
    "duration": 11,
    "start_time": "2022-10-21T23:14:11.533Z"
   },
   {
    "duration": 2503,
    "start_time": "2022-10-21T23:14:23.327Z"
   },
   {
    "duration": 35409,
    "start_time": "2022-10-21T23:14:32.435Z"
   },
   {
    "duration": 16,
    "start_time": "2022-10-21T23:20:33.737Z"
   },
   {
    "duration": 3,
    "start_time": "2022-10-21T23:21:10.701Z"
   },
   {
    "duration": 27,
    "start_time": "2022-10-21T23:23:24.426Z"
   },
   {
    "duration": 3,
    "start_time": "2022-10-21T23:24:05.446Z"
   },
   {
    "duration": 12778,
    "start_time": "2022-10-21T23:24:58.957Z"
   },
   {
    "duration": 26920,
    "start_time": "2022-10-21T23:25:51.521Z"
   },
   {
    "duration": 159048,
    "start_time": "2022-10-21T23:27:30.481Z"
   },
   {
    "duration": 25918,
    "start_time": "2022-10-21T23:31:27.666Z"
   },
   {
    "duration": 25987,
    "start_time": "2022-10-21T23:33:50.482Z"
   },
   {
    "duration": 1434,
    "start_time": "2022-10-22T13:52:42.291Z"
   },
   {
    "duration": 3683,
    "start_time": "2022-10-22T13:52:46.263Z"
   },
   {
    "duration": 8,
    "start_time": "2022-10-22T13:52:49.948Z"
   },
   {
    "duration": 4,
    "start_time": "2022-10-22T13:53:14.223Z"
   },
   {
    "duration": 650,
    "start_time": "2022-10-22T13:53:14.230Z"
   },
   {
    "duration": 6,
    "start_time": "2022-10-22T13:53:14.881Z"
   },
   {
    "duration": 31,
    "start_time": "2022-10-22T13:53:14.888Z"
   },
   {
    "duration": 15,
    "start_time": "2022-10-22T13:53:14.921Z"
   },
   {
    "duration": 213,
    "start_time": "2022-10-22T13:53:14.937Z"
   },
   {
    "duration": 17,
    "start_time": "2022-10-22T13:53:15.151Z"
   },
   {
    "duration": 13,
    "start_time": "2022-10-22T13:53:15.169Z"
   },
   {
    "duration": 121,
    "start_time": "2022-10-22T13:53:15.184Z"
   },
   {
    "duration": 17,
    "start_time": "2022-10-22T13:53:15.306Z"
   },
   {
    "duration": 16,
    "start_time": "2022-10-22T13:53:15.325Z"
   },
   {
    "duration": 233,
    "start_time": "2022-10-22T13:53:15.342Z"
   },
   {
    "duration": 3,
    "start_time": "2022-10-22T13:53:15.576Z"
   },
   {
    "duration": 10,
    "start_time": "2022-10-22T13:53:15.580Z"
   },
   {
    "duration": 16,
    "start_time": "2022-10-22T13:53:15.591Z"
   },
   {
    "duration": 7,
    "start_time": "2022-10-22T13:53:15.608Z"
   },
   {
    "duration": 10,
    "start_time": "2022-10-22T13:53:15.616Z"
   },
   {
    "duration": 7,
    "start_time": "2022-10-22T13:53:15.628Z"
   },
   {
    "duration": 6,
    "start_time": "2022-10-22T13:53:15.636Z"
   },
   {
    "duration": 5,
    "start_time": "2022-10-22T13:53:15.643Z"
   },
   {
    "duration": 28,
    "start_time": "2022-10-22T13:53:15.650Z"
   },
   {
    "duration": 26,
    "start_time": "2022-10-22T13:53:15.680Z"
   },
   {
    "duration": 135,
    "start_time": "2022-10-22T13:53:15.708Z"
   },
   {
    "duration": 5,
    "start_time": "2022-10-22T13:53:15.846Z"
   },
   {
    "duration": 2409,
    "start_time": "2022-10-22T13:53:15.853Z"
   },
   {
    "duration": 243,
    "start_time": "2022-10-22T13:53:18.264Z"
   },
   {
    "duration": 9,
    "start_time": "2022-10-22T13:53:18.509Z"
   },
   {
    "duration": 8,
    "start_time": "2022-10-22T13:53:18.520Z"
   },
   {
    "duration": 642,
    "start_time": "2022-10-22T13:53:18.529Z"
   },
   {
    "duration": 3,
    "start_time": "2022-10-22T13:53:19.172Z"
   },
   {
    "duration": 9,
    "start_time": "2022-10-22T13:53:19.176Z"
   },
   {
    "duration": 45,
    "start_time": "2022-10-22T13:53:19.186Z"
   },
   {
    "duration": 11,
    "start_time": "2022-10-22T13:53:19.232Z"
   },
   {
    "duration": 38,
    "start_time": "2022-10-22T13:53:19.245Z"
   },
   {
    "duration": 11,
    "start_time": "2022-10-22T13:53:19.285Z"
   },
   {
    "duration": 7,
    "start_time": "2022-10-22T13:53:19.297Z"
   },
   {
    "duration": 6,
    "start_time": "2022-10-22T13:53:19.305Z"
   },
   {
    "duration": 38,
    "start_time": "2022-10-22T13:53:19.313Z"
   },
   {
    "duration": 19,
    "start_time": "2022-10-22T13:53:19.352Z"
   },
   {
    "duration": 3,
    "start_time": "2022-10-22T13:53:19.373Z"
   },
   {
    "duration": 6,
    "start_time": "2022-10-22T13:53:19.378Z"
   },
   {
    "duration": 3,
    "start_time": "2022-10-22T13:53:19.406Z"
   },
   {
    "duration": 25502,
    "start_time": "2022-10-22T13:53:19.411Z"
   },
   {
    "duration": 12821,
    "start_time": "2022-10-22T13:53:48.587Z"
   },
   {
    "duration": 86880,
    "start_time": "2022-10-22T13:54:58.182Z"
   },
   {
    "duration": 3,
    "start_time": "2022-10-22T13:58:07.914Z"
   },
   {
    "duration": 114865,
    "start_time": "2022-10-22T13:58:21.708Z"
   },
   {
    "duration": 116132,
    "start_time": "2022-10-22T14:03:20.742Z"
   },
   {
    "duration": 3,
    "start_time": "2022-10-22T14:07:49.452Z"
   },
   {
    "duration": 4,
    "start_time": "2022-10-22T14:08:30.424Z"
   },
   {
    "duration": 3,
    "start_time": "2022-10-22T14:08:41.344Z"
   },
   {
    "duration": 45,
    "start_time": "2022-10-22T14:10:03.285Z"
   },
   {
    "duration": 12826,
    "start_time": "2022-10-22T14:10:14.986Z"
   },
   {
    "duration": 3,
    "start_time": "2022-10-22T14:14:56.240Z"
   },
   {
    "duration": 3,
    "start_time": "2022-10-22T14:15:04.983Z"
   },
   {
    "duration": 12545,
    "start_time": "2022-10-22T14:15:10.660Z"
   },
   {
    "duration": 10313,
    "start_time": "2022-10-22T14:16:04.303Z"
   },
   {
    "duration": 3,
    "start_time": "2022-10-22T14:17:34.384Z"
   },
   {
    "duration": 3,
    "start_time": "2022-10-22T14:17:38.333Z"
   },
   {
    "duration": 3794,
    "start_time": "2022-10-22T14:17:42.032Z"
   },
   {
    "duration": 11948,
    "start_time": "2022-10-22T14:17:47.559Z"
   },
   {
    "duration": 3,
    "start_time": "2022-10-22T14:19:16.620Z"
   },
   {
    "duration": 4,
    "start_time": "2022-10-22T14:19:20.717Z"
   },
   {
    "duration": 2,
    "start_time": "2022-10-22T14:19:31.865Z"
   },
   {
    "duration": 13051,
    "start_time": "2022-10-22T14:19:40.656Z"
   },
   {
    "duration": 115361,
    "start_time": "2022-10-22T14:20:13.639Z"
   },
   {
    "duration": 3,
    "start_time": "2022-10-22T14:22:38.780Z"
   },
   {
    "duration": 3,
    "start_time": "2022-10-22T14:22:43.668Z"
   },
   {
    "duration": 12815,
    "start_time": "2022-10-22T14:22:47.790Z"
   },
   {
    "duration": 4,
    "start_time": "2022-10-22T14:24:48.700Z"
   },
   {
    "duration": 3860,
    "start_time": "2022-10-22T14:24:52.451Z"
   },
   {
    "duration": 5,
    "start_time": "2022-10-22T14:25:09.741Z"
   },
   {
    "duration": 3,
    "start_time": "2022-10-22T14:25:16.089Z"
   },
   {
    "duration": 11969,
    "start_time": "2022-10-22T14:25:27.840Z"
   },
   {
    "duration": 892864,
    "start_time": "2022-10-22T14:28:40.085Z"
   },
   {
    "duration": 163,
    "start_time": "2022-10-22T15:00:32.162Z"
   },
   {
    "duration": 191,
    "start_time": "2022-10-22T15:00:53.704Z"
   },
   {
    "duration": 137,
    "start_time": "2022-10-22T15:01:14.142Z"
   },
   {
    "duration": 11930,
    "start_time": "2022-10-22T15:03:15.305Z"
   },
   {
    "duration": 70661,
    "start_time": "2022-10-22T15:04:22.910Z"
   },
   {
    "duration": 3,
    "start_time": "2022-10-22T17:07:48.306Z"
   },
   {
    "duration": 587,
    "start_time": "2022-10-22T17:07:48.310Z"
   },
   {
    "duration": 10,
    "start_time": "2022-10-22T17:07:48.899Z"
   },
   {
    "duration": 18,
    "start_time": "2022-10-22T17:07:48.911Z"
   },
   {
    "duration": 13,
    "start_time": "2022-10-22T17:07:48.931Z"
   },
   {
    "duration": 236,
    "start_time": "2022-10-22T17:07:48.946Z"
   },
   {
    "duration": 17,
    "start_time": "2022-10-22T17:07:49.183Z"
   },
   {
    "duration": 13,
    "start_time": "2022-10-22T17:07:49.205Z"
   },
   {
    "duration": 115,
    "start_time": "2022-10-22T17:07:49.219Z"
   },
   {
    "duration": 18,
    "start_time": "2022-10-22T17:07:49.335Z"
   },
   {
    "duration": 16,
    "start_time": "2022-10-22T17:07:49.355Z"
   },
   {
    "duration": 242,
    "start_time": "2022-10-22T17:07:49.372Z"
   },
   {
    "duration": 2,
    "start_time": "2022-10-22T17:07:49.616Z"
   },
   {
    "duration": 10,
    "start_time": "2022-10-22T17:07:49.620Z"
   },
   {
    "duration": 4,
    "start_time": "2022-10-22T17:07:49.632Z"
   },
   {
    "duration": 5,
    "start_time": "2022-10-22T17:07:49.638Z"
   },
   {
    "duration": 22,
    "start_time": "2022-10-22T17:07:49.644Z"
   },
   {
    "duration": 7,
    "start_time": "2022-10-22T17:07:49.668Z"
   },
   {
    "duration": 28,
    "start_time": "2022-10-22T17:07:49.677Z"
   },
   {
    "duration": 5,
    "start_time": "2022-10-22T17:07:49.707Z"
   },
   {
    "duration": 15,
    "start_time": "2022-10-22T17:07:49.713Z"
   },
   {
    "duration": 8,
    "start_time": "2022-10-22T17:07:49.729Z"
   },
   {
    "duration": 139,
    "start_time": "2022-10-22T17:07:49.739Z"
   },
   {
    "duration": 5,
    "start_time": "2022-10-22T17:07:49.879Z"
   },
   {
    "duration": 2302,
    "start_time": "2022-10-22T17:07:49.886Z"
   },
   {
    "duration": 241,
    "start_time": "2022-10-22T17:07:52.189Z"
   },
   {
    "duration": 7,
    "start_time": "2022-10-22T17:07:52.432Z"
   },
   {
    "duration": 6,
    "start_time": "2022-10-22T17:07:52.440Z"
   },
   {
    "duration": 728,
    "start_time": "2022-10-22T17:07:52.448Z"
   },
   {
    "duration": 4,
    "start_time": "2022-10-22T17:07:53.177Z"
   },
   {
    "duration": 5,
    "start_time": "2022-10-22T17:07:53.182Z"
   },
   {
    "duration": 47,
    "start_time": "2022-10-22T17:07:53.188Z"
   },
   {
    "duration": 3,
    "start_time": "2022-10-22T17:07:53.238Z"
   },
   {
    "duration": 22,
    "start_time": "2022-10-22T17:07:53.243Z"
   },
   {
    "duration": 9,
    "start_time": "2022-10-22T17:07:53.266Z"
   },
   {
    "duration": 9,
    "start_time": "2022-10-22T17:07:53.277Z"
   },
   {
    "duration": 7,
    "start_time": "2022-10-22T17:07:53.305Z"
   },
   {
    "duration": 37,
    "start_time": "2022-10-22T17:07:53.313Z"
   },
   {
    "duration": 19,
    "start_time": "2022-10-22T17:07:53.352Z"
   },
   {
    "duration": 3,
    "start_time": "2022-10-22T17:07:53.373Z"
   },
   {
    "duration": 8,
    "start_time": "2022-10-22T17:09:32.447Z"
   },
   {
    "duration": 19,
    "start_time": "2022-10-22T17:11:07.154Z"
   },
   {
    "duration": 8,
    "start_time": "2022-10-22T17:11:35.972Z"
   },
   {
    "duration": 6,
    "start_time": "2022-10-22T17:11:41.294Z"
   },
   {
    "duration": 2,
    "start_time": "2022-10-22T17:12:48.386Z"
   },
   {
    "duration": 4,
    "start_time": "2022-10-22T17:12:52.672Z"
   },
   {
    "duration": 313,
    "start_time": "2022-10-22T17:13:09.441Z"
   },
   {
    "duration": 2,
    "start_time": "2022-10-22T17:20:02.806Z"
   },
   {
    "duration": 21,
    "start_time": "2022-10-22T17:20:52.204Z"
   },
   {
    "duration": 33,
    "start_time": "2022-10-22T17:21:06.724Z"
   },
   {
    "duration": 11325,
    "start_time": "2022-10-22T17:22:03.488Z"
   },
   {
    "duration": 14407,
    "start_time": "2022-10-22T17:22:23.405Z"
   },
   {
    "duration": 216,
    "start_time": "2022-10-22T17:23:30.942Z"
   },
   {
    "duration": 21345,
    "start_time": "2022-10-22T17:24:00.934Z"
   },
   {
    "duration": 101467,
    "start_time": "2022-10-22T17:24:45.481Z"
   },
   {
    "duration": 104849,
    "start_time": "2022-10-22T17:26:55.568Z"
   },
   {
    "duration": 130,
    "start_time": "2022-10-22T17:35:17.970Z"
   },
   {
    "duration": 7745,
    "start_time": "2022-10-22T17:35:47.436Z"
   },
   {
    "duration": 269636,
    "start_time": "2022-10-22T17:36:25.840Z"
   },
   {
    "duration": 129626,
    "start_time": "2022-10-22T17:43:56.461Z"
   },
   {
    "duration": 4313,
    "start_time": "2022-10-22T17:53:24.371Z"
   },
   {
    "duration": 24691,
    "start_time": "2022-10-22T17:53:53.448Z"
   },
   {
    "duration": 24522,
    "start_time": "2022-10-22T17:55:14.839Z"
   },
   {
    "duration": 9,
    "start_time": "2022-10-22T18:09:02.934Z"
   },
   {
    "duration": 4,
    "start_time": "2022-10-22T18:09:23.299Z"
   },
   {
    "duration": 8,
    "start_time": "2022-10-22T18:09:27.150Z"
   },
   {
    "duration": 91,
    "start_time": "2022-10-22T18:10:27.803Z"
   },
   {
    "duration": 99,
    "start_time": "2022-10-22T18:12:57.678Z"
   },
   {
    "duration": 1498,
    "start_time": "2022-10-23T13:13:44.446Z"
   },
   {
    "duration": 3584,
    "start_time": "2022-10-23T13:13:45.946Z"
   },
   {
    "duration": 8,
    "start_time": "2022-10-23T13:13:49.532Z"
   },
   {
    "duration": 23,
    "start_time": "2022-10-23T13:13:49.542Z"
   },
   {
    "duration": 18,
    "start_time": "2022-10-23T13:13:49.566Z"
   },
   {
    "duration": 244,
    "start_time": "2022-10-23T13:13:49.586Z"
   },
   {
    "duration": 19,
    "start_time": "2022-10-23T13:13:49.832Z"
   },
   {
    "duration": 13,
    "start_time": "2022-10-23T13:13:49.853Z"
   },
   {
    "duration": 138,
    "start_time": "2022-10-23T13:13:49.868Z"
   },
   {
    "duration": 25,
    "start_time": "2022-10-23T13:13:50.009Z"
   },
   {
    "duration": 18,
    "start_time": "2022-10-23T13:13:50.036Z"
   },
   {
    "duration": 258,
    "start_time": "2022-10-23T13:13:50.056Z"
   },
   {
    "duration": 3,
    "start_time": "2022-10-23T13:13:50.316Z"
   },
   {
    "duration": 8,
    "start_time": "2022-10-23T13:13:50.328Z"
   },
   {
    "duration": 5,
    "start_time": "2022-10-23T13:13:50.337Z"
   },
   {
    "duration": 5,
    "start_time": "2022-10-23T13:13:50.343Z"
   },
   {
    "duration": 9,
    "start_time": "2022-10-23T13:13:50.350Z"
   },
   {
    "duration": 7,
    "start_time": "2022-10-23T13:13:50.361Z"
   },
   {
    "duration": 8,
    "start_time": "2022-10-23T13:13:50.369Z"
   },
   {
    "duration": 7,
    "start_time": "2022-10-23T13:13:50.378Z"
   },
   {
    "duration": 12,
    "start_time": "2022-10-23T13:13:50.432Z"
   },
   {
    "duration": 8,
    "start_time": "2022-10-23T13:13:50.446Z"
   },
   {
    "duration": 152,
    "start_time": "2022-10-23T13:13:50.456Z"
   },
   {
    "duration": 5,
    "start_time": "2022-10-23T13:13:50.609Z"
   },
   {
    "duration": 2602,
    "start_time": "2022-10-23T13:13:50.628Z"
   },
   {
    "duration": 277,
    "start_time": "2022-10-23T13:13:53.232Z"
   },
   {
    "duration": 18,
    "start_time": "2022-10-23T13:13:53.511Z"
   },
   {
    "duration": 19,
    "start_time": "2022-10-23T14:26:02.482Z"
   },
   {
    "duration": 119,
    "start_time": "2022-10-23T14:26:14.358Z"
   },
   {
    "duration": 43,
    "start_time": "2022-10-23T14:26:37.017Z"
   },
   {
    "duration": 16,
    "start_time": "2022-10-23T14:27:36.639Z"
   },
   {
    "duration": 17,
    "start_time": "2022-10-23T14:27:59.280Z"
   },
   {
    "duration": 3,
    "start_time": "2022-10-23T14:28:56.023Z"
   },
   {
    "duration": 745,
    "start_time": "2022-10-23T14:28:56.028Z"
   },
   {
    "duration": 6,
    "start_time": "2022-10-23T14:28:56.774Z"
   },
   {
    "duration": 20,
    "start_time": "2022-10-23T14:28:56.782Z"
   },
   {
    "duration": 31,
    "start_time": "2022-10-23T14:28:56.804Z"
   },
   {
    "duration": 230,
    "start_time": "2022-10-23T14:28:56.836Z"
   },
   {
    "duration": 20,
    "start_time": "2022-10-23T14:28:57.068Z"
   },
   {
    "duration": 24,
    "start_time": "2022-10-23T14:28:57.089Z"
   },
   {
    "duration": 125,
    "start_time": "2022-10-23T14:28:57.115Z"
   },
   {
    "duration": 19,
    "start_time": "2022-10-23T14:28:57.241Z"
   },
   {
    "duration": 17,
    "start_time": "2022-10-23T14:28:57.261Z"
   },
   {
    "duration": 246,
    "start_time": "2022-10-23T14:28:57.280Z"
   },
   {
    "duration": 3,
    "start_time": "2022-10-23T14:28:57.527Z"
   },
   {
    "duration": 9,
    "start_time": "2022-10-23T14:28:57.532Z"
   },
   {
    "duration": 4,
    "start_time": "2022-10-23T14:28:57.543Z"
   },
   {
    "duration": 5,
    "start_time": "2022-10-23T14:28:57.548Z"
   },
   {
    "duration": 9,
    "start_time": "2022-10-23T14:28:57.554Z"
   },
   {
    "duration": 8,
    "start_time": "2022-10-23T14:28:57.565Z"
   },
   {
    "duration": 6,
    "start_time": "2022-10-23T14:28:57.574Z"
   },
   {
    "duration": 48,
    "start_time": "2022-10-23T14:28:57.581Z"
   },
   {
    "duration": 10,
    "start_time": "2022-10-23T14:28:57.631Z"
   },
   {
    "duration": 8,
    "start_time": "2022-10-23T14:28:57.643Z"
   },
   {
    "duration": 151,
    "start_time": "2022-10-23T14:28:57.653Z"
   },
   {
    "duration": 5,
    "start_time": "2022-10-23T14:28:57.807Z"
   },
   {
    "duration": 2593,
    "start_time": "2022-10-23T14:28:57.813Z"
   },
   {
    "duration": 267,
    "start_time": "2022-10-23T14:29:00.408Z"
   },
   {
    "duration": 8,
    "start_time": "2022-10-23T14:29:00.677Z"
   },
   {
    "duration": 20,
    "start_time": "2022-10-23T14:29:00.686Z"
   },
   {
    "duration": 640,
    "start_time": "2022-10-23T14:29:00.707Z"
   },
   {
    "duration": 58,
    "start_time": "2022-10-23T14:30:27.627Z"
   },
   {
    "duration": 93,
    "start_time": "2022-10-23T14:31:06.424Z"
   },
   {
    "duration": 270,
    "start_time": "2022-10-23T14:32:44.563Z"
   },
   {
    "duration": 379,
    "start_time": "2022-10-23T14:32:58.038Z"
   },
   {
    "duration": 49,
    "start_time": "2022-10-23T14:34:08.320Z"
   },
   {
    "duration": 18,
    "start_time": "2022-10-23T14:34:10.016Z"
   },
   {
    "duration": 17,
    "start_time": "2022-10-23T14:34:14.409Z"
   },
   {
    "duration": 2333,
    "start_time": "2022-10-23T14:37:04.837Z"
   },
   {
    "duration": 3378,
    "start_time": "2022-10-23T14:37:29.723Z"
   },
   {
    "duration": 836,
    "start_time": "2022-10-23T14:37:45.131Z"
   },
   {
    "duration": 632,
    "start_time": "2022-10-23T14:38:01.597Z"
   },
   {
    "duration": 3,
    "start_time": "2022-10-23T14:38:02.230Z"
   },
   {
    "duration": 24,
    "start_time": "2022-10-23T14:38:02.235Z"
   },
   {
    "duration": 54,
    "start_time": "2022-10-23T14:38:02.261Z"
   },
   {
    "duration": 16,
    "start_time": "2022-10-23T14:38:02.317Z"
   },
   {
    "duration": 57,
    "start_time": "2022-10-23T14:38:02.335Z"
   },
   {
    "duration": 5,
    "start_time": "2022-10-23T14:38:02.393Z"
   },
   {
    "duration": 22,
    "start_time": "2022-10-23T14:38:02.400Z"
   },
   {
    "duration": 19,
    "start_time": "2022-10-23T14:38:02.423Z"
   },
   {
    "duration": 235,
    "start_time": "2022-10-23T14:38:02.444Z"
   },
   {
    "duration": 338,
    "start_time": "2022-10-23T14:38:02.710Z"
   },
   {
    "duration": 77,
    "start_time": "2022-10-23T14:38:03.050Z"
   },
   {
    "duration": 182,
    "start_time": "2022-10-23T14:38:03.129Z"
   },
   {
    "duration": 77,
    "start_time": "2022-10-23T14:38:03.312Z"
   },
   {
    "duration": 1448,
    "start_time": "2022-10-23T14:38:03.390Z"
   },
   {
    "duration": 92,
    "start_time": "2022-10-23T14:38:04.840Z"
   },
   {
    "duration": 14,
    "start_time": "2022-10-23T14:38:04.934Z"
   },
   {
    "duration": 353,
    "start_time": "2022-10-23T14:39:09.131Z"
   },
   {
    "duration": 3,
    "start_time": "2022-10-23T14:40:53.804Z"
   },
   {
    "duration": 6,
    "start_time": "2022-10-23T14:53:40.625Z"
   },
   {
    "duration": 7,
    "start_time": "2022-10-23T14:53:50.097Z"
   },
   {
    "duration": 6,
    "start_time": "2022-10-23T14:54:23.333Z"
   },
   {
    "duration": 7,
    "start_time": "2022-10-23T14:58:03.879Z"
   },
   {
    "duration": 11,
    "start_time": "2022-10-23T14:58:36.798Z"
   },
   {
    "duration": 7,
    "start_time": "2022-10-23T14:59:01.341Z"
   },
   {
    "duration": 4,
    "start_time": "2022-10-23T14:59:47.552Z"
   },
   {
    "duration": 729,
    "start_time": "2022-10-23T14:59:47.558Z"
   },
   {
    "duration": 6,
    "start_time": "2022-10-23T14:59:48.289Z"
   },
   {
    "duration": 34,
    "start_time": "2022-10-23T14:59:48.296Z"
   },
   {
    "duration": 36,
    "start_time": "2022-10-23T14:59:48.332Z"
   },
   {
    "duration": 324,
    "start_time": "2022-10-23T14:59:48.370Z"
   },
   {
    "duration": 18,
    "start_time": "2022-10-23T14:59:48.695Z"
   },
   {
    "duration": 25,
    "start_time": "2022-10-23T14:59:48.714Z"
   },
   {
    "duration": 122,
    "start_time": "2022-10-23T14:59:48.741Z"
   },
   {
    "duration": 18,
    "start_time": "2022-10-23T14:59:48.865Z"
   },
   {
    "duration": 35,
    "start_time": "2022-10-23T14:59:48.884Z"
   },
   {
    "duration": 231,
    "start_time": "2022-10-23T14:59:48.920Z"
   },
   {
    "duration": 3,
    "start_time": "2022-10-23T14:59:49.153Z"
   },
   {
    "duration": 30,
    "start_time": "2022-10-23T14:59:49.158Z"
   },
   {
    "duration": 18,
    "start_time": "2022-10-23T14:59:49.190Z"
   },
   {
    "duration": 19,
    "start_time": "2022-10-23T14:59:49.210Z"
   },
   {
    "duration": 29,
    "start_time": "2022-10-23T14:59:49.231Z"
   },
   {
    "duration": 18,
    "start_time": "2022-10-23T14:59:49.261Z"
   },
   {
    "duration": 15,
    "start_time": "2022-10-23T14:59:49.281Z"
   },
   {
    "duration": 13,
    "start_time": "2022-10-23T14:59:49.298Z"
   },
   {
    "duration": 28,
    "start_time": "2022-10-23T14:59:49.313Z"
   },
   {
    "duration": 13,
    "start_time": "2022-10-23T14:59:49.342Z"
   },
   {
    "duration": 148,
    "start_time": "2022-10-23T14:59:49.357Z"
   },
   {
    "duration": 6,
    "start_time": "2022-10-23T14:59:49.507Z"
   },
   {
    "duration": 2430,
    "start_time": "2022-10-23T14:59:49.514Z"
   },
   {
    "duration": 273,
    "start_time": "2022-10-23T14:59:51.946Z"
   },
   {
    "duration": 14,
    "start_time": "2022-10-23T14:59:52.221Z"
   },
   {
    "duration": 29,
    "start_time": "2022-10-23T14:59:52.236Z"
   },
   {
    "duration": 837,
    "start_time": "2022-10-23T14:59:52.267Z"
   },
   {
    "duration": 373,
    "start_time": "2022-10-23T14:59:53.106Z"
   },
   {
    "duration": 19,
    "start_time": "2022-10-23T14:59:53.481Z"
   },
   {
    "duration": 29,
    "start_time": "2022-10-23T14:59:53.502Z"
   },
   {
    "duration": 32,
    "start_time": "2022-10-23T14:59:53.533Z"
   },
   {
    "duration": 747,
    "start_time": "2022-10-23T14:59:53.567Z"
   },
   {
    "duration": 18,
    "start_time": "2022-10-23T14:59:54.315Z"
   },
   {
    "duration": 18,
    "start_time": "2022-10-23T14:59:54.335Z"
   },
   {
    "duration": 12,
    "start_time": "2022-10-23T14:59:54.356Z"
   },
   {
    "duration": 3,
    "start_time": "2022-10-23T14:59:56.639Z"
   },
   {
    "duration": 40,
    "start_time": "2022-10-23T15:01:10.329Z"
   },
   {
    "duration": 15,
    "start_time": "2022-10-23T15:01:28.647Z"
   },
   {
    "duration": 38,
    "start_time": "2022-10-23T15:03:11.562Z"
   },
   {
    "duration": 3,
    "start_time": "2022-10-23T15:03:42.524Z"
   },
   {
    "duration": 663,
    "start_time": "2022-10-23T15:03:42.530Z"
   },
   {
    "duration": 7,
    "start_time": "2022-10-23T15:03:43.194Z"
   },
   {
    "duration": 32,
    "start_time": "2022-10-23T15:03:43.202Z"
   },
   {
    "duration": 33,
    "start_time": "2022-10-23T15:03:43.236Z"
   },
   {
    "duration": 218,
    "start_time": "2022-10-23T15:03:43.271Z"
   },
   {
    "duration": 50,
    "start_time": "2022-10-23T15:03:43.491Z"
   },
   {
    "duration": 15,
    "start_time": "2022-10-23T15:03:43.542Z"
   },
   {
    "duration": 129,
    "start_time": "2022-10-23T15:03:43.559Z"
   },
   {
    "duration": 18,
    "start_time": "2022-10-23T15:03:43.690Z"
   },
   {
    "duration": 20,
    "start_time": "2022-10-23T15:03:43.709Z"
   },
   {
    "duration": 245,
    "start_time": "2022-10-23T15:03:43.731Z"
   },
   {
    "duration": 3,
    "start_time": "2022-10-23T15:03:43.978Z"
   },
   {
    "duration": 51,
    "start_time": "2022-10-23T15:03:43.983Z"
   },
   {
    "duration": 5,
    "start_time": "2022-10-23T15:03:44.036Z"
   },
   {
    "duration": 5,
    "start_time": "2022-10-23T15:03:44.042Z"
   },
   {
    "duration": 10,
    "start_time": "2022-10-23T15:03:44.049Z"
   },
   {
    "duration": 8,
    "start_time": "2022-10-23T15:03:44.060Z"
   },
   {
    "duration": 6,
    "start_time": "2022-10-23T15:03:44.069Z"
   },
   {
    "duration": 5,
    "start_time": "2022-10-23T15:03:44.076Z"
   },
   {
    "duration": 34,
    "start_time": "2022-10-23T15:03:44.082Z"
   },
   {
    "duration": 18,
    "start_time": "2022-10-23T15:03:44.118Z"
   },
   {
    "duration": 239,
    "start_time": "2022-10-23T15:03:44.137Z"
   },
   {
    "duration": 5,
    "start_time": "2022-10-23T15:03:44.378Z"
   },
   {
    "duration": 2445,
    "start_time": "2022-10-23T15:03:44.384Z"
   },
   {
    "duration": 272,
    "start_time": "2022-10-23T15:03:46.831Z"
   },
   {
    "duration": 8,
    "start_time": "2022-10-23T15:03:47.105Z"
   },
   {
    "duration": 25,
    "start_time": "2022-10-23T15:03:47.115Z"
   },
   {
    "duration": 770,
    "start_time": "2022-10-23T15:03:47.142Z"
   },
   {
    "duration": 342,
    "start_time": "2022-10-23T15:03:47.914Z"
   },
   {
    "duration": 18,
    "start_time": "2022-10-23T15:03:48.258Z"
   },
   {
    "duration": 16,
    "start_time": "2022-10-23T15:03:48.278Z"
   },
   {
    "duration": 38,
    "start_time": "2022-10-23T15:03:48.296Z"
   },
   {
    "duration": 781,
    "start_time": "2022-10-23T15:03:48.336Z"
   },
   {
    "duration": 18,
    "start_time": "2022-10-23T15:03:49.119Z"
   },
   {
    "duration": 7,
    "start_time": "2022-10-23T15:03:49.139Z"
   },
   {
    "duration": 2,
    "start_time": "2022-10-23T15:03:49.148Z"
   },
   {
    "duration": 6,
    "start_time": "2022-10-23T15:03:49.152Z"
   },
   {
    "duration": 35,
    "start_time": "2022-10-23T15:03:49.161Z"
   },
   {
    "duration": 14,
    "start_time": "2022-10-23T15:04:03.549Z"
   },
   {
    "duration": 21,
    "start_time": "2022-10-23T15:04:22.153Z"
   },
   {
    "duration": 4,
    "start_time": "2022-10-23T15:04:28.509Z"
   },
   {
    "duration": 3,
    "start_time": "2022-10-23T15:04:31.347Z"
   },
   {
    "duration": 3,
    "start_time": "2022-10-23T15:04:32.652Z"
   },
   {
    "duration": 7,
    "start_time": "2022-10-23T15:04:35.565Z"
   },
   {
    "duration": 6,
    "start_time": "2022-10-23T15:04:36.699Z"
   },
   {
    "duration": 14716,
    "start_time": "2022-10-23T15:04:40.217Z"
   },
   {
    "duration": 29575,
    "start_time": "2022-10-23T15:05:11.155Z"
   },
   {
    "duration": 1045718,
    "start_time": "2022-10-23T15:07:21.548Z"
   },
   {
    "duration": 142962,
    "start_time": "2022-10-23T15:38:27.934Z"
   },
   {
    "duration": 34172,
    "start_time": "2022-10-23T15:46:07.131Z"
   },
   {
    "duration": 10,
    "start_time": "2022-10-23T15:47:30.553Z"
   }
  ],
  "kernelspec": {
   "display_name": "Python 3",
   "language": "python",
   "name": "python3"
  },
  "language_info": {
   "codemirror_mode": {
    "name": "ipython",
    "version": 3
   },
   "file_extension": ".py",
   "mimetype": "text/x-python",
   "name": "python",
   "nbconvert_exporter": "python",
   "pygments_lexer": "ipython3",
   "version": "3.8.8"
  },
  "toc": {
   "base_numbering": 1,
   "nav_menu": {
    "height": "170px",
    "width": "349px"
   },
   "number_sections": true,
   "sideBar": true,
   "skip_h1_title": false,
   "title_cell": "Table of Contents",
   "title_sidebar": "Contents",
   "toc_cell": false,
   "toc_position": {
    "height": "calc(100% - 180px)",
    "left": "10px",
    "top": "150px",
    "width": "188.011px"
   },
   "toc_section_display": true,
   "toc_window_display": true
  }
 },
 "nbformat": 4,
 "nbformat_minor": 5
}
