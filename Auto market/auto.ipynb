{
 "cells": [
  {
   "cell_type": "markdown",
   "id": "bac74953",
   "metadata": {},
   "source": [
    "# Project Description"
   ]
  },
  {
   "cell_type": "markdown",
   "id": "763f21c2",
   "metadata": {},
   "source": [
    "<b> Determining the cost of cars </b>\n",
    "\n",
    "<b> Study description: </b>\n",
    "Building a model that determines the cost of a car based on historical data.\n",
    "\n",
    "<b>Research purpose:</b>\n",
    "It is necessary to find the optimal algorithm with the best cost prediction quality, training time, and prediction time.\n",
    "\n",
    "<b>Research objectives:</b>\n",
    "1. <a href = '#data'>Parse</a> input data,\n",
    "2. <a href = '#prepare'> Prepare</a> data,\n",
    "3. Get rid of <a href='#abnormal'>abnormal</a> values,\n",
    "4. Prepare <a href='#model'>models</a>,\n",
    "5. <a href='#test'>Test</a> models on the RMSE metric,\n",
    "\n",
    "<b> Initial data: </b>\n",
    "\n",
    "Signs:\n",
    "- DateCrawled - date of downloading the profile from the database\n",
    "- VehicleType - type of car body\n",
    "- RegistrationYear — year of car registration\n",
    "- Gearbox - type of gearbox\n",
    "- Power - power (hp)\n",
    "- Model - car model\n",
    "- Kilometer - mileage (km)\n",
    "- RegistrationMonth — month of car registration\n",
    "- FuelType — type of fuel\n",
    "- Brand - car brand\n",
    "- Repaired - was the car under repair or not\n",
    "- DateCreated — date of creation of the questionnaire\n",
    "- NumberOfPictures - the number of photos of the car\n",
    "- PostalCode - postal code of the owner of the profile (user)\n",
    "- LastSeen - date of last user activity\n",
    "\n",
    "Target feature:\n",
    "- Price - price (EUR)"
   ]
  },
  {
   "cell_type": "markdown",
   "id": "eb93776b",
   "metadata": {},
   "source": [
    "\n",
    "# Data Preparation"
   ]
  },
  {
   "cell_type": "markdown",
   "id": "379cd657",
   "metadata": {},
   "source": [
    "<a id = 'data'></a>\n",
    "## Data"
   ]
  },
  {
   "cell_type": "code",
   "execution_count": 1,
   "id": "1e5e64ee",
   "metadata": {},
   "outputs": [],
   "source": [
    "import pandas as pd\n",
    "import seaborn as sns\n",
    "import matplotlib.pyplot as plt\n",
    "import time\n",
    "import warnings\n",
    "warnings.filterwarnings('ignore')\n",
    "\n",
    "from lightgbm import LGBMRegressor\n",
    "from sklearn.linear_model import LinearRegression\n",
    "from sklearn.ensemble import RandomForestRegressor\n",
    "from sklearn.preprocessing import StandardScaler, LabelEncoder\n",
    "from sklearn.model_selection import train_test_split, GridSearchCV\n",
    "from sklearn.metrics import mean_squared_error\n",
    "from sklearn.preprocessing import OneHotEncoder, OrdinalEncoder\n",
    "from sklearn.compose import make_column_transformer, ColumnTransformer\n",
    "from sklearn.tree import DecisionTreeRegressor"
   ]
  },
  {
   "cell_type": "code",
   "execution_count": 2,
   "id": "c4cf1329",
   "metadata": {},
   "outputs": [],
   "source": [
    "data = pd.read_csv('/datasets/autos.csv')"
   ]
  },
  {
   "cell_type": "code",
   "execution_count": 3,
   "id": "7b182d78",
   "metadata": {},
   "outputs": [
    {
     "data": {
      "text/html": [
       "<div>\n",
       "<style scoped>\n",
       "    .dataframe tbody tr th:only-of-type {\n",
       "        vertical-align: middle;\n",
       "    }\n",
       "\n",
       "    .dataframe tbody tr th {\n",
       "        vertical-align: top;\n",
       "    }\n",
       "\n",
       "    .dataframe thead th {\n",
       "        text-align: right;\n",
       "    }\n",
       "</style>\n",
       "<table border=\"1\" class=\"dataframe\">\n",
       "  <thead>\n",
       "    <tr style=\"text-align: right;\">\n",
       "      <th></th>\n",
       "      <th>DateCrawled</th>\n",
       "      <th>Price</th>\n",
       "      <th>VehicleType</th>\n",
       "      <th>RegistrationYear</th>\n",
       "      <th>Gearbox</th>\n",
       "      <th>Power</th>\n",
       "      <th>Model</th>\n",
       "      <th>Kilometer</th>\n",
       "      <th>RegistrationMonth</th>\n",
       "      <th>FuelType</th>\n",
       "      <th>Brand</th>\n",
       "      <th>Repaired</th>\n",
       "      <th>DateCreated</th>\n",
       "      <th>NumberOfPictures</th>\n",
       "      <th>PostalCode</th>\n",
       "      <th>LastSeen</th>\n",
       "    </tr>\n",
       "  </thead>\n",
       "  <tbody>\n",
       "    <tr>\n",
       "      <th>0</th>\n",
       "      <td>2016-03-24 11:52:17</td>\n",
       "      <td>480</td>\n",
       "      <td>NaN</td>\n",
       "      <td>1993</td>\n",
       "      <td>manual</td>\n",
       "      <td>0</td>\n",
       "      <td>golf</td>\n",
       "      <td>150000</td>\n",
       "      <td>0</td>\n",
       "      <td>petrol</td>\n",
       "      <td>volkswagen</td>\n",
       "      <td>NaN</td>\n",
       "      <td>2016-03-24 00:00:00</td>\n",
       "      <td>0</td>\n",
       "      <td>70435</td>\n",
       "      <td>2016-04-07 03:16:57</td>\n",
       "    </tr>\n",
       "    <tr>\n",
       "      <th>1</th>\n",
       "      <td>2016-03-24 10:58:45</td>\n",
       "      <td>18300</td>\n",
       "      <td>coupe</td>\n",
       "      <td>2011</td>\n",
       "      <td>manual</td>\n",
       "      <td>190</td>\n",
       "      <td>NaN</td>\n",
       "      <td>125000</td>\n",
       "      <td>5</td>\n",
       "      <td>gasoline</td>\n",
       "      <td>audi</td>\n",
       "      <td>yes</td>\n",
       "      <td>2016-03-24 00:00:00</td>\n",
       "      <td>0</td>\n",
       "      <td>66954</td>\n",
       "      <td>2016-04-07 01:46:50</td>\n",
       "    </tr>\n",
       "    <tr>\n",
       "      <th>2</th>\n",
       "      <td>2016-03-14 12:52:21</td>\n",
       "      <td>9800</td>\n",
       "      <td>suv</td>\n",
       "      <td>2004</td>\n",
       "      <td>auto</td>\n",
       "      <td>163</td>\n",
       "      <td>grand</td>\n",
       "      <td>125000</td>\n",
       "      <td>8</td>\n",
       "      <td>gasoline</td>\n",
       "      <td>jeep</td>\n",
       "      <td>NaN</td>\n",
       "      <td>2016-03-14 00:00:00</td>\n",
       "      <td>0</td>\n",
       "      <td>90480</td>\n",
       "      <td>2016-04-05 12:47:46</td>\n",
       "    </tr>\n",
       "    <tr>\n",
       "      <th>3</th>\n",
       "      <td>2016-03-17 16:54:04</td>\n",
       "      <td>1500</td>\n",
       "      <td>small</td>\n",
       "      <td>2001</td>\n",
       "      <td>manual</td>\n",
       "      <td>75</td>\n",
       "      <td>golf</td>\n",
       "      <td>150000</td>\n",
       "      <td>6</td>\n",
       "      <td>petrol</td>\n",
       "      <td>volkswagen</td>\n",
       "      <td>no</td>\n",
       "      <td>2016-03-17 00:00:00</td>\n",
       "      <td>0</td>\n",
       "      <td>91074</td>\n",
       "      <td>2016-03-17 17:40:17</td>\n",
       "    </tr>\n",
       "    <tr>\n",
       "      <th>4</th>\n",
       "      <td>2016-03-31 17:25:20</td>\n",
       "      <td>3600</td>\n",
       "      <td>small</td>\n",
       "      <td>2008</td>\n",
       "      <td>manual</td>\n",
       "      <td>69</td>\n",
       "      <td>fabia</td>\n",
       "      <td>90000</td>\n",
       "      <td>7</td>\n",
       "      <td>gasoline</td>\n",
       "      <td>skoda</td>\n",
       "      <td>no</td>\n",
       "      <td>2016-03-31 00:00:00</td>\n",
       "      <td>0</td>\n",
       "      <td>60437</td>\n",
       "      <td>2016-04-06 10:17:21</td>\n",
       "    </tr>\n",
       "  </tbody>\n",
       "</table>\n",
       "</div>"
      ],
      "text/plain": [
       "           DateCrawled  Price VehicleType  RegistrationYear Gearbox  Power  \\\n",
       "0  2016-03-24 11:52:17    480         NaN              1993  manual      0   \n",
       "1  2016-03-24 10:58:45  18300       coupe              2011  manual    190   \n",
       "2  2016-03-14 12:52:21   9800         suv              2004    auto    163   \n",
       "3  2016-03-17 16:54:04   1500       small              2001  manual     75   \n",
       "4  2016-03-31 17:25:20   3600       small              2008  manual     69   \n",
       "\n",
       "   Model  Kilometer  RegistrationMonth  FuelType       Brand Repaired  \\\n",
       "0   golf     150000                  0    petrol  volkswagen      NaN   \n",
       "1    NaN     125000                  5  gasoline        audi      yes   \n",
       "2  grand     125000                  8  gasoline        jeep      NaN   \n",
       "3   golf     150000                  6    petrol  volkswagen       no   \n",
       "4  fabia      90000                  7  gasoline       skoda       no   \n",
       "\n",
       "           DateCreated  NumberOfPictures  PostalCode             LastSeen  \n",
       "0  2016-03-24 00:00:00                 0       70435  2016-04-07 03:16:57  \n",
       "1  2016-03-24 00:00:00                 0       66954  2016-04-07 01:46:50  \n",
       "2  2016-03-14 00:00:00                 0       90480  2016-04-05 12:47:46  \n",
       "3  2016-03-17 00:00:00                 0       91074  2016-03-17 17:40:17  \n",
       "4  2016-03-31 00:00:00                 0       60437  2016-04-06 10:17:21  "
      ]
     },
     "execution_count": 3,
     "metadata": {},
     "output_type": "execute_result"
    }
   ],
   "source": [
    "data.head()"
   ]
  },
  {
   "cell_type": "code",
   "execution_count": 4,
   "id": "e708bd10",
   "metadata": {},
   "outputs": [
    {
     "name": "stdout",
     "output_type": "stream",
     "text": [
      "<class 'pandas.core.frame.DataFrame'>\n",
      "RangeIndex: 354369 entries, 0 to 354368\n",
      "Data columns (total 16 columns):\n",
      " #   Column             Non-Null Count   Dtype \n",
      "---  ------             --------------   ----- \n",
      " 0   DateCrawled        354369 non-null  object\n",
      " 1   Price              354369 non-null  int64 \n",
      " 2   VehicleType        316879 non-null  object\n",
      " 3   RegistrationYear   354369 non-null  int64 \n",
      " 4   Gearbox            334536 non-null  object\n",
      " 5   Power              354369 non-null  int64 \n",
      " 6   Model              334664 non-null  object\n",
      " 7   Kilometer          354369 non-null  int64 \n",
      " 8   RegistrationMonth  354369 non-null  int64 \n",
      " 9   FuelType           321474 non-null  object\n",
      " 10  Brand              354369 non-null  object\n",
      " 11  Repaired           283215 non-null  object\n",
      " 12  DateCreated        354369 non-null  object\n",
      " 13  NumberOfPictures   354369 non-null  int64 \n",
      " 14  PostalCode         354369 non-null  int64 \n",
      " 15  LastSeen           354369 non-null  object\n",
      "dtypes: int64(7), object(9)\n",
      "memory usage: 43.3+ MB\n"
     ]
    }
   ],
   "source": [
    "data.info()"
   ]
  },
  {
   "cell_type": "code",
   "execution_count": 5,
   "id": "2a888006",
   "metadata": {},
   "outputs": [
    {
     "data": {
      "text/html": [
       "<div>\n",
       "<style scoped>\n",
       "    .dataframe tbody tr th:only-of-type {\n",
       "        vertical-align: middle;\n",
       "    }\n",
       "\n",
       "    .dataframe tbody tr th {\n",
       "        vertical-align: top;\n",
       "    }\n",
       "\n",
       "    .dataframe thead th {\n",
       "        text-align: right;\n",
       "    }\n",
       "</style>\n",
       "<table border=\"1\" class=\"dataframe\">\n",
       "  <thead>\n",
       "    <tr style=\"text-align: right;\">\n",
       "      <th></th>\n",
       "      <th>DateCrawled</th>\n",
       "      <th>Price</th>\n",
       "      <th>VehicleType</th>\n",
       "      <th>RegistrationYear</th>\n",
       "      <th>Gearbox</th>\n",
       "      <th>Power</th>\n",
       "      <th>Model</th>\n",
       "      <th>Kilometer</th>\n",
       "      <th>RegistrationMonth</th>\n",
       "      <th>FuelType</th>\n",
       "      <th>Brand</th>\n",
       "      <th>Repaired</th>\n",
       "      <th>DateCreated</th>\n",
       "      <th>NumberOfPictures</th>\n",
       "      <th>PostalCode</th>\n",
       "      <th>LastSeen</th>\n",
       "    </tr>\n",
       "  </thead>\n",
       "  <tbody>\n",
       "    <tr>\n",
       "      <th>count</th>\n",
       "      <td>354369</td>\n",
       "      <td>354369.000000</td>\n",
       "      <td>316879</td>\n",
       "      <td>354369.000000</td>\n",
       "      <td>334536</td>\n",
       "      <td>354369.000000</td>\n",
       "      <td>334664</td>\n",
       "      <td>354369.000000</td>\n",
       "      <td>354369.000000</td>\n",
       "      <td>321474</td>\n",
       "      <td>354369</td>\n",
       "      <td>283215</td>\n",
       "      <td>354369</td>\n",
       "      <td>354369.0</td>\n",
       "      <td>354369.000000</td>\n",
       "      <td>354369</td>\n",
       "    </tr>\n",
       "    <tr>\n",
       "      <th>unique</th>\n",
       "      <td>271174</td>\n",
       "      <td>NaN</td>\n",
       "      <td>8</td>\n",
       "      <td>NaN</td>\n",
       "      <td>2</td>\n",
       "      <td>NaN</td>\n",
       "      <td>250</td>\n",
       "      <td>NaN</td>\n",
       "      <td>NaN</td>\n",
       "      <td>7</td>\n",
       "      <td>40</td>\n",
       "      <td>2</td>\n",
       "      <td>109</td>\n",
       "      <td>NaN</td>\n",
       "      <td>NaN</td>\n",
       "      <td>179150</td>\n",
       "    </tr>\n",
       "    <tr>\n",
       "      <th>top</th>\n",
       "      <td>2016-03-24 14:49:47</td>\n",
       "      <td>NaN</td>\n",
       "      <td>sedan</td>\n",
       "      <td>NaN</td>\n",
       "      <td>manual</td>\n",
       "      <td>NaN</td>\n",
       "      <td>golf</td>\n",
       "      <td>NaN</td>\n",
       "      <td>NaN</td>\n",
       "      <td>petrol</td>\n",
       "      <td>volkswagen</td>\n",
       "      <td>no</td>\n",
       "      <td>2016-04-03 00:00:00</td>\n",
       "      <td>NaN</td>\n",
       "      <td>NaN</td>\n",
       "      <td>2016-04-06 13:45:54</td>\n",
       "    </tr>\n",
       "    <tr>\n",
       "      <th>freq</th>\n",
       "      <td>7</td>\n",
       "      <td>NaN</td>\n",
       "      <td>91457</td>\n",
       "      <td>NaN</td>\n",
       "      <td>268251</td>\n",
       "      <td>NaN</td>\n",
       "      <td>29232</td>\n",
       "      <td>NaN</td>\n",
       "      <td>NaN</td>\n",
       "      <td>216352</td>\n",
       "      <td>77013</td>\n",
       "      <td>247161</td>\n",
       "      <td>13719</td>\n",
       "      <td>NaN</td>\n",
       "      <td>NaN</td>\n",
       "      <td>17</td>\n",
       "    </tr>\n",
       "    <tr>\n",
       "      <th>mean</th>\n",
       "      <td>NaN</td>\n",
       "      <td>4416.656776</td>\n",
       "      <td>NaN</td>\n",
       "      <td>2004.234448</td>\n",
       "      <td>NaN</td>\n",
       "      <td>110.094337</td>\n",
       "      <td>NaN</td>\n",
       "      <td>128211.172535</td>\n",
       "      <td>5.714645</td>\n",
       "      <td>NaN</td>\n",
       "      <td>NaN</td>\n",
       "      <td>NaN</td>\n",
       "      <td>NaN</td>\n",
       "      <td>0.0</td>\n",
       "      <td>50508.689087</td>\n",
       "      <td>NaN</td>\n",
       "    </tr>\n",
       "    <tr>\n",
       "      <th>std</th>\n",
       "      <td>NaN</td>\n",
       "      <td>4514.158514</td>\n",
       "      <td>NaN</td>\n",
       "      <td>90.227958</td>\n",
       "      <td>NaN</td>\n",
       "      <td>189.850405</td>\n",
       "      <td>NaN</td>\n",
       "      <td>37905.341530</td>\n",
       "      <td>3.726421</td>\n",
       "      <td>NaN</td>\n",
       "      <td>NaN</td>\n",
       "      <td>NaN</td>\n",
       "      <td>NaN</td>\n",
       "      <td>0.0</td>\n",
       "      <td>25783.096248</td>\n",
       "      <td>NaN</td>\n",
       "    </tr>\n",
       "    <tr>\n",
       "      <th>min</th>\n",
       "      <td>NaN</td>\n",
       "      <td>0.000000</td>\n",
       "      <td>NaN</td>\n",
       "      <td>1000.000000</td>\n",
       "      <td>NaN</td>\n",
       "      <td>0.000000</td>\n",
       "      <td>NaN</td>\n",
       "      <td>5000.000000</td>\n",
       "      <td>0.000000</td>\n",
       "      <td>NaN</td>\n",
       "      <td>NaN</td>\n",
       "      <td>NaN</td>\n",
       "      <td>NaN</td>\n",
       "      <td>0.0</td>\n",
       "      <td>1067.000000</td>\n",
       "      <td>NaN</td>\n",
       "    </tr>\n",
       "    <tr>\n",
       "      <th>25%</th>\n",
       "      <td>NaN</td>\n",
       "      <td>1050.000000</td>\n",
       "      <td>NaN</td>\n",
       "      <td>1999.000000</td>\n",
       "      <td>NaN</td>\n",
       "      <td>69.000000</td>\n",
       "      <td>NaN</td>\n",
       "      <td>125000.000000</td>\n",
       "      <td>3.000000</td>\n",
       "      <td>NaN</td>\n",
       "      <td>NaN</td>\n",
       "      <td>NaN</td>\n",
       "      <td>NaN</td>\n",
       "      <td>0.0</td>\n",
       "      <td>30165.000000</td>\n",
       "      <td>NaN</td>\n",
       "    </tr>\n",
       "    <tr>\n",
       "      <th>50%</th>\n",
       "      <td>NaN</td>\n",
       "      <td>2700.000000</td>\n",
       "      <td>NaN</td>\n",
       "      <td>2003.000000</td>\n",
       "      <td>NaN</td>\n",
       "      <td>105.000000</td>\n",
       "      <td>NaN</td>\n",
       "      <td>150000.000000</td>\n",
       "      <td>6.000000</td>\n",
       "      <td>NaN</td>\n",
       "      <td>NaN</td>\n",
       "      <td>NaN</td>\n",
       "      <td>NaN</td>\n",
       "      <td>0.0</td>\n",
       "      <td>49413.000000</td>\n",
       "      <td>NaN</td>\n",
       "    </tr>\n",
       "    <tr>\n",
       "      <th>75%</th>\n",
       "      <td>NaN</td>\n",
       "      <td>6400.000000</td>\n",
       "      <td>NaN</td>\n",
       "      <td>2008.000000</td>\n",
       "      <td>NaN</td>\n",
       "      <td>143.000000</td>\n",
       "      <td>NaN</td>\n",
       "      <td>150000.000000</td>\n",
       "      <td>9.000000</td>\n",
       "      <td>NaN</td>\n",
       "      <td>NaN</td>\n",
       "      <td>NaN</td>\n",
       "      <td>NaN</td>\n",
       "      <td>0.0</td>\n",
       "      <td>71083.000000</td>\n",
       "      <td>NaN</td>\n",
       "    </tr>\n",
       "    <tr>\n",
       "      <th>max</th>\n",
       "      <td>NaN</td>\n",
       "      <td>20000.000000</td>\n",
       "      <td>NaN</td>\n",
       "      <td>9999.000000</td>\n",
       "      <td>NaN</td>\n",
       "      <td>20000.000000</td>\n",
       "      <td>NaN</td>\n",
       "      <td>150000.000000</td>\n",
       "      <td>12.000000</td>\n",
       "      <td>NaN</td>\n",
       "      <td>NaN</td>\n",
       "      <td>NaN</td>\n",
       "      <td>NaN</td>\n",
       "      <td>0.0</td>\n",
       "      <td>99998.000000</td>\n",
       "      <td>NaN</td>\n",
       "    </tr>\n",
       "  </tbody>\n",
       "</table>\n",
       "</div>"
      ],
      "text/plain": [
       "                DateCrawled          Price VehicleType  RegistrationYear  \\\n",
       "count                354369  354369.000000      316879     354369.000000   \n",
       "unique               271174            NaN           8               NaN   \n",
       "top     2016-03-24 14:49:47            NaN       sedan               NaN   \n",
       "freq                      7            NaN       91457               NaN   \n",
       "mean                    NaN    4416.656776         NaN       2004.234448   \n",
       "std                     NaN    4514.158514         NaN         90.227958   \n",
       "min                     NaN       0.000000         NaN       1000.000000   \n",
       "25%                     NaN    1050.000000         NaN       1999.000000   \n",
       "50%                     NaN    2700.000000         NaN       2003.000000   \n",
       "75%                     NaN    6400.000000         NaN       2008.000000   \n",
       "max                     NaN   20000.000000         NaN       9999.000000   \n",
       "\n",
       "       Gearbox          Power   Model      Kilometer  RegistrationMonth  \\\n",
       "count   334536  354369.000000  334664  354369.000000      354369.000000   \n",
       "unique       2            NaN     250            NaN                NaN   \n",
       "top     manual            NaN    golf            NaN                NaN   \n",
       "freq    268251            NaN   29232            NaN                NaN   \n",
       "mean       NaN     110.094337     NaN  128211.172535           5.714645   \n",
       "std        NaN     189.850405     NaN   37905.341530           3.726421   \n",
       "min        NaN       0.000000     NaN    5000.000000           0.000000   \n",
       "25%        NaN      69.000000     NaN  125000.000000           3.000000   \n",
       "50%        NaN     105.000000     NaN  150000.000000           6.000000   \n",
       "75%        NaN     143.000000     NaN  150000.000000           9.000000   \n",
       "max        NaN   20000.000000     NaN  150000.000000          12.000000   \n",
       "\n",
       "       FuelType       Brand Repaired          DateCreated  NumberOfPictures  \\\n",
       "count    321474      354369   283215               354369          354369.0   \n",
       "unique        7          40        2                  109               NaN   \n",
       "top      petrol  volkswagen       no  2016-04-03 00:00:00               NaN   \n",
       "freq     216352       77013   247161                13719               NaN   \n",
       "mean        NaN         NaN      NaN                  NaN               0.0   \n",
       "std         NaN         NaN      NaN                  NaN               0.0   \n",
       "min         NaN         NaN      NaN                  NaN               0.0   \n",
       "25%         NaN         NaN      NaN                  NaN               0.0   \n",
       "50%         NaN         NaN      NaN                  NaN               0.0   \n",
       "75%         NaN         NaN      NaN                  NaN               0.0   \n",
       "max         NaN         NaN      NaN                  NaN               0.0   \n",
       "\n",
       "           PostalCode             LastSeen  \n",
       "count   354369.000000               354369  \n",
       "unique            NaN               179150  \n",
       "top               NaN  2016-04-06 13:45:54  \n",
       "freq              NaN                   17  \n",
       "mean     50508.689087                  NaN  \n",
       "std      25783.096248                  NaN  \n",
       "min       1067.000000                  NaN  \n",
       "25%      30165.000000                  NaN  \n",
       "50%      49413.000000                  NaN  \n",
       "75%      71083.000000                  NaN  \n",
       "max      99998.000000                  NaN  "
      ]
     },
     "execution_count": 5,
     "metadata": {},
     "output_type": "execute_result"
    }
   ],
   "source": [
    "data.describe(include='all')"
   ]
  },
  {
   "cell_type": "code",
   "execution_count": 6,
   "id": "859b600f",
   "metadata": {},
   "outputs": [],
   "source": [
    "#sns.pairplot(data)"
   ]
  },
  {
   "cell_type": "markdown",
   "id": "b1089a70",
   "metadata": {},
   "source": [
    "<a id = 'prepare'></a>\n",
    "## Empty values"
   ]
  },
  {
   "cell_type": "code",
   "execution_count": 7,
   "id": "61c4c8c4",
   "metadata": {},
   "outputs": [
    {
     "data": {
      "text/plain": [
       "Repaired             71154\n",
       "VehicleType          37490\n",
       "FuelType             32895\n",
       "Gearbox              19833\n",
       "Model                19705\n",
       "DateCrawled              0\n",
       "Price                    0\n",
       "RegistrationYear         0\n",
       "Power                    0\n",
       "Kilometer                0\n",
       "RegistrationMonth        0\n",
       "Brand                    0\n",
       "DateCreated              0\n",
       "NumberOfPictures         0\n",
       "PostalCode               0\n",
       "LastSeen                 0\n",
       "dtype: int64"
      ]
     },
     "execution_count": 7,
     "metadata": {},
     "output_type": "execute_result"
    }
   ],
   "source": [
    "data.isna().sum().sort_values(ascending = False)"
   ]
  },
  {
   "cell_type": "markdown",
   "id": "fbd23363",
   "metadata": {},
   "source": [
    "### Vehicle Type"
   ]
  },
  {
   "cell_type": "code",
   "execution_count": 8,
   "id": "9e00a6e4",
   "metadata": {},
   "outputs": [
    {
     "data": {
      "text/plain": [
       "array([nan, 'coupe', 'suv', 'small', 'sedan', 'convertible', 'bus',\n",
       "       'wagon', 'other'], dtype=object)"
      ]
     },
     "execution_count": 8,
     "metadata": {},
     "output_type": "execute_result"
    }
   ],
   "source": [
    "data['VehicleType'].unique()"
   ]
  },
  {
   "cell_type": "code",
   "execution_count": 9,
   "id": "a60a77c3",
   "metadata": {},
   "outputs": [
    {
     "data": {
      "text/plain": [
       "sedan          91457\n",
       "small          79831\n",
       "wagon          65166\n",
       "bus            28775\n",
       "convertible    20203\n",
       "coupe          16163\n",
       "suv            11996\n",
       "other           3288\n",
       "Name: VehicleType, dtype: int64"
      ]
     },
     "execution_count": 9,
     "metadata": {},
     "output_type": "execute_result"
    }
   ],
   "source": [
    "data['VehicleType'].value_counts()"
   ]
  },
  {
   "cell_type": "code",
   "execution_count": 10,
   "id": "6dd814fd",
   "metadata": {},
   "outputs": [
    {
     "data": {
      "text/plain": [
       "Brand\n",
       "alfa_romeo              sedan\n",
       "audi                    wagon\n",
       "bmw                     sedan\n",
       "chevrolet               small\n",
       "chrysler                  bus\n",
       "citroen                 small\n",
       "dacia                   wagon\n",
       "daewoo                  small\n",
       "daihatsu                small\n",
       "fiat                    small\n",
       "ford                    small\n",
       "honda                   sedan\n",
       "hyundai                 small\n",
       "jaguar                  sedan\n",
       "jeep                      suv\n",
       "kia                       suv\n",
       "lada                      suv\n",
       "lancia                  small\n",
       "land_rover                suv\n",
       "mazda                   sedan\n",
       "mercedes_benz           sedan\n",
       "mini                    small\n",
       "mitsubishi              sedan\n",
       "nissan                  small\n",
       "opel                    small\n",
       "peugeot                 small\n",
       "porsche           convertible\n",
       "renault                 small\n",
       "rover                   sedan\n",
       "saab                    sedan\n",
       "seat                    small\n",
       "skoda                   wagon\n",
       "smart                   small\n",
       "sonstige_autos          sedan\n",
       "subaru                  wagon\n",
       "suzuki                  small\n",
       "toyota                  small\n",
       "trabant                 sedan\n",
       "volkswagen              sedan\n",
       "volvo                   wagon\n",
       "Name: VehicleType, dtype: object"
      ]
     },
     "execution_count": 10,
     "metadata": {},
     "output_type": "execute_result"
    }
   ],
   "source": [
    "# most frequent значения \n",
    "data.groupby('Brand')['VehicleType'].agg(pd.Series.mode)"
   ]
  },
  {
   "cell_type": "markdown",
   "id": "aaba08b3",
   "metadata": {},
   "source": [
    "Let's fill in the missing values using the method of the most frequently occurring value according to the Brand attribute. For example, if the Alfa Romeo brand does not have the Vehicle type attribute, fill it in as a sedan."
   ]
  },
  {
   "cell_type": "code",
   "execution_count": 11,
   "id": "000ffbb5",
   "metadata": {},
   "outputs": [],
   "source": [
    "data['VehicleType'] = data['VehicleType'].fillna(data.groupby('Brand')['VehicleType'].transform(lambda x: x.fillna(x.mode()[0])))"
   ]
  },
  {
   "cell_type": "code",
   "execution_count": 12,
   "id": "fd86b1a7",
   "metadata": {},
   "outputs": [
    {
     "data": {
      "text/plain": [
       "0"
      ]
     },
     "execution_count": 12,
     "metadata": {},
     "output_type": "execute_result"
    }
   ],
   "source": [
    "data['VehicleType'].isna().sum()"
   ]
  },
  {
   "cell_type": "markdown",
   "id": "259a1227",
   "metadata": {},
   "source": [
    "### Repaired"
   ]
  },
  {
   "cell_type": "code",
   "execution_count": 13,
   "id": "5ef5d9ce",
   "metadata": {},
   "outputs": [
    {
     "data": {
      "text/plain": [
       "Price  Repaired\n",
       "0      no          3479\n",
       "       yes         2005\n",
       "1      no           307\n",
       "       yes          247\n",
       "2      no             4\n",
       "                   ... \n",
       "19998  no             6\n",
       "19999  no           256\n",
       "       yes            8\n",
       "20000  no           230\n",
       "       yes           10\n",
       "Name: Repaired, Length: 4463, dtype: int64"
      ]
     },
     "execution_count": 13,
     "metadata": {},
     "output_type": "execute_result"
    }
   ],
   "source": [
    "data.groupby('Price')['Repaired'].value_counts()"
   ]
  },
  {
   "cell_type": "code",
   "execution_count": 14,
   "id": "ca68adf4",
   "metadata": {},
   "outputs": [],
   "source": [
    "data['Repaired'] = data['Repaired'].fillna(data.groupby('Price')['Repaired'].transform('median'))"
   ]
  },
  {
   "cell_type": "markdown",
   "id": "a6ea2a90",
   "metadata": {},
   "source": [
    "### Fuel Type"
   ]
  },
  {
   "cell_type": "code",
   "execution_count": 15,
   "id": "37daa9a3",
   "metadata": {},
   "outputs": [
    {
     "data": {
      "text/plain": [
       "petrol      216352\n",
       "gasoline     98720\n",
       "lpg           5310\n",
       "cng            565\n",
       "hybrid         233\n",
       "other          204\n",
       "electric        90\n",
       "Name: FuelType, dtype: int64"
      ]
     },
     "execution_count": 15,
     "metadata": {},
     "output_type": "execute_result"
    }
   ],
   "source": [
    "data['FuelType'].value_counts()"
   ]
  },
  {
   "cell_type": "code",
   "execution_count": 16,
   "id": "9aa3c680",
   "metadata": {},
   "outputs": [
    {
     "data": {
      "text/plain": [
       "Model   Brand       FuelType\n",
       "100     audi        petrol       359\n",
       "                    gasoline      15\n",
       "                    lpg            8\n",
       "145     alfa_romeo  petrol        43\n",
       "                    gasoline       1\n",
       "                                ... \n",
       "zafira  opel        petrol      1387\n",
       "                    gasoline    1201\n",
       "                    cng          114\n",
       "                    lpg           84\n",
       "                    hybrid         1\n",
       "Name: FuelType, Length: 984, dtype: int64"
      ]
     },
     "execution_count": 16,
     "metadata": {},
     "output_type": "execute_result"
    }
   ],
   "source": [
    "data.groupby(['Model', 'Brand'])['FuelType'].value_counts()"
   ]
  },
  {
   "cell_type": "code",
   "execution_count": 17,
   "id": "1aaf5341",
   "metadata": {},
   "outputs": [
    {
     "data": {
      "text/plain": [
       "Brand\n",
       "alfa_romeo          petrol\n",
       "audi                petrol\n",
       "bmw                 petrol\n",
       "chevrolet           petrol\n",
       "chrysler            petrol\n",
       "citroen             petrol\n",
       "dacia               petrol\n",
       "daewoo              petrol\n",
       "daihatsu            petrol\n",
       "fiat                petrol\n",
       "ford                petrol\n",
       "honda               petrol\n",
       "hyundai             petrol\n",
       "jaguar              petrol\n",
       "jeep                petrol\n",
       "kia                 petrol\n",
       "lada                petrol\n",
       "lancia              petrol\n",
       "land_rover        gasoline\n",
       "mazda               petrol\n",
       "mercedes_benz       petrol\n",
       "mini                petrol\n",
       "mitsubishi          petrol\n",
       "nissan              petrol\n",
       "opel                petrol\n",
       "peugeot             petrol\n",
       "porsche             petrol\n",
       "renault             petrol\n",
       "rover               petrol\n",
       "saab                petrol\n",
       "seat                petrol\n",
       "skoda               petrol\n",
       "smart               petrol\n",
       "sonstige_autos      petrol\n",
       "subaru              petrol\n",
       "suzuki              petrol\n",
       "toyota              petrol\n",
       "trabant             petrol\n",
       "volkswagen          petrol\n",
       "volvo               petrol\n",
       "Name: FuelType, dtype: object"
      ]
     },
     "execution_count": 17,
     "metadata": {},
     "output_type": "execute_result"
    }
   ],
   "source": [
    "data.groupby('Brand')['FuelType'].agg(pd.Series.mode)"
   ]
  },
  {
   "cell_type": "markdown",
   "id": "296bfbf7",
   "metadata": {},
   "source": [
    "Similarly to the type of Car body, let's fill in the most frequently occurring value in accordance with the sign of the Car Brand."
   ]
  },
  {
   "cell_type": "code",
   "execution_count": 18,
   "id": "c55746cc",
   "metadata": {},
   "outputs": [],
   "source": [
    "data['FuelType'] = data['FuelType'].fillna(data.groupby('Brand')['FuelType']\\\n",
    "                                           .transform(lambda x: x.fillna(x.mode()[0])))"
   ]
  },
  {
   "cell_type": "code",
   "execution_count": 19,
   "id": "aff3156f",
   "metadata": {},
   "outputs": [
    {
     "data": {
      "text/plain": [
       "0"
      ]
     },
     "execution_count": 19,
     "metadata": {},
     "output_type": "execute_result"
    }
   ],
   "source": [
    "data['FuelType'].isna().sum()"
   ]
  },
  {
   "cell_type": "markdown",
   "id": "e9ab6e63",
   "metadata": {},
   "source": [
    "### Model"
   ]
  },
  {
   "cell_type": "code",
   "execution_count": 20,
   "id": "4d429c8e",
   "metadata": {},
   "outputs": [
    {
     "data": {
      "text/plain": [
       "Brand       Model             \n",
       "volkswagen  golf                  29232\n",
       "bmw         3er                   19761\n",
       "volkswagen  polo                  13066\n",
       "opel        corsa                 12570\n",
       "            astra                 10809\n",
       "                                  ...  \n",
       "rover       freelander                3\n",
       "land_rover  range_rover_evoque        2\n",
       "            serie_1                   2\n",
       "rover       discovery                 2\n",
       "            defender                  1\n",
       "Name: Model, Length: 297, dtype: int64"
      ]
     },
     "execution_count": 20,
     "metadata": {},
     "output_type": "execute_result"
    }
   ],
   "source": [
    "data.groupby('Brand')['Model'].value_counts().sort_values(ascending = False)"
   ]
  },
  {
   "cell_type": "markdown",
   "id": "4d5bdc64",
   "metadata": {},
   "source": [
    "Fill in the missing values in accordance with the same sign Car brand."
   ]
  },
  {
   "cell_type": "code",
   "execution_count": 21,
   "id": "ca4297fb",
   "metadata": {},
   "outputs": [],
   "source": [
    "data['Model'] = data['Model'].fillna(data.groupby('Brand')['Model']\\\n",
    "                                           .transform(lambda x: x.fillna(x.mode()[0] if not x.mode().empty else 'Unknown')))"
   ]
  },
  {
   "cell_type": "code",
   "execution_count": 22,
   "id": "b2da34bf",
   "metadata": {},
   "outputs": [
    {
     "data": {
      "text/plain": [
       "0"
      ]
     },
     "execution_count": 22,
     "metadata": {},
     "output_type": "execute_result"
    }
   ],
   "source": [
    "data['Model'].isna().sum()"
   ]
  },
  {
   "cell_type": "markdown",
   "id": "055149f2",
   "metadata": {},
   "source": [
    "#### Gearbox"
   ]
  },
  {
   "cell_type": "code",
   "execution_count": 23,
   "id": "5f2e3ce9",
   "metadata": {},
   "outputs": [
    {
     "data": {
      "text/plain": [
       "manual    268251\n",
       "auto       66285\n",
       "Name: Gearbox, dtype: int64"
      ]
     },
     "execution_count": 23,
     "metadata": {},
     "output_type": "execute_result"
    }
   ],
   "source": [
    "data['Gearbox'].value_counts()"
   ]
  },
  {
   "cell_type": "code",
   "execution_count": 24,
   "id": "9391828c",
   "metadata": {},
   "outputs": [
    {
     "data": {
      "text/plain": [
       "Model    Gearbox\n",
       "100      manual      336\n",
       "         auto         63\n",
       "145      manual       40\n",
       "147      manual      520\n",
       "         auto         29\n",
       "                    ... \n",
       "ypsilon  auto         16\n",
       "z_reihe  manual      625\n",
       "         auto         76\n",
       "zafira   manual     2573\n",
       "         auto        308\n",
       "Name: Gearbox, Length: 487, dtype: int64"
      ]
     },
     "execution_count": 24,
     "metadata": {},
     "output_type": "execute_result"
    }
   ],
   "source": [
    "data.groupby(['Model'])['Gearbox'].value_counts()"
   ]
  },
  {
   "cell_type": "code",
   "execution_count": 25,
   "id": "4bfe6d27",
   "metadata": {},
   "outputs": [],
   "source": [
    "data['Gearbox'] = data['Gearbox'].fillna(data.groupby(['Model'])['Gearbox']\\\n",
    "                                         .transform(lambda x: x.fillna(x.mode()[0] if not x.mode().empty else 'Unknown')))\n"
   ]
  },
  {
   "cell_type": "code",
   "execution_count": 26,
   "id": "79689fb6",
   "metadata": {},
   "outputs": [
    {
     "data": {
      "text/plain": [
       "0"
      ]
     },
     "execution_count": 26,
     "metadata": {},
     "output_type": "execute_result"
    }
   ],
   "source": [
    "data['Gearbox'].isna().sum()"
   ]
  },
  {
   "cell_type": "markdown",
   "id": "d4338133",
   "metadata": {},
   "source": [
    "<a id = 'abnorma'></a>\n",
    "## Data clearing"
   ]
  },
  {
   "cell_type": "markdown",
   "id": "a60d7d7c",
   "metadata": {},
   "source": [
    "### Irrelevant values"
   ]
  },
  {
   "cell_type": "markdown",
   "id": "a3010752",
   "metadata": {},
   "source": [
    "Let's get rid of signs of the date the profile was downloaded, the date the profile was created, the number of pictures, the postal code and the date of the last user activity."
   ]
  },
  {
   "cell_type": "code",
   "execution_count": 27,
   "id": "2c41543d",
   "metadata": {},
   "outputs": [],
   "source": [
    "data = data.drop(['DateCrawled', 'DateCreated', 'NumberOfPictures', 'PostalCode', 'LastSeen'], axis=1)"
   ]
  },
  {
   "cell_type": "code",
   "execution_count": 28,
   "id": "83ec4e9d",
   "metadata": {},
   "outputs": [
    {
     "data": {
      "text/html": [
       "<div>\n",
       "<style scoped>\n",
       "    .dataframe tbody tr th:only-of-type {\n",
       "        vertical-align: middle;\n",
       "    }\n",
       "\n",
       "    .dataframe tbody tr th {\n",
       "        vertical-align: top;\n",
       "    }\n",
       "\n",
       "    .dataframe thead th {\n",
       "        text-align: right;\n",
       "    }\n",
       "</style>\n",
       "<table border=\"1\" class=\"dataframe\">\n",
       "  <thead>\n",
       "    <tr style=\"text-align: right;\">\n",
       "      <th></th>\n",
       "      <th>Price</th>\n",
       "      <th>VehicleType</th>\n",
       "      <th>RegistrationYear</th>\n",
       "      <th>Gearbox</th>\n",
       "      <th>Power</th>\n",
       "      <th>Model</th>\n",
       "      <th>Kilometer</th>\n",
       "      <th>RegistrationMonth</th>\n",
       "      <th>FuelType</th>\n",
       "      <th>Brand</th>\n",
       "      <th>Repaired</th>\n",
       "    </tr>\n",
       "  </thead>\n",
       "  <tbody>\n",
       "    <tr>\n",
       "      <th>0</th>\n",
       "      <td>480</td>\n",
       "      <td>sedan</td>\n",
       "      <td>1993</td>\n",
       "      <td>manual</td>\n",
       "      <td>0</td>\n",
       "      <td>golf</td>\n",
       "      <td>150000</td>\n",
       "      <td>0</td>\n",
       "      <td>petrol</td>\n",
       "      <td>volkswagen</td>\n",
       "      <td>NaN</td>\n",
       "    </tr>\n",
       "    <tr>\n",
       "      <th>1</th>\n",
       "      <td>18300</td>\n",
       "      <td>coupe</td>\n",
       "      <td>2011</td>\n",
       "      <td>manual</td>\n",
       "      <td>190</td>\n",
       "      <td>a4</td>\n",
       "      <td>125000</td>\n",
       "      <td>5</td>\n",
       "      <td>gasoline</td>\n",
       "      <td>audi</td>\n",
       "      <td>yes</td>\n",
       "    </tr>\n",
       "    <tr>\n",
       "      <th>2</th>\n",
       "      <td>9800</td>\n",
       "      <td>suv</td>\n",
       "      <td>2004</td>\n",
       "      <td>auto</td>\n",
       "      <td>163</td>\n",
       "      <td>grand</td>\n",
       "      <td>125000</td>\n",
       "      <td>8</td>\n",
       "      <td>gasoline</td>\n",
       "      <td>jeep</td>\n",
       "      <td>NaN</td>\n",
       "    </tr>\n",
       "    <tr>\n",
       "      <th>3</th>\n",
       "      <td>1500</td>\n",
       "      <td>small</td>\n",
       "      <td>2001</td>\n",
       "      <td>manual</td>\n",
       "      <td>75</td>\n",
       "      <td>golf</td>\n",
       "      <td>150000</td>\n",
       "      <td>6</td>\n",
       "      <td>petrol</td>\n",
       "      <td>volkswagen</td>\n",
       "      <td>no</td>\n",
       "    </tr>\n",
       "    <tr>\n",
       "      <th>4</th>\n",
       "      <td>3600</td>\n",
       "      <td>small</td>\n",
       "      <td>2008</td>\n",
       "      <td>manual</td>\n",
       "      <td>69</td>\n",
       "      <td>fabia</td>\n",
       "      <td>90000</td>\n",
       "      <td>7</td>\n",
       "      <td>gasoline</td>\n",
       "      <td>skoda</td>\n",
       "      <td>no</td>\n",
       "    </tr>\n",
       "  </tbody>\n",
       "</table>\n",
       "</div>"
      ],
      "text/plain": [
       "   Price VehicleType  RegistrationYear Gearbox  Power  Model  Kilometer  \\\n",
       "0    480       sedan              1993  manual      0   golf     150000   \n",
       "1  18300       coupe              2011  manual    190     a4     125000   \n",
       "2   9800         suv              2004    auto    163  grand     125000   \n",
       "3   1500       small              2001  manual     75   golf     150000   \n",
       "4   3600       small              2008  manual     69  fabia      90000   \n",
       "\n",
       "   RegistrationMonth  FuelType       Brand Repaired  \n",
       "0                  0    petrol  volkswagen      NaN  \n",
       "1                  5  gasoline        audi      yes  \n",
       "2                  8  gasoline        jeep      NaN  \n",
       "3                  6    petrol  volkswagen       no  \n",
       "4                  7  gasoline       skoda       no  "
      ]
     },
     "execution_count": 28,
     "metadata": {},
     "output_type": "execute_result"
    }
   ],
   "source": [
    "data.head()"
   ]
  },
  {
   "cell_type": "markdown",
   "id": "20ac2410",
   "metadata": {},
   "source": [
    "### Abnormal values"
   ]
  },
  {
   "cell_type": "markdown",
   "id": "9531d8df",
   "metadata": {},
   "source": [
    "A function that determines the distribution of a feature in the form of a histogram and a range diagram. Takes a sign as input. At the output: 2 charts and the minimum and maximum values of the feature."
   ]
  },
  {
   "cell_type": "code",
   "execution_count": 29,
   "id": "a1dc2f73",
   "metadata": {},
   "outputs": [],
   "source": [
    "def plotting(feature):\n",
    "    data.plot(y = feature, kind = 'hist', title = 'Распределение {}'.format(feature), grid = True, bins = 30, figsize = (15, 3))\n",
    "    plt.xlabel('{}'.format(feature))\n",
    "    plt.show()\n",
    "    fig, ax = plt.subplots(figsize = (15,2))\n",
    "    ax = data[[feature]].boxplot(vert = False, ax=ax)\n",
    "    ax.set_title('Диаграмма размаха значений {}'.format(feature))\n",
    "    \n",
    "    #print(data[[feature]].min(), data[[feature]].max())\n",
    "    display(f'Минимальное значение: {data[feature].min()}')\n",
    "    display(f'Максимальное значение: {data[feature].max()}')\n"
   ]
  },
  {
   "cell_type": "markdown",
   "id": "d31b7b58",
   "metadata": {},
   "source": [
    "#### Price"
   ]
  },
  {
   "cell_type": "code",
   "execution_count": 30,
   "id": "36844cb2",
   "metadata": {},
   "outputs": [
    {
     "data": {
      "image/png": "[encoded data removed]",
      "text/plain": [
       "<Figure size 1080x216 with 1 Axes>"
      ]
     },
     "metadata": {
      "needs_background": "light"
     },
     "output_type": "display_data"
    },
    {
     "data": {
      "text/plain": [
       "'Минимальное значение: 0'"
      ]
     },
     "metadata": {},
     "output_type": "display_data"
    },
    {
     "data": {
      "text/plain": [
       "'Максимальное значение: 20000'"
      ]
     },
     "metadata": {},
     "output_type": "display_data"
    },
    {
     "data": {
      "image/png": "[encoded data removed]",
      "text/plain": [
       "<Figure size 1080x144 with 1 Axes>"
      ]
     },
     "metadata": {
      "needs_background": "light"
     },
     "output_type": "display_data"
    }
   ],
   "source": [
    "plotting('Price')"
   ]
  },
  {
   "cell_type": "code",
   "execution_count": 31,
   "id": "512c6d47",
   "metadata": {},
   "outputs": [
    {
     "data": {
      "text/html": [
       "<style  type=\"text/css\" >\n",
       "</style><table id=\"T_ab935_\" ><thead>    <tr>        <th class=\"blank level0\" ></th>        <th class=\"col_heading level0 col0\" >Price</th>    </tr></thead><tbody>\n",
       "                <tr>\n",
       "                        <th id=\"T_ab935_level0_row0\" class=\"row_heading level0 row0\" >count</th>\n",
       "                        <td id=\"T_ab935_row0_col0\" class=\"data row0 col0\" >354,369.00</td>\n",
       "            </tr>\n",
       "            <tr>\n",
       "                        <th id=\"T_ab935_level0_row1\" class=\"row_heading level0 row1\" >min</th>\n",
       "                        <td id=\"T_ab935_row1_col0\" class=\"data row1 col0\" >0.00</td>\n",
       "            </tr>\n",
       "            <tr>\n",
       "                        <th id=\"T_ab935_level0_row2\" class=\"row_heading level0 row2\" >max</th>\n",
       "                        <td id=\"T_ab935_row2_col0\" class=\"data row2 col0\" >20,000.00</td>\n",
       "            </tr>\n",
       "    </tbody></table>"
      ],
      "text/plain": [
       "<pandas.io.formats.style.Styler at 0x7f253844e310>"
      ]
     },
     "execution_count": 31,
     "metadata": {},
     "output_type": "execute_result"
    }
   ],
   "source": [
    "(\n",
    "    data[['Price']]\n",
    "    .apply (['count', 'min', 'max'])   \n",
    "    .style.format(\"{:,.2f}\")\n",
    ")"
   ]
  },
  {
   "cell_type": "markdown",
   "id": "090102c1",
   "metadata": {},
   "source": [
    "Let's get rid of the \"anomalous\" price value of 0 euros."
   ]
  },
  {
   "cell_type": "code",
   "execution_count": 32,
   "id": "b264e117",
   "metadata": {},
   "outputs": [
    {
     "data": {
      "text/html": [
       "<div>\n",
       "<style scoped>\n",
       "    .dataframe tbody tr th:only-of-type {\n",
       "        vertical-align: middle;\n",
       "    }\n",
       "\n",
       "    .dataframe tbody tr th {\n",
       "        vertical-align: top;\n",
       "    }\n",
       "\n",
       "    .dataframe thead th {\n",
       "        text-align: right;\n",
       "    }\n",
       "</style>\n",
       "<table border=\"1\" class=\"dataframe\">\n",
       "  <thead>\n",
       "    <tr style=\"text-align: right;\">\n",
       "      <th></th>\n",
       "      <th>Price</th>\n",
       "      <th>VehicleType</th>\n",
       "      <th>RegistrationYear</th>\n",
       "      <th>Gearbox</th>\n",
       "      <th>Power</th>\n",
       "      <th>Model</th>\n",
       "      <th>Kilometer</th>\n",
       "      <th>RegistrationMonth</th>\n",
       "      <th>FuelType</th>\n",
       "      <th>Brand</th>\n",
       "      <th>Repaired</th>\n",
       "    </tr>\n",
       "  </thead>\n",
       "  <tbody>\n",
       "    <tr>\n",
       "      <th>7</th>\n",
       "      <td>0</td>\n",
       "      <td>sedan</td>\n",
       "      <td>1980</td>\n",
       "      <td>manual</td>\n",
       "      <td>50</td>\n",
       "      <td>other</td>\n",
       "      <td>40000</td>\n",
       "      <td>7</td>\n",
       "      <td>petrol</td>\n",
       "      <td>volkswagen</td>\n",
       "      <td>no</td>\n",
       "    </tr>\n",
       "    <tr>\n",
       "      <th>40</th>\n",
       "      <td>0</td>\n",
       "      <td>small</td>\n",
       "      <td>1990</td>\n",
       "      <td>manual</td>\n",
       "      <td>0</td>\n",
       "      <td>corsa</td>\n",
       "      <td>150000</td>\n",
       "      <td>1</td>\n",
       "      <td>petrol</td>\n",
       "      <td>opel</td>\n",
       "      <td>NaN</td>\n",
       "    </tr>\n",
       "    <tr>\n",
       "      <th>111</th>\n",
       "      <td>0</td>\n",
       "      <td>sedan</td>\n",
       "      <td>2017</td>\n",
       "      <td>manual</td>\n",
       "      <td>0</td>\n",
       "      <td>golf</td>\n",
       "      <td>5000</td>\n",
       "      <td>12</td>\n",
       "      <td>petrol</td>\n",
       "      <td>volkswagen</td>\n",
       "      <td>NaN</td>\n",
       "    </tr>\n",
       "    <tr>\n",
       "      <th>115</th>\n",
       "      <td>0</td>\n",
       "      <td>small</td>\n",
       "      <td>1999</td>\n",
       "      <td>manual</td>\n",
       "      <td>0</td>\n",
       "      <td>golf</td>\n",
       "      <td>5000</td>\n",
       "      <td>0</td>\n",
       "      <td>petrol</td>\n",
       "      <td>volkswagen</td>\n",
       "      <td>NaN</td>\n",
       "    </tr>\n",
       "    <tr>\n",
       "      <th>152</th>\n",
       "      <td>0</td>\n",
       "      <td>bus</td>\n",
       "      <td>2004</td>\n",
       "      <td>manual</td>\n",
       "      <td>101</td>\n",
       "      <td>meriva</td>\n",
       "      <td>150000</td>\n",
       "      <td>10</td>\n",
       "      <td>lpg</td>\n",
       "      <td>opel</td>\n",
       "      <td>yes</td>\n",
       "    </tr>\n",
       "    <tr>\n",
       "      <th>...</th>\n",
       "      <td>...</td>\n",
       "      <td>...</td>\n",
       "      <td>...</td>\n",
       "      <td>...</td>\n",
       "      <td>...</td>\n",
       "      <td>...</td>\n",
       "      <td>...</td>\n",
       "      <td>...</td>\n",
       "      <td>...</td>\n",
       "      <td>...</td>\n",
       "      <td>...</td>\n",
       "    </tr>\n",
       "    <tr>\n",
       "      <th>354205</th>\n",
       "      <td>0</td>\n",
       "      <td>small</td>\n",
       "      <td>2000</td>\n",
       "      <td>manual</td>\n",
       "      <td>65</td>\n",
       "      <td>corsa</td>\n",
       "      <td>150000</td>\n",
       "      <td>0</td>\n",
       "      <td>petrol</td>\n",
       "      <td>opel</td>\n",
       "      <td>yes</td>\n",
       "    </tr>\n",
       "    <tr>\n",
       "      <th>354238</th>\n",
       "      <td>0</td>\n",
       "      <td>small</td>\n",
       "      <td>2002</td>\n",
       "      <td>manual</td>\n",
       "      <td>60</td>\n",
       "      <td>fiesta</td>\n",
       "      <td>150000</td>\n",
       "      <td>3</td>\n",
       "      <td>petrol</td>\n",
       "      <td>ford</td>\n",
       "      <td>NaN</td>\n",
       "    </tr>\n",
       "    <tr>\n",
       "      <th>354248</th>\n",
       "      <td>0</td>\n",
       "      <td>small</td>\n",
       "      <td>1999</td>\n",
       "      <td>manual</td>\n",
       "      <td>53</td>\n",
       "      <td>swift</td>\n",
       "      <td>150000</td>\n",
       "      <td>3</td>\n",
       "      <td>petrol</td>\n",
       "      <td>suzuki</td>\n",
       "      <td>NaN</td>\n",
       "    </tr>\n",
       "    <tr>\n",
       "      <th>354277</th>\n",
       "      <td>0</td>\n",
       "      <td>small</td>\n",
       "      <td>1999</td>\n",
       "      <td>manual</td>\n",
       "      <td>37</td>\n",
       "      <td>arosa</td>\n",
       "      <td>150000</td>\n",
       "      <td>7</td>\n",
       "      <td>petrol</td>\n",
       "      <td>seat</td>\n",
       "      <td>yes</td>\n",
       "    </tr>\n",
       "    <tr>\n",
       "      <th>354364</th>\n",
       "      <td>0</td>\n",
       "      <td>sedan</td>\n",
       "      <td>2005</td>\n",
       "      <td>manual</td>\n",
       "      <td>0</td>\n",
       "      <td>colt</td>\n",
       "      <td>150000</td>\n",
       "      <td>7</td>\n",
       "      <td>petrol</td>\n",
       "      <td>mitsubishi</td>\n",
       "      <td>yes</td>\n",
       "    </tr>\n",
       "  </tbody>\n",
       "</table>\n",
       "<p>10772 rows × 11 columns</p>\n",
       "</div>"
      ],
      "text/plain": [
       "        Price VehicleType  RegistrationYear Gearbox  Power   Model  Kilometer  \\\n",
       "7           0       sedan              1980  manual     50   other      40000   \n",
       "40          0       small              1990  manual      0   corsa     150000   \n",
       "111         0       sedan              2017  manual      0    golf       5000   \n",
       "115         0       small              1999  manual      0    golf       5000   \n",
       "152         0         bus              2004  manual    101  meriva     150000   \n",
       "...       ...         ...               ...     ...    ...     ...        ...   \n",
       "354205      0       small              2000  manual     65   corsa     150000   \n",
       "354238      0       small              2002  manual     60  fiesta     150000   \n",
       "354248      0       small              1999  manual     53   swift     150000   \n",
       "354277      0       small              1999  manual     37   arosa     150000   \n",
       "354364      0       sedan              2005  manual      0    colt     150000   \n",
       "\n",
       "        RegistrationMonth FuelType       Brand Repaired  \n",
       "7                       7   petrol  volkswagen       no  \n",
       "40                      1   petrol        opel      NaN  \n",
       "111                    12   petrol  volkswagen      NaN  \n",
       "115                     0   petrol  volkswagen      NaN  \n",
       "152                    10      lpg        opel      yes  \n",
       "...                   ...      ...         ...      ...  \n",
       "354205                  0   petrol        opel      yes  \n",
       "354238                  3   petrol        ford      NaN  \n",
       "354248                  3   petrol      suzuki      NaN  \n",
       "354277                  7   petrol        seat      yes  \n",
       "354364                  7   petrol  mitsubishi      yes  \n",
       "\n",
       "[10772 rows x 11 columns]"
      ]
     },
     "execution_count": 32,
     "metadata": {},
     "output_type": "execute_result"
    }
   ],
   "source": [
    "data[(data['Price'] == 0)]"
   ]
  },
  {
   "cell_type": "code",
   "execution_count": 33,
   "id": "4196e7f5",
   "metadata": {},
   "outputs": [],
   "source": [
    "data = data.loc[data['Price'] > 0]"
   ]
  },
  {
   "cell_type": "markdown",
   "id": "8ea16a3f",
   "metadata": {},
   "source": [
    "#### Registration Year"
   ]
  },
  {
   "cell_type": "code",
   "execution_count": 34,
   "id": "db61225f",
   "metadata": {},
   "outputs": [
    {
     "data": {
      "image/png": "[encoded data removed]",
      "text/plain": [
       "<Figure size 1080x216 with 1 Axes>"
      ]
     },
     "metadata": {
      "needs_background": "light"
     },
     "output_type": "display_data"
    },
    {
     "data": {
      "text/plain": [
       "'Минимальное значение: 1000'"
      ]
     },
     "metadata": {},
     "output_type": "display_data"
    },
    {
     "data": {
      "text/plain": [
       "'Максимальное значение: 9999'"
      ]
     },
     "metadata": {},
     "output_type": "display_data"
    },
    {
     "data": {
      "image/png": "[encoded data removed]",
      "text/plain": [
       "<Figure size 1080x144 with 1 Axes>"
      ]
     },
     "metadata": {
      "needs_background": "light"
     },
     "output_type": "display_data"
    }
   ],
   "source": [
    "plotting('RegistrationYear')"
   ]
  },
  {
   "cell_type": "code",
   "execution_count": 35,
   "id": "a186f955",
   "metadata": {},
   "outputs": [
    {
     "data": {
      "text/html": [
       "<div>\n",
       "<style scoped>\n",
       "    .dataframe tbody tr th:only-of-type {\n",
       "        vertical-align: middle;\n",
       "    }\n",
       "\n",
       "    .dataframe tbody tr th {\n",
       "        vertical-align: top;\n",
       "    }\n",
       "\n",
       "    .dataframe thead th {\n",
       "        text-align: right;\n",
       "    }\n",
       "</style>\n",
       "<table border=\"1\" class=\"dataframe\">\n",
       "  <thead>\n",
       "    <tr style=\"text-align: right;\">\n",
       "      <th></th>\n",
       "      <th>Price</th>\n",
       "      <th>VehicleType</th>\n",
       "      <th>RegistrationYear</th>\n",
       "      <th>Gearbox</th>\n",
       "      <th>Power</th>\n",
       "      <th>Model</th>\n",
       "      <th>Kilometer</th>\n",
       "      <th>RegistrationMonth</th>\n",
       "      <th>FuelType</th>\n",
       "      <th>Brand</th>\n",
       "      <th>Repaired</th>\n",
       "    </tr>\n",
       "  </thead>\n",
       "  <tbody>\n",
       "    <tr>\n",
       "      <th>15</th>\n",
       "      <td>450</td>\n",
       "      <td>small</td>\n",
       "      <td>1910</td>\n",
       "      <td>manual</td>\n",
       "      <td>0</td>\n",
       "      <td>ka</td>\n",
       "      <td>5000</td>\n",
       "      <td>0</td>\n",
       "      <td>petrol</td>\n",
       "      <td>ford</td>\n",
       "      <td>NaN</td>\n",
       "    </tr>\n",
       "    <tr>\n",
       "      <th>1928</th>\n",
       "      <td>7000</td>\n",
       "      <td>suv</td>\n",
       "      <td>1945</td>\n",
       "      <td>manual</td>\n",
       "      <td>48</td>\n",
       "      <td>other</td>\n",
       "      <td>150000</td>\n",
       "      <td>2</td>\n",
       "      <td>petrol</td>\n",
       "      <td>volkswagen</td>\n",
       "      <td>no</td>\n",
       "    </tr>\n",
       "    <tr>\n",
       "      <th>2273</th>\n",
       "      <td>1800</td>\n",
       "      <td>convertible</td>\n",
       "      <td>1925</td>\n",
       "      <td>manual</td>\n",
       "      <td>0</td>\n",
       "      <td>Unknown</td>\n",
       "      <td>5000</td>\n",
       "      <td>1</td>\n",
       "      <td>petrol</td>\n",
       "      <td>sonstige_autos</td>\n",
       "      <td>no</td>\n",
       "    </tr>\n",
       "    <tr>\n",
       "      <th>6977</th>\n",
       "      <td>135</td>\n",
       "      <td>small</td>\n",
       "      <td>1910</td>\n",
       "      <td>manual</td>\n",
       "      <td>0</td>\n",
       "      <td>corsa</td>\n",
       "      <td>5000</td>\n",
       "      <td>0</td>\n",
       "      <td>petrol</td>\n",
       "      <td>opel</td>\n",
       "      <td>NaN</td>\n",
       "    </tr>\n",
       "    <tr>\n",
       "      <th>10183</th>\n",
       "      <td>1250</td>\n",
       "      <td>wagon</td>\n",
       "      <td>1910</td>\n",
       "      <td>manual</td>\n",
       "      <td>0</td>\n",
       "      <td>other</td>\n",
       "      <td>5000</td>\n",
       "      <td>0</td>\n",
       "      <td>petrol</td>\n",
       "      <td>audi</td>\n",
       "      <td>NaN</td>\n",
       "    </tr>\n",
       "    <tr>\n",
       "      <th>...</th>\n",
       "      <td>...</td>\n",
       "      <td>...</td>\n",
       "      <td>...</td>\n",
       "      <td>...</td>\n",
       "      <td>...</td>\n",
       "      <td>...</td>\n",
       "      <td>...</td>\n",
       "      <td>...</td>\n",
       "      <td>...</td>\n",
       "      <td>...</td>\n",
       "      <td>...</td>\n",
       "    </tr>\n",
       "    <tr>\n",
       "      <th>338109</th>\n",
       "      <td>7000</td>\n",
       "      <td>coupe</td>\n",
       "      <td>1937</td>\n",
       "      <td>manual</td>\n",
       "      <td>85</td>\n",
       "      <td>other</td>\n",
       "      <td>5000</td>\n",
       "      <td>8</td>\n",
       "      <td>petrol</td>\n",
       "      <td>ford</td>\n",
       "      <td>yes</td>\n",
       "    </tr>\n",
       "    <tr>\n",
       "      <th>343083</th>\n",
       "      <td>1</td>\n",
       "      <td>other</td>\n",
       "      <td>1910</td>\n",
       "      <td>manual</td>\n",
       "      <td>0</td>\n",
       "      <td>golf</td>\n",
       "      <td>5000</td>\n",
       "      <td>1</td>\n",
       "      <td>other</td>\n",
       "      <td>volkswagen</td>\n",
       "      <td>NaN</td>\n",
       "    </tr>\n",
       "    <tr>\n",
       "      <th>346046</th>\n",
       "      <td>18900</td>\n",
       "      <td>suv</td>\n",
       "      <td>1943</td>\n",
       "      <td>manual</td>\n",
       "      <td>60</td>\n",
       "      <td>other</td>\n",
       "      <td>150000</td>\n",
       "      <td>3</td>\n",
       "      <td>petrol</td>\n",
       "      <td>volkswagen</td>\n",
       "      <td>no</td>\n",
       "    </tr>\n",
       "    <tr>\n",
       "      <th>353531</th>\n",
       "      <td>6000</td>\n",
       "      <td>sedan</td>\n",
       "      <td>1937</td>\n",
       "      <td>manual</td>\n",
       "      <td>38</td>\n",
       "      <td>other</td>\n",
       "      <td>5000</td>\n",
       "      <td>0</td>\n",
       "      <td>petrol</td>\n",
       "      <td>mercedes_benz</td>\n",
       "      <td>NaN</td>\n",
       "    </tr>\n",
       "    <tr>\n",
       "      <th>353961</th>\n",
       "      <td>200</td>\n",
       "      <td>sedan</td>\n",
       "      <td>1910</td>\n",
       "      <td>manual</td>\n",
       "      <td>0</td>\n",
       "      <td>Unknown</td>\n",
       "      <td>5000</td>\n",
       "      <td>0</td>\n",
       "      <td>petrol</td>\n",
       "      <td>sonstige_autos</td>\n",
       "      <td>NaN</td>\n",
       "    </tr>\n",
       "  </tbody>\n",
       "</table>\n",
       "<p>126 rows × 11 columns</p>\n",
       "</div>"
      ],
      "text/plain": [
       "        Price  VehicleType  RegistrationYear Gearbox  Power    Model  \\\n",
       "15        450        small              1910  manual      0       ka   \n",
       "1928     7000          suv              1945  manual     48    other   \n",
       "2273     1800  convertible              1925  manual      0  Unknown   \n",
       "6977      135        small              1910  manual      0    corsa   \n",
       "10183    1250        wagon              1910  manual      0    other   \n",
       "...       ...          ...               ...     ...    ...      ...   \n",
       "338109   7000        coupe              1937  manual     85    other   \n",
       "343083      1        other              1910  manual      0     golf   \n",
       "346046  18900          suv              1943  manual     60    other   \n",
       "353531   6000        sedan              1937  manual     38    other   \n",
       "353961    200        sedan              1910  manual      0  Unknown   \n",
       "\n",
       "        Kilometer  RegistrationMonth FuelType           Brand Repaired  \n",
       "15           5000                  0   petrol            ford      NaN  \n",
       "1928       150000                  2   petrol      volkswagen       no  \n",
       "2273         5000                  1   petrol  sonstige_autos       no  \n",
       "6977         5000                  0   petrol            opel      NaN  \n",
       "10183        5000                  0   petrol            audi      NaN  \n",
       "...           ...                ...      ...             ...      ...  \n",
       "338109       5000                  8   petrol            ford      yes  \n",
       "343083       5000                  1    other      volkswagen      NaN  \n",
       "346046     150000                  3   petrol      volkswagen       no  \n",
       "353531       5000                  0   petrol   mercedes_benz      NaN  \n",
       "353961       5000                  0   petrol  sonstige_autos      NaN  \n",
       "\n",
       "[126 rows x 11 columns]"
      ]
     },
     "execution_count": 35,
     "metadata": {},
     "output_type": "execute_result"
    }
   ],
   "source": [
    "data[(data['RegistrationYear'] > 1900) & (data['RegistrationYear'] < 1950)]"
   ]
  },
  {
   "cell_type": "code",
   "execution_count": 36,
   "id": "060afc0a",
   "metadata": {},
   "outputs": [
    {
     "data": {
      "text/html": [
       "<div>\n",
       "<style scoped>\n",
       "    .dataframe tbody tr th:only-of-type {\n",
       "        vertical-align: middle;\n",
       "    }\n",
       "\n",
       "    .dataframe tbody tr th {\n",
       "        vertical-align: top;\n",
       "    }\n",
       "\n",
       "    .dataframe thead th {\n",
       "        text-align: right;\n",
       "    }\n",
       "</style>\n",
       "<table border=\"1\" class=\"dataframe\">\n",
       "  <thead>\n",
       "    <tr style=\"text-align: right;\">\n",
       "      <th></th>\n",
       "      <th>Price</th>\n",
       "      <th>VehicleType</th>\n",
       "      <th>RegistrationYear</th>\n",
       "      <th>Gearbox</th>\n",
       "      <th>Power</th>\n",
       "      <th>Model</th>\n",
       "      <th>Kilometer</th>\n",
       "      <th>RegistrationMonth</th>\n",
       "      <th>FuelType</th>\n",
       "      <th>Brand</th>\n",
       "      <th>Repaired</th>\n",
       "    </tr>\n",
       "  </thead>\n",
       "  <tbody>\n",
       "    <tr>\n",
       "      <th>12946</th>\n",
       "      <td>49</td>\n",
       "      <td>sedan</td>\n",
       "      <td>5000</td>\n",
       "      <td>manual</td>\n",
       "      <td>0</td>\n",
       "      <td>golf</td>\n",
       "      <td>5000</td>\n",
       "      <td>12</td>\n",
       "      <td>petrol</td>\n",
       "      <td>volkswagen</td>\n",
       "      <td>NaN</td>\n",
       "    </tr>\n",
       "    <tr>\n",
       "      <th>15870</th>\n",
       "      <td>1700</td>\n",
       "      <td>sedan</td>\n",
       "      <td>3200</td>\n",
       "      <td>manual</td>\n",
       "      <td>0</td>\n",
       "      <td>Unknown</td>\n",
       "      <td>5000</td>\n",
       "      <td>0</td>\n",
       "      <td>petrol</td>\n",
       "      <td>sonstige_autos</td>\n",
       "      <td>NaN</td>\n",
       "    </tr>\n",
       "    <tr>\n",
       "      <th>17271</th>\n",
       "      <td>700</td>\n",
       "      <td>small</td>\n",
       "      <td>9999</td>\n",
       "      <td>manual</td>\n",
       "      <td>0</td>\n",
       "      <td>other</td>\n",
       "      <td>10000</td>\n",
       "      <td>0</td>\n",
       "      <td>petrol</td>\n",
       "      <td>opel</td>\n",
       "      <td>NaN</td>\n",
       "    </tr>\n",
       "    <tr>\n",
       "      <th>17346</th>\n",
       "      <td>6500</td>\n",
       "      <td>sedan</td>\n",
       "      <td>8888</td>\n",
       "      <td>manual</td>\n",
       "      <td>0</td>\n",
       "      <td>Unknown</td>\n",
       "      <td>10000</td>\n",
       "      <td>0</td>\n",
       "      <td>petrol</td>\n",
       "      <td>sonstige_autos</td>\n",
       "      <td>NaN</td>\n",
       "    </tr>\n",
       "    <tr>\n",
       "      <th>18259</th>\n",
       "      <td>300</td>\n",
       "      <td>small</td>\n",
       "      <td>2200</td>\n",
       "      <td>manual</td>\n",
       "      <td>0</td>\n",
       "      <td>twingo</td>\n",
       "      <td>5000</td>\n",
       "      <td>12</td>\n",
       "      <td>petrol</td>\n",
       "      <td>renault</td>\n",
       "      <td>NaN</td>\n",
       "    </tr>\n",
       "    <tr>\n",
       "      <th>...</th>\n",
       "      <td>...</td>\n",
       "      <td>...</td>\n",
       "      <td>...</td>\n",
       "      <td>...</td>\n",
       "      <td>...</td>\n",
       "      <td>...</td>\n",
       "      <td>...</td>\n",
       "      <td>...</td>\n",
       "      <td>...</td>\n",
       "      <td>...</td>\n",
       "      <td>...</td>\n",
       "    </tr>\n",
       "    <tr>\n",
       "      <th>328453</th>\n",
       "      <td>450</td>\n",
       "      <td>sedan</td>\n",
       "      <td>2500</td>\n",
       "      <td>manual</td>\n",
       "      <td>0</td>\n",
       "      <td>6_reihe</td>\n",
       "      <td>5000</td>\n",
       "      <td>0</td>\n",
       "      <td>petrol</td>\n",
       "      <td>mazda</td>\n",
       "      <td>NaN</td>\n",
       "    </tr>\n",
       "    <tr>\n",
       "      <th>331753</th>\n",
       "      <td>99</td>\n",
       "      <td>sedan</td>\n",
       "      <td>9999</td>\n",
       "      <td>manual</td>\n",
       "      <td>0</td>\n",
       "      <td>1er</td>\n",
       "      <td>10000</td>\n",
       "      <td>0</td>\n",
       "      <td>petrol</td>\n",
       "      <td>bmw</td>\n",
       "      <td>NaN</td>\n",
       "    </tr>\n",
       "    <tr>\n",
       "      <th>334967</th>\n",
       "      <td>12000</td>\n",
       "      <td>sedan</td>\n",
       "      <td>4000</td>\n",
       "      <td>manual</td>\n",
       "      <td>500</td>\n",
       "      <td>golf</td>\n",
       "      <td>5000</td>\n",
       "      <td>0</td>\n",
       "      <td>petrol</td>\n",
       "      <td>volkswagen</td>\n",
       "      <td>no</td>\n",
       "    </tr>\n",
       "    <tr>\n",
       "      <th>338829</th>\n",
       "      <td>50</td>\n",
       "      <td>sedan</td>\n",
       "      <td>3000</td>\n",
       "      <td>manual</td>\n",
       "      <td>3000</td>\n",
       "      <td>golf</td>\n",
       "      <td>100000</td>\n",
       "      <td>6</td>\n",
       "      <td>petrol</td>\n",
       "      <td>volkswagen</td>\n",
       "      <td>yes</td>\n",
       "    </tr>\n",
       "    <tr>\n",
       "      <th>341791</th>\n",
       "      <td>1</td>\n",
       "      <td>small</td>\n",
       "      <td>3000</td>\n",
       "      <td>manual</td>\n",
       "      <td>0</td>\n",
       "      <td>zafira</td>\n",
       "      <td>5000</td>\n",
       "      <td>0</td>\n",
       "      <td>petrol</td>\n",
       "      <td>opel</td>\n",
       "      <td>NaN</td>\n",
       "    </tr>\n",
       "  </tbody>\n",
       "</table>\n",
       "<p>86 rows × 11 columns</p>\n",
       "</div>"
      ],
      "text/plain": [
       "        Price VehicleType  RegistrationYear Gearbox  Power    Model  \\\n",
       "12946      49       sedan              5000  manual      0     golf   \n",
       "15870    1700       sedan              3200  manual      0  Unknown   \n",
       "17271     700       small              9999  manual      0    other   \n",
       "17346    6500       sedan              8888  manual      0  Unknown   \n",
       "18259     300       small              2200  manual      0   twingo   \n",
       "...       ...         ...               ...     ...    ...      ...   \n",
       "328453    450       sedan              2500  manual      0  6_reihe   \n",
       "331753     99       sedan              9999  manual      0      1er   \n",
       "334967  12000       sedan              4000  manual    500     golf   \n",
       "338829     50       sedan              3000  manual   3000     golf   \n",
       "341791      1       small              3000  manual      0   zafira   \n",
       "\n",
       "        Kilometer  RegistrationMonth FuelType           Brand Repaired  \n",
       "12946        5000                 12   petrol      volkswagen      NaN  \n",
       "15870        5000                  0   petrol  sonstige_autos      NaN  \n",
       "17271       10000                  0   petrol            opel      NaN  \n",
       "17346       10000                  0   petrol  sonstige_autos      NaN  \n",
       "18259        5000                 12   petrol         renault      NaN  \n",
       "...           ...                ...      ...             ...      ...  \n",
       "328453       5000                  0   petrol           mazda      NaN  \n",
       "331753      10000                  0   petrol             bmw      NaN  \n",
       "334967       5000                  0   petrol      volkswagen       no  \n",
       "338829     100000                  6   petrol      volkswagen      yes  \n",
       "341791       5000                  0   petrol            opel      NaN  \n",
       "\n",
       "[86 rows x 11 columns]"
      ]
     },
     "execution_count": 36,
     "metadata": {},
     "output_type": "execute_result"
    }
   ],
   "source": [
    "data[(data['RegistrationYear'] > 2022)]"
   ]
  },
  {
   "cell_type": "code",
   "execution_count": 37,
   "id": "d7533531",
   "metadata": {},
   "outputs": [],
   "source": [
    "data = data.loc[(data['RegistrationYear'] > 1900) & (data['RegistrationYear'] < 2016)]"
   ]
  },
  {
   "cell_type": "markdown",
   "id": "405a09b0",
   "metadata": {},
   "source": [
    "#### Registration Month"
   ]
  },
  {
   "cell_type": "code",
   "execution_count": 38,
   "id": "596f6ff6",
   "metadata": {},
   "outputs": [
    {
     "data": {
      "image/png": "[encoded data removed]",
      "text/plain": [
       "<Figure size 1080x216 with 1 Axes>"
      ]
     },
     "metadata": {
      "needs_background": "light"
     },
     "output_type": "display_data"
    },
    {
     "data": {
      "text/plain": [
       "'Минимальное значение: 0'"
      ]
     },
     "metadata": {},
     "output_type": "display_data"
    },
    {
     "data": {
      "text/plain": [
       "'Максимальное значение: 12'"
      ]
     },
     "metadata": {},
     "output_type": "display_data"
    },
    {
     "data": {
      "image/png": "[encoded data removed]",
      "text/plain": [
       "<Figure size 1080x144 with 1 Axes>"
      ]
     },
     "metadata": {
      "needs_background": "light"
     },
     "output_type": "display_data"
    }
   ],
   "source": [
    "plotting('RegistrationMonth')"
   ]
  },
  {
   "cell_type": "code",
   "execution_count": 39,
   "id": "acbe6797",
   "metadata": {},
   "outputs": [
    {
     "data": {
      "text/plain": [
       "3     32074\n",
       "6     29055\n",
       "4     27023\n",
       "0     26958\n",
       "5     26889\n",
       "7     25231\n",
       "10    24221\n",
       "11    22509\n",
       "12    22483\n",
       "9     22202\n",
       "1     21542\n",
       "8     20843\n",
       "2     19767\n",
       "Name: RegistrationMonth, dtype: int64"
      ]
     },
     "execution_count": 39,
     "metadata": {},
     "output_type": "execute_result"
    }
   ],
   "source": [
    "data['RegistrationMonth'].value_counts()"
   ]
  },
  {
   "cell_type": "code",
   "execution_count": 40,
   "id": "f5b0ed1b",
   "metadata": {},
   "outputs": [],
   "source": [
    "data = data[data['RegistrationMonth'] != 1]"
   ]
  },
  {
   "cell_type": "markdown",
   "id": "8930393b",
   "metadata": {},
   "source": [
    "#### Kilometer"
   ]
  },
  {
   "cell_type": "code",
   "execution_count": 41,
   "id": "30a4b298",
   "metadata": {},
   "outputs": [
    {
     "data": {
      "image/png": "[encoded data removed]",
      "text/plain": [
       "<Figure size 1080x216 with 1 Axes>"
      ]
     },
     "metadata": {
      "needs_background": "light"
     },
     "output_type": "display_data"
    },
    {
     "data": {
      "text/plain": [
       "'Минимальное значение: 5000'"
      ]
     },
     "metadata": {},
     "output_type": "display_data"
    },
    {
     "data": {
      "text/plain": [
       "'Максимальное значение: 150000'"
      ]
     },
     "metadata": {},
     "output_type": "display_data"
    },
    {
     "data": {
      "image/png": "[encoded data removed]",
      "text/plain": [
       "<Figure size 1080x144 with 1 Axes>"
      ]
     },
     "metadata": {
      "needs_background": "light"
     },
     "output_type": "display_data"
    }
   ],
   "source": [
    "plotting('Kilometer')"
   ]
  },
  {
   "cell_type": "markdown",
   "id": "0208b08b",
   "metadata": {},
   "source": [
    "#### Power"
   ]
  },
  {
   "cell_type": "code",
   "execution_count": 42,
   "id": "115ca80c",
   "metadata": {},
   "outputs": [
    {
     "data": {
      "image/png": "[encoded data removed]",
      "text/plain": [
       "<Figure size 1080x216 with 1 Axes>"
      ]
     },
     "metadata": {
      "needs_background": "light"
     },
     "output_type": "display_data"
    },
    {
     "data": {
      "text/plain": [
       "'Минимальное значение: 0'"
      ]
     },
     "metadata": {},
     "output_type": "display_data"
    },
    {
     "data": {
      "text/plain": [
       "'Максимальное значение: 19211'"
      ]
     },
     "metadata": {},
     "output_type": "display_data"
    },
    {
     "data": {
      "image/png": "[encoded data removed]",
      "text/plain": [
       "<Figure size 1080x144 with 1 Axes>"
      ]
     },
     "metadata": {
      "needs_background": "light"
     },
     "output_type": "display_data"
    }
   ],
   "source": [
    "plotting('Power')"
   ]
  },
  {
   "cell_type": "code",
   "execution_count": 43,
   "id": "53bf5f2b",
   "metadata": {},
   "outputs": [
    {
     "data": {
      "text/html": [
       "<div>\n",
       "<style scoped>\n",
       "    .dataframe tbody tr th:only-of-type {\n",
       "        vertical-align: middle;\n",
       "    }\n",
       "\n",
       "    .dataframe tbody tr th {\n",
       "        vertical-align: top;\n",
       "    }\n",
       "\n",
       "    .dataframe thead th {\n",
       "        text-align: right;\n",
       "    }\n",
       "</style>\n",
       "<table border=\"1\" class=\"dataframe\">\n",
       "  <thead>\n",
       "    <tr style=\"text-align: right;\">\n",
       "      <th></th>\n",
       "      <th>Price</th>\n",
       "      <th>VehicleType</th>\n",
       "      <th>RegistrationYear</th>\n",
       "      <th>Gearbox</th>\n",
       "      <th>Power</th>\n",
       "      <th>Model</th>\n",
       "      <th>Kilometer</th>\n",
       "      <th>RegistrationMonth</th>\n",
       "      <th>FuelType</th>\n",
       "      <th>Brand</th>\n",
       "      <th>Repaired</th>\n",
       "    </tr>\n",
       "  </thead>\n",
       "  <tbody>\n",
       "    <tr>\n",
       "      <th>0</th>\n",
       "      <td>480</td>\n",
       "      <td>sedan</td>\n",
       "      <td>1993</td>\n",
       "      <td>manual</td>\n",
       "      <td>0</td>\n",
       "      <td>golf</td>\n",
       "      <td>150000</td>\n",
       "      <td>0</td>\n",
       "      <td>petrol</td>\n",
       "      <td>volkswagen</td>\n",
       "      <td>NaN</td>\n",
       "    </tr>\n",
       "    <tr>\n",
       "      <th>3</th>\n",
       "      <td>1500</td>\n",
       "      <td>small</td>\n",
       "      <td>2001</td>\n",
       "      <td>manual</td>\n",
       "      <td>75</td>\n",
       "      <td>golf</td>\n",
       "      <td>150000</td>\n",
       "      <td>6</td>\n",
       "      <td>petrol</td>\n",
       "      <td>volkswagen</td>\n",
       "      <td>no</td>\n",
       "    </tr>\n",
       "    <tr>\n",
       "      <th>4</th>\n",
       "      <td>3600</td>\n",
       "      <td>small</td>\n",
       "      <td>2008</td>\n",
       "      <td>manual</td>\n",
       "      <td>69</td>\n",
       "      <td>fabia</td>\n",
       "      <td>90000</td>\n",
       "      <td>7</td>\n",
       "      <td>gasoline</td>\n",
       "      <td>skoda</td>\n",
       "      <td>no</td>\n",
       "    </tr>\n",
       "    <tr>\n",
       "      <th>15</th>\n",
       "      <td>450</td>\n",
       "      <td>small</td>\n",
       "      <td>1910</td>\n",
       "      <td>manual</td>\n",
       "      <td>0</td>\n",
       "      <td>ka</td>\n",
       "      <td>5000</td>\n",
       "      <td>0</td>\n",
       "      <td>petrol</td>\n",
       "      <td>ford</td>\n",
       "      <td>NaN</td>\n",
       "    </tr>\n",
       "    <tr>\n",
       "      <th>17</th>\n",
       "      <td>1750</td>\n",
       "      <td>small</td>\n",
       "      <td>2004</td>\n",
       "      <td>auto</td>\n",
       "      <td>75</td>\n",
       "      <td>twingo</td>\n",
       "      <td>150000</td>\n",
       "      <td>2</td>\n",
       "      <td>petrol</td>\n",
       "      <td>renault</td>\n",
       "      <td>no</td>\n",
       "    </tr>\n",
       "    <tr>\n",
       "      <th>...</th>\n",
       "      <td>...</td>\n",
       "      <td>...</td>\n",
       "      <td>...</td>\n",
       "      <td>...</td>\n",
       "      <td>...</td>\n",
       "      <td>...</td>\n",
       "      <td>...</td>\n",
       "      <td>...</td>\n",
       "      <td>...</td>\n",
       "      <td>...</td>\n",
       "      <td>...</td>\n",
       "    </tr>\n",
       "    <tr>\n",
       "      <th>354356</th>\n",
       "      <td>999</td>\n",
       "      <td>convertible</td>\n",
       "      <td>2000</td>\n",
       "      <td>manual</td>\n",
       "      <td>95</td>\n",
       "      <td>megane</td>\n",
       "      <td>150000</td>\n",
       "      <td>4</td>\n",
       "      <td>petrol</td>\n",
       "      <td>renault</td>\n",
       "      <td>NaN</td>\n",
       "    </tr>\n",
       "    <tr>\n",
       "      <th>354357</th>\n",
       "      <td>1690</td>\n",
       "      <td>wagon</td>\n",
       "      <td>2004</td>\n",
       "      <td>manual</td>\n",
       "      <td>55</td>\n",
       "      <td>fabia</td>\n",
       "      <td>150000</td>\n",
       "      <td>4</td>\n",
       "      <td>petrol</td>\n",
       "      <td>skoda</td>\n",
       "      <td>NaN</td>\n",
       "    </tr>\n",
       "    <tr>\n",
       "      <th>354358</th>\n",
       "      <td>1490</td>\n",
       "      <td>small</td>\n",
       "      <td>1998</td>\n",
       "      <td>manual</td>\n",
       "      <td>50</td>\n",
       "      <td>lupo</td>\n",
       "      <td>150000</td>\n",
       "      <td>9</td>\n",
       "      <td>petrol</td>\n",
       "      <td>volkswagen</td>\n",
       "      <td>no</td>\n",
       "    </tr>\n",
       "    <tr>\n",
       "      <th>354360</th>\n",
       "      <td>3999</td>\n",
       "      <td>wagon</td>\n",
       "      <td>2005</td>\n",
       "      <td>manual</td>\n",
       "      <td>3</td>\n",
       "      <td>3er</td>\n",
       "      <td>150000</td>\n",
       "      <td>5</td>\n",
       "      <td>gasoline</td>\n",
       "      <td>bmw</td>\n",
       "      <td>no</td>\n",
       "    </tr>\n",
       "    <tr>\n",
       "      <th>354363</th>\n",
       "      <td>1150</td>\n",
       "      <td>bus</td>\n",
       "      <td>2000</td>\n",
       "      <td>manual</td>\n",
       "      <td>0</td>\n",
       "      <td>zafira</td>\n",
       "      <td>150000</td>\n",
       "      <td>3</td>\n",
       "      <td>petrol</td>\n",
       "      <td>opel</td>\n",
       "      <td>no</td>\n",
       "    </tr>\n",
       "  </tbody>\n",
       "</table>\n",
       "<p>124840 rows × 11 columns</p>\n",
       "</div>"
      ],
      "text/plain": [
       "        Price  VehicleType  RegistrationYear Gearbox  Power   Model  \\\n",
       "0         480        sedan              1993  manual      0    golf   \n",
       "3        1500        small              2001  manual     75    golf   \n",
       "4        3600        small              2008  manual     69   fabia   \n",
       "15        450        small              1910  manual      0      ka   \n",
       "17       1750        small              2004    auto     75  twingo   \n",
       "...       ...          ...               ...     ...    ...     ...   \n",
       "354356    999  convertible              2000  manual     95  megane   \n",
       "354357   1690        wagon              2004  manual     55   fabia   \n",
       "354358   1490        small              1998  manual     50    lupo   \n",
       "354360   3999        wagon              2005  manual      3     3er   \n",
       "354363   1150          bus              2000  manual      0  zafira   \n",
       "\n",
       "        Kilometer  RegistrationMonth  FuelType       Brand Repaired  \n",
       "0          150000                  0    petrol  volkswagen      NaN  \n",
       "3          150000                  6    petrol  volkswagen       no  \n",
       "4           90000                  7  gasoline       skoda       no  \n",
       "15           5000                  0    petrol        ford      NaN  \n",
       "17         150000                  2    petrol     renault       no  \n",
       "...           ...                ...       ...         ...      ...  \n",
       "354356     150000                  4    petrol     renault      NaN  \n",
       "354357     150000                  4    petrol       skoda      NaN  \n",
       "354358     150000                  9    petrol  volkswagen       no  \n",
       "354360     150000                  5  gasoline         bmw       no  \n",
       "354363     150000                  3    petrol        opel       no  \n",
       "\n",
       "[124840 rows x 11 columns]"
      ]
     },
     "execution_count": 43,
     "metadata": {},
     "output_type": "execute_result"
    }
   ],
   "source": [
    "data.loc[data['Power'] < 100]"
   ]
  },
  {
   "cell_type": "markdown",
   "id": "70a07640",
   "metadata": {},
   "source": [
    "Power values (in horsepower) cannot exceed 2000."
   ]
  },
  {
   "cell_type": "code",
   "execution_count": 44,
   "id": "54435d5e",
   "metadata": {},
   "outputs": [],
   "source": [
    "data = data.loc[data['Power'] < 2000]"
   ]
  },
  {
   "cell_type": "markdown",
   "id": "0fd08073",
   "metadata": {},
   "source": [
    "## One-Hot Encoding & Label Encoding"
   ]
  },
  {
   "cell_type": "markdown",
   "id": "1f4074c0",
   "metadata": {},
   "source": [
    "We convert the categorical features 'VehicleType', 'Gearbox', 'Model', 'FuelType', 'Brand', 'Repaired' into numerical ones using the dummy trap bypass coding method."
   ]
  },
  {
   "cell_type": "code",
   "execution_count": 45,
   "id": "db705809",
   "metadata": {},
   "outputs": [],
   "source": [
    "categorical = data[['VehicleType', 'Gearbox', 'Model', 'FuelType', 'Brand', 'Repaired']]"
   ]
  },
  {
   "cell_type": "code",
   "execution_count": 46,
   "id": "933c61d1",
   "metadata": {},
   "outputs": [
    {
     "data": {
      "text/plain": [
       "['VehicleType', 'Gearbox', 'Model', 'FuelType', 'Brand', 'Repaired']"
      ]
     },
     "execution_count": 46,
     "metadata": {},
     "output_type": "execute_result"
    }
   ],
   "source": [
    "list(categorical.columns)"
   ]
  },
  {
   "cell_type": "markdown",
   "id": "5777d21a",
   "metadata": {},
   "source": [
    "### OHE "
   ]
  },
  {
   "cell_type": "code",
   "execution_count": 47,
   "id": "f7b191a2",
   "metadata": {},
   "outputs": [],
   "source": [
    "cat_col = categorical.columns\n",
    "OHE = OneHotEncoder()\n",
    "\n",
    "array_ohe = OHE.fit_transform(data[cat_col]).toarray() # Переводим в NumPy\n",
    "data_ohe = pd.DataFrame(array_ohe, index=data.index, columns=OHE.get_feature_names()) # Добавляем имена колонок.\n",
    "data_other = data.drop(columns=cat_col)\n",
    "data_final = pd.concat([data_ohe, data_other], axis=1)"
   ]
  },
  {
   "cell_type": "code",
   "execution_count": 48,
   "id": "40a9fd00",
   "metadata": {},
   "outputs": [
    {
     "data": {
      "text/html": [
       "<div>\n",
       "<style scoped>\n",
       "    .dataframe tbody tr th:only-of-type {\n",
       "        vertical-align: middle;\n",
       "    }\n",
       "\n",
       "    .dataframe tbody tr th {\n",
       "        vertical-align: top;\n",
       "    }\n",
       "\n",
       "    .dataframe thead th {\n",
       "        text-align: right;\n",
       "    }\n",
       "</style>\n",
       "<table border=\"1\" class=\"dataframe\">\n",
       "  <thead>\n",
       "    <tr style=\"text-align: right;\">\n",
       "      <th></th>\n",
       "      <th>x0_bus</th>\n",
       "      <th>x0_convertible</th>\n",
       "      <th>x0_coupe</th>\n",
       "      <th>x0_other</th>\n",
       "      <th>x0_sedan</th>\n",
       "      <th>x0_small</th>\n",
       "      <th>x0_suv</th>\n",
       "      <th>x0_wagon</th>\n",
       "      <th>x1_auto</th>\n",
       "      <th>x1_manual</th>\n",
       "      <th>...</th>\n",
       "      <th>x4_volkswagen</th>\n",
       "      <th>x4_volvo</th>\n",
       "      <th>x5_no</th>\n",
       "      <th>x5_yes</th>\n",
       "      <th>x5_nan</th>\n",
       "      <th>Price</th>\n",
       "      <th>RegistrationYear</th>\n",
       "      <th>Power</th>\n",
       "      <th>Kilometer</th>\n",
       "      <th>RegistrationMonth</th>\n",
       "    </tr>\n",
       "  </thead>\n",
       "  <tbody>\n",
       "    <tr>\n",
       "      <th>0</th>\n",
       "      <td>0.0</td>\n",
       "      <td>0.0</td>\n",
       "      <td>0.0</td>\n",
       "      <td>0.0</td>\n",
       "      <td>1.0</td>\n",
       "      <td>0.0</td>\n",
       "      <td>0.0</td>\n",
       "      <td>0.0</td>\n",
       "      <td>0.0</td>\n",
       "      <td>1.0</td>\n",
       "      <td>...</td>\n",
       "      <td>1.0</td>\n",
       "      <td>0.0</td>\n",
       "      <td>0.0</td>\n",
       "      <td>0.0</td>\n",
       "      <td>1.0</td>\n",
       "      <td>480</td>\n",
       "      <td>1993</td>\n",
       "      <td>0</td>\n",
       "      <td>150000</td>\n",
       "      <td>0</td>\n",
       "    </tr>\n",
       "    <tr>\n",
       "      <th>1</th>\n",
       "      <td>0.0</td>\n",
       "      <td>0.0</td>\n",
       "      <td>1.0</td>\n",
       "      <td>0.0</td>\n",
       "      <td>0.0</td>\n",
       "      <td>0.0</td>\n",
       "      <td>0.0</td>\n",
       "      <td>0.0</td>\n",
       "      <td>0.0</td>\n",
       "      <td>1.0</td>\n",
       "      <td>...</td>\n",
       "      <td>0.0</td>\n",
       "      <td>0.0</td>\n",
       "      <td>0.0</td>\n",
       "      <td>1.0</td>\n",
       "      <td>0.0</td>\n",
       "      <td>18300</td>\n",
       "      <td>2011</td>\n",
       "      <td>190</td>\n",
       "      <td>125000</td>\n",
       "      <td>5</td>\n",
       "    </tr>\n",
       "    <tr>\n",
       "      <th>2</th>\n",
       "      <td>0.0</td>\n",
       "      <td>0.0</td>\n",
       "      <td>0.0</td>\n",
       "      <td>0.0</td>\n",
       "      <td>0.0</td>\n",
       "      <td>0.0</td>\n",
       "      <td>1.0</td>\n",
       "      <td>0.0</td>\n",
       "      <td>1.0</td>\n",
       "      <td>0.0</td>\n",
       "      <td>...</td>\n",
       "      <td>0.0</td>\n",
       "      <td>0.0</td>\n",
       "      <td>0.0</td>\n",
       "      <td>0.0</td>\n",
       "      <td>1.0</td>\n",
       "      <td>9800</td>\n",
       "      <td>2004</td>\n",
       "      <td>163</td>\n",
       "      <td>125000</td>\n",
       "      <td>8</td>\n",
       "    </tr>\n",
       "    <tr>\n",
       "      <th>3</th>\n",
       "      <td>0.0</td>\n",
       "      <td>0.0</td>\n",
       "      <td>0.0</td>\n",
       "      <td>0.0</td>\n",
       "      <td>0.0</td>\n",
       "      <td>1.0</td>\n",
       "      <td>0.0</td>\n",
       "      <td>0.0</td>\n",
       "      <td>0.0</td>\n",
       "      <td>1.0</td>\n",
       "      <td>...</td>\n",
       "      <td>1.0</td>\n",
       "      <td>0.0</td>\n",
       "      <td>1.0</td>\n",
       "      <td>0.0</td>\n",
       "      <td>0.0</td>\n",
       "      <td>1500</td>\n",
       "      <td>2001</td>\n",
       "      <td>75</td>\n",
       "      <td>150000</td>\n",
       "      <td>6</td>\n",
       "    </tr>\n",
       "    <tr>\n",
       "      <th>4</th>\n",
       "      <td>0.0</td>\n",
       "      <td>0.0</td>\n",
       "      <td>0.0</td>\n",
       "      <td>0.0</td>\n",
       "      <td>0.0</td>\n",
       "      <td>1.0</td>\n",
       "      <td>0.0</td>\n",
       "      <td>0.0</td>\n",
       "      <td>0.0</td>\n",
       "      <td>1.0</td>\n",
       "      <td>...</td>\n",
       "      <td>0.0</td>\n",
       "      <td>0.0</td>\n",
       "      <td>1.0</td>\n",
       "      <td>0.0</td>\n",
       "      <td>0.0</td>\n",
       "      <td>3600</td>\n",
       "      <td>2008</td>\n",
       "      <td>69</td>\n",
       "      <td>90000</td>\n",
       "      <td>7</td>\n",
       "    </tr>\n",
       "  </tbody>\n",
       "</table>\n",
       "<p>5 rows × 316 columns</p>\n",
       "</div>"
      ],
      "text/plain": [
       "   x0_bus  x0_convertible  x0_coupe  x0_other  x0_sedan  x0_small  x0_suv  \\\n",
       "0     0.0             0.0       0.0       0.0       1.0       0.0     0.0   \n",
       "1     0.0             0.0       1.0       0.0       0.0       0.0     0.0   \n",
       "2     0.0             0.0       0.0       0.0       0.0       0.0     1.0   \n",
       "3     0.0             0.0       0.0       0.0       0.0       1.0     0.0   \n",
       "4     0.0             0.0       0.0       0.0       0.0       1.0     0.0   \n",
       "\n",
       "   x0_wagon  x1_auto  x1_manual  ...  x4_volkswagen  x4_volvo  x5_no  x5_yes  \\\n",
       "0       0.0      0.0        1.0  ...            1.0       0.0    0.0     0.0   \n",
       "1       0.0      0.0        1.0  ...            0.0       0.0    0.0     1.0   \n",
       "2       0.0      1.0        0.0  ...            0.0       0.0    0.0     0.0   \n",
       "3       0.0      0.0        1.0  ...            1.0       0.0    1.0     0.0   \n",
       "4       0.0      0.0        1.0  ...            0.0       0.0    1.0     0.0   \n",
       "\n",
       "   x5_nan  Price  RegistrationYear  Power  Kilometer  RegistrationMonth  \n",
       "0     1.0    480              1993      0     150000                  0  \n",
       "1     0.0  18300              2011    190     125000                  5  \n",
       "2     1.0   9800              2004    163     125000                  8  \n",
       "3     0.0   1500              2001     75     150000                  6  \n",
       "4     0.0   3600              2008     69      90000                  7  \n",
       "\n",
       "[5 rows x 316 columns]"
      ]
     },
     "execution_count": 48,
     "metadata": {},
     "output_type": "execute_result"
    }
   ],
   "source": [
    "data_final.head()"
   ]
  },
  {
   "cell_type": "markdown",
   "id": "d22d6b46",
   "metadata": {},
   "source": [
    "### Ordinal Encoder"
   ]
  },
  {
   "cell_type": "code",
   "execution_count": 49,
   "id": "8477cdbf",
   "metadata": {},
   "outputs": [],
   "source": [
    "data.dropna(inplace= True)"
   ]
  },
  {
   "cell_type": "code",
   "execution_count": 50,
   "id": "7a10a6c2",
   "metadata": {},
   "outputs": [],
   "source": [
    "ENC = OrdinalEncoder()\n",
    "\n",
    "array_enc = ENC.fit_transform(data[cat_col])\n",
    "data_enc = pd.DataFrame(array_enc, index=data.index)#, columns=ENC.get_feature_names_out())\n",
    "data_other_enc = data.drop(columns=cat_col)\n",
    "data_final_enc = pd.concat([data_enc, data_other_enc], axis=1)"
   ]
  },
  {
   "cell_type": "code",
   "execution_count": 51,
   "id": "5d839b2b",
   "metadata": {
    "collapsed": true
   },
   "outputs": [
    {
     "data": {
      "text/plain": [
       "[array(['bus', 'convertible', 'coupe', 'other', 'sedan', 'small', 'suv',\n",
       "        'wagon'], dtype=object),\n",
       " array(['auto', 'manual'], dtype=object),\n",
       " array(['100', '145', '147', '156', '159', '1_reihe', '1er', '200',\n",
       "        '2_reihe', '300c', '3_reihe', '3er', '4_reihe', '500', '5_reihe',\n",
       "        '5er', '601', '6_reihe', '6er', '7er', '80', '850', '90', '900',\n",
       "        '9000', '911', 'Unknown', 'a1', 'a2', 'a3', 'a4', 'a5', 'a6', 'a8',\n",
       "        'a_klasse', 'accord', 'agila', 'alhambra', 'almera', 'altea',\n",
       "        'amarok', 'antara', 'arosa', 'astra', 'auris', 'avensis', 'aveo',\n",
       "        'aygo', 'b_klasse', 'b_max', 'beetle', 'berlingo', 'bora',\n",
       "        'boxster', 'bravo', 'c1', 'c2', 'c3', 'c4', 'c5', 'c_klasse',\n",
       "        'c_max', 'c_reihe', 'caddy', 'calibra', 'captiva', 'carisma',\n",
       "        'carnival', 'cayenne', 'cc', 'ceed', 'charade', 'cherokee',\n",
       "        'citigo', 'civic', 'cl', 'clio', 'clk', 'clubman', 'colt', 'combo',\n",
       "        'cooper', 'cordoba', 'corolla', 'corsa', 'cr_reihe', 'croma',\n",
       "        'crossfire', 'cuore', 'cx_reihe', 'defender', 'delta', 'discovery',\n",
       "        'doblo', 'ducato', 'duster', 'e_klasse', 'elefantino', 'eos',\n",
       "        'escort', 'espace', 'exeo', 'fabia', 'fiesta', 'focus', 'forester',\n",
       "        'forfour', 'fortwo', 'fox', 'freelander', 'fusion', 'g_klasse',\n",
       "        'galant', 'galaxy', 'getz', 'gl', 'glk', 'golf', 'grand', 'i3',\n",
       "        'i_reihe', 'ibiza', 'impreza', 'insignia', 'jazz', 'jetta',\n",
       "        'jimny', 'juke', 'justy', 'ka', 'kadett', 'kaefer', 'kalina',\n",
       "        'kalos', 'kangoo', 'kappa', 'kuga', 'laguna', 'lancer', 'lanos',\n",
       "        'legacy', 'leon', 'lodgy', 'logan', 'lupo', 'lybra', 'm_klasse',\n",
       "        'm_reihe', 'materia', 'matiz', 'megane', 'meriva', 'micra', 'mii',\n",
       "        'modus', 'mondeo', 'move', 'musa', 'mustang', 'mx_reihe', 'navara',\n",
       "        'niva', 'note', 'nubira', 'octavia', 'omega', 'one', 'other',\n",
       "        'outlander', 'pajero', 'panda', 'passat', 'phaeton', 'picanto',\n",
       "        'polo', 'primera', 'ptcruiser', 'punto', 'q3', 'q5', 'q7',\n",
       "        'qashqai', 'r19', 'range_rover', 'range_rover_evoque',\n",
       "        'range_rover_sport', 'rangerover', 'rav', 'rio', 'roadster',\n",
       "        'roomster', 'rx_reihe', 's60', 's_klasse', 's_max', 's_type',\n",
       "        'samara', 'sandero', 'santa', 'scenic', 'scirocco', 'seicento',\n",
       "        'serie_2', 'serie_3', 'sharan', 'signum', 'sirion', 'sl', 'slk',\n",
       "        'sorento', 'spark', 'spider', 'sportage', 'sprinter', 'stilo',\n",
       "        'superb', 'swift', 'terios', 'tigra', 'tiguan', 'toledo',\n",
       "        'touareg', 'touran', 'transit', 'transporter', 'tt', 'tucson',\n",
       "        'twingo', 'up', 'v40', 'v50', 'v60', 'v70', 'v_klasse', 'vectra',\n",
       "        'verso', 'viano', 'vito', 'vivaro', 'voyager', 'wrangler',\n",
       "        'x_reihe', 'x_trail', 'x_type', 'xc_reihe', 'yaris', 'yeti',\n",
       "        'ypsilon', 'z_reihe', 'zafira'], dtype=object),\n",
       " array(['cng', 'electric', 'gasoline', 'hybrid', 'lpg', 'other', 'petrol'],\n",
       "       dtype=object),\n",
       " array(['alfa_romeo', 'audi', 'bmw', 'chevrolet', 'chrysler', 'citroen',\n",
       "        'dacia', 'daewoo', 'daihatsu', 'fiat', 'ford', 'honda', 'hyundai',\n",
       "        'jaguar', 'jeep', 'kia', 'lada', 'lancia', 'land_rover', 'mazda',\n",
       "        'mercedes_benz', 'mini', 'mitsubishi', 'nissan', 'opel', 'peugeot',\n",
       "        'porsche', 'renault', 'rover', 'saab', 'seat', 'skoda', 'smart',\n",
       "        'sonstige_autos', 'subaru', 'suzuki', 'toyota', 'trabant',\n",
       "        'volkswagen', 'volvo'], dtype=object),\n",
       " array(['no', 'yes'], dtype=object)]"
      ]
     },
     "execution_count": 51,
     "metadata": {},
     "output_type": "execute_result"
    }
   ],
   "source": [
    "ENC.categories_"
   ]
  },
  {
   "cell_type": "code",
   "execution_count": 52,
   "id": "c7027d94",
   "metadata": {},
   "outputs": [
    {
     "data": {
      "text/html": [
       "<div>\n",
       "<style scoped>\n",
       "    .dataframe tbody tr th:only-of-type {\n",
       "        vertical-align: middle;\n",
       "    }\n",
       "\n",
       "    .dataframe tbody tr th {\n",
       "        vertical-align: top;\n",
       "    }\n",
       "\n",
       "    .dataframe thead th {\n",
       "        text-align: right;\n",
       "    }\n",
       "</style>\n",
       "<table border=\"1\" class=\"dataframe\">\n",
       "  <thead>\n",
       "    <tr style=\"text-align: right;\">\n",
       "      <th></th>\n",
       "      <th>0</th>\n",
       "      <th>1</th>\n",
       "      <th>2</th>\n",
       "      <th>3</th>\n",
       "      <th>4</th>\n",
       "      <th>5</th>\n",
       "      <th>Price</th>\n",
       "      <th>RegistrationYear</th>\n",
       "      <th>Power</th>\n",
       "      <th>Kilometer</th>\n",
       "      <th>RegistrationMonth</th>\n",
       "    </tr>\n",
       "  </thead>\n",
       "  <tbody>\n",
       "    <tr>\n",
       "      <th>1</th>\n",
       "      <td>2.0</td>\n",
       "      <td>1.0</td>\n",
       "      <td>30.0</td>\n",
       "      <td>2.0</td>\n",
       "      <td>1.0</td>\n",
       "      <td>1.0</td>\n",
       "      <td>18300</td>\n",
       "      <td>2011</td>\n",
       "      <td>190</td>\n",
       "      <td>125000</td>\n",
       "      <td>5</td>\n",
       "    </tr>\n",
       "    <tr>\n",
       "      <th>3</th>\n",
       "      <td>5.0</td>\n",
       "      <td>1.0</td>\n",
       "      <td>117.0</td>\n",
       "      <td>6.0</td>\n",
       "      <td>38.0</td>\n",
       "      <td>0.0</td>\n",
       "      <td>1500</td>\n",
       "      <td>2001</td>\n",
       "      <td>75</td>\n",
       "      <td>150000</td>\n",
       "      <td>6</td>\n",
       "    </tr>\n",
       "    <tr>\n",
       "      <th>4</th>\n",
       "      <td>5.0</td>\n",
       "      <td>1.0</td>\n",
       "      <td>102.0</td>\n",
       "      <td>2.0</td>\n",
       "      <td>31.0</td>\n",
       "      <td>0.0</td>\n",
       "      <td>3600</td>\n",
       "      <td>2008</td>\n",
       "      <td>69</td>\n",
       "      <td>90000</td>\n",
       "      <td>7</td>\n",
       "    </tr>\n",
       "    <tr>\n",
       "      <th>5</th>\n",
       "      <td>4.0</td>\n",
       "      <td>1.0</td>\n",
       "      <td>11.0</td>\n",
       "      <td>6.0</td>\n",
       "      <td>2.0</td>\n",
       "      <td>1.0</td>\n",
       "      <td>650</td>\n",
       "      <td>1995</td>\n",
       "      <td>102</td>\n",
       "      <td>150000</td>\n",
       "      <td>10</td>\n",
       "    </tr>\n",
       "    <tr>\n",
       "      <th>6</th>\n",
       "      <td>1.0</td>\n",
       "      <td>1.0</td>\n",
       "      <td>8.0</td>\n",
       "      <td>6.0</td>\n",
       "      <td>25.0</td>\n",
       "      <td>0.0</td>\n",
       "      <td>2200</td>\n",
       "      <td>2004</td>\n",
       "      <td>109</td>\n",
       "      <td>150000</td>\n",
       "      <td>8</td>\n",
       "    </tr>\n",
       "  </tbody>\n",
       "</table>\n",
       "</div>"
      ],
      "text/plain": [
       "     0    1      2    3     4    5  Price  RegistrationYear  Power  Kilometer  \\\n",
       "1  2.0  1.0   30.0  2.0   1.0  1.0  18300              2011    190     125000   \n",
       "3  5.0  1.0  117.0  6.0  38.0  0.0   1500              2001     75     150000   \n",
       "4  5.0  1.0  102.0  2.0  31.0  0.0   3600              2008     69      90000   \n",
       "5  4.0  1.0   11.0  6.0   2.0  1.0    650              1995    102     150000   \n",
       "6  1.0  1.0    8.0  6.0  25.0  0.0   2200              2004    109     150000   \n",
       "\n",
       "   RegistrationMonth  \n",
       "1                  5  \n",
       "3                  6  \n",
       "4                  7  \n",
       "5                 10  \n",
       "6                  8  "
      ]
     },
     "execution_count": 52,
     "metadata": {},
     "output_type": "execute_result"
    }
   ],
   "source": [
    "data_final_enc.head()"
   ]
  },
  {
   "cell_type": "markdown",
   "id": "4f00f12f",
   "metadata": {},
   "source": [
    "<a id = 'model'></a>\n",
    "# Model training"
   ]
  },
  {
   "cell_type": "markdown",
   "id": "700010fe",
   "metadata": {},
   "source": [
    "Let's prepare the models, the target attribute of which is the Price, and divide the samples into training and target ones, respectively.\n",
    "Also, we will scale the features of the training sample, without a test and target feature."
   ]
  },
  {
   "cell_type": "code",
   "execution_count": 53,
   "id": "333bd4be",
   "metadata": {},
   "outputs": [],
   "source": [
    "def model_preparation(df, name):\n",
    "    \n",
    "    features_name = df.drop(['Price'], axis=1)\n",
    "    target_name = df['Price']\n",
    "    \n",
    "    features_train_name, features_test_name, target_train_name, target_test_name = train_test_split(features_name, target_name, test_size=0.2, random_state=1)\n",
    "    \n",
    "    numeric = ['RegistrationYear', 'Power', 'Kilometer']\n",
    "    \n",
    "    scaler = StandardScaler()\n",
    "    scaler.fit(features_train_name[numeric])\n",
    "               \n",
    "    features_train_name[numeric] = scaler.transform(features_train_name[numeric])\n",
    "    features_test_name[numeric] = scaler.transform(features_test_name[numeric])         \n",
    "    \n",
    "    print('Train set shape: ', features_train_name.shape, target_train_name.shape)\n",
    "    print('Test set shape: ', features_test_name.shape, target_test_name.shape)\n",
    "               \n",
    "    \n",
    "    return features_train_name, features_test_name, target_train_name, target_test_name   "
   ]
  },
  {
   "cell_type": "markdown",
   "id": "b56c938d",
   "metadata": {},
   "source": [
    "<a id = 'test'></a>\n",
    "# Model Analysis"
   ]
  },
  {
   "cell_type": "code",
   "execution_count": 54,
   "id": "bbfc7add",
   "metadata": {},
   "outputs": [],
   "source": [
    "def grid_param2(df, name, new_model, params):\n",
    "    \n",
    "    features_train, features_test, target_train, target_test = model_preparation(df, name)\n",
    "    \n",
    "    grid_model = GridSearchCV(new_model, params, scoring='neg_root_mean_squared_error')\n",
    "    grid_model.fit(features_train, target_train)\n",
    "    \n",
    "    t_train = time.time()\n",
    "    model = grid_model.best_estimator_\n",
    "    model.fit(features_train, target_train)\n",
    "    display(f' Model training in {round(time.time() - t_train, 2)} s')\n",
    "    \n",
    "    t_predict = time.time()\n",
    "    preds = grid_model.predict(features_test)\n",
    "    display(f' Model prediction in {round(time.time() - t_predict, 2)} s')\n",
    "    \n",
    "    display(f'RMSE: {mean_squared_error(target_test, preds, squared=False)}')\n",
    "    display(f'Best parameters: {grid_model.best_params_}')\n",
    "    display(f'Best score: {grid_model.best_score_}')"
   ]
  },
  {
   "cell_type": "markdown",
   "id": "1b397b14",
   "metadata": {},
   "source": [
    "## Linear Regression"
   ]
  },
  {
   "cell_type": "markdown",
   "id": "aac42fcc",
   "metadata": {},
   "source": [
    "To evaluate and compare models, we need model training time (without hyperparameter fitting) and prediction time. They must be kept separately."
   ]
  },
  {
   "cell_type": "code",
   "execution_count": null,
   "id": "beb6b3cd",
   "metadata": {},
   "outputs": [
    {
     "name": "stdout",
     "output_type": "stream",
     "text": [
      "Train set shape:  (239330, 315) (239330,)\n",
      "Test set shape:  (59833, 315) (59833,)\n"
     ]
    }
   ],
   "source": [
    "%%time\n",
    "\n",
    "parameters_lr = {\n",
    "    'n_jobs' : range(0, 10)\n",
    "}\n",
    "\n",
    "grid_param2(data_final, 'ohe', LinearRegression(), parameters_lr)"
   ]
  },
  {
   "cell_type": "markdown",
   "id": "87aa1c29",
   "metadata": {},
   "source": [
    "## Decision Tree Regressor"
   ]
  },
  {
   "cell_type": "code",
   "execution_count": 331,
   "id": "5e97637a",
   "metadata": {},
   "outputs": [
    {
     "name": "stdout",
     "output_type": "stream",
     "text": [
      "Train set shape:  (239330, 10) (239330,)\n",
      "Test set shape:  (59833, 10) (59833,)\n"
     ]
    },
    {
     "data": {
      "text/plain": [
       "' Model training in 0.21 s'"
      ]
     },
     "metadata": {},
     "output_type": "display_data"
    },
    {
     "data": {
      "text/plain": [
       "' Model prediction in 0.01 s'"
      ]
     },
     "metadata": {},
     "output_type": "display_data"
    },
    {
     "data": {
      "text/plain": [
       "'RMSE: 2526.340198034786'"
      ]
     },
     "metadata": {},
     "output_type": "display_data"
    },
    {
     "data": {
      "text/plain": [
       "\"Best parameters: {'max_depth': 4}\""
      ]
     },
     "metadata": {},
     "output_type": "display_data"
    },
    {
     "data": {
      "text/plain": [
       "'Best score: -2524.2376235902684'"
      ]
     },
     "metadata": {},
     "output_type": "display_data"
    },
    {
     "name": "stdout",
     "output_type": "stream",
     "text": [
      "CPU times: user 3.1 s, sys: 303 ms, total: 3.41 s\n",
      "Wall time: 3.41 s\n"
     ]
    }
   ],
   "source": [
    "%%time \n",
    "\n",
    "parameters_dtr = {\n",
    "    'max_depth' : range(1, 5)\n",
    "}\n",
    "\n",
    "grid_param2(data_final_enc, 'enc', DecisionTreeRegressor(random_state=1), parameters_dtr)"
   ]
  },
  {
   "cell_type": "markdown",
   "id": "a15ab631",
   "metadata": {},
   "source": [
    "## LGBM Regressor"
   ]
  },
  {
   "cell_type": "code",
   "execution_count": 334,
   "id": "83389c7f",
   "metadata": {},
   "outputs": [
    {
     "name": "stdout",
     "output_type": "stream",
     "text": [
      "Train set shape:  (239330, 10) (239330,)\n",
      "Test set shape:  (59833, 10) (59833,)\n"
     ]
    },
    {
     "data": {
      "text/plain": [
       "' Model training in 1.32 s'"
      ]
     },
     "metadata": {},
     "output_type": "display_data"
    },
    {
     "data": {
      "text/plain": [
       "' Model prediction in 0.1 s'"
      ]
     },
     "metadata": {},
     "output_type": "display_data"
    },
    {
     "data": {
      "text/plain": [
       "'RMSE: 1666.8899278337117'"
      ]
     },
     "metadata": {},
     "output_type": "display_data"
    },
    {
     "data": {
      "text/plain": [
       "\"Best parameters: {'max_depth': -3, 'n_estimators': 140, 'num_leaves': 38}\""
      ]
     },
     "metadata": {},
     "output_type": "display_data"
    },
    {
     "data": {
      "text/plain": [
       "'Best score: -1665.809890522955'"
      ]
     },
     "metadata": {},
     "output_type": "display_data"
    }
   ],
   "source": [
    "parameters_lgbm = {\n",
    "    'n_estimators' : range(80, 160, 20),\n",
    "    'num_leaves' : range(30, 40, 2),\n",
    "    'max_depth' : range(-3, 5, 20)\n",
    "}\n",
    "\n",
    "grid_param2(data_final_enc, 'enc', LGBMRegressor(random_state=1), parameters_lgbm)"
   ]
  },
  {
   "cell_type": "markdown",
   "id": "b24bd4a5",
   "metadata": {},
   "source": [
    "As you can see, as n_estimators and num_leaves increase, the model improves the values. The best value is max_depth = -1 (default).\n",
    "\n",
    "It is important to note that the algorithm is ten times faster than conventional algorithms - Linear Regression and Random Forest Model."
   ]
  },
  {
   "cell_type": "markdown",
   "id": "8aca6fdc",
   "metadata": {},
   "source": [
    "## LGBM Regressor Тестовая Выборка"
   ]
  },
  {
   "cell_type": "code",
   "execution_count": 335,
   "id": "bd7f6598",
   "metadata": {},
   "outputs": [
    {
     "data": {
      "text/plain": [
       "'RMSE: 1651.6326527587978'"
      ]
     },
     "metadata": {},
     "output_type": "display_data"
    }
   ],
   "source": [
    "model = LGBMRegressor(random_state=1, n_estimators=140, num_leaves=38, max_depth=-3)\n",
    "model.fit(features_train, target_train)\n",
    "preds = model.predict(features_test)\n",
    "\n",
    "display(f'RMSE: {mean_squared_error(target_test, preds, squared=False)}')"
   ]
  },
  {
   "cell_type": "markdown",
   "id": "5e5a7966",
   "metadata": {},
   "source": [
    "# Conclusion"
   ]
  },
  {
   "cell_type": "markdown",
   "id": "324f5861",
   "metadata": {},
   "source": [
    "We have carried out work on forecasting prices for cars.\n",
    "\n",
    "Having studied the data, pre-processed it and divided it into training, validation and test sets, we analyzed the operation of the Linear Regression, Decision Tree and Gradient Boosting - LGBM algorithms:\n",
    "\n",
    "1. The Linear Regressor model has a low prediction result - RMSE: 2750 and the algorithm training period is 3.81s, the prediction period is 0.35s.\n",
    "2. Model Decision Tree Regressor - RMSE: 2526, algorithm training period - 0.21s, prediction period - 0.01s.\n",
    "3. Model Gradient Bossting - LGBM best prediction: RMSE: 1667 algorithm training period - 1.32s, prediction period - 0.01s.\n",
    "\n",
    "\n",
    "We can <b>conclude</b> that the <b>LGBM Gradient Boosting method showed the best results</b> in predicting the price by the RMSE metric and the running time of the algorithms."
   ]
  }
 ],
 "metadata": {
  "ExecuteTimeLog": [
   {
    "duration": 2182,
    "start_time": "2022-11-16T05:05:19.587Z"
   },
   {
    "duration": 951,
    "start_time": "2022-11-16T05:05:21.771Z"
   },
   {
    "duration": 15,
    "start_time": "2022-11-16T05:05:22.723Z"
   },
   {
    "duration": 99,
    "start_time": "2022-11-16T05:05:22.739Z"
   },
   {
    "duration": 759,
    "start_time": "2022-11-16T05:05:22.840Z"
   },
   {
    "duration": 3,
    "start_time": "2022-11-16T05:05:23.600Z"
   },
   {
    "duration": 105,
    "start_time": "2022-11-16T05:05:23.613Z"
   },
   {
    "duration": 19,
    "start_time": "2022-11-16T05:05:23.719Z"
   },
   {
    "duration": 30,
    "start_time": "2022-11-16T05:05:23.739Z"
   },
   {
    "duration": 77,
    "start_time": "2022-11-16T05:05:23.770Z"
   },
   {
    "duration": 147,
    "start_time": "2022-11-16T05:05:23.849Z"
   },
   {
    "duration": 15,
    "start_time": "2022-11-16T05:05:23.998Z"
   },
   {
    "duration": 77,
    "start_time": "2022-11-16T05:05:24.015Z"
   },
   {
    "duration": 3,
    "start_time": "2022-11-16T05:05:24.094Z"
   },
   {
    "duration": 39,
    "start_time": "2022-11-16T05:05:24.098Z"
   },
   {
    "duration": 122,
    "start_time": "2022-11-16T05:05:24.139Z"
   },
   {
    "duration": 60,
    "start_time": "2022-11-16T05:05:24.263Z"
   },
   {
    "duration": 137,
    "start_time": "2022-11-16T05:05:24.325Z"
   },
   {
    "duration": 15,
    "start_time": "2022-11-16T05:05:24.464Z"
   },
   {
    "duration": 97,
    "start_time": "2022-11-16T05:05:24.481Z"
   },
   {
    "duration": 169,
    "start_time": "2022-11-16T05:05:24.580Z"
   },
   {
    "duration": 13,
    "start_time": "2022-11-16T05:05:24.751Z"
   },
   {
    "duration": 27,
    "start_time": "2022-11-16T05:05:24.765Z"
   },
   {
    "duration": 96,
    "start_time": "2022-11-16T05:05:24.793Z"
   },
   {
    "duration": 273,
    "start_time": "2022-11-16T05:05:24.890Z"
   },
   {
    "duration": 13,
    "start_time": "2022-11-16T05:05:25.164Z"
   },
   {
    "duration": 25,
    "start_time": "2022-11-16T05:05:25.178Z"
   },
   {
    "duration": 10,
    "start_time": "2022-11-16T05:05:25.213Z"
   },
   {
    "duration": 5,
    "start_time": "2022-11-16T05:05:25.225Z"
   },
   {
    "duration": 653,
    "start_time": "2022-11-16T05:05:25.231Z"
   },
   {
    "duration": 51,
    "start_time": "2022-11-16T05:05:25.886Z"
   },
   {
    "duration": 21,
    "start_time": "2022-11-16T05:05:25.939Z"
   },
   {
    "duration": 27,
    "start_time": "2022-11-16T05:05:25.962Z"
   },
   {
    "duration": 661,
    "start_time": "2022-11-16T05:05:25.990Z"
   },
   {
    "duration": 17,
    "start_time": "2022-11-16T05:05:26.653Z"
   },
   {
    "duration": 16,
    "start_time": "2022-11-16T05:05:26.671Z"
   },
   {
    "duration": 35,
    "start_time": "2022-11-16T05:05:26.688Z"
   },
   {
    "duration": 507,
    "start_time": "2022-11-16T05:05:26.725Z"
   },
   {
    "duration": 6,
    "start_time": "2022-11-16T05:05:27.234Z"
   },
   {
    "duration": 19,
    "start_time": "2022-11-16T05:05:27.241Z"
   },
   {
    "duration": 559,
    "start_time": "2022-11-16T05:05:27.263Z"
   },
   {
    "duration": 499,
    "start_time": "2022-11-16T05:05:27.824Z"
   },
   {
    "duration": 24,
    "start_time": "2022-11-16T05:05:28.325Z"
   },
   {
    "duration": 22,
    "start_time": "2022-11-16T05:05:28.350Z"
   },
   {
    "duration": 16,
    "start_time": "2022-11-16T05:05:28.373Z"
   },
   {
    "duration": 5,
    "start_time": "2022-11-16T05:05:28.413Z"
   },
   {
    "duration": 4038,
    "start_time": "2022-11-16T05:05:28.420Z"
   },
   {
    "duration": 21,
    "start_time": "2022-11-16T05:05:32.460Z"
   },
   {
    "duration": 163,
    "start_time": "2022-11-16T05:05:32.483Z"
   },
   {
    "duration": 0,
    "start_time": "2022-11-16T05:05:32.648Z"
   },
   {
    "duration": 0,
    "start_time": "2022-11-16T05:05:32.649Z"
   },
   {
    "duration": 0,
    "start_time": "2022-11-16T05:05:32.650Z"
   },
   {
    "duration": 0,
    "start_time": "2022-11-16T05:05:32.652Z"
   },
   {
    "duration": 0,
    "start_time": "2022-11-16T05:05:32.653Z"
   },
   {
    "duration": 14,
    "start_time": "2022-11-16T05:06:35.396Z"
   },
   {
    "duration": 86,
    "start_time": "2022-11-16T05:07:31.226Z"
   },
   {
    "duration": 46,
    "start_time": "2022-11-16T05:07:32.566Z"
   },
   {
    "duration": 72,
    "start_time": "2022-11-16T05:07:55.708Z"
   },
   {
    "duration": 316,
    "start_time": "2022-11-16T05:07:56.455Z"
   },
   {
    "duration": 4,
    "start_time": "2022-11-16T05:07:58.798Z"
   },
   {
    "duration": 13,
    "start_time": "2022-11-16T05:08:00.266Z"
   },
   {
    "duration": 6,
    "start_time": "2022-11-16T05:08:04.845Z"
   },
   {
    "duration": 4,
    "start_time": "2022-11-16T05:08:06.477Z"
   },
   {
    "duration": 2071,
    "start_time": "2022-11-16T05:21:42.007Z"
   },
   {
    "duration": 1003,
    "start_time": "2022-11-16T05:21:44.080Z"
   },
   {
    "duration": 16,
    "start_time": "2022-11-16T05:21:45.085Z"
   },
   {
    "duration": 112,
    "start_time": "2022-11-16T05:21:45.102Z"
   },
   {
    "duration": 780,
    "start_time": "2022-11-16T05:21:45.216Z"
   },
   {
    "duration": 2,
    "start_time": "2022-11-16T05:21:45.998Z"
   },
   {
    "duration": 111,
    "start_time": "2022-11-16T05:21:46.001Z"
   },
   {
    "duration": 20,
    "start_time": "2022-11-16T05:21:46.114Z"
   },
   {
    "duration": 29,
    "start_time": "2022-11-16T05:21:46.135Z"
   },
   {
    "duration": 80,
    "start_time": "2022-11-16T05:21:46.165Z"
   },
   {
    "duration": 146,
    "start_time": "2022-11-16T05:21:46.247Z"
   },
   {
    "duration": 19,
    "start_time": "2022-11-16T05:21:46.395Z"
   },
   {
    "duration": 91,
    "start_time": "2022-11-16T05:21:46.415Z"
   },
   {
    "duration": 114,
    "start_time": "2022-11-16T05:21:46.514Z"
   },
   {
    "duration": 0,
    "start_time": "2022-11-16T05:21:46.631Z"
   },
   {
    "duration": 0,
    "start_time": "2022-11-16T05:21:46.633Z"
   },
   {
    "duration": 1,
    "start_time": "2022-11-16T05:21:46.634Z"
   },
   {
    "duration": 0,
    "start_time": "2022-11-16T05:21:46.636Z"
   },
   {
    "duration": 0,
    "start_time": "2022-11-16T05:21:46.637Z"
   },
   {
    "duration": 0,
    "start_time": "2022-11-16T05:21:46.639Z"
   },
   {
    "duration": 0,
    "start_time": "2022-11-16T05:21:46.640Z"
   },
   {
    "duration": 0,
    "start_time": "2022-11-16T05:21:46.642Z"
   },
   {
    "duration": 0,
    "start_time": "2022-11-16T05:21:46.643Z"
   },
   {
    "duration": 0,
    "start_time": "2022-11-16T05:21:46.644Z"
   },
   {
    "duration": 0,
    "start_time": "2022-11-16T05:21:46.646Z"
   },
   {
    "duration": 0,
    "start_time": "2022-11-16T05:21:46.647Z"
   },
   {
    "duration": 0,
    "start_time": "2022-11-16T05:21:46.648Z"
   },
   {
    "duration": 0,
    "start_time": "2022-11-16T05:21:46.650Z"
   },
   {
    "duration": 0,
    "start_time": "2022-11-16T05:21:46.651Z"
   },
   {
    "duration": 0,
    "start_time": "2022-11-16T05:21:46.652Z"
   },
   {
    "duration": 0,
    "start_time": "2022-11-16T05:21:46.653Z"
   },
   {
    "duration": 0,
    "start_time": "2022-11-16T05:21:46.654Z"
   },
   {
    "duration": 0,
    "start_time": "2022-11-16T05:21:46.655Z"
   },
   {
    "duration": 0,
    "start_time": "2022-11-16T05:21:46.656Z"
   },
   {
    "duration": 0,
    "start_time": "2022-11-16T05:21:46.657Z"
   },
   {
    "duration": 0,
    "start_time": "2022-11-16T05:21:46.657Z"
   },
   {
    "duration": 0,
    "start_time": "2022-11-16T05:21:46.658Z"
   },
   {
    "duration": 0,
    "start_time": "2022-11-16T05:21:46.659Z"
   },
   {
    "duration": 0,
    "start_time": "2022-11-16T05:21:46.660Z"
   },
   {
    "duration": 0,
    "start_time": "2022-11-16T05:21:46.661Z"
   },
   {
    "duration": 0,
    "start_time": "2022-11-16T05:21:46.661Z"
   },
   {
    "duration": 0,
    "start_time": "2022-11-16T05:21:46.662Z"
   },
   {
    "duration": 0,
    "start_time": "2022-11-16T05:21:46.662Z"
   },
   {
    "duration": 0,
    "start_time": "2022-11-16T05:21:46.663Z"
   },
   {
    "duration": 0,
    "start_time": "2022-11-16T05:21:46.663Z"
   },
   {
    "duration": 0,
    "start_time": "2022-11-16T05:21:46.712Z"
   },
   {
    "duration": 0,
    "start_time": "2022-11-16T05:21:46.715Z"
   },
   {
    "duration": 0,
    "start_time": "2022-11-16T05:21:46.716Z"
   },
   {
    "duration": 0,
    "start_time": "2022-11-16T05:21:46.717Z"
   },
   {
    "duration": 0,
    "start_time": "2022-11-16T05:21:46.719Z"
   },
   {
    "duration": 0,
    "start_time": "2022-11-16T05:21:46.720Z"
   },
   {
    "duration": 0,
    "start_time": "2022-11-16T05:21:46.722Z"
   },
   {
    "duration": 0,
    "start_time": "2022-11-16T05:21:46.723Z"
   },
   {
    "duration": 0,
    "start_time": "2022-11-16T05:21:46.725Z"
   },
   {
    "duration": 0,
    "start_time": "2022-11-16T05:21:46.726Z"
   },
   {
    "duration": 1919,
    "start_time": "2022-11-16T05:22:29.755Z"
   },
   {
    "duration": 813,
    "start_time": "2022-11-16T05:22:31.677Z"
   },
   {
    "duration": 22,
    "start_time": "2022-11-16T05:22:32.491Z"
   },
   {
    "duration": 111,
    "start_time": "2022-11-16T05:22:32.514Z"
   },
   {
    "duration": 766,
    "start_time": "2022-11-16T05:22:32.627Z"
   },
   {
    "duration": 2,
    "start_time": "2022-11-16T05:22:33.395Z"
   },
   {
    "duration": 100,
    "start_time": "2022-11-16T05:22:33.398Z"
   },
   {
    "duration": 22,
    "start_time": "2022-11-16T05:22:33.499Z"
   },
   {
    "duration": 29,
    "start_time": "2022-11-16T05:22:33.522Z"
   },
   {
    "duration": 75,
    "start_time": "2022-11-16T05:22:33.553Z"
   },
   {
    "duration": 145,
    "start_time": "2022-11-16T05:22:33.629Z"
   },
   {
    "duration": 13,
    "start_time": "2022-11-16T05:22:33.775Z"
   },
   {
    "duration": 77,
    "start_time": "2022-11-16T05:22:33.789Z"
   },
   {
    "duration": 2,
    "start_time": "2022-11-16T05:22:33.869Z"
   },
   {
    "duration": 41,
    "start_time": "2022-11-16T05:22:33.872Z"
   },
   {
    "duration": 110,
    "start_time": "2022-11-16T05:22:33.915Z"
   },
   {
    "duration": 54,
    "start_time": "2022-11-16T05:22:34.026Z"
   },
   {
    "duration": 151,
    "start_time": "2022-11-16T05:22:34.081Z"
   },
   {
    "duration": 13,
    "start_time": "2022-11-16T05:22:34.234Z"
   },
   {
    "duration": 90,
    "start_time": "2022-11-16T05:22:34.249Z"
   },
   {
    "duration": 152,
    "start_time": "2022-11-16T05:22:34.340Z"
   },
   {
    "duration": 13,
    "start_time": "2022-11-16T05:22:34.494Z"
   },
   {
    "duration": 26,
    "start_time": "2022-11-16T05:22:34.513Z"
   },
   {
    "duration": 103,
    "start_time": "2022-11-16T05:22:34.541Z"
   },
   {
    "duration": 313,
    "start_time": "2022-11-16T05:22:34.646Z"
   },
   {
    "duration": 15,
    "start_time": "2022-11-16T05:22:34.961Z"
   },
   {
    "duration": 42,
    "start_time": "2022-11-16T05:22:34.978Z"
   },
   {
    "duration": 14,
    "start_time": "2022-11-16T05:22:35.021Z"
   },
   {
    "duration": 7,
    "start_time": "2022-11-16T05:22:35.037Z"
   },
   {
    "duration": 671,
    "start_time": "2022-11-16T05:22:35.046Z"
   },
   {
    "duration": 47,
    "start_time": "2022-11-16T05:22:35.719Z"
   },
   {
    "duration": 22,
    "start_time": "2022-11-16T05:22:35.768Z"
   },
   {
    "duration": 46,
    "start_time": "2022-11-16T05:22:35.791Z"
   },
   {
    "duration": 656,
    "start_time": "2022-11-16T05:22:35.839Z"
   },
   {
    "duration": 21,
    "start_time": "2022-11-16T05:22:36.497Z"
   },
   {
    "duration": 16,
    "start_time": "2022-11-16T05:22:36.519Z"
   },
   {
    "duration": 18,
    "start_time": "2022-11-16T05:22:36.536Z"
   },
   {
    "duration": 527,
    "start_time": "2022-11-16T05:22:36.556Z"
   },
   {
    "duration": 6,
    "start_time": "2022-11-16T05:22:37.084Z"
   },
   {
    "duration": 34,
    "start_time": "2022-11-16T05:22:37.092Z"
   },
   {
    "duration": 566,
    "start_time": "2022-11-16T05:22:37.129Z"
   },
   {
    "duration": 489,
    "start_time": "2022-11-16T05:22:37.697Z"
   },
   {
    "duration": 32,
    "start_time": "2022-11-16T05:22:38.187Z"
   },
   {
    "duration": 20,
    "start_time": "2022-11-16T05:22:38.221Z"
   },
   {
    "duration": 16,
    "start_time": "2022-11-16T05:22:38.244Z"
   },
   {
    "duration": 9,
    "start_time": "2022-11-16T05:22:38.262Z"
   },
   {
    "duration": 3612,
    "start_time": "2022-11-16T05:22:38.272Z"
   },
   {
    "duration": 29,
    "start_time": "2022-11-16T05:22:41.885Z"
   },
   {
    "duration": 75,
    "start_time": "2022-11-16T05:22:41.915Z"
   },
   {
    "duration": 323,
    "start_time": "2022-11-16T05:22:41.992Z"
   },
   {
    "duration": 6,
    "start_time": "2022-11-16T05:22:42.317Z"
   },
   {
    "duration": 16,
    "start_time": "2022-11-16T05:22:42.324Z"
   },
   {
    "duration": 4,
    "start_time": "2022-11-16T05:22:42.342Z"
   },
   {
    "duration": 6,
    "start_time": "2022-11-16T05:22:42.347Z"
   }
  ],
  "kernelspec": {
   "display_name": "Python 3",
   "language": "python",
   "name": "python3"
  },
  "language_info": {
   "codemirror_mode": {
    "name": "ipython",
    "version": 3
   },
   "file_extension": ".py",
   "mimetype": "text/x-python",
   "name": "python",
   "nbconvert_exporter": "python",
   "pygments_lexer": "ipython3",
   "version": "3.8.8"
  },
  "toc": {
   "base_numbering": 1,
   "nav_menu": {
    "height": "322px",
    "width": "379px"
   },
   "number_sections": true,
   "sideBar": true,
   "skip_h1_title": false,
   "title_cell": "Table of Contents",
   "title_sidebar": "Contents",
   "toc_cell": false,
   "toc_position": {
    "height": "calc(100% - 180px)",
    "left": "10px",
    "top": "150px",
    "width": "178px"
   },
   "toc_section_display": true,
   "toc_window_display": true
  }
 },
 "nbformat": 4,
 "nbformat_minor": 5
}
